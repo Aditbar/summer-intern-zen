{
  "nbformat": 4,
  "nbformat_minor": 0,
  "metadata": {
    "colab": {
      "name": "yipyip.ipynb",
      "provenance": [],
      "collapsed_sections": [
        "06bJPtxPZh1i"
      ],
      "machine_shape": "hm"
    },
    "kernelspec": {
      "name": "python3",
      "display_name": "Python 3"
    },
    "accelerator": "GPU",
    "gpuClass": "standard"
  },
  "cells": [
    {
      "cell_type": "markdown",
      "metadata": {
        "id": "Eq7C0QEOHwuj"
      },
      "source": [
        "\n",
        "\n",
        "```\n",
        "`# This is formatted as code`\n",
        "\n",
        "---\n",
        "\n",
        "\n",
        "```\n",
        "\n",
        "## Data Information\n",
        "\n",
        "**p_recall** - proportion of exercises from this lesson/practice where the word/lexeme was correctly recalled\n",
        "\n",
        "**timestamp** - UNIX timestamp of the current lesson/practice\n",
        "\n",
        "**delta** - time (in seconds) since the last lesson/practice that included this word/lexeme\n",
        "\n",
        "**user_id** - student user ID who did the lesson/practice (anonymized)\n",
        "\n",
        "**learning_language** - language being learned\n",
        "\n",
        "**ui_language** - user interface language (presumably native to the student)\n",
        "\n",
        "**lexeme_id** - system ID for the lexeme tag (i.e., word)\n",
        "\n",
        "**lexeme_string** - lexeme tag (see below)\n",
        "\n",
        "**history_seen** - total times user has seen the word/lexeme prior to this lesson/practice\n",
        "\n",
        "**history_correct** - total times user has been correct for the word/lexeme prior to this lesson/practice\n",
        "\n",
        "**session_seen** - times the user saw the word/lexeme during this lesson/practice\n",
        "\n",
        "**session_correct** - times the user got the word/lexeme correct during this lesson/practice\n"
      ]
    },
    {
      "cell_type": "code",
      "metadata": {
        "id": "TeQbOvxs71ah",
        "colab": {
          "base_uri": "https://localhost:8080/"
        },
        "outputId": "2aae69f8-a934-4501-bb43-cc4e308704a5"
      },
      "source": [
        "from google.colab import drive\n",
        "drive.mount('/content/drive')"
      ],
      "execution_count": 1,
      "outputs": [
        {
          "output_type": "stream",
          "name": "stdout",
          "text": [
            "Drive already mounted at /content/drive; to attempt to forcibly remount, call drive.mount(\"/content/drive\", force_remount=True).\n"
          ]
        }
      ]
    },
    {
      "cell_type": "code",
      "metadata": {
        "id": "ANXez8StBX1q"
      },
      "source": [
        "import matplotlib.pyplot as plt\n",
        "import numpy as np\n",
        "import pandas as pd\n",
        "import seaborn as sns\n",
        "from sklearn.model_selection import train_test_split\n",
        "import scipy.stats as stats\n",
        "import math\n",
        "import joblib\n",
        "from sklearn import metrics\n",
        "sns.set_style('darkgrid')\n",
        "\n",
        "DAY_SECONDS = 60 * 60 * 24"
      ],
      "execution_count": 2,
      "outputs": []
    },
    {
      "cell_type": "code",
      "metadata": {
        "id": "oYBju1AJ75yL"
      },
      "source": [
        "result_hlr_papper = pd.read_csv('/content/drive/My Drive/Data/results/hlr.data_with_en.preds', delimiter='\\t')\n",
        "weight_hlr_papper = pd.read_csv('/content/drive/My Drive/Data/results/hlr.data_with_en.weights', delimiter='\\t')"
      ],
      "execution_count": 3,
      "outputs": []
    },
    {
      "cell_type": "code",
      "metadata": {
        "id": "jd5bc9WO9x97",
        "colab": {
          "base_uri": "https://localhost:8080/",
          "height": 206
        },
        "outputId": "6ed40f76-4dba-49c7-ca7d-dbd5d0b94dd4"
      },
      "source": [
        "result_hlr_papper.head()"
      ],
      "execution_count": 4,
      "outputs": [
        {
          "output_type": "execute_result",
          "data": {
            "text/plain": [
              "        p      pp         h        hh    lang user_id   timestamp\n",
              "0  0.9999  0.9382  274.0000  108.8892  it->en  u:g7Or  1363014225\n",
              "1  0.5000  0.9999    0.0104  107.6496  it->en  u:g7Or  1363014225\n",
              "2  0.9999  0.9355  274.0000  104.3071  it->en  u:g7Or  1363014225\n",
              "3  0.9999  0.9511  274.0000  138.6370  it->en  u:g7Or  1363014225\n",
              "4  0.9999  0.9999   12.5145  110.6734  it->en  u:g7Or  1363014225"
            ],
            "text/html": [
              "\n",
              "  <div id=\"df-72ba8559-642b-4fe3-a325-0672145c6286\">\n",
              "    <div class=\"colab-df-container\">\n",
              "      <div>\n",
              "<style scoped>\n",
              "    .dataframe tbody tr th:only-of-type {\n",
              "        vertical-align: middle;\n",
              "    }\n",
              "\n",
              "    .dataframe tbody tr th {\n",
              "        vertical-align: top;\n",
              "    }\n",
              "\n",
              "    .dataframe thead th {\n",
              "        text-align: right;\n",
              "    }\n",
              "</style>\n",
              "<table border=\"1\" class=\"dataframe\">\n",
              "  <thead>\n",
              "    <tr style=\"text-align: right;\">\n",
              "      <th></th>\n",
              "      <th>p</th>\n",
              "      <th>pp</th>\n",
              "      <th>h</th>\n",
              "      <th>hh</th>\n",
              "      <th>lang</th>\n",
              "      <th>user_id</th>\n",
              "      <th>timestamp</th>\n",
              "    </tr>\n",
              "  </thead>\n",
              "  <tbody>\n",
              "    <tr>\n",
              "      <th>0</th>\n",
              "      <td>0.9999</td>\n",
              "      <td>0.9382</td>\n",
              "      <td>274.0000</td>\n",
              "      <td>108.8892</td>\n",
              "      <td>it-&gt;en</td>\n",
              "      <td>u:g7Or</td>\n",
              "      <td>1363014225</td>\n",
              "    </tr>\n",
              "    <tr>\n",
              "      <th>1</th>\n",
              "      <td>0.5000</td>\n",
              "      <td>0.9999</td>\n",
              "      <td>0.0104</td>\n",
              "      <td>107.6496</td>\n",
              "      <td>it-&gt;en</td>\n",
              "      <td>u:g7Or</td>\n",
              "      <td>1363014225</td>\n",
              "    </tr>\n",
              "    <tr>\n",
              "      <th>2</th>\n",
              "      <td>0.9999</td>\n",
              "      <td>0.9355</td>\n",
              "      <td>274.0000</td>\n",
              "      <td>104.3071</td>\n",
              "      <td>it-&gt;en</td>\n",
              "      <td>u:g7Or</td>\n",
              "      <td>1363014225</td>\n",
              "    </tr>\n",
              "    <tr>\n",
              "      <th>3</th>\n",
              "      <td>0.9999</td>\n",
              "      <td>0.9511</td>\n",
              "      <td>274.0000</td>\n",
              "      <td>138.6370</td>\n",
              "      <td>it-&gt;en</td>\n",
              "      <td>u:g7Or</td>\n",
              "      <td>1363014225</td>\n",
              "    </tr>\n",
              "    <tr>\n",
              "      <th>4</th>\n",
              "      <td>0.9999</td>\n",
              "      <td>0.9999</td>\n",
              "      <td>12.5145</td>\n",
              "      <td>110.6734</td>\n",
              "      <td>it-&gt;en</td>\n",
              "      <td>u:g7Or</td>\n",
              "      <td>1363014225</td>\n",
              "    </tr>\n",
              "  </tbody>\n",
              "</table>\n",
              "</div>\n",
              "      <button class=\"colab-df-convert\" onclick=\"convertToInteractive('df-72ba8559-642b-4fe3-a325-0672145c6286')\"\n",
              "              title=\"Convert this dataframe to an interactive table.\"\n",
              "              style=\"display:none;\">\n",
              "        \n",
              "  <svg xmlns=\"http://www.w3.org/2000/svg\" height=\"24px\"viewBox=\"0 0 24 24\"\n",
              "       width=\"24px\">\n",
              "    <path d=\"M0 0h24v24H0V0z\" fill=\"none\"/>\n",
              "    <path d=\"M18.56 5.44l.94 2.06.94-2.06 2.06-.94-2.06-.94-.94-2.06-.94 2.06-2.06.94zm-11 1L8.5 8.5l.94-2.06 2.06-.94-2.06-.94L8.5 2.5l-.94 2.06-2.06.94zm10 10l.94 2.06.94-2.06 2.06-.94-2.06-.94-.94-2.06-.94 2.06-2.06.94z\"/><path d=\"M17.41 7.96l-1.37-1.37c-.4-.4-.92-.59-1.43-.59-.52 0-1.04.2-1.43.59L10.3 9.45l-7.72 7.72c-.78.78-.78 2.05 0 2.83L4 21.41c.39.39.9.59 1.41.59.51 0 1.02-.2 1.41-.59l7.78-7.78 2.81-2.81c.8-.78.8-2.07 0-2.86zM5.41 20L4 18.59l7.72-7.72 1.47 1.35L5.41 20z\"/>\n",
              "  </svg>\n",
              "      </button>\n",
              "      \n",
              "  <style>\n",
              "    .colab-df-container {\n",
              "      display:flex;\n",
              "      flex-wrap:wrap;\n",
              "      gap: 12px;\n",
              "    }\n",
              "\n",
              "    .colab-df-convert {\n",
              "      background-color: #E8F0FE;\n",
              "      border: none;\n",
              "      border-radius: 50%;\n",
              "      cursor: pointer;\n",
              "      display: none;\n",
              "      fill: #1967D2;\n",
              "      height: 32px;\n",
              "      padding: 0 0 0 0;\n",
              "      width: 32px;\n",
              "    }\n",
              "\n",
              "    .colab-df-convert:hover {\n",
              "      background-color: #E2EBFA;\n",
              "      box-shadow: 0px 1px 2px rgba(60, 64, 67, 0.3), 0px 1px 3px 1px rgba(60, 64, 67, 0.15);\n",
              "      fill: #174EA6;\n",
              "    }\n",
              "\n",
              "    [theme=dark] .colab-df-convert {\n",
              "      background-color: #3B4455;\n",
              "      fill: #D2E3FC;\n",
              "    }\n",
              "\n",
              "    [theme=dark] .colab-df-convert:hover {\n",
              "      background-color: #434B5C;\n",
              "      box-shadow: 0px 1px 3px 1px rgba(0, 0, 0, 0.15);\n",
              "      filter: drop-shadow(0px 1px 2px rgba(0, 0, 0, 0.3));\n",
              "      fill: #FFFFFF;\n",
              "    }\n",
              "  </style>\n",
              "\n",
              "      <script>\n",
              "        const buttonEl =\n",
              "          document.querySelector('#df-72ba8559-642b-4fe3-a325-0672145c6286 button.colab-df-convert');\n",
              "        buttonEl.style.display =\n",
              "          google.colab.kernel.accessAllowed ? 'block' : 'none';\n",
              "\n",
              "        async function convertToInteractive(key) {\n",
              "          const element = document.querySelector('#df-72ba8559-642b-4fe3-a325-0672145c6286');\n",
              "          const dataTable =\n",
              "            await google.colab.kernel.invokeFunction('convertToInteractive',\n",
              "                                                     [key], {});\n",
              "          if (!dataTable) return;\n",
              "\n",
              "          const docLinkHtml = 'Like what you see? Visit the ' +\n",
              "            '<a target=\"_blank\" href=https://colab.research.google.com/notebooks/data_table.ipynb>data table notebook</a>'\n",
              "            + ' to learn more about interactive tables.';\n",
              "          element.innerHTML = '';\n",
              "          dataTable['output_type'] = 'display_data';\n",
              "          await google.colab.output.renderOutput(dataTable, element);\n",
              "          const docLink = document.createElement('div');\n",
              "          docLink.innerHTML = docLinkHtml;\n",
              "          element.appendChild(docLink);\n",
              "        }\n",
              "      </script>\n",
              "    </div>\n",
              "  </div>\n",
              "  "
            ]
          },
          "metadata": {},
          "execution_count": 4
        }
      ]
    },
    {
      "cell_type": "code",
      "metadata": {
        "id": "6b5X5FWDTtz7",
        "colab": {
          "base_uri": "https://localhost:8080/",
          "height": 206
        },
        "outputId": "db769b42-2d29-4daa-ff26-3f686ac7fd00"
      },
      "source": [
        "result_hlr_papper.loc[result_hlr_papper.p < 0.2].head()"
      ],
      "execution_count": 5,
      "outputs": [
        {
          "output_type": "execute_result",
          "data": {
            "text/plain": [
              "         p      pp       h        hh    lang user_id   timestamp\n",
              "5   0.0001  0.9393  0.7549  110.9448  it->en  u:g7Or  1363014225\n",
              "12  0.0001  0.9999  0.0104  189.7965  es->en  u:h4kH  1363014232\n",
              "13  0.0001  0.9616  0.5106  120.0545  es->en  u:h4kH  1363014232\n",
              "17  0.0001  0.9999  0.0104  123.1108  es->en  u:h4kH  1363014232\n",
              "18  0.0001  0.9843  0.2103  122.0520  es->en  u:h4kH  1363014232"
            ],
            "text/html": [
              "\n",
              "  <div id=\"df-cbd254cb-ec26-47c0-93aa-4f2bbed50f57\">\n",
              "    <div class=\"colab-df-container\">\n",
              "      <div>\n",
              "<style scoped>\n",
              "    .dataframe tbody tr th:only-of-type {\n",
              "        vertical-align: middle;\n",
              "    }\n",
              "\n",
              "    .dataframe tbody tr th {\n",
              "        vertical-align: top;\n",
              "    }\n",
              "\n",
              "    .dataframe thead th {\n",
              "        text-align: right;\n",
              "    }\n",
              "</style>\n",
              "<table border=\"1\" class=\"dataframe\">\n",
              "  <thead>\n",
              "    <tr style=\"text-align: right;\">\n",
              "      <th></th>\n",
              "      <th>p</th>\n",
              "      <th>pp</th>\n",
              "      <th>h</th>\n",
              "      <th>hh</th>\n",
              "      <th>lang</th>\n",
              "      <th>user_id</th>\n",
              "      <th>timestamp</th>\n",
              "    </tr>\n",
              "  </thead>\n",
              "  <tbody>\n",
              "    <tr>\n",
              "      <th>5</th>\n",
              "      <td>0.0001</td>\n",
              "      <td>0.9393</td>\n",
              "      <td>0.7549</td>\n",
              "      <td>110.9448</td>\n",
              "      <td>it-&gt;en</td>\n",
              "      <td>u:g7Or</td>\n",
              "      <td>1363014225</td>\n",
              "    </tr>\n",
              "    <tr>\n",
              "      <th>12</th>\n",
              "      <td>0.0001</td>\n",
              "      <td>0.9999</td>\n",
              "      <td>0.0104</td>\n",
              "      <td>189.7965</td>\n",
              "      <td>es-&gt;en</td>\n",
              "      <td>u:h4kH</td>\n",
              "      <td>1363014232</td>\n",
              "    </tr>\n",
              "    <tr>\n",
              "      <th>13</th>\n",
              "      <td>0.0001</td>\n",
              "      <td>0.9616</td>\n",
              "      <td>0.5106</td>\n",
              "      <td>120.0545</td>\n",
              "      <td>es-&gt;en</td>\n",
              "      <td>u:h4kH</td>\n",
              "      <td>1363014232</td>\n",
              "    </tr>\n",
              "    <tr>\n",
              "      <th>17</th>\n",
              "      <td>0.0001</td>\n",
              "      <td>0.9999</td>\n",
              "      <td>0.0104</td>\n",
              "      <td>123.1108</td>\n",
              "      <td>es-&gt;en</td>\n",
              "      <td>u:h4kH</td>\n",
              "      <td>1363014232</td>\n",
              "    </tr>\n",
              "    <tr>\n",
              "      <th>18</th>\n",
              "      <td>0.0001</td>\n",
              "      <td>0.9843</td>\n",
              "      <td>0.2103</td>\n",
              "      <td>122.0520</td>\n",
              "      <td>es-&gt;en</td>\n",
              "      <td>u:h4kH</td>\n",
              "      <td>1363014232</td>\n",
              "    </tr>\n",
              "  </tbody>\n",
              "</table>\n",
              "</div>\n",
              "      <button class=\"colab-df-convert\" onclick=\"convertToInteractive('df-cbd254cb-ec26-47c0-93aa-4f2bbed50f57')\"\n",
              "              title=\"Convert this dataframe to an interactive table.\"\n",
              "              style=\"display:none;\">\n",
              "        \n",
              "  <svg xmlns=\"http://www.w3.org/2000/svg\" height=\"24px\"viewBox=\"0 0 24 24\"\n",
              "       width=\"24px\">\n",
              "    <path d=\"M0 0h24v24H0V0z\" fill=\"none\"/>\n",
              "    <path d=\"M18.56 5.44l.94 2.06.94-2.06 2.06-.94-2.06-.94-.94-2.06-.94 2.06-2.06.94zm-11 1L8.5 8.5l.94-2.06 2.06-.94-2.06-.94L8.5 2.5l-.94 2.06-2.06.94zm10 10l.94 2.06.94-2.06 2.06-.94-2.06-.94-.94-2.06-.94 2.06-2.06.94z\"/><path d=\"M17.41 7.96l-1.37-1.37c-.4-.4-.92-.59-1.43-.59-.52 0-1.04.2-1.43.59L10.3 9.45l-7.72 7.72c-.78.78-.78 2.05 0 2.83L4 21.41c.39.39.9.59 1.41.59.51 0 1.02-.2 1.41-.59l7.78-7.78 2.81-2.81c.8-.78.8-2.07 0-2.86zM5.41 20L4 18.59l7.72-7.72 1.47 1.35L5.41 20z\"/>\n",
              "  </svg>\n",
              "      </button>\n",
              "      \n",
              "  <style>\n",
              "    .colab-df-container {\n",
              "      display:flex;\n",
              "      flex-wrap:wrap;\n",
              "      gap: 12px;\n",
              "    }\n",
              "\n",
              "    .colab-df-convert {\n",
              "      background-color: #E8F0FE;\n",
              "      border: none;\n",
              "      border-radius: 50%;\n",
              "      cursor: pointer;\n",
              "      display: none;\n",
              "      fill: #1967D2;\n",
              "      height: 32px;\n",
              "      padding: 0 0 0 0;\n",
              "      width: 32px;\n",
              "    }\n",
              "\n",
              "    .colab-df-convert:hover {\n",
              "      background-color: #E2EBFA;\n",
              "      box-shadow: 0px 1px 2px rgba(60, 64, 67, 0.3), 0px 1px 3px 1px rgba(60, 64, 67, 0.15);\n",
              "      fill: #174EA6;\n",
              "    }\n",
              "\n",
              "    [theme=dark] .colab-df-convert {\n",
              "      background-color: #3B4455;\n",
              "      fill: #D2E3FC;\n",
              "    }\n",
              "\n",
              "    [theme=dark] .colab-df-convert:hover {\n",
              "      background-color: #434B5C;\n",
              "      box-shadow: 0px 1px 3px 1px rgba(0, 0, 0, 0.15);\n",
              "      filter: drop-shadow(0px 1px 2px rgba(0, 0, 0, 0.3));\n",
              "      fill: #FFFFFF;\n",
              "    }\n",
              "  </style>\n",
              "\n",
              "      <script>\n",
              "        const buttonEl =\n",
              "          document.querySelector('#df-cbd254cb-ec26-47c0-93aa-4f2bbed50f57 button.colab-df-convert');\n",
              "        buttonEl.style.display =\n",
              "          google.colab.kernel.accessAllowed ? 'block' : 'none';\n",
              "\n",
              "        async function convertToInteractive(key) {\n",
              "          const element = document.querySelector('#df-cbd254cb-ec26-47c0-93aa-4f2bbed50f57');\n",
              "          const dataTable =\n",
              "            await google.colab.kernel.invokeFunction('convertToInteractive',\n",
              "                                                     [key], {});\n",
              "          if (!dataTable) return;\n",
              "\n",
              "          const docLinkHtml = 'Like what you see? Visit the ' +\n",
              "            '<a target=\"_blank\" href=https://colab.research.google.com/notebooks/data_table.ipynb>data table notebook</a>'\n",
              "            + ' to learn more about interactive tables.';\n",
              "          element.innerHTML = '';\n",
              "          dataTable['output_type'] = 'display_data';\n",
              "          await google.colab.output.renderOutput(dataTable, element);\n",
              "          const docLink = document.createElement('div');\n",
              "          docLink.innerHTML = docLinkHtml;\n",
              "          element.appendChild(docLink);\n",
              "        }\n",
              "      </script>\n",
              "    </div>\n",
              "  </div>\n",
              "  "
            ]
          },
          "metadata": {},
          "execution_count": 5
        }
      ]
    },
    {
      "cell_type": "code",
      "metadata": {
        "id": "swmj7KCGsMJc",
        "colab": {
          "base_uri": "https://localhost:8080/"
        },
        "outputId": "a1b254d0-ed5a-4e5e-87c3-0dfc8566ae6b"
      },
      "source": [
        "print('Mean Absolute Error:', metrics.mean_absolute_error(result_hlr_papper.p, result_hlr_papper.pp))  \n",
        "print('Mean Squared Error:', metrics.mean_squared_error(result_hlr_papper.p, result_hlr_papper.pp))  \n",
        "print('Root Mean Squared Error:', np.sqrt(metrics.mean_squared_error(result_hlr_papper.p, result_hlr_papper.pp)))"
      ],
      "execution_count": 6,
      "outputs": [
        {
          "output_type": "stream",
          "name": "stdout",
          "text": [
            "Mean Absolute Error: 0.12767905479779854\n",
            "Mean Squared Error: 0.0835462286345218\n",
            "Root Mean Squared Error: 0.28904364486098255\n"
          ]
        }
      ]
    },
    {
      "cell_type": "code",
      "metadata": {
        "id": "a2fk_YissM-1",
        "colab": {
          "base_uri": "https://localhost:8080/"
        },
        "outputId": "89f03ba9-f9da-4bb4-f96a-7035e28f66c7"
      },
      "source": [
        "print('Mean Absolute Error:', metrics.mean_absolute_error(result_hlr_papper.h, result_hlr_papper.hh))  \n",
        "print('Mean Squared Error:', metrics.mean_squared_error(result_hlr_papper.h, result_hlr_papper.hh))  \n",
        "print('Root Mean Squared Error:', np.sqrt(metrics.mean_squared_error(result_hlr_papper.h, result_hlr_papper.hh)))"
      ],
      "execution_count": 7,
      "outputs": [
        {
          "output_type": "stream",
          "name": "stdout",
          "text": [
            "Mean Absolute Error: 115.48736676756802\n",
            "Mean Squared Error: 14592.555667394134\n",
            "Root Mean Squared Error: 120.79965094069657\n"
          ]
        }
      ]
    },
    {
      "cell_type": "code",
      "metadata": {
        "id": "4ZrTiBZ3-HrW",
        "colab": {
          "base_uri": "https://localhost:8080/",
          "height": 206
        },
        "outputId": "d72441f4-f40e-4269-8b60-8e143e78cdc1"
      },
      "source": [
        "weight_hlr_papper.head()"
      ],
      "execution_count": 8,
      "outputs": [
        {
          "output_type": "execute_result",
          "data": {
            "text/plain": [
              "                               right  0.0069\n",
              "0                              wrong -0.1591\n",
              "1                               bias  7.1657\n",
              "2          en:need/need<vblex><pres>  0.4282\n",
              "3                    en:red/red<adj>  0.0283\n",
              "4  en:walks/walk<vblex><pri><p3><sg>  0.3765"
            ],
            "text/html": [
              "\n",
              "  <div id=\"df-d307aa98-80e2-4137-95ec-632e8f2b0dd4\">\n",
              "    <div class=\"colab-df-container\">\n",
              "      <div>\n",
              "<style scoped>\n",
              "    .dataframe tbody tr th:only-of-type {\n",
              "        vertical-align: middle;\n",
              "    }\n",
              "\n",
              "    .dataframe tbody tr th {\n",
              "        vertical-align: top;\n",
              "    }\n",
              "\n",
              "    .dataframe thead th {\n",
              "        text-align: right;\n",
              "    }\n",
              "</style>\n",
              "<table border=\"1\" class=\"dataframe\">\n",
              "  <thead>\n",
              "    <tr style=\"text-align: right;\">\n",
              "      <th></th>\n",
              "      <th>right</th>\n",
              "      <th>0.0069</th>\n",
              "    </tr>\n",
              "  </thead>\n",
              "  <tbody>\n",
              "    <tr>\n",
              "      <th>0</th>\n",
              "      <td>wrong</td>\n",
              "      <td>-0.1591</td>\n",
              "    </tr>\n",
              "    <tr>\n",
              "      <th>1</th>\n",
              "      <td>bias</td>\n",
              "      <td>7.1657</td>\n",
              "    </tr>\n",
              "    <tr>\n",
              "      <th>2</th>\n",
              "      <td>en:need/need&lt;vblex&gt;&lt;pres&gt;</td>\n",
              "      <td>0.4282</td>\n",
              "    </tr>\n",
              "    <tr>\n",
              "      <th>3</th>\n",
              "      <td>en:red/red&lt;adj&gt;</td>\n",
              "      <td>0.0283</td>\n",
              "    </tr>\n",
              "    <tr>\n",
              "      <th>4</th>\n",
              "      <td>en:walks/walk&lt;vblex&gt;&lt;pri&gt;&lt;p3&gt;&lt;sg&gt;</td>\n",
              "      <td>0.3765</td>\n",
              "    </tr>\n",
              "  </tbody>\n",
              "</table>\n",
              "</div>\n",
              "      <button class=\"colab-df-convert\" onclick=\"convertToInteractive('df-d307aa98-80e2-4137-95ec-632e8f2b0dd4')\"\n",
              "              title=\"Convert this dataframe to an interactive table.\"\n",
              "              style=\"display:none;\">\n",
              "        \n",
              "  <svg xmlns=\"http://www.w3.org/2000/svg\" height=\"24px\"viewBox=\"0 0 24 24\"\n",
              "       width=\"24px\">\n",
              "    <path d=\"M0 0h24v24H0V0z\" fill=\"none\"/>\n",
              "    <path d=\"M18.56 5.44l.94 2.06.94-2.06 2.06-.94-2.06-.94-.94-2.06-.94 2.06-2.06.94zm-11 1L8.5 8.5l.94-2.06 2.06-.94-2.06-.94L8.5 2.5l-.94 2.06-2.06.94zm10 10l.94 2.06.94-2.06 2.06-.94-2.06-.94-.94-2.06-.94 2.06-2.06.94z\"/><path d=\"M17.41 7.96l-1.37-1.37c-.4-.4-.92-.59-1.43-.59-.52 0-1.04.2-1.43.59L10.3 9.45l-7.72 7.72c-.78.78-.78 2.05 0 2.83L4 21.41c.39.39.9.59 1.41.59.51 0 1.02-.2 1.41-.59l7.78-7.78 2.81-2.81c.8-.78.8-2.07 0-2.86zM5.41 20L4 18.59l7.72-7.72 1.47 1.35L5.41 20z\"/>\n",
              "  </svg>\n",
              "      </button>\n",
              "      \n",
              "  <style>\n",
              "    .colab-df-container {\n",
              "      display:flex;\n",
              "      flex-wrap:wrap;\n",
              "      gap: 12px;\n",
              "    }\n",
              "\n",
              "    .colab-df-convert {\n",
              "      background-color: #E8F0FE;\n",
              "      border: none;\n",
              "      border-radius: 50%;\n",
              "      cursor: pointer;\n",
              "      display: none;\n",
              "      fill: #1967D2;\n",
              "      height: 32px;\n",
              "      padding: 0 0 0 0;\n",
              "      width: 32px;\n",
              "    }\n",
              "\n",
              "    .colab-df-convert:hover {\n",
              "      background-color: #E2EBFA;\n",
              "      box-shadow: 0px 1px 2px rgba(60, 64, 67, 0.3), 0px 1px 3px 1px rgba(60, 64, 67, 0.15);\n",
              "      fill: #174EA6;\n",
              "    }\n",
              "\n",
              "    [theme=dark] .colab-df-convert {\n",
              "      background-color: #3B4455;\n",
              "      fill: #D2E3FC;\n",
              "    }\n",
              "\n",
              "    [theme=dark] .colab-df-convert:hover {\n",
              "      background-color: #434B5C;\n",
              "      box-shadow: 0px 1px 3px 1px rgba(0, 0, 0, 0.15);\n",
              "      filter: drop-shadow(0px 1px 2px rgba(0, 0, 0, 0.3));\n",
              "      fill: #FFFFFF;\n",
              "    }\n",
              "  </style>\n",
              "\n",
              "      <script>\n",
              "        const buttonEl =\n",
              "          document.querySelector('#df-d307aa98-80e2-4137-95ec-632e8f2b0dd4 button.colab-df-convert');\n",
              "        buttonEl.style.display =\n",
              "          google.colab.kernel.accessAllowed ? 'block' : 'none';\n",
              "\n",
              "        async function convertToInteractive(key) {\n",
              "          const element = document.querySelector('#df-d307aa98-80e2-4137-95ec-632e8f2b0dd4');\n",
              "          const dataTable =\n",
              "            await google.colab.kernel.invokeFunction('convertToInteractive',\n",
              "                                                     [key], {});\n",
              "          if (!dataTable) return;\n",
              "\n",
              "          const docLinkHtml = 'Like what you see? Visit the ' +\n",
              "            '<a target=\"_blank\" href=https://colab.research.google.com/notebooks/data_table.ipynb>data table notebook</a>'\n",
              "            + ' to learn more about interactive tables.';\n",
              "          element.innerHTML = '';\n",
              "          dataTable['output_type'] = 'display_data';\n",
              "          await google.colab.output.renderOutput(dataTable, element);\n",
              "          const docLink = document.createElement('div');\n",
              "          docLink.innerHTML = docLinkHtml;\n",
              "          element.appendChild(docLink);\n",
              "        }\n",
              "      </script>\n",
              "    </div>\n",
              "  </div>\n",
              "  "
            ]
          },
          "metadata": {},
          "execution_count": 8
        }
      ]
    },
    {
      "cell_type": "code",
      "metadata": {
        "id": "VMpGECH7Byt6"
      },
      "source": [
        "%matplotlib inline\n",
        "%load_ext autoreload\n",
        "%autoreload 2"
      ],
      "execution_count": 9,
      "outputs": []
    },
    {
      "cell_type": "code",
      "metadata": {
        "id": "y5QiDkKGCdZV"
      },
      "source": [
        "data = pd.read_csv(\"/content/drive/My Drive/Data/settles.acl16.learning_traces.13m.csv\")"
      ],
      "execution_count": 10,
      "outputs": []
    },
    {
      "cell_type": "code",
      "metadata": {
        "id": "E-FR9VNrCjUw",
        "colab": {
          "base_uri": "https://localhost:8080/",
          "height": 392
        },
        "outputId": "407ab0d7-0909-4f8e-d329-1f8d88c1e36e"
      },
      "source": [
        "data.head()"
      ],
      "execution_count": 11,
      "outputs": [
        {
          "output_type": "execute_result",
          "data": {
            "text/plain": [
              "   p_recall   timestamp     delta user_id learning_language ui_language  \\\n",
              "0       1.0  1362076081  27649635    u:FO                de          en   \n",
              "1       0.5  1362076081  27649635    u:FO                de          en   \n",
              "2       1.0  1362076081  27649635    u:FO                de          en   \n",
              "3       0.5  1362076081  27649635    u:FO                de          en   \n",
              "4       1.0  1362076081  27649635    u:FO                de          en   \n",
              "\n",
              "                          lexeme_id                     lexeme_string  \\\n",
              "0  76390c1350a8dac31186187e2fe1e178  lernt/lernen<vblex><pri><p3><sg>   \n",
              "1  7dfd7086f3671685e2cf1c1da72796d7     die/die<det><def><f><sg><nom>   \n",
              "2  35a54c25a2cda8127343f6a82e6f6b7d          mann/mann<n><m><sg><nom>   \n",
              "3  0cf63ffe3dda158bc3dbd55682b355ae          frau/frau<n><f><sg><nom>   \n",
              "4  84920990d78044db53c1b012f5bf9ab5    das/das<det><def><nt><sg><nom>   \n",
              "\n",
              "   history_seen  history_correct  session_seen  session_correct  \n",
              "0             6                4             2                2  \n",
              "1             4                4             2                1  \n",
              "2             5                4             1                1  \n",
              "3             6                5             2                1  \n",
              "4             4                4             1                1  "
            ],
            "text/html": [
              "\n",
              "  <div id=\"df-2ac56baf-e42c-40bb-9599-59fc975833f6\">\n",
              "    <div class=\"colab-df-container\">\n",
              "      <div>\n",
              "<style scoped>\n",
              "    .dataframe tbody tr th:only-of-type {\n",
              "        vertical-align: middle;\n",
              "    }\n",
              "\n",
              "    .dataframe tbody tr th {\n",
              "        vertical-align: top;\n",
              "    }\n",
              "\n",
              "    .dataframe thead th {\n",
              "        text-align: right;\n",
              "    }\n",
              "</style>\n",
              "<table border=\"1\" class=\"dataframe\">\n",
              "  <thead>\n",
              "    <tr style=\"text-align: right;\">\n",
              "      <th></th>\n",
              "      <th>p_recall</th>\n",
              "      <th>timestamp</th>\n",
              "      <th>delta</th>\n",
              "      <th>user_id</th>\n",
              "      <th>learning_language</th>\n",
              "      <th>ui_language</th>\n",
              "      <th>lexeme_id</th>\n",
              "      <th>lexeme_string</th>\n",
              "      <th>history_seen</th>\n",
              "      <th>history_correct</th>\n",
              "      <th>session_seen</th>\n",
              "      <th>session_correct</th>\n",
              "    </tr>\n",
              "  </thead>\n",
              "  <tbody>\n",
              "    <tr>\n",
              "      <th>0</th>\n",
              "      <td>1.0</td>\n",
              "      <td>1362076081</td>\n",
              "      <td>27649635</td>\n",
              "      <td>u:FO</td>\n",
              "      <td>de</td>\n",
              "      <td>en</td>\n",
              "      <td>76390c1350a8dac31186187e2fe1e178</td>\n",
              "      <td>lernt/lernen&lt;vblex&gt;&lt;pri&gt;&lt;p3&gt;&lt;sg&gt;</td>\n",
              "      <td>6</td>\n",
              "      <td>4</td>\n",
              "      <td>2</td>\n",
              "      <td>2</td>\n",
              "    </tr>\n",
              "    <tr>\n",
              "      <th>1</th>\n",
              "      <td>0.5</td>\n",
              "      <td>1362076081</td>\n",
              "      <td>27649635</td>\n",
              "      <td>u:FO</td>\n",
              "      <td>de</td>\n",
              "      <td>en</td>\n",
              "      <td>7dfd7086f3671685e2cf1c1da72796d7</td>\n",
              "      <td>die/die&lt;det&gt;&lt;def&gt;&lt;f&gt;&lt;sg&gt;&lt;nom&gt;</td>\n",
              "      <td>4</td>\n",
              "      <td>4</td>\n",
              "      <td>2</td>\n",
              "      <td>1</td>\n",
              "    </tr>\n",
              "    <tr>\n",
              "      <th>2</th>\n",
              "      <td>1.0</td>\n",
              "      <td>1362076081</td>\n",
              "      <td>27649635</td>\n",
              "      <td>u:FO</td>\n",
              "      <td>de</td>\n",
              "      <td>en</td>\n",
              "      <td>35a54c25a2cda8127343f6a82e6f6b7d</td>\n",
              "      <td>mann/mann&lt;n&gt;&lt;m&gt;&lt;sg&gt;&lt;nom&gt;</td>\n",
              "      <td>5</td>\n",
              "      <td>4</td>\n",
              "      <td>1</td>\n",
              "      <td>1</td>\n",
              "    </tr>\n",
              "    <tr>\n",
              "      <th>3</th>\n",
              "      <td>0.5</td>\n",
              "      <td>1362076081</td>\n",
              "      <td>27649635</td>\n",
              "      <td>u:FO</td>\n",
              "      <td>de</td>\n",
              "      <td>en</td>\n",
              "      <td>0cf63ffe3dda158bc3dbd55682b355ae</td>\n",
              "      <td>frau/frau&lt;n&gt;&lt;f&gt;&lt;sg&gt;&lt;nom&gt;</td>\n",
              "      <td>6</td>\n",
              "      <td>5</td>\n",
              "      <td>2</td>\n",
              "      <td>1</td>\n",
              "    </tr>\n",
              "    <tr>\n",
              "      <th>4</th>\n",
              "      <td>1.0</td>\n",
              "      <td>1362076081</td>\n",
              "      <td>27649635</td>\n",
              "      <td>u:FO</td>\n",
              "      <td>de</td>\n",
              "      <td>en</td>\n",
              "      <td>84920990d78044db53c1b012f5bf9ab5</td>\n",
              "      <td>das/das&lt;det&gt;&lt;def&gt;&lt;nt&gt;&lt;sg&gt;&lt;nom&gt;</td>\n",
              "      <td>4</td>\n",
              "      <td>4</td>\n",
              "      <td>1</td>\n",
              "      <td>1</td>\n",
              "    </tr>\n",
              "  </tbody>\n",
              "</table>\n",
              "</div>\n",
              "      <button class=\"colab-df-convert\" onclick=\"convertToInteractive('df-2ac56baf-e42c-40bb-9599-59fc975833f6')\"\n",
              "              title=\"Convert this dataframe to an interactive table.\"\n",
              "              style=\"display:none;\">\n",
              "        \n",
              "  <svg xmlns=\"http://www.w3.org/2000/svg\" height=\"24px\"viewBox=\"0 0 24 24\"\n",
              "       width=\"24px\">\n",
              "    <path d=\"M0 0h24v24H0V0z\" fill=\"none\"/>\n",
              "    <path d=\"M18.56 5.44l.94 2.06.94-2.06 2.06-.94-2.06-.94-.94-2.06-.94 2.06-2.06.94zm-11 1L8.5 8.5l.94-2.06 2.06-.94-2.06-.94L8.5 2.5l-.94 2.06-2.06.94zm10 10l.94 2.06.94-2.06 2.06-.94-2.06-.94-.94-2.06-.94 2.06-2.06.94z\"/><path d=\"M17.41 7.96l-1.37-1.37c-.4-.4-.92-.59-1.43-.59-.52 0-1.04.2-1.43.59L10.3 9.45l-7.72 7.72c-.78.78-.78 2.05 0 2.83L4 21.41c.39.39.9.59 1.41.59.51 0 1.02-.2 1.41-.59l7.78-7.78 2.81-2.81c.8-.78.8-2.07 0-2.86zM5.41 20L4 18.59l7.72-7.72 1.47 1.35L5.41 20z\"/>\n",
              "  </svg>\n",
              "      </button>\n",
              "      \n",
              "  <style>\n",
              "    .colab-df-container {\n",
              "      display:flex;\n",
              "      flex-wrap:wrap;\n",
              "      gap: 12px;\n",
              "    }\n",
              "\n",
              "    .colab-df-convert {\n",
              "      background-color: #E8F0FE;\n",
              "      border: none;\n",
              "      border-radius: 50%;\n",
              "      cursor: pointer;\n",
              "      display: none;\n",
              "      fill: #1967D2;\n",
              "      height: 32px;\n",
              "      padding: 0 0 0 0;\n",
              "      width: 32px;\n",
              "    }\n",
              "\n",
              "    .colab-df-convert:hover {\n",
              "      background-color: #E2EBFA;\n",
              "      box-shadow: 0px 1px 2px rgba(60, 64, 67, 0.3), 0px 1px 3px 1px rgba(60, 64, 67, 0.15);\n",
              "      fill: #174EA6;\n",
              "    }\n",
              "\n",
              "    [theme=dark] .colab-df-convert {\n",
              "      background-color: #3B4455;\n",
              "      fill: #D2E3FC;\n",
              "    }\n",
              "\n",
              "    [theme=dark] .colab-df-convert:hover {\n",
              "      background-color: #434B5C;\n",
              "      box-shadow: 0px 1px 3px 1px rgba(0, 0, 0, 0.15);\n",
              "      filter: drop-shadow(0px 1px 2px rgba(0, 0, 0, 0.3));\n",
              "      fill: #FFFFFF;\n",
              "    }\n",
              "  </style>\n",
              "\n",
              "      <script>\n",
              "        const buttonEl =\n",
              "          document.querySelector('#df-2ac56baf-e42c-40bb-9599-59fc975833f6 button.colab-df-convert');\n",
              "        buttonEl.style.display =\n",
              "          google.colab.kernel.accessAllowed ? 'block' : 'none';\n",
              "\n",
              "        async function convertToInteractive(key) {\n",
              "          const element = document.querySelector('#df-2ac56baf-e42c-40bb-9599-59fc975833f6');\n",
              "          const dataTable =\n",
              "            await google.colab.kernel.invokeFunction('convertToInteractive',\n",
              "                                                     [key], {});\n",
              "          if (!dataTable) return;\n",
              "\n",
              "          const docLinkHtml = 'Like what you see? Visit the ' +\n",
              "            '<a target=\"_blank\" href=https://colab.research.google.com/notebooks/data_table.ipynb>data table notebook</a>'\n",
              "            + ' to learn more about interactive tables.';\n",
              "          element.innerHTML = '';\n",
              "          dataTable['output_type'] = 'display_data';\n",
              "          await google.colab.output.renderOutput(dataTable, element);\n",
              "          const docLink = document.createElement('div');\n",
              "          docLink.innerHTML = docLinkHtml;\n",
              "          element.appendChild(docLink);\n",
              "        }\n",
              "      </script>\n",
              "    </div>\n",
              "  </div>\n",
              "  "
            ]
          },
          "metadata": {},
          "execution_count": 11
        }
      ]
    },
    {
      "cell_type": "code",
      "metadata": {
        "id": "75cNfYxqXSPY"
      },
      "source": [
        "#data.insert(2, \"appear_by_lexeme\",data.groupby([\"user_id\", \"lexeme_string\"])[\"lexeme_string\"].cumcount()+1, True )"
      ],
      "execution_count": 12,
      "outputs": []
    },
    {
      "cell_type": "code",
      "metadata": {
        "id": "zugXQvNFXZP0"
      },
      "source": [
        "#data.loc[(data.user_id == \"u:hxsA\") & (data.lexeme_id == \"a94a938b71c9bd3352c0811cb5f94d72\")]"
      ],
      "execution_count": 13,
      "outputs": []
    },
    {
      "cell_type": "code",
      "metadata": {
        "id": "1f3SdxdR9yK_",
        "colab": {
          "base_uri": "https://localhost:8080/"
        },
        "outputId": "f8f1d083-97b4-41ec-97a4-649b6148f6f7"
      },
      "source": [
        "# korespondensi satu-satu\n",
        "data.groupby('lexeme_id')['lexeme_string'].transform(lambda x:x.nunique()==1).all()"
      ],
      "execution_count": 14,
      "outputs": [
        {
          "output_type": "execute_result",
          "data": {
            "text/plain": [
              "True"
            ]
          },
          "metadata": {},
          "execution_count": 14
        }
      ]
    },
    {
      "cell_type": "code",
      "metadata": {
        "id": "RUbklvD9NS2h"
      },
      "source": [
        "# data['p_recall'].mask(data['p_recall'] == 0.1, 0.9999, inplace=True)\n",
        "# data.head()\n",
        "# data.insert(1, \"half-life\",((-1)*data[\"delta\"]/np.log(data[\"p_recall\"])), True )\n",
        "# data.head()\n",
        "#data2.insert(2, \"delta_days\",data2[\"delta\"]/DAY_SECONDS, True )\n",
        "#data2 = data2.drop(\"delta\", axis=1)"
      ],
      "execution_count": 15,
      "outputs": []
    },
    {
      "cell_type": "code",
      "metadata": {
        "id": "cSeZFaVyEuyC",
        "colab": {
          "base_uri": "https://localhost:8080/"
        },
        "outputId": "b54814ac-b3b3-4de9-f763-1d07668bffa9"
      },
      "source": [
        "data2 = data.loc[(data.learning_language==\"en\")]\n",
        "data2.p_recall.replace([0, 1], [0.01, 0.99], inplace=True)"
      ],
      "execution_count": 16,
      "outputs": [
        {
          "output_type": "stream",
          "name": "stderr",
          "text": [
            "/usr/local/lib/python3.7/dist-packages/pandas/core/generic.py:6619: SettingWithCopyWarning: \n",
            "A value is trying to be set on a copy of a slice from a DataFrame\n",
            "\n",
            "See the caveats in the documentation: https://pandas.pydata.org/pandas-docs/stable/user_guide/indexing.html#returning-a-view-versus-a-copy\n",
            "  return self._update_inplace(result)\n"
          ]
        }
      ]
    },
    {
      "cell_type": "code",
      "metadata": {
        "id": "NYf0pG15N6tM",
        "colab": {
          "base_uri": "https://localhost:8080/",
          "height": 270
        },
        "outputId": "ee3f6a5d-bf98-420e-e4c3-296473a641f1"
      },
      "source": [
        "data2.head()"
      ],
      "execution_count": 17,
      "outputs": [
        {
          "output_type": "execute_result",
          "data": {
            "text/plain": [
              "    p_recall   timestamp  delta user_id learning_language ui_language  \\\n",
              "87      0.99  1362082504    357  u:dwbJ                en          pt   \n",
              "88      0.99  1362082504    357  u:dwbJ                en          pt   \n",
              "89      0.99  1362082504    357  u:dwbJ                en          pt   \n",
              "90      0.80  1362082504    357  u:dwbJ                en          pt   \n",
              "91      0.99  1362082504    357  u:dwbJ                en          pt   \n",
              "\n",
              "                           lexeme_id                   lexeme_string  \\\n",
              "87  1052c3ace653dbc8923eaa183bc02b88    definition/definition<n><sg>   \n",
              "88  9cba1b30f88bf3c047b22cffcaf88c12          surface/surface<n><sg>   \n",
              "89  961cd149f20f2571419b1412d849f19a              scale/scale<n><sg>   \n",
              "90  5cbb1249562e95794a4c4ae0e2d8ae26  temperature/temperature<n><sg>   \n",
              "91  2df65bdf80d10d2b78d62cb2e0a731d8        distance/distance<n><sg>   \n",
              "\n",
              "    history_seen  history_correct  session_seen  session_correct  \n",
              "87            17               17             2                2  \n",
              "88            19               19             3                3  \n",
              "89            21               20             3                3  \n",
              "90            44               36             5                4  \n",
              "91            21               20             3                3  "
            ],
            "text/html": [
              "\n",
              "  <div id=\"df-c278ef1b-9763-47ec-a868-9721eed08e0d\">\n",
              "    <div class=\"colab-df-container\">\n",
              "      <div>\n",
              "<style scoped>\n",
              "    .dataframe tbody tr th:only-of-type {\n",
              "        vertical-align: middle;\n",
              "    }\n",
              "\n",
              "    .dataframe tbody tr th {\n",
              "        vertical-align: top;\n",
              "    }\n",
              "\n",
              "    .dataframe thead th {\n",
              "        text-align: right;\n",
              "    }\n",
              "</style>\n",
              "<table border=\"1\" class=\"dataframe\">\n",
              "  <thead>\n",
              "    <tr style=\"text-align: right;\">\n",
              "      <th></th>\n",
              "      <th>p_recall</th>\n",
              "      <th>timestamp</th>\n",
              "      <th>delta</th>\n",
              "      <th>user_id</th>\n",
              "      <th>learning_language</th>\n",
              "      <th>ui_language</th>\n",
              "      <th>lexeme_id</th>\n",
              "      <th>lexeme_string</th>\n",
              "      <th>history_seen</th>\n",
              "      <th>history_correct</th>\n",
              "      <th>session_seen</th>\n",
              "      <th>session_correct</th>\n",
              "    </tr>\n",
              "  </thead>\n",
              "  <tbody>\n",
              "    <tr>\n",
              "      <th>87</th>\n",
              "      <td>0.99</td>\n",
              "      <td>1362082504</td>\n",
              "      <td>357</td>\n",
              "      <td>u:dwbJ</td>\n",
              "      <td>en</td>\n",
              "      <td>pt</td>\n",
              "      <td>1052c3ace653dbc8923eaa183bc02b88</td>\n",
              "      <td>definition/definition&lt;n&gt;&lt;sg&gt;</td>\n",
              "      <td>17</td>\n",
              "      <td>17</td>\n",
              "      <td>2</td>\n",
              "      <td>2</td>\n",
              "    </tr>\n",
              "    <tr>\n",
              "      <th>88</th>\n",
              "      <td>0.99</td>\n",
              "      <td>1362082504</td>\n",
              "      <td>357</td>\n",
              "      <td>u:dwbJ</td>\n",
              "      <td>en</td>\n",
              "      <td>pt</td>\n",
              "      <td>9cba1b30f88bf3c047b22cffcaf88c12</td>\n",
              "      <td>surface/surface&lt;n&gt;&lt;sg&gt;</td>\n",
              "      <td>19</td>\n",
              "      <td>19</td>\n",
              "      <td>3</td>\n",
              "      <td>3</td>\n",
              "    </tr>\n",
              "    <tr>\n",
              "      <th>89</th>\n",
              "      <td>0.99</td>\n",
              "      <td>1362082504</td>\n",
              "      <td>357</td>\n",
              "      <td>u:dwbJ</td>\n",
              "      <td>en</td>\n",
              "      <td>pt</td>\n",
              "      <td>961cd149f20f2571419b1412d849f19a</td>\n",
              "      <td>scale/scale&lt;n&gt;&lt;sg&gt;</td>\n",
              "      <td>21</td>\n",
              "      <td>20</td>\n",
              "      <td>3</td>\n",
              "      <td>3</td>\n",
              "    </tr>\n",
              "    <tr>\n",
              "      <th>90</th>\n",
              "      <td>0.80</td>\n",
              "      <td>1362082504</td>\n",
              "      <td>357</td>\n",
              "      <td>u:dwbJ</td>\n",
              "      <td>en</td>\n",
              "      <td>pt</td>\n",
              "      <td>5cbb1249562e95794a4c4ae0e2d8ae26</td>\n",
              "      <td>temperature/temperature&lt;n&gt;&lt;sg&gt;</td>\n",
              "      <td>44</td>\n",
              "      <td>36</td>\n",
              "      <td>5</td>\n",
              "      <td>4</td>\n",
              "    </tr>\n",
              "    <tr>\n",
              "      <th>91</th>\n",
              "      <td>0.99</td>\n",
              "      <td>1362082504</td>\n",
              "      <td>357</td>\n",
              "      <td>u:dwbJ</td>\n",
              "      <td>en</td>\n",
              "      <td>pt</td>\n",
              "      <td>2df65bdf80d10d2b78d62cb2e0a731d8</td>\n",
              "      <td>distance/distance&lt;n&gt;&lt;sg&gt;</td>\n",
              "      <td>21</td>\n",
              "      <td>20</td>\n",
              "      <td>3</td>\n",
              "      <td>3</td>\n",
              "    </tr>\n",
              "  </tbody>\n",
              "</table>\n",
              "</div>\n",
              "      <button class=\"colab-df-convert\" onclick=\"convertToInteractive('df-c278ef1b-9763-47ec-a868-9721eed08e0d')\"\n",
              "              title=\"Convert this dataframe to an interactive table.\"\n",
              "              style=\"display:none;\">\n",
              "        \n",
              "  <svg xmlns=\"http://www.w3.org/2000/svg\" height=\"24px\"viewBox=\"0 0 24 24\"\n",
              "       width=\"24px\">\n",
              "    <path d=\"M0 0h24v24H0V0z\" fill=\"none\"/>\n",
              "    <path d=\"M18.56 5.44l.94 2.06.94-2.06 2.06-.94-2.06-.94-.94-2.06-.94 2.06-2.06.94zm-11 1L8.5 8.5l.94-2.06 2.06-.94-2.06-.94L8.5 2.5l-.94 2.06-2.06.94zm10 10l.94 2.06.94-2.06 2.06-.94-2.06-.94-.94-2.06-.94 2.06-2.06.94z\"/><path d=\"M17.41 7.96l-1.37-1.37c-.4-.4-.92-.59-1.43-.59-.52 0-1.04.2-1.43.59L10.3 9.45l-7.72 7.72c-.78.78-.78 2.05 0 2.83L4 21.41c.39.39.9.59 1.41.59.51 0 1.02-.2 1.41-.59l7.78-7.78 2.81-2.81c.8-.78.8-2.07 0-2.86zM5.41 20L4 18.59l7.72-7.72 1.47 1.35L5.41 20z\"/>\n",
              "  </svg>\n",
              "      </button>\n",
              "      \n",
              "  <style>\n",
              "    .colab-df-container {\n",
              "      display:flex;\n",
              "      flex-wrap:wrap;\n",
              "      gap: 12px;\n",
              "    }\n",
              "\n",
              "    .colab-df-convert {\n",
              "      background-color: #E8F0FE;\n",
              "      border: none;\n",
              "      border-radius: 50%;\n",
              "      cursor: pointer;\n",
              "      display: none;\n",
              "      fill: #1967D2;\n",
              "      height: 32px;\n",
              "      padding: 0 0 0 0;\n",
              "      width: 32px;\n",
              "    }\n",
              "\n",
              "    .colab-df-convert:hover {\n",
              "      background-color: #E2EBFA;\n",
              "      box-shadow: 0px 1px 2px rgba(60, 64, 67, 0.3), 0px 1px 3px 1px rgba(60, 64, 67, 0.15);\n",
              "      fill: #174EA6;\n",
              "    }\n",
              "\n",
              "    [theme=dark] .colab-df-convert {\n",
              "      background-color: #3B4455;\n",
              "      fill: #D2E3FC;\n",
              "    }\n",
              "\n",
              "    [theme=dark] .colab-df-convert:hover {\n",
              "      background-color: #434B5C;\n",
              "      box-shadow: 0px 1px 3px 1px rgba(0, 0, 0, 0.15);\n",
              "      filter: drop-shadow(0px 1px 2px rgba(0, 0, 0, 0.3));\n",
              "      fill: #FFFFFF;\n",
              "    }\n",
              "  </style>\n",
              "\n",
              "      <script>\n",
              "        const buttonEl =\n",
              "          document.querySelector('#df-c278ef1b-9763-47ec-a868-9721eed08e0d button.colab-df-convert');\n",
              "        buttonEl.style.display =\n",
              "          google.colab.kernel.accessAllowed ? 'block' : 'none';\n",
              "\n",
              "        async function convertToInteractive(key) {\n",
              "          const element = document.querySelector('#df-c278ef1b-9763-47ec-a868-9721eed08e0d');\n",
              "          const dataTable =\n",
              "            await google.colab.kernel.invokeFunction('convertToInteractive',\n",
              "                                                     [key], {});\n",
              "          if (!dataTable) return;\n",
              "\n",
              "          const docLinkHtml = 'Like what you see? Visit the ' +\n",
              "            '<a target=\"_blank\" href=https://colab.research.google.com/notebooks/data_table.ipynb>data table notebook</a>'\n",
              "            + ' to learn more about interactive tables.';\n",
              "          element.innerHTML = '';\n",
              "          dataTable['output_type'] = 'display_data';\n",
              "          await google.colab.output.renderOutput(dataTable, element);\n",
              "          const docLink = document.createElement('div');\n",
              "          docLink.innerHTML = docLinkHtml;\n",
              "          element.appendChild(docLink);\n",
              "        }\n",
              "      </script>\n",
              "    </div>\n",
              "  </div>\n",
              "  "
            ]
          },
          "metadata": {},
          "execution_count": 17
        }
      ]
    },
    {
      "cell_type": "code",
      "metadata": {
        "id": "qAST9qCkEusq"
      },
      "source": [
        "data2 = data2.drop([\"user_id\",\"learning_language\", \"timestamp\", \"lexeme_id\"], axis=1)"
      ],
      "execution_count": 18,
      "outputs": []
    },
    {
      "cell_type": "code",
      "metadata": {
        "id": "MCVaCMipxNZ4"
      },
      "source": [
        "data2.insert(2, \"delta_days\",data2[\"delta\"]/DAY_SECONDS, True )\n",
        "data2 = data2.drop(\"delta\", axis=1)"
      ],
      "execution_count": 19,
      "outputs": []
    },
    {
      "cell_type": "code",
      "metadata": {
        "id": "i3SX8Jz6N-aZ",
        "colab": {
          "base_uri": "https://localhost:8080/",
          "height": 206
        },
        "outputId": "679b2292-ca82-41ff-b028-7d3f6e225d47"
      },
      "source": [
        "data2.head()"
      ],
      "execution_count": 20,
      "outputs": [
        {
          "output_type": "execute_result",
          "data": {
            "text/plain": [
              "    p_recall  delta_days ui_language                   lexeme_string  \\\n",
              "87      0.99    0.004132          pt    definition/definition<n><sg>   \n",
              "88      0.99    0.004132          pt          surface/surface<n><sg>   \n",
              "89      0.99    0.004132          pt              scale/scale<n><sg>   \n",
              "90      0.80    0.004132          pt  temperature/temperature<n><sg>   \n",
              "91      0.99    0.004132          pt        distance/distance<n><sg>   \n",
              "\n",
              "    history_seen  history_correct  session_seen  session_correct  \n",
              "87            17               17             2                2  \n",
              "88            19               19             3                3  \n",
              "89            21               20             3                3  \n",
              "90            44               36             5                4  \n",
              "91            21               20             3                3  "
            ],
            "text/html": [
              "\n",
              "  <div id=\"df-d19ce1f5-b1f7-4b6b-9c75-b94b2f8e3879\">\n",
              "    <div class=\"colab-df-container\">\n",
              "      <div>\n",
              "<style scoped>\n",
              "    .dataframe tbody tr th:only-of-type {\n",
              "        vertical-align: middle;\n",
              "    }\n",
              "\n",
              "    .dataframe tbody tr th {\n",
              "        vertical-align: top;\n",
              "    }\n",
              "\n",
              "    .dataframe thead th {\n",
              "        text-align: right;\n",
              "    }\n",
              "</style>\n",
              "<table border=\"1\" class=\"dataframe\">\n",
              "  <thead>\n",
              "    <tr style=\"text-align: right;\">\n",
              "      <th></th>\n",
              "      <th>p_recall</th>\n",
              "      <th>delta_days</th>\n",
              "      <th>ui_language</th>\n",
              "      <th>lexeme_string</th>\n",
              "      <th>history_seen</th>\n",
              "      <th>history_correct</th>\n",
              "      <th>session_seen</th>\n",
              "      <th>session_correct</th>\n",
              "    </tr>\n",
              "  </thead>\n",
              "  <tbody>\n",
              "    <tr>\n",
              "      <th>87</th>\n",
              "      <td>0.99</td>\n",
              "      <td>0.004132</td>\n",
              "      <td>pt</td>\n",
              "      <td>definition/definition&lt;n&gt;&lt;sg&gt;</td>\n",
              "      <td>17</td>\n",
              "      <td>17</td>\n",
              "      <td>2</td>\n",
              "      <td>2</td>\n",
              "    </tr>\n",
              "    <tr>\n",
              "      <th>88</th>\n",
              "      <td>0.99</td>\n",
              "      <td>0.004132</td>\n",
              "      <td>pt</td>\n",
              "      <td>surface/surface&lt;n&gt;&lt;sg&gt;</td>\n",
              "      <td>19</td>\n",
              "      <td>19</td>\n",
              "      <td>3</td>\n",
              "      <td>3</td>\n",
              "    </tr>\n",
              "    <tr>\n",
              "      <th>89</th>\n",
              "      <td>0.99</td>\n",
              "      <td>0.004132</td>\n",
              "      <td>pt</td>\n",
              "      <td>scale/scale&lt;n&gt;&lt;sg&gt;</td>\n",
              "      <td>21</td>\n",
              "      <td>20</td>\n",
              "      <td>3</td>\n",
              "      <td>3</td>\n",
              "    </tr>\n",
              "    <tr>\n",
              "      <th>90</th>\n",
              "      <td>0.80</td>\n",
              "      <td>0.004132</td>\n",
              "      <td>pt</td>\n",
              "      <td>temperature/temperature&lt;n&gt;&lt;sg&gt;</td>\n",
              "      <td>44</td>\n",
              "      <td>36</td>\n",
              "      <td>5</td>\n",
              "      <td>4</td>\n",
              "    </tr>\n",
              "    <tr>\n",
              "      <th>91</th>\n",
              "      <td>0.99</td>\n",
              "      <td>0.004132</td>\n",
              "      <td>pt</td>\n",
              "      <td>distance/distance&lt;n&gt;&lt;sg&gt;</td>\n",
              "      <td>21</td>\n",
              "      <td>20</td>\n",
              "      <td>3</td>\n",
              "      <td>3</td>\n",
              "    </tr>\n",
              "  </tbody>\n",
              "</table>\n",
              "</div>\n",
              "      <button class=\"colab-df-convert\" onclick=\"convertToInteractive('df-d19ce1f5-b1f7-4b6b-9c75-b94b2f8e3879')\"\n",
              "              title=\"Convert this dataframe to an interactive table.\"\n",
              "              style=\"display:none;\">\n",
              "        \n",
              "  <svg xmlns=\"http://www.w3.org/2000/svg\" height=\"24px\"viewBox=\"0 0 24 24\"\n",
              "       width=\"24px\">\n",
              "    <path d=\"M0 0h24v24H0V0z\" fill=\"none\"/>\n",
              "    <path d=\"M18.56 5.44l.94 2.06.94-2.06 2.06-.94-2.06-.94-.94-2.06-.94 2.06-2.06.94zm-11 1L8.5 8.5l.94-2.06 2.06-.94-2.06-.94L8.5 2.5l-.94 2.06-2.06.94zm10 10l.94 2.06.94-2.06 2.06-.94-2.06-.94-.94-2.06-.94 2.06-2.06.94z\"/><path d=\"M17.41 7.96l-1.37-1.37c-.4-.4-.92-.59-1.43-.59-.52 0-1.04.2-1.43.59L10.3 9.45l-7.72 7.72c-.78.78-.78 2.05 0 2.83L4 21.41c.39.39.9.59 1.41.59.51 0 1.02-.2 1.41-.59l7.78-7.78 2.81-2.81c.8-.78.8-2.07 0-2.86zM5.41 20L4 18.59l7.72-7.72 1.47 1.35L5.41 20z\"/>\n",
              "  </svg>\n",
              "      </button>\n",
              "      \n",
              "  <style>\n",
              "    .colab-df-container {\n",
              "      display:flex;\n",
              "      flex-wrap:wrap;\n",
              "      gap: 12px;\n",
              "    }\n",
              "\n",
              "    .colab-df-convert {\n",
              "      background-color: #E8F0FE;\n",
              "      border: none;\n",
              "      border-radius: 50%;\n",
              "      cursor: pointer;\n",
              "      display: none;\n",
              "      fill: #1967D2;\n",
              "      height: 32px;\n",
              "      padding: 0 0 0 0;\n",
              "      width: 32px;\n",
              "    }\n",
              "\n",
              "    .colab-df-convert:hover {\n",
              "      background-color: #E2EBFA;\n",
              "      box-shadow: 0px 1px 2px rgba(60, 64, 67, 0.3), 0px 1px 3px 1px rgba(60, 64, 67, 0.15);\n",
              "      fill: #174EA6;\n",
              "    }\n",
              "\n",
              "    [theme=dark] .colab-df-convert {\n",
              "      background-color: #3B4455;\n",
              "      fill: #D2E3FC;\n",
              "    }\n",
              "\n",
              "    [theme=dark] .colab-df-convert:hover {\n",
              "      background-color: #434B5C;\n",
              "      box-shadow: 0px 1px 3px 1px rgba(0, 0, 0, 0.15);\n",
              "      filter: drop-shadow(0px 1px 2px rgba(0, 0, 0, 0.3));\n",
              "      fill: #FFFFFF;\n",
              "    }\n",
              "  </style>\n",
              "\n",
              "      <script>\n",
              "        const buttonEl =\n",
              "          document.querySelector('#df-d19ce1f5-b1f7-4b6b-9c75-b94b2f8e3879 button.colab-df-convert');\n",
              "        buttonEl.style.display =\n",
              "          google.colab.kernel.accessAllowed ? 'block' : 'none';\n",
              "\n",
              "        async function convertToInteractive(key) {\n",
              "          const element = document.querySelector('#df-d19ce1f5-b1f7-4b6b-9c75-b94b2f8e3879');\n",
              "          const dataTable =\n",
              "            await google.colab.kernel.invokeFunction('convertToInteractive',\n",
              "                                                     [key], {});\n",
              "          if (!dataTable) return;\n",
              "\n",
              "          const docLinkHtml = 'Like what you see? Visit the ' +\n",
              "            '<a target=\"_blank\" href=https://colab.research.google.com/notebooks/data_table.ipynb>data table notebook</a>'\n",
              "            + ' to learn more about interactive tables.';\n",
              "          element.innerHTML = '';\n",
              "          dataTable['output_type'] = 'display_data';\n",
              "          await google.colab.output.renderOutput(dataTable, element);\n",
              "          const docLink = document.createElement('div');\n",
              "          docLink.innerHTML = docLinkHtml;\n",
              "          element.appendChild(docLink);\n",
              "        }\n",
              "      </script>\n",
              "    </div>\n",
              "  </div>\n",
              "  "
            ]
          },
          "metadata": {},
          "execution_count": 20
        }
      ]
    },
    {
      "cell_type": "code",
      "metadata": {
        "id": "nY7E9Qp5M8Vz"
      },
      "source": [
        "data2.insert(2, \"half_life\",((-1)*data2[\"delta_days\"]/np.log(data2[\"p_recall\"])), True )"
      ],
      "execution_count": 21,
      "outputs": []
    },
    {
      "cell_type": "code",
      "metadata": {
        "id": "gY1egjbWxQnx",
        "colab": {
          "base_uri": "https://localhost:8080/",
          "height": 206
        },
        "outputId": "75923da1-3a36-4e23-f330-37bb25cd15a1"
      },
      "source": [
        "data2.head()"
      ],
      "execution_count": 22,
      "outputs": [
        {
          "output_type": "execute_result",
          "data": {
            "text/plain": [
              "    p_recall  delta_days  half_life ui_language  \\\n",
              "87      0.99    0.004132   0.411125          pt   \n",
              "88      0.99    0.004132   0.411125          pt   \n",
              "89      0.99    0.004132   0.411125          pt   \n",
              "90      0.80    0.004132   0.018517          pt   \n",
              "91      0.99    0.004132   0.411125          pt   \n",
              "\n",
              "                     lexeme_string  history_seen  history_correct  \\\n",
              "87    definition/definition<n><sg>            17               17   \n",
              "88          surface/surface<n><sg>            19               19   \n",
              "89              scale/scale<n><sg>            21               20   \n",
              "90  temperature/temperature<n><sg>            44               36   \n",
              "91        distance/distance<n><sg>            21               20   \n",
              "\n",
              "    session_seen  session_correct  \n",
              "87             2                2  \n",
              "88             3                3  \n",
              "89             3                3  \n",
              "90             5                4  \n",
              "91             3                3  "
            ],
            "text/html": [
              "\n",
              "  <div id=\"df-2f7cb5fd-d57d-4d91-ba9e-55a94955404a\">\n",
              "    <div class=\"colab-df-container\">\n",
              "      <div>\n",
              "<style scoped>\n",
              "    .dataframe tbody tr th:only-of-type {\n",
              "        vertical-align: middle;\n",
              "    }\n",
              "\n",
              "    .dataframe tbody tr th {\n",
              "        vertical-align: top;\n",
              "    }\n",
              "\n",
              "    .dataframe thead th {\n",
              "        text-align: right;\n",
              "    }\n",
              "</style>\n",
              "<table border=\"1\" class=\"dataframe\">\n",
              "  <thead>\n",
              "    <tr style=\"text-align: right;\">\n",
              "      <th></th>\n",
              "      <th>p_recall</th>\n",
              "      <th>delta_days</th>\n",
              "      <th>half_life</th>\n",
              "      <th>ui_language</th>\n",
              "      <th>lexeme_string</th>\n",
              "      <th>history_seen</th>\n",
              "      <th>history_correct</th>\n",
              "      <th>session_seen</th>\n",
              "      <th>session_correct</th>\n",
              "    </tr>\n",
              "  </thead>\n",
              "  <tbody>\n",
              "    <tr>\n",
              "      <th>87</th>\n",
              "      <td>0.99</td>\n",
              "      <td>0.004132</td>\n",
              "      <td>0.411125</td>\n",
              "      <td>pt</td>\n",
              "      <td>definition/definition&lt;n&gt;&lt;sg&gt;</td>\n",
              "      <td>17</td>\n",
              "      <td>17</td>\n",
              "      <td>2</td>\n",
              "      <td>2</td>\n",
              "    </tr>\n",
              "    <tr>\n",
              "      <th>88</th>\n",
              "      <td>0.99</td>\n",
              "      <td>0.004132</td>\n",
              "      <td>0.411125</td>\n",
              "      <td>pt</td>\n",
              "      <td>surface/surface&lt;n&gt;&lt;sg&gt;</td>\n",
              "      <td>19</td>\n",
              "      <td>19</td>\n",
              "      <td>3</td>\n",
              "      <td>3</td>\n",
              "    </tr>\n",
              "    <tr>\n",
              "      <th>89</th>\n",
              "      <td>0.99</td>\n",
              "      <td>0.004132</td>\n",
              "      <td>0.411125</td>\n",
              "      <td>pt</td>\n",
              "      <td>scale/scale&lt;n&gt;&lt;sg&gt;</td>\n",
              "      <td>21</td>\n",
              "      <td>20</td>\n",
              "      <td>3</td>\n",
              "      <td>3</td>\n",
              "    </tr>\n",
              "    <tr>\n",
              "      <th>90</th>\n",
              "      <td>0.80</td>\n",
              "      <td>0.004132</td>\n",
              "      <td>0.018517</td>\n",
              "      <td>pt</td>\n",
              "      <td>temperature/temperature&lt;n&gt;&lt;sg&gt;</td>\n",
              "      <td>44</td>\n",
              "      <td>36</td>\n",
              "      <td>5</td>\n",
              "      <td>4</td>\n",
              "    </tr>\n",
              "    <tr>\n",
              "      <th>91</th>\n",
              "      <td>0.99</td>\n",
              "      <td>0.004132</td>\n",
              "      <td>0.411125</td>\n",
              "      <td>pt</td>\n",
              "      <td>distance/distance&lt;n&gt;&lt;sg&gt;</td>\n",
              "      <td>21</td>\n",
              "      <td>20</td>\n",
              "      <td>3</td>\n",
              "      <td>3</td>\n",
              "    </tr>\n",
              "  </tbody>\n",
              "</table>\n",
              "</div>\n",
              "      <button class=\"colab-df-convert\" onclick=\"convertToInteractive('df-2f7cb5fd-d57d-4d91-ba9e-55a94955404a')\"\n",
              "              title=\"Convert this dataframe to an interactive table.\"\n",
              "              style=\"display:none;\">\n",
              "        \n",
              "  <svg xmlns=\"http://www.w3.org/2000/svg\" height=\"24px\"viewBox=\"0 0 24 24\"\n",
              "       width=\"24px\">\n",
              "    <path d=\"M0 0h24v24H0V0z\" fill=\"none\"/>\n",
              "    <path d=\"M18.56 5.44l.94 2.06.94-2.06 2.06-.94-2.06-.94-.94-2.06-.94 2.06-2.06.94zm-11 1L8.5 8.5l.94-2.06 2.06-.94-2.06-.94L8.5 2.5l-.94 2.06-2.06.94zm10 10l.94 2.06.94-2.06 2.06-.94-2.06-.94-.94-2.06-.94 2.06-2.06.94z\"/><path d=\"M17.41 7.96l-1.37-1.37c-.4-.4-.92-.59-1.43-.59-.52 0-1.04.2-1.43.59L10.3 9.45l-7.72 7.72c-.78.78-.78 2.05 0 2.83L4 21.41c.39.39.9.59 1.41.59.51 0 1.02-.2 1.41-.59l7.78-7.78 2.81-2.81c.8-.78.8-2.07 0-2.86zM5.41 20L4 18.59l7.72-7.72 1.47 1.35L5.41 20z\"/>\n",
              "  </svg>\n",
              "      </button>\n",
              "      \n",
              "  <style>\n",
              "    .colab-df-container {\n",
              "      display:flex;\n",
              "      flex-wrap:wrap;\n",
              "      gap: 12px;\n",
              "    }\n",
              "\n",
              "    .colab-df-convert {\n",
              "      background-color: #E8F0FE;\n",
              "      border: none;\n",
              "      border-radius: 50%;\n",
              "      cursor: pointer;\n",
              "      display: none;\n",
              "      fill: #1967D2;\n",
              "      height: 32px;\n",
              "      padding: 0 0 0 0;\n",
              "      width: 32px;\n",
              "    }\n",
              "\n",
              "    .colab-df-convert:hover {\n",
              "      background-color: #E2EBFA;\n",
              "      box-shadow: 0px 1px 2px rgba(60, 64, 67, 0.3), 0px 1px 3px 1px rgba(60, 64, 67, 0.15);\n",
              "      fill: #174EA6;\n",
              "    }\n",
              "\n",
              "    [theme=dark] .colab-df-convert {\n",
              "      background-color: #3B4455;\n",
              "      fill: #D2E3FC;\n",
              "    }\n",
              "\n",
              "    [theme=dark] .colab-df-convert:hover {\n",
              "      background-color: #434B5C;\n",
              "      box-shadow: 0px 1px 3px 1px rgba(0, 0, 0, 0.15);\n",
              "      filter: drop-shadow(0px 1px 2px rgba(0, 0, 0, 0.3));\n",
              "      fill: #FFFFFF;\n",
              "    }\n",
              "  </style>\n",
              "\n",
              "      <script>\n",
              "        const buttonEl =\n",
              "          document.querySelector('#df-2f7cb5fd-d57d-4d91-ba9e-55a94955404a button.colab-df-convert');\n",
              "        buttonEl.style.display =\n",
              "          google.colab.kernel.accessAllowed ? 'block' : 'none';\n",
              "\n",
              "        async function convertToInteractive(key) {\n",
              "          const element = document.querySelector('#df-2f7cb5fd-d57d-4d91-ba9e-55a94955404a');\n",
              "          const dataTable =\n",
              "            await google.colab.kernel.invokeFunction('convertToInteractive',\n",
              "                                                     [key], {});\n",
              "          if (!dataTable) return;\n",
              "\n",
              "          const docLinkHtml = 'Like what you see? Visit the ' +\n",
              "            '<a target=\"_blank\" href=https://colab.research.google.com/notebooks/data_table.ipynb>data table notebook</a>'\n",
              "            + ' to learn more about interactive tables.';\n",
              "          element.innerHTML = '';\n",
              "          dataTable['output_type'] = 'display_data';\n",
              "          await google.colab.output.renderOutput(dataTable, element);\n",
              "          const docLink = document.createElement('div');\n",
              "          docLink.innerHTML = docLinkHtml;\n",
              "          element.appendChild(docLink);\n",
              "        }\n",
              "      </script>\n",
              "    </div>\n",
              "  </div>\n",
              "  "
            ]
          },
          "metadata": {},
          "execution_count": 22
        }
      ]
    },
    {
      "cell_type": "code",
      "metadata": {
        "id": "sUIFNaK4zw77"
      },
      "source": [
        "data2.loc[data2[\"half_life\"] > 121, [\"half_life\"]] = 121\n",
        "data2.loc[data2[\"half_life\"] < 0.01, [\"half_life\"]] = 0.01"
      ],
      "execution_count": 23,
      "outputs": []
    },
    {
      "cell_type": "markdown",
      "metadata": {
        "id": "gYXis0wJXBPn"
      },
      "source": [
        "delete lexeme_id and lexeme_string"
      ]
    },
    {
      "cell_type": "markdown",
      "metadata": {
        "id": "K4NdVQmUFyEn"
      },
      "source": [
        "# **Preprocesing**"
      ]
    },
    {
      "cell_type": "markdown",
      "metadata": {
        "id": "4BoboXiADNLT"
      },
      "source": [
        "### Explore"
      ]
    },
    {
      "cell_type": "code",
      "metadata": {
        "id": "VaJHYfCocIEa",
        "colab": {
          "base_uri": "https://localhost:8080/"
        },
        "outputId": "c79d925d-7d76-4df9-d510-f4b4451ce840"
      },
      "source": [
        "#trashold?\n",
        "(len(data2.loc[data2.p_recall>0.9])) / (len(data2.p_recall)) * 100"
      ],
      "execution_count": 24,
      "outputs": [
        {
          "output_type": "execute_result",
          "data": {
            "text/plain": [
              "83.9891831982629"
            ]
          },
          "metadata": {},
          "execution_count": 24
        }
      ]
    },
    {
      "cell_type": "code",
      "metadata": {
        "id": "lqaRQr0NGGxf",
        "colab": {
          "base_uri": "https://localhost:8080/",
          "height": 349
        },
        "outputId": "1ab197ba-2340-4df9-9763-1f7f10ccace8"
      },
      "source": [
        "sns.set_style(\"whitegrid\")\n",
        "missing = data2.isnull().sum()\n",
        "missing = missing[missing >= 0]\n",
        "missing.sort_values(inplace=True)\n",
        "missing.plot.bar()"
      ],
      "execution_count": 25,
      "outputs": [
        {
          "output_type": "execute_result",
          "data": {
            "text/plain": [
              "<matplotlib.axes._subplots.AxesSubplot at 0x7f651d835590>"
            ]
          },
          "metadata": {},
          "execution_count": 25
        },
        {
          "output_type": "display_data",
          "data": {
            "text/plain": [
              "<Figure size 432x288 with 1 Axes>"
            ],
            "image/png": "[encoded data removed]"
          },
          "metadata": {}
        }
      ]
    },
    {
      "cell_type": "code",
      "metadata": {
        "id": "vdINp4vSDOn5",
        "colab": {
          "base_uri": "https://localhost:8080/"
        },
        "outputId": "6bec8498-788b-4d7b-a379-865fd6e92ebd"
      },
      "source": [
        "data2.shape"
      ],
      "execution_count": 26,
      "outputs": [
        {
          "output_type": "execute_result",
          "data": {
            "text/plain": [
              "(5014791, 9)"
            ]
          },
          "metadata": {},
          "execution_count": 26
        }
      ]
    },
    {
      "cell_type": "code",
      "metadata": {
        "id": "V-rtX0XODVC2",
        "colab": {
          "base_uri": "https://localhost:8080/"
        },
        "outputId": "8487b149-015a-474c-c4bd-4ec4d4fa3e3a"
      },
      "source": [
        "data2.duplicated().sum()"
      ],
      "execution_count": 27,
      "outputs": [
        {
          "output_type": "execute_result",
          "data": {
            "text/plain": [
              "48483"
            ]
          },
          "metadata": {},
          "execution_count": 27
        }
      ]
    },
    {
      "cell_type": "code",
      "metadata": {
        "id": "84KwA2GFDWqh"
      },
      "source": [
        "data2 = data2.drop_duplicates()"
      ],
      "execution_count": 28,
      "outputs": []
    },
    {
      "cell_type": "code",
      "metadata": {
        "id": "0YC9ROHHhOde",
        "colab": {
          "base_uri": "https://localhost:8080/"
        },
        "outputId": "2e2a07a9-ac62-4a6b-d89c-e24c60da6584"
      },
      "source": [
        "data2.shape"
      ],
      "execution_count": 29,
      "outputs": [
        {
          "output_type": "execute_result",
          "data": {
            "text/plain": [
              "(4966308, 9)"
            ]
          },
          "metadata": {},
          "execution_count": 29
        }
      ]
    },
    {
      "cell_type": "code",
      "metadata": {
        "id": "hupWe41FDYeT",
        "colab": {
          "base_uri": "https://localhost:8080/"
        },
        "outputId": "e62fd584-7255-4715-9368-5f6046cd0e2c"
      },
      "source": [
        "data2.info()"
      ],
      "execution_count": 30,
      "outputs": [
        {
          "output_type": "stream",
          "name": "stdout",
          "text": [
            "<class 'pandas.core.frame.DataFrame'>\n",
            "Int64Index: 4966308 entries, 87 to 12854225\n",
            "Data columns (total 9 columns):\n",
            " #   Column           Dtype  \n",
            "---  ------           -----  \n",
            " 0   p_recall         float64\n",
            " 1   delta_days       float64\n",
            " 2   half_life        float64\n",
            " 3   ui_language      object \n",
            " 4   lexeme_string    object \n",
            " 5   history_seen     int64  \n",
            " 6   history_correct  int64  \n",
            " 7   session_seen     int64  \n",
            " 8   session_correct  int64  \n",
            "dtypes: float64(3), int64(4), object(2)\n",
            "memory usage: 378.9+ MB\n"
          ]
        }
      ]
    },
    {
      "cell_type": "code",
      "metadata": {
        "id": "qY914kwEDgGE",
        "colab": {
          "base_uri": "https://localhost:8080/",
          "height": 879
        },
        "outputId": "5bb9d53f-f7ed-4b8e-c1cf-d63d161b2b79"
      },
      "source": [
        "data2.hist(bins=50, figsize=(20,15))\n",
        "plt.show()"
      ],
      "execution_count": 31,
      "outputs": [
        {
          "output_type": "display_data",
          "data": {
            "text/plain": [
              "<Figure size 1440x1080 with 9 Axes>"
            ],
            "image/png": "[encoded data removed]"
          },
          "metadata": {}
        }
      ]
    },
    {
      "cell_type": "code",
      "metadata": {
        "id": "AlOrr7EjdDtT",
        "colab": {
          "base_uri": "https://localhost:8080/",
          "height": 352
        },
        "outputId": "7c0e7b7d-7f46-4ee6-8be9-1b8f0cf327df"
      },
      "source": [
        "log_resp = np.log(data2.delta_days)\n",
        "sns.distplot(log_resp)"
      ],
      "execution_count": 32,
      "outputs": [
        {
          "output_type": "stream",
          "name": "stderr",
          "text": [
            "/usr/local/lib/python3.7/dist-packages/seaborn/distributions.py:2619: FutureWarning: `distplot` is a deprecated function and will be removed in a future version. Please adapt your code to use either `displot` (a figure-level function with similar flexibility) or `histplot` (an axes-level function for histograms).\n",
            "  warnings.warn(msg, FutureWarning)\n"
          ]
        },
        {
          "output_type": "execute_result",
          "data": {
            "text/plain": [
              "<matplotlib.axes._subplots.AxesSubplot at 0x7f651b217b10>"
            ]
          },
          "metadata": {},
          "execution_count": 32
        },
        {
          "output_type": "display_data",
          "data": {
            "text/plain": [
              "<Figure size 432x288 with 1 Axes>"
            ],
            "image/png": "[encoded data removed]"
          },
          "metadata": {}
        }
      ]
    },
    {
      "cell_type": "markdown",
      "metadata": {
        "id": "06bJPtxPZh1i"
      },
      "source": [
        "#### outlier"
      ]
    },
    {
      "cell_type": "code",
      "metadata": {
        "id": "c8gKvU7nZnL6"
      },
      "source": [
        "outliers=[]\n",
        "def detect_outlier(data_1):\n",
        "    \n",
        "    threshold=3\n",
        "    mean_1 = np.mean(data_1)\n",
        "    std_1 =np.std(data_1)\n",
        "    \n",
        "    \n",
        "    for y in data_1:\n",
        "        z_score= (y - mean_1)/std_1 \n",
        "        if np.abs(z_score) > threshold:\n",
        "            outliers.append(y)\n",
        "    return outliers"
      ],
      "execution_count": 33,
      "outputs": []
    },
    {
      "cell_type": "code",
      "metadata": {
        "id": "pV0ah-MFaUIA"
      },
      "source": [
        "def find_iqr(data):\n",
        "  sort_data = sorted(data)\n",
        "  q1, q3= np.percentile(sort_data,[25,75])\n",
        "  iqr = q3 - q1\n",
        "  lower_bound = q1 -(1.5 * iqr) \n",
        "  upper_bound = q3 +(1.5 * iqr)\n",
        "  outlier = ((len(data.value_counts() < lower_bound)) | (len(data.value_counts() > upper_bound))) / len(data)\n",
        "  \n",
        "  return (lower_bound, upper_bound, outlier)"
      ],
      "execution_count": 34,
      "outputs": []
    },
    {
      "cell_type": "code",
      "metadata": {
        "id": "NeNDd41dejOJ",
        "colab": {
          "base_uri": "https://localhost:8080/"
        },
        "outputId": "9b00bc61-41f2-40ac-c1e1-151dc74f7f2c"
      },
      "source": [
        "print(find_iqr(data2.delta_days))\n",
        "print(find_iqr(data2.history_correct))\n",
        "print(find_iqr(data2.history_seen))\n",
        "print(find_iqr(data2.session_correct))\n",
        "print(find_iqr(data2.session_seen))"
      ],
      "execution_count": 35,
      "outputs": [
        {
          "output_type": "stream",
          "name": "stdout",
          "text": [
            "(-6.764108796296296, 11.288391203703704, 0.15118091749444457)\n",
            "(-19.5, 40.5, 0.0009634923971690841)\n",
            "(-18.5, 41.5, 0.0011874011841392037)\n",
            "(-0.5, 3.5, 4.228493279111968e-06)\n",
            "(-0.5, 3.5, 4.027136456297112e-06)\n"
          ]
        }
      ]
    },
    {
      "cell_type": "code",
      "metadata": {
        "id": "G6mO6pqmYs1U",
        "colab": {
          "base_uri": "https://localhost:8080/",
          "height": 270
        },
        "outputId": "c48e94c9-dc47-4f78-bc00-07f5192d6f01"
      },
      "source": [
        "data2.head()"
      ],
      "execution_count": 36,
      "outputs": [
        {
          "output_type": "execute_result",
          "data": {
            "text/plain": [
              "    p_recall  delta_days  half_life ui_language  \\\n",
              "87      0.99    0.004132   0.411125          pt   \n",
              "88      0.99    0.004132   0.411125          pt   \n",
              "89      0.99    0.004132   0.411125          pt   \n",
              "90      0.80    0.004132   0.018517          pt   \n",
              "91      0.99    0.004132   0.411125          pt   \n",
              "\n",
              "                     lexeme_string  history_seen  history_correct  \\\n",
              "87    definition/definition<n><sg>            17               17   \n",
              "88          surface/surface<n><sg>            19               19   \n",
              "89              scale/scale<n><sg>            21               20   \n",
              "90  temperature/temperature<n><sg>            44               36   \n",
              "91        distance/distance<n><sg>            21               20   \n",
              "\n",
              "    session_seen  session_correct  \n",
              "87             2                2  \n",
              "88             3                3  \n",
              "89             3                3  \n",
              "90             5                4  \n",
              "91             3                3  "
            ],
            "text/html": [
              "\n",
              "  <div id=\"df-ec02c4d5-a5d5-4489-9dfc-7ed18eac8355\">\n",
              "    <div class=\"colab-df-container\">\n",
              "      <div>\n",
              "<style scoped>\n",
              "    .dataframe tbody tr th:only-of-type {\n",
              "        vertical-align: middle;\n",
              "    }\n",
              "\n",
              "    .dataframe tbody tr th {\n",
              "        vertical-align: top;\n",
              "    }\n",
              "\n",
              "    .dataframe thead th {\n",
              "        text-align: right;\n",
              "    }\n",
              "</style>\n",
              "<table border=\"1\" class=\"dataframe\">\n",
              "  <thead>\n",
              "    <tr style=\"text-align: right;\">\n",
              "      <th></th>\n",
              "      <th>p_recall</th>\n",
              "      <th>delta_days</th>\n",
              "      <th>half_life</th>\n",
              "      <th>ui_language</th>\n",
              "      <th>lexeme_string</th>\n",
              "      <th>history_seen</th>\n",
              "      <th>history_correct</th>\n",
              "      <th>session_seen</th>\n",
              "      <th>session_correct</th>\n",
              "    </tr>\n",
              "  </thead>\n",
              "  <tbody>\n",
              "    <tr>\n",
              "      <th>87</th>\n",
              "      <td>0.99</td>\n",
              "      <td>0.004132</td>\n",
              "      <td>0.411125</td>\n",
              "      <td>pt</td>\n",
              "      <td>definition/definition&lt;n&gt;&lt;sg&gt;</td>\n",
              "      <td>17</td>\n",
              "      <td>17</td>\n",
              "      <td>2</td>\n",
              "      <td>2</td>\n",
              "    </tr>\n",
              "    <tr>\n",
              "      <th>88</th>\n",
              "      <td>0.99</td>\n",
              "      <td>0.004132</td>\n",
              "      <td>0.411125</td>\n",
              "      <td>pt</td>\n",
              "      <td>surface/surface&lt;n&gt;&lt;sg&gt;</td>\n",
              "      <td>19</td>\n",
              "      <td>19</td>\n",
              "      <td>3</td>\n",
              "      <td>3</td>\n",
              "    </tr>\n",
              "    <tr>\n",
              "      <th>89</th>\n",
              "      <td>0.99</td>\n",
              "      <td>0.004132</td>\n",
              "      <td>0.411125</td>\n",
              "      <td>pt</td>\n",
              "      <td>scale/scale&lt;n&gt;&lt;sg&gt;</td>\n",
              "      <td>21</td>\n",
              "      <td>20</td>\n",
              "      <td>3</td>\n",
              "      <td>3</td>\n",
              "    </tr>\n",
              "    <tr>\n",
              "      <th>90</th>\n",
              "      <td>0.80</td>\n",
              "      <td>0.004132</td>\n",
              "      <td>0.018517</td>\n",
              "      <td>pt</td>\n",
              "      <td>temperature/temperature&lt;n&gt;&lt;sg&gt;</td>\n",
              "      <td>44</td>\n",
              "      <td>36</td>\n",
              "      <td>5</td>\n",
              "      <td>4</td>\n",
              "    </tr>\n",
              "    <tr>\n",
              "      <th>91</th>\n",
              "      <td>0.99</td>\n",
              "      <td>0.004132</td>\n",
              "      <td>0.411125</td>\n",
              "      <td>pt</td>\n",
              "      <td>distance/distance&lt;n&gt;&lt;sg&gt;</td>\n",
              "      <td>21</td>\n",
              "      <td>20</td>\n",
              "      <td>3</td>\n",
              "      <td>3</td>\n",
              "    </tr>\n",
              "  </tbody>\n",
              "</table>\n",
              "</div>\n",
              "      <button class=\"colab-df-convert\" onclick=\"convertToInteractive('df-ec02c4d5-a5d5-4489-9dfc-7ed18eac8355')\"\n",
              "              title=\"Convert this dataframe to an interactive table.\"\n",
              "              style=\"display:none;\">\n",
              "        \n",
              "  <svg xmlns=\"http://www.w3.org/2000/svg\" height=\"24px\"viewBox=\"0 0 24 24\"\n",
              "       width=\"24px\">\n",
              "    <path d=\"M0 0h24v24H0V0z\" fill=\"none\"/>\n",
              "    <path d=\"M18.56 5.44l.94 2.06.94-2.06 2.06-.94-2.06-.94-.94-2.06-.94 2.06-2.06.94zm-11 1L8.5 8.5l.94-2.06 2.06-.94-2.06-.94L8.5 2.5l-.94 2.06-2.06.94zm10 10l.94 2.06.94-2.06 2.06-.94-2.06-.94-.94-2.06-.94 2.06-2.06.94z\"/><path d=\"M17.41 7.96l-1.37-1.37c-.4-.4-.92-.59-1.43-.59-.52 0-1.04.2-1.43.59L10.3 9.45l-7.72 7.72c-.78.78-.78 2.05 0 2.83L4 21.41c.39.39.9.59 1.41.59.51 0 1.02-.2 1.41-.59l7.78-7.78 2.81-2.81c.8-.78.8-2.07 0-2.86zM5.41 20L4 18.59l7.72-7.72 1.47 1.35L5.41 20z\"/>\n",
              "  </svg>\n",
              "      </button>\n",
              "      \n",
              "  <style>\n",
              "    .colab-df-container {\n",
              "      display:flex;\n",
              "      flex-wrap:wrap;\n",
              "      gap: 12px;\n",
              "    }\n",
              "\n",
              "    .colab-df-convert {\n",
              "      background-color: #E8F0FE;\n",
              "      border: none;\n",
              "      border-radius: 50%;\n",
              "      cursor: pointer;\n",
              "      display: none;\n",
              "      fill: #1967D2;\n",
              "      height: 32px;\n",
              "      padding: 0 0 0 0;\n",
              "      width: 32px;\n",
              "    }\n",
              "\n",
              "    .colab-df-convert:hover {\n",
              "      background-color: #E2EBFA;\n",
              "      box-shadow: 0px 1px 2px rgba(60, 64, 67, 0.3), 0px 1px 3px 1px rgba(60, 64, 67, 0.15);\n",
              "      fill: #174EA6;\n",
              "    }\n",
              "\n",
              "    [theme=dark] .colab-df-convert {\n",
              "      background-color: #3B4455;\n",
              "      fill: #D2E3FC;\n",
              "    }\n",
              "\n",
              "    [theme=dark] .colab-df-convert:hover {\n",
              "      background-color: #434B5C;\n",
              "      box-shadow: 0px 1px 3px 1px rgba(0, 0, 0, 0.15);\n",
              "      filter: drop-shadow(0px 1px 2px rgba(0, 0, 0, 0.3));\n",
              "      fill: #FFFFFF;\n",
              "    }\n",
              "  </style>\n",
              "\n",
              "      <script>\n",
              "        const buttonEl =\n",
              "          document.querySelector('#df-ec02c4d5-a5d5-4489-9dfc-7ed18eac8355 button.colab-df-convert');\n",
              "        buttonEl.style.display =\n",
              "          google.colab.kernel.accessAllowed ? 'block' : 'none';\n",
              "\n",
              "        async function convertToInteractive(key) {\n",
              "          const element = document.querySelector('#df-ec02c4d5-a5d5-4489-9dfc-7ed18eac8355');\n",
              "          const dataTable =\n",
              "            await google.colab.kernel.invokeFunction('convertToInteractive',\n",
              "                                                     [key], {});\n",
              "          if (!dataTable) return;\n",
              "\n",
              "          const docLinkHtml = 'Like what you see? Visit the ' +\n",
              "            '<a target=\"_blank\" href=https://colab.research.google.com/notebooks/data_table.ipynb>data table notebook</a>'\n",
              "            + ' to learn more about interactive tables.';\n",
              "          element.innerHTML = '';\n",
              "          dataTable['output_type'] = 'display_data';\n",
              "          await google.colab.output.renderOutput(dataTable, element);\n",
              "          const docLink = document.createElement('div');\n",
              "          docLink.innerHTML = docLinkHtml;\n",
              "          element.appendChild(docLink);\n",
              "        }\n",
              "      </script>\n",
              "    </div>\n",
              "  </div>\n",
              "  "
            ]
          },
          "metadata": {},
          "execution_count": 36
        }
      ]
    },
    {
      "cell_type": "code",
      "metadata": {
        "id": "chsNe6u7N7c6",
        "colab": {
          "base_uri": "https://localhost:8080/",
          "height": 54
        },
        "outputId": "0351870b-c350-4b1f-97d2-601739a1a21e"
      },
      "source": [
        "def correlation_heatmap(train):\n",
        "    correlations = train.corr()\n",
        "\n",
        "    fig, ax = plt.subplots(figsize=(10,10))\n",
        "    sns.heatmap(correlations, vmax=1.0, center=0, fmt='.2f',\n",
        "                square=True, linewidths=.5, annot=True, cbar_kws={\"shrink\": .70})\n",
        "    plt.show();\n",
        "    \n",
        "correlation_heatmap(data2)"
      ],
      "execution_count": 37,
      "outputs": [
        {
          "output_type": "display_data",
          "data": {
            "text/plain": [
              "<Figure size 720x720 with 2 Axes>"
            ],
            "image/png": "[encoded data removed]"
          },
          "metadata": {}
        }
      ]
    },
    {
      "cell_type": "code",
      "metadata": {
        "id": "T6AwAH-KZy63",
        "colab": {
          "base_uri": "https://localhost:8080/"
        },
        "outputId": "4608f3b1-559e-4b82-b9ff-a8962a66bbee"
      },
      "source": [
        "data3 = data2.copy()\n",
        "data3.insert(2, \"log_delta_days\",np.log(data3[\"delta_days\"]), True )\n",
        "data3.insert(5, \"log_history_seen\",np.log(data3[\"history_seen\"]), True )\n",
        "data3.insert(7, \"log_history_correct\",np.log(data3[\"history_correct\"]), True )\n",
        "data3.insert(9, \"log_session_seen\",np.log(data3[\"session_seen\"]), True )\n",
        "data3.insert(11, \"log_session_correct\",np.log(data3[\"session_correct\"]), True )"
      ],
      "execution_count": 38,
      "outputs": [
        {
          "output_type": "stream",
          "name": "stderr",
          "text": [
            "/usr/local/lib/python3.7/dist-packages/pandas/core/arraylike.py:364: RuntimeWarning: divide by zero encountered in log\n",
            "  result = getattr(ufunc, method)(*inputs, **kwargs)\n"
          ]
        }
      ]
    },
    {
      "cell_type": "code",
      "metadata": {
        "id": "pdwURyuJZ4k1"
      },
      "source": [
        "data3 = data3.drop([\"delta_days\",\"history_seen\",\"history_correct\",\"session_seen\"],axis=1)"
      ],
      "execution_count": 39,
      "outputs": []
    },
    {
      "cell_type": "code",
      "metadata": {
        "id": "wEHiduWzvV89",
        "colab": {
          "base_uri": "https://localhost:8080/",
          "height": 270
        },
        "outputId": "5f78c9f2-1178-4e22-c163-0c1f2a53797d"
      },
      "source": [
        "data3.head()"
      ],
      "execution_count": 40,
      "outputs": [
        {
          "output_type": "execute_result",
          "data": {
            "text/plain": [
              "    p_recall  log_delta_days  half_life ui_language  log_history_seen  \\\n",
              "87      0.99       -5.489007   0.411125          pt          2.833213   \n",
              "88      0.99       -5.489007   0.411125          pt          2.944439   \n",
              "89      0.99       -5.489007   0.411125          pt          3.044522   \n",
              "90      0.80       -5.489007   0.018517          pt          3.784190   \n",
              "91      0.99       -5.489007   0.411125          pt          3.044522   \n",
              "\n",
              "                     lexeme_string  log_history_correct  log_session_seen  \\\n",
              "87    definition/definition<n><sg>             2.833213          0.693147   \n",
              "88          surface/surface<n><sg>             2.944439          1.098612   \n",
              "89              scale/scale<n><sg>             2.995732          1.098612   \n",
              "90  temperature/temperature<n><sg>             3.583519          1.609438   \n",
              "91        distance/distance<n><sg>             2.995732          1.098612   \n",
              "\n",
              "    log_session_correct  session_correct  \n",
              "87             0.693147                2  \n",
              "88             1.098612                3  \n",
              "89             1.098612                3  \n",
              "90             1.386294                4  \n",
              "91             1.098612                3  "
            ],
            "text/html": [
              "\n",
              "  <div id=\"df-73449b4c-d0bd-4f89-b98c-5515d155c2b4\">\n",
              "    <div class=\"colab-df-container\">\n",
              "      <div>\n",
              "<style scoped>\n",
              "    .dataframe tbody tr th:only-of-type {\n",
              "        vertical-align: middle;\n",
              "    }\n",
              "\n",
              "    .dataframe tbody tr th {\n",
              "        vertical-align: top;\n",
              "    }\n",
              "\n",
              "    .dataframe thead th {\n",
              "        text-align: right;\n",
              "    }\n",
              "</style>\n",
              "<table border=\"1\" class=\"dataframe\">\n",
              "  <thead>\n",
              "    <tr style=\"text-align: right;\">\n",
              "      <th></th>\n",
              "      <th>p_recall</th>\n",
              "      <th>log_delta_days</th>\n",
              "      <th>half_life</th>\n",
              "      <th>ui_language</th>\n",
              "      <th>log_history_seen</th>\n",
              "      <th>lexeme_string</th>\n",
              "      <th>log_history_correct</th>\n",
              "      <th>log_session_seen</th>\n",
              "      <th>log_session_correct</th>\n",
              "      <th>session_correct</th>\n",
              "    </tr>\n",
              "  </thead>\n",
              "  <tbody>\n",
              "    <tr>\n",
              "      <th>87</th>\n",
              "      <td>0.99</td>\n",
              "      <td>-5.489007</td>\n",
              "      <td>0.411125</td>\n",
              "      <td>pt</td>\n",
              "      <td>2.833213</td>\n",
              "      <td>definition/definition&lt;n&gt;&lt;sg&gt;</td>\n",
              "      <td>2.833213</td>\n",
              "      <td>0.693147</td>\n",
              "      <td>0.693147</td>\n",
              "      <td>2</td>\n",
              "    </tr>\n",
              "    <tr>\n",
              "      <th>88</th>\n",
              "      <td>0.99</td>\n",
              "      <td>-5.489007</td>\n",
              "      <td>0.411125</td>\n",
              "      <td>pt</td>\n",
              "      <td>2.944439</td>\n",
              "      <td>surface/surface&lt;n&gt;&lt;sg&gt;</td>\n",
              "      <td>2.944439</td>\n",
              "      <td>1.098612</td>\n",
              "      <td>1.098612</td>\n",
              "      <td>3</td>\n",
              "    </tr>\n",
              "    <tr>\n",
              "      <th>89</th>\n",
              "      <td>0.99</td>\n",
              "      <td>-5.489007</td>\n",
              "      <td>0.411125</td>\n",
              "      <td>pt</td>\n",
              "      <td>3.044522</td>\n",
              "      <td>scale/scale&lt;n&gt;&lt;sg&gt;</td>\n",
              "      <td>2.995732</td>\n",
              "      <td>1.098612</td>\n",
              "      <td>1.098612</td>\n",
              "      <td>3</td>\n",
              "    </tr>\n",
              "    <tr>\n",
              "      <th>90</th>\n",
              "      <td>0.80</td>\n",
              "      <td>-5.489007</td>\n",
              "      <td>0.018517</td>\n",
              "      <td>pt</td>\n",
              "      <td>3.784190</td>\n",
              "      <td>temperature/temperature&lt;n&gt;&lt;sg&gt;</td>\n",
              "      <td>3.583519</td>\n",
              "      <td>1.609438</td>\n",
              "      <td>1.386294</td>\n",
              "      <td>4</td>\n",
              "    </tr>\n",
              "    <tr>\n",
              "      <th>91</th>\n",
              "      <td>0.99</td>\n",
              "      <td>-5.489007</td>\n",
              "      <td>0.411125</td>\n",
              "      <td>pt</td>\n",
              "      <td>3.044522</td>\n",
              "      <td>distance/distance&lt;n&gt;&lt;sg&gt;</td>\n",
              "      <td>2.995732</td>\n",
              "      <td>1.098612</td>\n",
              "      <td>1.098612</td>\n",
              "      <td>3</td>\n",
              "    </tr>\n",
              "  </tbody>\n",
              "</table>\n",
              "</div>\n",
              "      <button class=\"colab-df-convert\" onclick=\"convertToInteractive('df-73449b4c-d0bd-4f89-b98c-5515d155c2b4')\"\n",
              "              title=\"Convert this dataframe to an interactive table.\"\n",
              "              style=\"display:none;\">\n",
              "        \n",
              "  <svg xmlns=\"http://www.w3.org/2000/svg\" height=\"24px\"viewBox=\"0 0 24 24\"\n",
              "       width=\"24px\">\n",
              "    <path d=\"M0 0h24v24H0V0z\" fill=\"none\"/>\n",
              "    <path d=\"M18.56 5.44l.94 2.06.94-2.06 2.06-.94-2.06-.94-.94-2.06-.94 2.06-2.06.94zm-11 1L8.5 8.5l.94-2.06 2.06-.94-2.06-.94L8.5 2.5l-.94 2.06-2.06.94zm10 10l.94 2.06.94-2.06 2.06-.94-2.06-.94-.94-2.06-.94 2.06-2.06.94z\"/><path d=\"M17.41 7.96l-1.37-1.37c-.4-.4-.92-.59-1.43-.59-.52 0-1.04.2-1.43.59L10.3 9.45l-7.72 7.72c-.78.78-.78 2.05 0 2.83L4 21.41c.39.39.9.59 1.41.59.51 0 1.02-.2 1.41-.59l7.78-7.78 2.81-2.81c.8-.78.8-2.07 0-2.86zM5.41 20L4 18.59l7.72-7.72 1.47 1.35L5.41 20z\"/>\n",
              "  </svg>\n",
              "      </button>\n",
              "      \n",
              "  <style>\n",
              "    .colab-df-container {\n",
              "      display:flex;\n",
              "      flex-wrap:wrap;\n",
              "      gap: 12px;\n",
              "    }\n",
              "\n",
              "    .colab-df-convert {\n",
              "      background-color: #E8F0FE;\n",
              "      border: none;\n",
              "      border-radius: 50%;\n",
              "      cursor: pointer;\n",
              "      display: none;\n",
              "      fill: #1967D2;\n",
              "      height: 32px;\n",
              "      padding: 0 0 0 0;\n",
              "      width: 32px;\n",
              "    }\n",
              "\n",
              "    .colab-df-convert:hover {\n",
              "      background-color: #E2EBFA;\n",
              "      box-shadow: 0px 1px 2px rgba(60, 64, 67, 0.3), 0px 1px 3px 1px rgba(60, 64, 67, 0.15);\n",
              "      fill: #174EA6;\n",
              "    }\n",
              "\n",
              "    [theme=dark] .colab-df-convert {\n",
              "      background-color: #3B4455;\n",
              "      fill: #D2E3FC;\n",
              "    }\n",
              "\n",
              "    [theme=dark] .colab-df-convert:hover {\n",
              "      background-color: #434B5C;\n",
              "      box-shadow: 0px 1px 3px 1px rgba(0, 0, 0, 0.15);\n",
              "      filter: drop-shadow(0px 1px 2px rgba(0, 0, 0, 0.3));\n",
              "      fill: #FFFFFF;\n",
              "    }\n",
              "  </style>\n",
              "\n",
              "      <script>\n",
              "        const buttonEl =\n",
              "          document.querySelector('#df-73449b4c-d0bd-4f89-b98c-5515d155c2b4 button.colab-df-convert');\n",
              "        buttonEl.style.display =\n",
              "          google.colab.kernel.accessAllowed ? 'block' : 'none';\n",
              "\n",
              "        async function convertToInteractive(key) {\n",
              "          const element = document.querySelector('#df-73449b4c-d0bd-4f89-b98c-5515d155c2b4');\n",
              "          const dataTable =\n",
              "            await google.colab.kernel.invokeFunction('convertToInteractive',\n",
              "                                                     [key], {});\n",
              "          if (!dataTable) return;\n",
              "\n",
              "          const docLinkHtml = 'Like what you see? Visit the ' +\n",
              "            '<a target=\"_blank\" href=https://colab.research.google.com/notebooks/data_table.ipynb>data table notebook</a>'\n",
              "            + ' to learn more about interactive tables.';\n",
              "          element.innerHTML = '';\n",
              "          dataTable['output_type'] = 'display_data';\n",
              "          await google.colab.output.renderOutput(dataTable, element);\n",
              "          const docLink = document.createElement('div');\n",
              "          docLink.innerHTML = docLinkHtml;\n",
              "          element.appendChild(docLink);\n",
              "        }\n",
              "      </script>\n",
              "    </div>\n",
              "  </div>\n",
              "  "
            ]
          },
          "metadata": {},
          "execution_count": 40
        }
      ]
    },
    {
      "cell_type": "code",
      "metadata": {
        "id": "3eiJr2yeaNVY",
        "colab": {
          "base_uri": "https://localhost:8080/",
          "height": 54
        },
        "outputId": "4a73bbd7-72a7-44c6-8772-cfecd16e4272"
      },
      "source": [
        "correlation_heatmap(data3)"
      ],
      "execution_count": 41,
      "outputs": [
        {
          "output_type": "display_data",
          "data": {
            "text/plain": [
              "<Figure size 720x720 with 2 Axes>"
            ],
            "image/png": "[encoded data removed]"
          },
          "metadata": {}
        }
      ]
    },
    {
      "cell_type": "markdown",
      "metadata": {
        "id": "n8mGe_POVvaC"
      },
      "source": [
        "### split"
      ]
    },
    {
      "cell_type": "markdown",
      "metadata": {
        "id": "y7CfEHY8VukZ"
      },
      "source": [
        ""
      ]
    },
    {
      "cell_type": "code",
      "metadata": {
        "id": "sKVitR5nayPR",
        "colab": {
          "base_uri": "https://localhost:8080/",
          "height": 206
        },
        "outputId": "12fc3cc3-bc0c-4f49-8540-e0cfc0986e2d"
      },
      "source": [
        "data2.head()"
      ],
      "execution_count": 42,
      "outputs": [
        {
          "output_type": "execute_result",
          "data": {
            "text/plain": [
              "    p_recall  delta_days  half_life ui_language  \\\n",
              "87      0.99    0.004132   0.411125          pt   \n",
              "88      0.99    0.004132   0.411125          pt   \n",
              "89      0.99    0.004132   0.411125          pt   \n",
              "90      0.80    0.004132   0.018517          pt   \n",
              "91      0.99    0.004132   0.411125          pt   \n",
              "\n",
              "                     lexeme_string  history_seen  history_correct  \\\n",
              "87    definition/definition<n><sg>            17               17   \n",
              "88          surface/surface<n><sg>            19               19   \n",
              "89              scale/scale<n><sg>            21               20   \n",
              "90  temperature/temperature<n><sg>            44               36   \n",
              "91        distance/distance<n><sg>            21               20   \n",
              "\n",
              "    session_seen  session_correct  \n",
              "87             2                2  \n",
              "88             3                3  \n",
              "89             3                3  \n",
              "90             5                4  \n",
              "91             3                3  "
            ],
            "text/html": [
              "\n",
              "  <div id=\"df-4210ebdf-3523-48fe-8b3b-40a36bf60948\">\n",
              "    <div class=\"colab-df-container\">\n",
              "      <div>\n",
              "<style scoped>\n",
              "    .dataframe tbody tr th:only-of-type {\n",
              "        vertical-align: middle;\n",
              "    }\n",
              "\n",
              "    .dataframe tbody tr th {\n",
              "        vertical-align: top;\n",
              "    }\n",
              "\n",
              "    .dataframe thead th {\n",
              "        text-align: right;\n",
              "    }\n",
              "</style>\n",
              "<table border=\"1\" class=\"dataframe\">\n",
              "  <thead>\n",
              "    <tr style=\"text-align: right;\">\n",
              "      <th></th>\n",
              "      <th>p_recall</th>\n",
              "      <th>delta_days</th>\n",
              "      <th>half_life</th>\n",
              "      <th>ui_language</th>\n",
              "      <th>lexeme_string</th>\n",
              "      <th>history_seen</th>\n",
              "      <th>history_correct</th>\n",
              "      <th>session_seen</th>\n",
              "      <th>session_correct</th>\n",
              "    </tr>\n",
              "  </thead>\n",
              "  <tbody>\n",
              "    <tr>\n",
              "      <th>87</th>\n",
              "      <td>0.99</td>\n",
              "      <td>0.004132</td>\n",
              "      <td>0.411125</td>\n",
              "      <td>pt</td>\n",
              "      <td>definition/definition&lt;n&gt;&lt;sg&gt;</td>\n",
              "      <td>17</td>\n",
              "      <td>17</td>\n",
              "      <td>2</td>\n",
              "      <td>2</td>\n",
              "    </tr>\n",
              "    <tr>\n",
              "      <th>88</th>\n",
              "      <td>0.99</td>\n",
              "      <td>0.004132</td>\n",
              "      <td>0.411125</td>\n",
              "      <td>pt</td>\n",
              "      <td>surface/surface&lt;n&gt;&lt;sg&gt;</td>\n",
              "      <td>19</td>\n",
              "      <td>19</td>\n",
              "      <td>3</td>\n",
              "      <td>3</td>\n",
              "    </tr>\n",
              "    <tr>\n",
              "      <th>89</th>\n",
              "      <td>0.99</td>\n",
              "      <td>0.004132</td>\n",
              "      <td>0.411125</td>\n",
              "      <td>pt</td>\n",
              "      <td>scale/scale&lt;n&gt;&lt;sg&gt;</td>\n",
              "      <td>21</td>\n",
              "      <td>20</td>\n",
              "      <td>3</td>\n",
              "      <td>3</td>\n",
              "    </tr>\n",
              "    <tr>\n",
              "      <th>90</th>\n",
              "      <td>0.80</td>\n",
              "      <td>0.004132</td>\n",
              "      <td>0.018517</td>\n",
              "      <td>pt</td>\n",
              "      <td>temperature/temperature&lt;n&gt;&lt;sg&gt;</td>\n",
              "      <td>44</td>\n",
              "      <td>36</td>\n",
              "      <td>5</td>\n",
              "      <td>4</td>\n",
              "    </tr>\n",
              "    <tr>\n",
              "      <th>91</th>\n",
              "      <td>0.99</td>\n",
              "      <td>0.004132</td>\n",
              "      <td>0.411125</td>\n",
              "      <td>pt</td>\n",
              "      <td>distance/distance&lt;n&gt;&lt;sg&gt;</td>\n",
              "      <td>21</td>\n",
              "      <td>20</td>\n",
              "      <td>3</td>\n",
              "      <td>3</td>\n",
              "    </tr>\n",
              "  </tbody>\n",
              "</table>\n",
              "</div>\n",
              "      <button class=\"colab-df-convert\" onclick=\"convertToInteractive('df-4210ebdf-3523-48fe-8b3b-40a36bf60948')\"\n",
              "              title=\"Convert this dataframe to an interactive table.\"\n",
              "              style=\"display:none;\">\n",
              "        \n",
              "  <svg xmlns=\"http://www.w3.org/2000/svg\" height=\"24px\"viewBox=\"0 0 24 24\"\n",
              "       width=\"24px\">\n",
              "    <path d=\"M0 0h24v24H0V0z\" fill=\"none\"/>\n",
              "    <path d=\"M18.56 5.44l.94 2.06.94-2.06 2.06-.94-2.06-.94-.94-2.06-.94 2.06-2.06.94zm-11 1L8.5 8.5l.94-2.06 2.06-.94-2.06-.94L8.5 2.5l-.94 2.06-2.06.94zm10 10l.94 2.06.94-2.06 2.06-.94-2.06-.94-.94-2.06-.94 2.06-2.06.94z\"/><path d=\"M17.41 7.96l-1.37-1.37c-.4-.4-.92-.59-1.43-.59-.52 0-1.04.2-1.43.59L10.3 9.45l-7.72 7.72c-.78.78-.78 2.05 0 2.83L4 21.41c.39.39.9.59 1.41.59.51 0 1.02-.2 1.41-.59l7.78-7.78 2.81-2.81c.8-.78.8-2.07 0-2.86zM5.41 20L4 18.59l7.72-7.72 1.47 1.35L5.41 20z\"/>\n",
              "  </svg>\n",
              "      </button>\n",
              "      \n",
              "  <style>\n",
              "    .colab-df-container {\n",
              "      display:flex;\n",
              "      flex-wrap:wrap;\n",
              "      gap: 12px;\n",
              "    }\n",
              "\n",
              "    .colab-df-convert {\n",
              "      background-color: #E8F0FE;\n",
              "      border: none;\n",
              "      border-radius: 50%;\n",
              "      cursor: pointer;\n",
              "      display: none;\n",
              "      fill: #1967D2;\n",
              "      height: 32px;\n",
              "      padding: 0 0 0 0;\n",
              "      width: 32px;\n",
              "    }\n",
              "\n",
              "    .colab-df-convert:hover {\n",
              "      background-color: #E2EBFA;\n",
              "      box-shadow: 0px 1px 2px rgba(60, 64, 67, 0.3), 0px 1px 3px 1px rgba(60, 64, 67, 0.15);\n",
              "      fill: #174EA6;\n",
              "    }\n",
              "\n",
              "    [theme=dark] .colab-df-convert {\n",
              "      background-color: #3B4455;\n",
              "      fill: #D2E3FC;\n",
              "    }\n",
              "\n",
              "    [theme=dark] .colab-df-convert:hover {\n",
              "      background-color: #434B5C;\n",
              "      box-shadow: 0px 1px 3px 1px rgba(0, 0, 0, 0.15);\n",
              "      filter: drop-shadow(0px 1px 2px rgba(0, 0, 0, 0.3));\n",
              "      fill: #FFFFFF;\n",
              "    }\n",
              "  </style>\n",
              "\n",
              "      <script>\n",
              "        const buttonEl =\n",
              "          document.querySelector('#df-4210ebdf-3523-48fe-8b3b-40a36bf60948 button.colab-df-convert');\n",
              "        buttonEl.style.display =\n",
              "          google.colab.kernel.accessAllowed ? 'block' : 'none';\n",
              "\n",
              "        async function convertToInteractive(key) {\n",
              "          const element = document.querySelector('#df-4210ebdf-3523-48fe-8b3b-40a36bf60948');\n",
              "          const dataTable =\n",
              "            await google.colab.kernel.invokeFunction('convertToInteractive',\n",
              "                                                     [key], {});\n",
              "          if (!dataTable) return;\n",
              "\n",
              "          const docLinkHtml = 'Like what you see? Visit the ' +\n",
              "            '<a target=\"_blank\" href=https://colab.research.google.com/notebooks/data_table.ipynb>data table notebook</a>'\n",
              "            + ' to learn more about interactive tables.';\n",
              "          element.innerHTML = '';\n",
              "          dataTable['output_type'] = 'display_data';\n",
              "          await google.colab.output.renderOutput(dataTable, element);\n",
              "          const docLink = document.createElement('div');\n",
              "          docLink.innerHTML = docLinkHtml;\n",
              "          element.appendChild(docLink);\n",
              "        }\n",
              "      </script>\n",
              "    </div>\n",
              "  </div>\n",
              "  "
            ]
          },
          "metadata": {},
          "execution_count": 42
        }
      ]
    },
    {
      "cell_type": "code",
      "metadata": {
        "id": "sPD-X04VFoOR"
      },
      "source": [
        "y = data2[[\"p_recall\", \"half_life\"]]\n",
        "x = data2.drop([\"p_recall\",\"half_life\"], axis=1)"
      ],
      "execution_count": 43,
      "outputs": []
    },
    {
      "cell_type": "code",
      "metadata": {
        "id": "fq_RLjSAVVum",
        "colab": {
          "base_uri": "https://localhost:8080/",
          "height": 206
        },
        "outputId": "a763811d-6bd1-413f-f434-9694f57c5a34"
      },
      "source": [
        "y.head()"
      ],
      "execution_count": 44,
      "outputs": [
        {
          "output_type": "execute_result",
          "data": {
            "text/plain": [
              "    p_recall  half_life\n",
              "87      0.99   0.411125\n",
              "88      0.99   0.411125\n",
              "89      0.99   0.411125\n",
              "90      0.80   0.018517\n",
              "91      0.99   0.411125"
            ],
            "text/html": [
              "\n",
              "  <div id=\"df-b8ca792b-8837-49fd-bc1a-2825c4f4c0fd\">\n",
              "    <div class=\"colab-df-container\">\n",
              "      <div>\n",
              "<style scoped>\n",
              "    .dataframe tbody tr th:only-of-type {\n",
              "        vertical-align: middle;\n",
              "    }\n",
              "\n",
              "    .dataframe tbody tr th {\n",
              "        vertical-align: top;\n",
              "    }\n",
              "\n",
              "    .dataframe thead th {\n",
              "        text-align: right;\n",
              "    }\n",
              "</style>\n",
              "<table border=\"1\" class=\"dataframe\">\n",
              "  <thead>\n",
              "    <tr style=\"text-align: right;\">\n",
              "      <th></th>\n",
              "      <th>p_recall</th>\n",
              "      <th>half_life</th>\n",
              "    </tr>\n",
              "  </thead>\n",
              "  <tbody>\n",
              "    <tr>\n",
              "      <th>87</th>\n",
              "      <td>0.99</td>\n",
              "      <td>0.411125</td>\n",
              "    </tr>\n",
              "    <tr>\n",
              "      <th>88</th>\n",
              "      <td>0.99</td>\n",
              "      <td>0.411125</td>\n",
              "    </tr>\n",
              "    <tr>\n",
              "      <th>89</th>\n",
              "      <td>0.99</td>\n",
              "      <td>0.411125</td>\n",
              "    </tr>\n",
              "    <tr>\n",
              "      <th>90</th>\n",
              "      <td>0.80</td>\n",
              "      <td>0.018517</td>\n",
              "    </tr>\n",
              "    <tr>\n",
              "      <th>91</th>\n",
              "      <td>0.99</td>\n",
              "      <td>0.411125</td>\n",
              "    </tr>\n",
              "  </tbody>\n",
              "</table>\n",
              "</div>\n",
              "      <button class=\"colab-df-convert\" onclick=\"convertToInteractive('df-b8ca792b-8837-49fd-bc1a-2825c4f4c0fd')\"\n",
              "              title=\"Convert this dataframe to an interactive table.\"\n",
              "              style=\"display:none;\">\n",
              "        \n",
              "  <svg xmlns=\"http://www.w3.org/2000/svg\" height=\"24px\"viewBox=\"0 0 24 24\"\n",
              "       width=\"24px\">\n",
              "    <path d=\"M0 0h24v24H0V0z\" fill=\"none\"/>\n",
              "    <path d=\"M18.56 5.44l.94 2.06.94-2.06 2.06-.94-2.06-.94-.94-2.06-.94 2.06-2.06.94zm-11 1L8.5 8.5l.94-2.06 2.06-.94-2.06-.94L8.5 2.5l-.94 2.06-2.06.94zm10 10l.94 2.06.94-2.06 2.06-.94-2.06-.94-.94-2.06-.94 2.06-2.06.94z\"/><path d=\"M17.41 7.96l-1.37-1.37c-.4-.4-.92-.59-1.43-.59-.52 0-1.04.2-1.43.59L10.3 9.45l-7.72 7.72c-.78.78-.78 2.05 0 2.83L4 21.41c.39.39.9.59 1.41.59.51 0 1.02-.2 1.41-.59l7.78-7.78 2.81-2.81c.8-.78.8-2.07 0-2.86zM5.41 20L4 18.59l7.72-7.72 1.47 1.35L5.41 20z\"/>\n",
              "  </svg>\n",
              "      </button>\n",
              "      \n",
              "  <style>\n",
              "    .colab-df-container {\n",
              "      display:flex;\n",
              "      flex-wrap:wrap;\n",
              "      gap: 12px;\n",
              "    }\n",
              "\n",
              "    .colab-df-convert {\n",
              "      background-color: #E8F0FE;\n",
              "      border: none;\n",
              "      border-radius: 50%;\n",
              "      cursor: pointer;\n",
              "      display: none;\n",
              "      fill: #1967D2;\n",
              "      height: 32px;\n",
              "      padding: 0 0 0 0;\n",
              "      width: 32px;\n",
              "    }\n",
              "\n",
              "    .colab-df-convert:hover {\n",
              "      background-color: #E2EBFA;\n",
              "      box-shadow: 0px 1px 2px rgba(60, 64, 67, 0.3), 0px 1px 3px 1px rgba(60, 64, 67, 0.15);\n",
              "      fill: #174EA6;\n",
              "    }\n",
              "\n",
              "    [theme=dark] .colab-df-convert {\n",
              "      background-color: #3B4455;\n",
              "      fill: #D2E3FC;\n",
              "    }\n",
              "\n",
              "    [theme=dark] .colab-df-convert:hover {\n",
              "      background-color: #434B5C;\n",
              "      box-shadow: 0px 1px 3px 1px rgba(0, 0, 0, 0.15);\n",
              "      filter: drop-shadow(0px 1px 2px rgba(0, 0, 0, 0.3));\n",
              "      fill: #FFFFFF;\n",
              "    }\n",
              "  </style>\n",
              "\n",
              "      <script>\n",
              "        const buttonEl =\n",
              "          document.querySelector('#df-b8ca792b-8837-49fd-bc1a-2825c4f4c0fd button.colab-df-convert');\n",
              "        buttonEl.style.display =\n",
              "          google.colab.kernel.accessAllowed ? 'block' : 'none';\n",
              "\n",
              "        async function convertToInteractive(key) {\n",
              "          const element = document.querySelector('#df-b8ca792b-8837-49fd-bc1a-2825c4f4c0fd');\n",
              "          const dataTable =\n",
              "            await google.colab.kernel.invokeFunction('convertToInteractive',\n",
              "                                                     [key], {});\n",
              "          if (!dataTable) return;\n",
              "\n",
              "          const docLinkHtml = 'Like what you see? Visit the ' +\n",
              "            '<a target=\"_blank\" href=https://colab.research.google.com/notebooks/data_table.ipynb>data table notebook</a>'\n",
              "            + ' to learn more about interactive tables.';\n",
              "          element.innerHTML = '';\n",
              "          dataTable['output_type'] = 'display_data';\n",
              "          await google.colab.output.renderOutput(dataTable, element);\n",
              "          const docLink = document.createElement('div');\n",
              "          docLink.innerHTML = docLinkHtml;\n",
              "          element.appendChild(docLink);\n",
              "        }\n",
              "      </script>\n",
              "    </div>\n",
              "  </div>\n",
              "  "
            ]
          },
          "metadata": {},
          "execution_count": 44
        }
      ]
    },
    {
      "cell_type": "code",
      "metadata": {
        "id": "PoFkV-6WVXSk",
        "colab": {
          "base_uri": "https://localhost:8080/",
          "height": 206
        },
        "outputId": "174ed6c6-cfab-40fe-ca74-ebcecd4b4217"
      },
      "source": [
        "x.head()"
      ],
      "execution_count": 45,
      "outputs": [
        {
          "output_type": "execute_result",
          "data": {
            "text/plain": [
              "    delta_days ui_language                   lexeme_string  history_seen  \\\n",
              "87    0.004132          pt    definition/definition<n><sg>            17   \n",
              "88    0.004132          pt          surface/surface<n><sg>            19   \n",
              "89    0.004132          pt              scale/scale<n><sg>            21   \n",
              "90    0.004132          pt  temperature/temperature<n><sg>            44   \n",
              "91    0.004132          pt        distance/distance<n><sg>            21   \n",
              "\n",
              "    history_correct  session_seen  session_correct  \n",
              "87               17             2                2  \n",
              "88               19             3                3  \n",
              "89               20             3                3  \n",
              "90               36             5                4  \n",
              "91               20             3                3  "
            ],
            "text/html": [
              "\n",
              "  <div id=\"df-2462c8e2-2707-4deb-8d14-2bd14bbea9f9\">\n",
              "    <div class=\"colab-df-container\">\n",
              "      <div>\n",
              "<style scoped>\n",
              "    .dataframe tbody tr th:only-of-type {\n",
              "        vertical-align: middle;\n",
              "    }\n",
              "\n",
              "    .dataframe tbody tr th {\n",
              "        vertical-align: top;\n",
              "    }\n",
              "\n",
              "    .dataframe thead th {\n",
              "        text-align: right;\n",
              "    }\n",
              "</style>\n",
              "<table border=\"1\" class=\"dataframe\">\n",
              "  <thead>\n",
              "    <tr style=\"text-align: right;\">\n",
              "      <th></th>\n",
              "      <th>delta_days</th>\n",
              "      <th>ui_language</th>\n",
              "      <th>lexeme_string</th>\n",
              "      <th>history_seen</th>\n",
              "      <th>history_correct</th>\n",
              "      <th>session_seen</th>\n",
              "      <th>session_correct</th>\n",
              "    </tr>\n",
              "  </thead>\n",
              "  <tbody>\n",
              "    <tr>\n",
              "      <th>87</th>\n",
              "      <td>0.004132</td>\n",
              "      <td>pt</td>\n",
              "      <td>definition/definition&lt;n&gt;&lt;sg&gt;</td>\n",
              "      <td>17</td>\n",
              "      <td>17</td>\n",
              "      <td>2</td>\n",
              "      <td>2</td>\n",
              "    </tr>\n",
              "    <tr>\n",
              "      <th>88</th>\n",
              "      <td>0.004132</td>\n",
              "      <td>pt</td>\n",
              "      <td>surface/surface&lt;n&gt;&lt;sg&gt;</td>\n",
              "      <td>19</td>\n",
              "      <td>19</td>\n",
              "      <td>3</td>\n",
              "      <td>3</td>\n",
              "    </tr>\n",
              "    <tr>\n",
              "      <th>89</th>\n",
              "      <td>0.004132</td>\n",
              "      <td>pt</td>\n",
              "      <td>scale/scale&lt;n&gt;&lt;sg&gt;</td>\n",
              "      <td>21</td>\n",
              "      <td>20</td>\n",
              "      <td>3</td>\n",
              "      <td>3</td>\n",
              "    </tr>\n",
              "    <tr>\n",
              "      <th>90</th>\n",
              "      <td>0.004132</td>\n",
              "      <td>pt</td>\n",
              "      <td>temperature/temperature&lt;n&gt;&lt;sg&gt;</td>\n",
              "      <td>44</td>\n",
              "      <td>36</td>\n",
              "      <td>5</td>\n",
              "      <td>4</td>\n",
              "    </tr>\n",
              "    <tr>\n",
              "      <th>91</th>\n",
              "      <td>0.004132</td>\n",
              "      <td>pt</td>\n",
              "      <td>distance/distance&lt;n&gt;&lt;sg&gt;</td>\n",
              "      <td>21</td>\n",
              "      <td>20</td>\n",
              "      <td>3</td>\n",
              "      <td>3</td>\n",
              "    </tr>\n",
              "  </tbody>\n",
              "</table>\n",
              "</div>\n",
              "      <button class=\"colab-df-convert\" onclick=\"convertToInteractive('df-2462c8e2-2707-4deb-8d14-2bd14bbea9f9')\"\n",
              "              title=\"Convert this dataframe to an interactive table.\"\n",
              "              style=\"display:none;\">\n",
              "        \n",
              "  <svg xmlns=\"http://www.w3.org/2000/svg\" height=\"24px\"viewBox=\"0 0 24 24\"\n",
              "       width=\"24px\">\n",
              "    <path d=\"M0 0h24v24H0V0z\" fill=\"none\"/>\n",
              "    <path d=\"M18.56 5.44l.94 2.06.94-2.06 2.06-.94-2.06-.94-.94-2.06-.94 2.06-2.06.94zm-11 1L8.5 8.5l.94-2.06 2.06-.94-2.06-.94L8.5 2.5l-.94 2.06-2.06.94zm10 10l.94 2.06.94-2.06 2.06-.94-2.06-.94-.94-2.06-.94 2.06-2.06.94z\"/><path d=\"M17.41 7.96l-1.37-1.37c-.4-.4-.92-.59-1.43-.59-.52 0-1.04.2-1.43.59L10.3 9.45l-7.72 7.72c-.78.78-.78 2.05 0 2.83L4 21.41c.39.39.9.59 1.41.59.51 0 1.02-.2 1.41-.59l7.78-7.78 2.81-2.81c.8-.78.8-2.07 0-2.86zM5.41 20L4 18.59l7.72-7.72 1.47 1.35L5.41 20z\"/>\n",
              "  </svg>\n",
              "      </button>\n",
              "      \n",
              "  <style>\n",
              "    .colab-df-container {\n",
              "      display:flex;\n",
              "      flex-wrap:wrap;\n",
              "      gap: 12px;\n",
              "    }\n",
              "\n",
              "    .colab-df-convert {\n",
              "      background-color: #E8F0FE;\n",
              "      border: none;\n",
              "      border-radius: 50%;\n",
              "      cursor: pointer;\n",
              "      display: none;\n",
              "      fill: #1967D2;\n",
              "      height: 32px;\n",
              "      padding: 0 0 0 0;\n",
              "      width: 32px;\n",
              "    }\n",
              "\n",
              "    .colab-df-convert:hover {\n",
              "      background-color: #E2EBFA;\n",
              "      box-shadow: 0px 1px 2px rgba(60, 64, 67, 0.3), 0px 1px 3px 1px rgba(60, 64, 67, 0.15);\n",
              "      fill: #174EA6;\n",
              "    }\n",
              "\n",
              "    [theme=dark] .colab-df-convert {\n",
              "      background-color: #3B4455;\n",
              "      fill: #D2E3FC;\n",
              "    }\n",
              "\n",
              "    [theme=dark] .colab-df-convert:hover {\n",
              "      background-color: #434B5C;\n",
              "      box-shadow: 0px 1px 3px 1px rgba(0, 0, 0, 0.15);\n",
              "      filter: drop-shadow(0px 1px 2px rgba(0, 0, 0, 0.3));\n",
              "      fill: #FFFFFF;\n",
              "    }\n",
              "  </style>\n",
              "\n",
              "      <script>\n",
              "        const buttonEl =\n",
              "          document.querySelector('#df-2462c8e2-2707-4deb-8d14-2bd14bbea9f9 button.colab-df-convert');\n",
              "        buttonEl.style.display =\n",
              "          google.colab.kernel.accessAllowed ? 'block' : 'none';\n",
              "\n",
              "        async function convertToInteractive(key) {\n",
              "          const element = document.querySelector('#df-2462c8e2-2707-4deb-8d14-2bd14bbea9f9');\n",
              "          const dataTable =\n",
              "            await google.colab.kernel.invokeFunction('convertToInteractive',\n",
              "                                                     [key], {});\n",
              "          if (!dataTable) return;\n",
              "\n",
              "          const docLinkHtml = 'Like what you see? Visit the ' +\n",
              "            '<a target=\"_blank\" href=https://colab.research.google.com/notebooks/data_table.ipynb>data table notebook</a>'\n",
              "            + ' to learn more about interactive tables.';\n",
              "          element.innerHTML = '';\n",
              "          dataTable['output_type'] = 'display_data';\n",
              "          await google.colab.output.renderOutput(dataTable, element);\n",
              "          const docLink = document.createElement('div');\n",
              "          docLink.innerHTML = docLinkHtml;\n",
              "          element.appendChild(docLink);\n",
              "        }\n",
              "      </script>\n",
              "    </div>\n",
              "  </div>\n",
              "  "
            ]
          },
          "metadata": {},
          "execution_count": 45
        }
      ]
    },
    {
      "cell_type": "code",
      "metadata": {
        "id": "7Ko0ISvbFq8A"
      },
      "source": [
        "x_train, x_test, y_train, y_test = train_test_split(x, \n",
        "                                                    y, \n",
        "                                                    test_size = 0.25, \n",
        "                                                    random_state=1)"
      ],
      "execution_count": 46,
      "outputs": []
    },
    {
      "cell_type": "code",
      "metadata": {
        "id": "fiRUedrYFuCP",
        "colab": {
          "base_uri": "https://localhost:8080/"
        },
        "outputId": "b9f7ebb0-0ee3-42fa-d009-b3b54750c6f2"
      },
      "source": [
        "print(x_train.shape, y_train.shape)\n",
        "print(x_test.shape,  y_test.shape)"
      ],
      "execution_count": 47,
      "outputs": [
        {
          "output_type": "stream",
          "name": "stdout",
          "text": [
            "(3724731, 7) (3724731, 2)\n",
            "(1241577, 7) (1241577, 2)\n"
          ]
        }
      ]
    },
    {
      "cell_type": "code",
      "metadata": {
        "id": "GeBKaAKjxkuc",
        "colab": {
          "base_uri": "https://localhost:8080/",
          "height": 206
        },
        "outputId": "d8b7fcc9-ddf6-4833-a5db-43d406ce4044"
      },
      "source": [
        "x_train.head()"
      ],
      "execution_count": 48,
      "outputs": [
        {
          "output_type": "execute_result",
          "data": {
            "text/plain": [
              "          delta_days ui_language                 lexeme_string  history_seen  \\\n",
              "5209146     1.930012          es            horse/horse<n><sg>            10   \n",
              "12391706    0.129097          es      drink/drink<vblex><pres>            49   \n",
              "8938738     0.037095          es  motorcycle/motorcycle<n><sg>            38   \n",
              "5457519     0.983241          pt          dinner/dinner<n><sg>             4   \n",
              "10650847    3.848681          es              crab/crab<n><sg>             2   \n",
              "\n",
              "          history_correct  session_seen  session_correct  \n",
              "5209146                 9             1                0  \n",
              "12391706               45             2                2  \n",
              "8938738                34             1                1  \n",
              "5457519                 3             1                1  \n",
              "10650847                1             3                3  "
            ],
            "text/html": [
              "\n",
              "  <div id=\"df-9c403b89-ed96-46cc-861d-e397bfe55543\">\n",
              "    <div class=\"colab-df-container\">\n",
              "      <div>\n",
              "<style scoped>\n",
              "    .dataframe tbody tr th:only-of-type {\n",
              "        vertical-align: middle;\n",
              "    }\n",
              "\n",
              "    .dataframe tbody tr th {\n",
              "        vertical-align: top;\n",
              "    }\n",
              "\n",
              "    .dataframe thead th {\n",
              "        text-align: right;\n",
              "    }\n",
              "</style>\n",
              "<table border=\"1\" class=\"dataframe\">\n",
              "  <thead>\n",
              "    <tr style=\"text-align: right;\">\n",
              "      <th></th>\n",
              "      <th>delta_days</th>\n",
              "      <th>ui_language</th>\n",
              "      <th>lexeme_string</th>\n",
              "      <th>history_seen</th>\n",
              "      <th>history_correct</th>\n",
              "      <th>session_seen</th>\n",
              "      <th>session_correct</th>\n",
              "    </tr>\n",
              "  </thead>\n",
              "  <tbody>\n",
              "    <tr>\n",
              "      <th>5209146</th>\n",
              "      <td>1.930012</td>\n",
              "      <td>es</td>\n",
              "      <td>horse/horse&lt;n&gt;&lt;sg&gt;</td>\n",
              "      <td>10</td>\n",
              "      <td>9</td>\n",
              "      <td>1</td>\n",
              "      <td>0</td>\n",
              "    </tr>\n",
              "    <tr>\n",
              "      <th>12391706</th>\n",
              "      <td>0.129097</td>\n",
              "      <td>es</td>\n",
              "      <td>drink/drink&lt;vblex&gt;&lt;pres&gt;</td>\n",
              "      <td>49</td>\n",
              "      <td>45</td>\n",
              "      <td>2</td>\n",
              "      <td>2</td>\n",
              "    </tr>\n",
              "    <tr>\n",
              "      <th>8938738</th>\n",
              "      <td>0.037095</td>\n",
              "      <td>es</td>\n",
              "      <td>motorcycle/motorcycle&lt;n&gt;&lt;sg&gt;</td>\n",
              "      <td>38</td>\n",
              "      <td>34</td>\n",
              "      <td>1</td>\n",
              "      <td>1</td>\n",
              "    </tr>\n",
              "    <tr>\n",
              "      <th>5457519</th>\n",
              "      <td>0.983241</td>\n",
              "      <td>pt</td>\n",
              "      <td>dinner/dinner&lt;n&gt;&lt;sg&gt;</td>\n",
              "      <td>4</td>\n",
              "      <td>3</td>\n",
              "      <td>1</td>\n",
              "      <td>1</td>\n",
              "    </tr>\n",
              "    <tr>\n",
              "      <th>10650847</th>\n",
              "      <td>3.848681</td>\n",
              "      <td>es</td>\n",
              "      <td>crab/crab&lt;n&gt;&lt;sg&gt;</td>\n",
              "      <td>2</td>\n",
              "      <td>1</td>\n",
              "      <td>3</td>\n",
              "      <td>3</td>\n",
              "    </tr>\n",
              "  </tbody>\n",
              "</table>\n",
              "</div>\n",
              "      <button class=\"colab-df-convert\" onclick=\"convertToInteractive('df-9c403b89-ed96-46cc-861d-e397bfe55543')\"\n",
              "              title=\"Convert this dataframe to an interactive table.\"\n",
              "              style=\"display:none;\">\n",
              "        \n",
              "  <svg xmlns=\"http://www.w3.org/2000/svg\" height=\"24px\"viewBox=\"0 0 24 24\"\n",
              "       width=\"24px\">\n",
              "    <path d=\"M0 0h24v24H0V0z\" fill=\"none\"/>\n",
              "    <path d=\"M18.56 5.44l.94 2.06.94-2.06 2.06-.94-2.06-.94-.94-2.06-.94 2.06-2.06.94zm-11 1L8.5 8.5l.94-2.06 2.06-.94-2.06-.94L8.5 2.5l-.94 2.06-2.06.94zm10 10l.94 2.06.94-2.06 2.06-.94-2.06-.94-.94-2.06-.94 2.06-2.06.94z\"/><path d=\"M17.41 7.96l-1.37-1.37c-.4-.4-.92-.59-1.43-.59-.52 0-1.04.2-1.43.59L10.3 9.45l-7.72 7.72c-.78.78-.78 2.05 0 2.83L4 21.41c.39.39.9.59 1.41.59.51 0 1.02-.2 1.41-.59l7.78-7.78 2.81-2.81c.8-.78.8-2.07 0-2.86zM5.41 20L4 18.59l7.72-7.72 1.47 1.35L5.41 20z\"/>\n",
              "  </svg>\n",
              "      </button>\n",
              "      \n",
              "  <style>\n",
              "    .colab-df-container {\n",
              "      display:flex;\n",
              "      flex-wrap:wrap;\n",
              "      gap: 12px;\n",
              "    }\n",
              "\n",
              "    .colab-df-convert {\n",
              "      background-color: #E8F0FE;\n",
              "      border: none;\n",
              "      border-radius: 50%;\n",
              "      cursor: pointer;\n",
              "      display: none;\n",
              "      fill: #1967D2;\n",
              "      height: 32px;\n",
              "      padding: 0 0 0 0;\n",
              "      width: 32px;\n",
              "    }\n",
              "\n",
              "    .colab-df-convert:hover {\n",
              "      background-color: #E2EBFA;\n",
              "      box-shadow: 0px 1px 2px rgba(60, 64, 67, 0.3), 0px 1px 3px 1px rgba(60, 64, 67, 0.15);\n",
              "      fill: #174EA6;\n",
              "    }\n",
              "\n",
              "    [theme=dark] .colab-df-convert {\n",
              "      background-color: #3B4455;\n",
              "      fill: #D2E3FC;\n",
              "    }\n",
              "\n",
              "    [theme=dark] .colab-df-convert:hover {\n",
              "      background-color: #434B5C;\n",
              "      box-shadow: 0px 1px 3px 1px rgba(0, 0, 0, 0.15);\n",
              "      filter: drop-shadow(0px 1px 2px rgba(0, 0, 0, 0.3));\n",
              "      fill: #FFFFFF;\n",
              "    }\n",
              "  </style>\n",
              "\n",
              "      <script>\n",
              "        const buttonEl =\n",
              "          document.querySelector('#df-9c403b89-ed96-46cc-861d-e397bfe55543 button.colab-df-convert');\n",
              "        buttonEl.style.display =\n",
              "          google.colab.kernel.accessAllowed ? 'block' : 'none';\n",
              "\n",
              "        async function convertToInteractive(key) {\n",
              "          const element = document.querySelector('#df-9c403b89-ed96-46cc-861d-e397bfe55543');\n",
              "          const dataTable =\n",
              "            await google.colab.kernel.invokeFunction('convertToInteractive',\n",
              "                                                     [key], {});\n",
              "          if (!dataTable) return;\n",
              "\n",
              "          const docLinkHtml = 'Like what you see? Visit the ' +\n",
              "            '<a target=\"_blank\" href=https://colab.research.google.com/notebooks/data_table.ipynb>data table notebook</a>'\n",
              "            + ' to learn more about interactive tables.';\n",
              "          element.innerHTML = '';\n",
              "          dataTable['output_type'] = 'display_data';\n",
              "          await google.colab.output.renderOutput(dataTable, element);\n",
              "          const docLink = document.createElement('div');\n",
              "          docLink.innerHTML = docLinkHtml;\n",
              "          element.appendChild(docLink);\n",
              "        }\n",
              "      </script>\n",
              "    </div>\n",
              "  </div>\n",
              "  "
            ]
          },
          "metadata": {},
          "execution_count": 48
        }
      ]
    },
    {
      "cell_type": "code",
      "metadata": {
        "id": "w2Y_2L8FQDWE",
        "colab": {
          "base_uri": "https://localhost:8080/",
          "height": 206
        },
        "outputId": "57a5eaea-0546-49be-a78b-7ceaf16c180e"
      },
      "source": [
        "y_train.head()"
      ],
      "execution_count": 49,
      "outputs": [
        {
          "output_type": "execute_result",
          "data": {
            "text/plain": [
              "          p_recall   half_life\n",
              "5209146       0.01    0.419097\n",
              "12391706      0.99   12.845065\n",
              "8938738       0.99    3.690912\n",
              "5457519       0.99   97.831630\n",
              "10650847      0.99  121.000000"
            ],
            "text/html": [
              "\n",
              "  <div id=\"df-cd7e21a1-2ce4-42d7-9ffc-71c8be5c5e16\">\n",
              "    <div class=\"colab-df-container\">\n",
              "      <div>\n",
              "<style scoped>\n",
              "    .dataframe tbody tr th:only-of-type {\n",
              "        vertical-align: middle;\n",
              "    }\n",
              "\n",
              "    .dataframe tbody tr th {\n",
              "        vertical-align: top;\n",
              "    }\n",
              "\n",
              "    .dataframe thead th {\n",
              "        text-align: right;\n",
              "    }\n",
              "</style>\n",
              "<table border=\"1\" class=\"dataframe\">\n",
              "  <thead>\n",
              "    <tr style=\"text-align: right;\">\n",
              "      <th></th>\n",
              "      <th>p_recall</th>\n",
              "      <th>half_life</th>\n",
              "    </tr>\n",
              "  </thead>\n",
              "  <tbody>\n",
              "    <tr>\n",
              "      <th>5209146</th>\n",
              "      <td>0.01</td>\n",
              "      <td>0.419097</td>\n",
              "    </tr>\n",
              "    <tr>\n",
              "      <th>12391706</th>\n",
              "      <td>0.99</td>\n",
              "      <td>12.845065</td>\n",
              "    </tr>\n",
              "    <tr>\n",
              "      <th>8938738</th>\n",
              "      <td>0.99</td>\n",
              "      <td>3.690912</td>\n",
              "    </tr>\n",
              "    <tr>\n",
              "      <th>5457519</th>\n",
              "      <td>0.99</td>\n",
              "      <td>97.831630</td>\n",
              "    </tr>\n",
              "    <tr>\n",
              "      <th>10650847</th>\n",
              "      <td>0.99</td>\n",
              "      <td>121.000000</td>\n",
              "    </tr>\n",
              "  </tbody>\n",
              "</table>\n",
              "</div>\n",
              "      <button class=\"colab-df-convert\" onclick=\"convertToInteractive('df-cd7e21a1-2ce4-42d7-9ffc-71c8be5c5e16')\"\n",
              "              title=\"Convert this dataframe to an interactive table.\"\n",
              "              style=\"display:none;\">\n",
              "        \n",
              "  <svg xmlns=\"http://www.w3.org/2000/svg\" height=\"24px\"viewBox=\"0 0 24 24\"\n",
              "       width=\"24px\">\n",
              "    <path d=\"M0 0h24v24H0V0z\" fill=\"none\"/>\n",
              "    <path d=\"M18.56 5.44l.94 2.06.94-2.06 2.06-.94-2.06-.94-.94-2.06-.94 2.06-2.06.94zm-11 1L8.5 8.5l.94-2.06 2.06-.94-2.06-.94L8.5 2.5l-.94 2.06-2.06.94zm10 10l.94 2.06.94-2.06 2.06-.94-2.06-.94-.94-2.06-.94 2.06-2.06.94z\"/><path d=\"M17.41 7.96l-1.37-1.37c-.4-.4-.92-.59-1.43-.59-.52 0-1.04.2-1.43.59L10.3 9.45l-7.72 7.72c-.78.78-.78 2.05 0 2.83L4 21.41c.39.39.9.59 1.41.59.51 0 1.02-.2 1.41-.59l7.78-7.78 2.81-2.81c.8-.78.8-2.07 0-2.86zM5.41 20L4 18.59l7.72-7.72 1.47 1.35L5.41 20z\"/>\n",
              "  </svg>\n",
              "      </button>\n",
              "      \n",
              "  <style>\n",
              "    .colab-df-container {\n",
              "      display:flex;\n",
              "      flex-wrap:wrap;\n",
              "      gap: 12px;\n",
              "    }\n",
              "\n",
              "    .colab-df-convert {\n",
              "      background-color: #E8F0FE;\n",
              "      border: none;\n",
              "      border-radius: 50%;\n",
              "      cursor: pointer;\n",
              "      display: none;\n",
              "      fill: #1967D2;\n",
              "      height: 32px;\n",
              "      padding: 0 0 0 0;\n",
              "      width: 32px;\n",
              "    }\n",
              "\n",
              "    .colab-df-convert:hover {\n",
              "      background-color: #E2EBFA;\n",
              "      box-shadow: 0px 1px 2px rgba(60, 64, 67, 0.3), 0px 1px 3px 1px rgba(60, 64, 67, 0.15);\n",
              "      fill: #174EA6;\n",
              "    }\n",
              "\n",
              "    [theme=dark] .colab-df-convert {\n",
              "      background-color: #3B4455;\n",
              "      fill: #D2E3FC;\n",
              "    }\n",
              "\n",
              "    [theme=dark] .colab-df-convert:hover {\n",
              "      background-color: #434B5C;\n",
              "      box-shadow: 0px 1px 3px 1px rgba(0, 0, 0, 0.15);\n",
              "      filter: drop-shadow(0px 1px 2px rgba(0, 0, 0, 0.3));\n",
              "      fill: #FFFFFF;\n",
              "    }\n",
              "  </style>\n",
              "\n",
              "      <script>\n",
              "        const buttonEl =\n",
              "          document.querySelector('#df-cd7e21a1-2ce4-42d7-9ffc-71c8be5c5e16 button.colab-df-convert');\n",
              "        buttonEl.style.display =\n",
              "          google.colab.kernel.accessAllowed ? 'block' : 'none';\n",
              "\n",
              "        async function convertToInteractive(key) {\n",
              "          const element = document.querySelector('#df-cd7e21a1-2ce4-42d7-9ffc-71c8be5c5e16');\n",
              "          const dataTable =\n",
              "            await google.colab.kernel.invokeFunction('convertToInteractive',\n",
              "                                                     [key], {});\n",
              "          if (!dataTable) return;\n",
              "\n",
              "          const docLinkHtml = 'Like what you see? Visit the ' +\n",
              "            '<a target=\"_blank\" href=https://colab.research.google.com/notebooks/data_table.ipynb>data table notebook</a>'\n",
              "            + ' to learn more about interactive tables.';\n",
              "          element.innerHTML = '';\n",
              "          dataTable['output_type'] = 'display_data';\n",
              "          await google.colab.output.renderOutput(dataTable, element);\n",
              "          const docLink = document.createElement('div');\n",
              "          docLink.innerHTML = docLinkHtml;\n",
              "          element.appendChild(docLink);\n",
              "        }\n",
              "      </script>\n",
              "    </div>\n",
              "  </div>\n",
              "  "
            ]
          },
          "metadata": {},
          "execution_count": 49
        }
      ]
    },
    {
      "cell_type": "code",
      "metadata": {
        "id": "9nRt9VOjQFkb"
      },
      "source": [
        "h_train = y_train[\"half_life\"]\n",
        "h_test = y_test[\"half_life\"]\n",
        "y_train = y_train[\"p_recall\"]\n",
        "y_test = y_test[\"p_recall\"]"
      ],
      "execution_count": 50,
      "outputs": []
    },
    {
      "cell_type": "code",
      "metadata": {
        "id": "UI2Ui8N6R8D6",
        "colab": {
          "base_uri": "https://localhost:8080/"
        },
        "outputId": "ee2e2468-36d0-42fc-ee22-efa59af5d312"
      },
      "source": [
        "y_train.head()"
      ],
      "execution_count": 51,
      "outputs": [
        {
          "output_type": "execute_result",
          "data": {
            "text/plain": [
              "5209146     0.01\n",
              "12391706    0.99\n",
              "8938738     0.99\n",
              "5457519     0.99\n",
              "10650847    0.99\n",
              "Name: p_recall, dtype: float64"
            ]
          },
          "metadata": {},
          "execution_count": 51
        }
      ]
    },
    {
      "cell_type": "code",
      "metadata": {
        "id": "bQas6g1RFxDH",
        "colab": {
          "base_uri": "https://localhost:8080/",
          "height": 206
        },
        "outputId": "b96f270d-7f3e-41f1-e64d-fb55bcd248fa"
      },
      "source": [
        "x_train_numerical =  x_train._get_numeric_data() \n",
        "x_train_numerical.head()"
      ],
      "execution_count": 52,
      "outputs": [
        {
          "output_type": "execute_result",
          "data": {
            "text/plain": [
              "          delta_days  history_seen  history_correct  session_seen  \\\n",
              "5209146     1.930012            10                9             1   \n",
              "12391706    0.129097            49               45             2   \n",
              "8938738     0.037095            38               34             1   \n",
              "5457519     0.983241             4                3             1   \n",
              "10650847    3.848681             2                1             3   \n",
              "\n",
              "          session_correct  \n",
              "5209146                 0  \n",
              "12391706                2  \n",
              "8938738                 1  \n",
              "5457519                 1  \n",
              "10650847                3  "
            ],
            "text/html": [
              "\n",
              "  <div id=\"df-e4ff9a84-543a-4c36-a950-f4964e67b72b\">\n",
              "    <div class=\"colab-df-container\">\n",
              "      <div>\n",
              "<style scoped>\n",
              "    .dataframe tbody tr th:only-of-type {\n",
              "        vertical-align: middle;\n",
              "    }\n",
              "\n",
              "    .dataframe tbody tr th {\n",
              "        vertical-align: top;\n",
              "    }\n",
              "\n",
              "    .dataframe thead th {\n",
              "        text-align: right;\n",
              "    }\n",
              "</style>\n",
              "<table border=\"1\" class=\"dataframe\">\n",
              "  <thead>\n",
              "    <tr style=\"text-align: right;\">\n",
              "      <th></th>\n",
              "      <th>delta_days</th>\n",
              "      <th>history_seen</th>\n",
              "      <th>history_correct</th>\n",
              "      <th>session_seen</th>\n",
              "      <th>session_correct</th>\n",
              "    </tr>\n",
              "  </thead>\n",
              "  <tbody>\n",
              "    <tr>\n",
              "      <th>5209146</th>\n",
              "      <td>1.930012</td>\n",
              "      <td>10</td>\n",
              "      <td>9</td>\n",
              "      <td>1</td>\n",
              "      <td>0</td>\n",
              "    </tr>\n",
              "    <tr>\n",
              "      <th>12391706</th>\n",
              "      <td>0.129097</td>\n",
              "      <td>49</td>\n",
              "      <td>45</td>\n",
              "      <td>2</td>\n",
              "      <td>2</td>\n",
              "    </tr>\n",
              "    <tr>\n",
              "      <th>8938738</th>\n",
              "      <td>0.037095</td>\n",
              "      <td>38</td>\n",
              "      <td>34</td>\n",
              "      <td>1</td>\n",
              "      <td>1</td>\n",
              "    </tr>\n",
              "    <tr>\n",
              "      <th>5457519</th>\n",
              "      <td>0.983241</td>\n",
              "      <td>4</td>\n",
              "      <td>3</td>\n",
              "      <td>1</td>\n",
              "      <td>1</td>\n",
              "    </tr>\n",
              "    <tr>\n",
              "      <th>10650847</th>\n",
              "      <td>3.848681</td>\n",
              "      <td>2</td>\n",
              "      <td>1</td>\n",
              "      <td>3</td>\n",
              "      <td>3</td>\n",
              "    </tr>\n",
              "  </tbody>\n",
              "</table>\n",
              "</div>\n",
              "      <button class=\"colab-df-convert\" onclick=\"convertToInteractive('df-e4ff9a84-543a-4c36-a950-f4964e67b72b')\"\n",
              "              title=\"Convert this dataframe to an interactive table.\"\n",
              "              style=\"display:none;\">\n",
              "        \n",
              "  <svg xmlns=\"http://www.w3.org/2000/svg\" height=\"24px\"viewBox=\"0 0 24 24\"\n",
              "       width=\"24px\">\n",
              "    <path d=\"M0 0h24v24H0V0z\" fill=\"none\"/>\n",
              "    <path d=\"M18.56 5.44l.94 2.06.94-2.06 2.06-.94-2.06-.94-.94-2.06-.94 2.06-2.06.94zm-11 1L8.5 8.5l.94-2.06 2.06-.94-2.06-.94L8.5 2.5l-.94 2.06-2.06.94zm10 10l.94 2.06.94-2.06 2.06-.94-2.06-.94-.94-2.06-.94 2.06-2.06.94z\"/><path d=\"M17.41 7.96l-1.37-1.37c-.4-.4-.92-.59-1.43-.59-.52 0-1.04.2-1.43.59L10.3 9.45l-7.72 7.72c-.78.78-.78 2.05 0 2.83L4 21.41c.39.39.9.59 1.41.59.51 0 1.02-.2 1.41-.59l7.78-7.78 2.81-2.81c.8-.78.8-2.07 0-2.86zM5.41 20L4 18.59l7.72-7.72 1.47 1.35L5.41 20z\"/>\n",
              "  </svg>\n",
              "      </button>\n",
              "      \n",
              "  <style>\n",
              "    .colab-df-container {\n",
              "      display:flex;\n",
              "      flex-wrap:wrap;\n",
              "      gap: 12px;\n",
              "    }\n",
              "\n",
              "    .colab-df-convert {\n",
              "      background-color: #E8F0FE;\n",
              "      border: none;\n",
              "      border-radius: 50%;\n",
              "      cursor: pointer;\n",
              "      display: none;\n",
              "      fill: #1967D2;\n",
              "      height: 32px;\n",
              "      padding: 0 0 0 0;\n",
              "      width: 32px;\n",
              "    }\n",
              "\n",
              "    .colab-df-convert:hover {\n",
              "      background-color: #E2EBFA;\n",
              "      box-shadow: 0px 1px 2px rgba(60, 64, 67, 0.3), 0px 1px 3px 1px rgba(60, 64, 67, 0.15);\n",
              "      fill: #174EA6;\n",
              "    }\n",
              "\n",
              "    [theme=dark] .colab-df-convert {\n",
              "      background-color: #3B4455;\n",
              "      fill: #D2E3FC;\n",
              "    }\n",
              "\n",
              "    [theme=dark] .colab-df-convert:hover {\n",
              "      background-color: #434B5C;\n",
              "      box-shadow: 0px 1px 3px 1px rgba(0, 0, 0, 0.15);\n",
              "      filter: drop-shadow(0px 1px 2px rgba(0, 0, 0, 0.3));\n",
              "      fill: #FFFFFF;\n",
              "    }\n",
              "  </style>\n",
              "\n",
              "      <script>\n",
              "        const buttonEl =\n",
              "          document.querySelector('#df-e4ff9a84-543a-4c36-a950-f4964e67b72b button.colab-df-convert');\n",
              "        buttonEl.style.display =\n",
              "          google.colab.kernel.accessAllowed ? 'block' : 'none';\n",
              "\n",
              "        async function convertToInteractive(key) {\n",
              "          const element = document.querySelector('#df-e4ff9a84-543a-4c36-a950-f4964e67b72b');\n",
              "          const dataTable =\n",
              "            await google.colab.kernel.invokeFunction('convertToInteractive',\n",
              "                                                     [key], {});\n",
              "          if (!dataTable) return;\n",
              "\n",
              "          const docLinkHtml = 'Like what you see? Visit the ' +\n",
              "            '<a target=\"_blank\" href=https://colab.research.google.com/notebooks/data_table.ipynb>data table notebook</a>'\n",
              "            + ' to learn more about interactive tables.';\n",
              "          element.innerHTML = '';\n",
              "          dataTable['output_type'] = 'display_data';\n",
              "          await google.colab.output.renderOutput(dataTable, element);\n",
              "          const docLink = document.createElement('div');\n",
              "          docLink.innerHTML = docLinkHtml;\n",
              "          element.appendChild(docLink);\n",
              "        }\n",
              "      </script>\n",
              "    </div>\n",
              "  </div>\n",
              "  "
            ]
          },
          "metadata": {},
          "execution_count": 52
        }
      ]
    },
    {
      "cell_type": "code",
      "metadata": {
        "id": "T-TOZI7BFyca"
      },
      "source": [
        "num = x_train_numerical.columns"
      ],
      "execution_count": 53,
      "outputs": []
    },
    {
      "cell_type": "code",
      "metadata": {
        "id": "Xz_dX4NUoiIZ",
        "colab": {
          "base_uri": "https://localhost:8080/"
        },
        "outputId": "be208356-171d-408a-fac4-b8d03b0fe79e"
      },
      "source": [
        "joblib.dump(num, 'numerical_col.pkl')"
      ],
      "execution_count": 54,
      "outputs": [
        {
          "output_type": "execute_result",
          "data": {
            "text/plain": [
              "['numerical_col.pkl']"
            ]
          },
          "metadata": {},
          "execution_count": 54
        }
      ]
    },
    {
      "cell_type": "code",
      "metadata": {
        "id": "avdHh58YFz0A",
        "colab": {
          "base_uri": "https://localhost:8080/",
          "height": 206
        },
        "outputId": "bd1a3b2d-d907-481e-bba3-7baf8de7c457"
      },
      "source": [
        "x_train_categorical = x_train.drop(num, axis=1)\n",
        "x_train_categorical.head()"
      ],
      "execution_count": 55,
      "outputs": [
        {
          "output_type": "execute_result",
          "data": {
            "text/plain": [
              "         ui_language                 lexeme_string\n",
              "5209146           es            horse/horse<n><sg>\n",
              "12391706          es      drink/drink<vblex><pres>\n",
              "8938738           es  motorcycle/motorcycle<n><sg>\n",
              "5457519           pt          dinner/dinner<n><sg>\n",
              "10650847          es              crab/crab<n><sg>"
            ],
            "text/html": [
              "\n",
              "  <div id=\"df-4793a2e3-61e9-4ecc-abcc-7bb1902e7576\">\n",
              "    <div class=\"colab-df-container\">\n",
              "      <div>\n",
              "<style scoped>\n",
              "    .dataframe tbody tr th:only-of-type {\n",
              "        vertical-align: middle;\n",
              "    }\n",
              "\n",
              "    .dataframe tbody tr th {\n",
              "        vertical-align: top;\n",
              "    }\n",
              "\n",
              "    .dataframe thead th {\n",
              "        text-align: right;\n",
              "    }\n",
              "</style>\n",
              "<table border=\"1\" class=\"dataframe\">\n",
              "  <thead>\n",
              "    <tr style=\"text-align: right;\">\n",
              "      <th></th>\n",
              "      <th>ui_language</th>\n",
              "      <th>lexeme_string</th>\n",
              "    </tr>\n",
              "  </thead>\n",
              "  <tbody>\n",
              "    <tr>\n",
              "      <th>5209146</th>\n",
              "      <td>es</td>\n",
              "      <td>horse/horse&lt;n&gt;&lt;sg&gt;</td>\n",
              "    </tr>\n",
              "    <tr>\n",
              "      <th>12391706</th>\n",
              "      <td>es</td>\n",
              "      <td>drink/drink&lt;vblex&gt;&lt;pres&gt;</td>\n",
              "    </tr>\n",
              "    <tr>\n",
              "      <th>8938738</th>\n",
              "      <td>es</td>\n",
              "      <td>motorcycle/motorcycle&lt;n&gt;&lt;sg&gt;</td>\n",
              "    </tr>\n",
              "    <tr>\n",
              "      <th>5457519</th>\n",
              "      <td>pt</td>\n",
              "      <td>dinner/dinner&lt;n&gt;&lt;sg&gt;</td>\n",
              "    </tr>\n",
              "    <tr>\n",
              "      <th>10650847</th>\n",
              "      <td>es</td>\n",
              "      <td>crab/crab&lt;n&gt;&lt;sg&gt;</td>\n",
              "    </tr>\n",
              "  </tbody>\n",
              "</table>\n",
              "</div>\n",
              "      <button class=\"colab-df-convert\" onclick=\"convertToInteractive('df-4793a2e3-61e9-4ecc-abcc-7bb1902e7576')\"\n",
              "              title=\"Convert this dataframe to an interactive table.\"\n",
              "              style=\"display:none;\">\n",
              "        \n",
              "  <svg xmlns=\"http://www.w3.org/2000/svg\" height=\"24px\"viewBox=\"0 0 24 24\"\n",
              "       width=\"24px\">\n",
              "    <path d=\"M0 0h24v24H0V0z\" fill=\"none\"/>\n",
              "    <path d=\"M18.56 5.44l.94 2.06.94-2.06 2.06-.94-2.06-.94-.94-2.06-.94 2.06-2.06.94zm-11 1L8.5 8.5l.94-2.06 2.06-.94-2.06-.94L8.5 2.5l-.94 2.06-2.06.94zm10 10l.94 2.06.94-2.06 2.06-.94-2.06-.94-.94-2.06-.94 2.06-2.06.94z\"/><path d=\"M17.41 7.96l-1.37-1.37c-.4-.4-.92-.59-1.43-.59-.52 0-1.04.2-1.43.59L10.3 9.45l-7.72 7.72c-.78.78-.78 2.05 0 2.83L4 21.41c.39.39.9.59 1.41.59.51 0 1.02-.2 1.41-.59l7.78-7.78 2.81-2.81c.8-.78.8-2.07 0-2.86zM5.41 20L4 18.59l7.72-7.72 1.47 1.35L5.41 20z\"/>\n",
              "  </svg>\n",
              "      </button>\n",
              "      \n",
              "  <style>\n",
              "    .colab-df-container {\n",
              "      display:flex;\n",
              "      flex-wrap:wrap;\n",
              "      gap: 12px;\n",
              "    }\n",
              "\n",
              "    .colab-df-convert {\n",
              "      background-color: #E8F0FE;\n",
              "      border: none;\n",
              "      border-radius: 50%;\n",
              "      cursor: pointer;\n",
              "      display: none;\n",
              "      fill: #1967D2;\n",
              "      height: 32px;\n",
              "      padding: 0 0 0 0;\n",
              "      width: 32px;\n",
              "    }\n",
              "\n",
              "    .colab-df-convert:hover {\n",
              "      background-color: #E2EBFA;\n",
              "      box-shadow: 0px 1px 2px rgba(60, 64, 67, 0.3), 0px 1px 3px 1px rgba(60, 64, 67, 0.15);\n",
              "      fill: #174EA6;\n",
              "    }\n",
              "\n",
              "    [theme=dark] .colab-df-convert {\n",
              "      background-color: #3B4455;\n",
              "      fill: #D2E3FC;\n",
              "    }\n",
              "\n",
              "    [theme=dark] .colab-df-convert:hover {\n",
              "      background-color: #434B5C;\n",
              "      box-shadow: 0px 1px 3px 1px rgba(0, 0, 0, 0.15);\n",
              "      filter: drop-shadow(0px 1px 2px rgba(0, 0, 0, 0.3));\n",
              "      fill: #FFFFFF;\n",
              "    }\n",
              "  </style>\n",
              "\n",
              "      <script>\n",
              "        const buttonEl =\n",
              "          document.querySelector('#df-4793a2e3-61e9-4ecc-abcc-7bb1902e7576 button.colab-df-convert');\n",
              "        buttonEl.style.display =\n",
              "          google.colab.kernel.accessAllowed ? 'block' : 'none';\n",
              "\n",
              "        async function convertToInteractive(key) {\n",
              "          const element = document.querySelector('#df-4793a2e3-61e9-4ecc-abcc-7bb1902e7576');\n",
              "          const dataTable =\n",
              "            await google.colab.kernel.invokeFunction('convertToInteractive',\n",
              "                                                     [key], {});\n",
              "          if (!dataTable) return;\n",
              "\n",
              "          const docLinkHtml = 'Like what you see? Visit the ' +\n",
              "            '<a target=\"_blank\" href=https://colab.research.google.com/notebooks/data_table.ipynb>data table notebook</a>'\n",
              "            + ' to learn more about interactive tables.';\n",
              "          element.innerHTML = '';\n",
              "          dataTable['output_type'] = 'display_data';\n",
              "          await google.colab.output.renderOutput(dataTable, element);\n",
              "          const docLink = document.createElement('div');\n",
              "          docLink.innerHTML = docLinkHtml;\n",
              "          element.appendChild(docLink);\n",
              "        }\n",
              "      </script>\n",
              "    </div>\n",
              "  </div>\n",
              "  "
            ]
          },
          "metadata": {},
          "execution_count": 55
        }
      ]
    },
    {
      "cell_type": "code",
      "metadata": {
        "id": "WSL9mJShF1Ku"
      },
      "source": [
        "cat = x_train_categorical.columns"
      ],
      "execution_count": 56,
      "outputs": []
    },
    {
      "cell_type": "code",
      "metadata": {
        "id": "tEwqA1kYpELt",
        "colab": {
          "base_uri": "https://localhost:8080/"
        },
        "outputId": "15622a9c-fcf9-4f23-881a-52a119d24e4b"
      },
      "source": [
        "joblib.dump(cat, 'categorical_col.pkl')"
      ],
      "execution_count": 57,
      "outputs": [
        {
          "output_type": "execute_result",
          "data": {
            "text/plain": [
              "['categorical_col.pkl']"
            ]
          },
          "metadata": {},
          "execution_count": 57
        }
      ]
    },
    {
      "cell_type": "markdown",
      "metadata": {
        "id": "4IAEJ0Hb-5AF"
      },
      "source": [
        "## Plot"
      ]
    },
    {
      "cell_type": "code",
      "metadata": {
        "id": "35gTc8Dn_Gbc",
        "colab": {
          "base_uri": "https://localhost:8080/",
          "height": 206
        },
        "outputId": "8c588b6b-094c-4555-f653-0c3007ce8d0c"
      },
      "source": [
        "data_plot = pd.concat([x_train_numerical, x_train_categorical, y_train], axis = 1)\n",
        "data_plot.head()"
      ],
      "execution_count": 58,
      "outputs": [
        {
          "output_type": "execute_result",
          "data": {
            "text/plain": [
              "          delta_days  history_seen  history_correct  session_seen  \\\n",
              "5209146     1.930012            10                9             1   \n",
              "12391706    0.129097            49               45             2   \n",
              "8938738     0.037095            38               34             1   \n",
              "5457519     0.983241             4                3             1   \n",
              "10650847    3.848681             2                1             3   \n",
              "\n",
              "          session_correct ui_language                 lexeme_string  p_recall  \n",
              "5209146                 0          es            horse/horse<n><sg>      0.01  \n",
              "12391706                2          es      drink/drink<vblex><pres>      0.99  \n",
              "8938738                 1          es  motorcycle/motorcycle<n><sg>      0.99  \n",
              "5457519                 1          pt          dinner/dinner<n><sg>      0.99  \n",
              "10650847                3          es              crab/crab<n><sg>      0.99  "
            ],
            "text/html": [
              "\n",
              "  <div id=\"df-01c8cad2-205f-426a-8be7-2788cad983dc\">\n",
              "    <div class=\"colab-df-container\">\n",
              "      <div>\n",
              "<style scoped>\n",
              "    .dataframe tbody tr th:only-of-type {\n",
              "        vertical-align: middle;\n",
              "    }\n",
              "\n",
              "    .dataframe tbody tr th {\n",
              "        vertical-align: top;\n",
              "    }\n",
              "\n",
              "    .dataframe thead th {\n",
              "        text-align: right;\n",
              "    }\n",
              "</style>\n",
              "<table border=\"1\" class=\"dataframe\">\n",
              "  <thead>\n",
              "    <tr style=\"text-align: right;\">\n",
              "      <th></th>\n",
              "      <th>delta_days</th>\n",
              "      <th>history_seen</th>\n",
              "      <th>history_correct</th>\n",
              "      <th>session_seen</th>\n",
              "      <th>session_correct</th>\n",
              "      <th>ui_language</th>\n",
              "      <th>lexeme_string</th>\n",
              "      <th>p_recall</th>\n",
              "    </tr>\n",
              "  </thead>\n",
              "  <tbody>\n",
              "    <tr>\n",
              "      <th>5209146</th>\n",
              "      <td>1.930012</td>\n",
              "      <td>10</td>\n",
              "      <td>9</td>\n",
              "      <td>1</td>\n",
              "      <td>0</td>\n",
              "      <td>es</td>\n",
              "      <td>horse/horse&lt;n&gt;&lt;sg&gt;</td>\n",
              "      <td>0.01</td>\n",
              "    </tr>\n",
              "    <tr>\n",
              "      <th>12391706</th>\n",
              "      <td>0.129097</td>\n",
              "      <td>49</td>\n",
              "      <td>45</td>\n",
              "      <td>2</td>\n",
              "      <td>2</td>\n",
              "      <td>es</td>\n",
              "      <td>drink/drink&lt;vblex&gt;&lt;pres&gt;</td>\n",
              "      <td>0.99</td>\n",
              "    </tr>\n",
              "    <tr>\n",
              "      <th>8938738</th>\n",
              "      <td>0.037095</td>\n",
              "      <td>38</td>\n",
              "      <td>34</td>\n",
              "      <td>1</td>\n",
              "      <td>1</td>\n",
              "      <td>es</td>\n",
              "      <td>motorcycle/motorcycle&lt;n&gt;&lt;sg&gt;</td>\n",
              "      <td>0.99</td>\n",
              "    </tr>\n",
              "    <tr>\n",
              "      <th>5457519</th>\n",
              "      <td>0.983241</td>\n",
              "      <td>4</td>\n",
              "      <td>3</td>\n",
              "      <td>1</td>\n",
              "      <td>1</td>\n",
              "      <td>pt</td>\n",
              "      <td>dinner/dinner&lt;n&gt;&lt;sg&gt;</td>\n",
              "      <td>0.99</td>\n",
              "    </tr>\n",
              "    <tr>\n",
              "      <th>10650847</th>\n",
              "      <td>3.848681</td>\n",
              "      <td>2</td>\n",
              "      <td>1</td>\n",
              "      <td>3</td>\n",
              "      <td>3</td>\n",
              "      <td>es</td>\n",
              "      <td>crab/crab&lt;n&gt;&lt;sg&gt;</td>\n",
              "      <td>0.99</td>\n",
              "    </tr>\n",
              "  </tbody>\n",
              "</table>\n",
              "</div>\n",
              "      <button class=\"colab-df-convert\" onclick=\"convertToInteractive('df-01c8cad2-205f-426a-8be7-2788cad983dc')\"\n",
              "              title=\"Convert this dataframe to an interactive table.\"\n",
              "              style=\"display:none;\">\n",
              "        \n",
              "  <svg xmlns=\"http://www.w3.org/2000/svg\" height=\"24px\"viewBox=\"0 0 24 24\"\n",
              "       width=\"24px\">\n",
              "    <path d=\"M0 0h24v24H0V0z\" fill=\"none\"/>\n",
              "    <path d=\"M18.56 5.44l.94 2.06.94-2.06 2.06-.94-2.06-.94-.94-2.06-.94 2.06-2.06.94zm-11 1L8.5 8.5l.94-2.06 2.06-.94-2.06-.94L8.5 2.5l-.94 2.06-2.06.94zm10 10l.94 2.06.94-2.06 2.06-.94-2.06-.94-.94-2.06-.94 2.06-2.06.94z\"/><path d=\"M17.41 7.96l-1.37-1.37c-.4-.4-.92-.59-1.43-.59-.52 0-1.04.2-1.43.59L10.3 9.45l-7.72 7.72c-.78.78-.78 2.05 0 2.83L4 21.41c.39.39.9.59 1.41.59.51 0 1.02-.2 1.41-.59l7.78-7.78 2.81-2.81c.8-.78.8-2.07 0-2.86zM5.41 20L4 18.59l7.72-7.72 1.47 1.35L5.41 20z\"/>\n",
              "  </svg>\n",
              "      </button>\n",
              "      \n",
              "  <style>\n",
              "    .colab-df-container {\n",
              "      display:flex;\n",
              "      flex-wrap:wrap;\n",
              "      gap: 12px;\n",
              "    }\n",
              "\n",
              "    .colab-df-convert {\n",
              "      background-color: #E8F0FE;\n",
              "      border: none;\n",
              "      border-radius: 50%;\n",
              "      cursor: pointer;\n",
              "      display: none;\n",
              "      fill: #1967D2;\n",
              "      height: 32px;\n",
              "      padding: 0 0 0 0;\n",
              "      width: 32px;\n",
              "    }\n",
              "\n",
              "    .colab-df-convert:hover {\n",
              "      background-color: #E2EBFA;\n",
              "      box-shadow: 0px 1px 2px rgba(60, 64, 67, 0.3), 0px 1px 3px 1px rgba(60, 64, 67, 0.15);\n",
              "      fill: #174EA6;\n",
              "    }\n",
              "\n",
              "    [theme=dark] .colab-df-convert {\n",
              "      background-color: #3B4455;\n",
              "      fill: #D2E3FC;\n",
              "    }\n",
              "\n",
              "    [theme=dark] .colab-df-convert:hover {\n",
              "      background-color: #434B5C;\n",
              "      box-shadow: 0px 1px 3px 1px rgba(0, 0, 0, 0.15);\n",
              "      filter: drop-shadow(0px 1px 2px rgba(0, 0, 0, 0.3));\n",
              "      fill: #FFFFFF;\n",
              "    }\n",
              "  </style>\n",
              "\n",
              "      <script>\n",
              "        const buttonEl =\n",
              "          document.querySelector('#df-01c8cad2-205f-426a-8be7-2788cad983dc button.colab-df-convert');\n",
              "        buttonEl.style.display =\n",
              "          google.colab.kernel.accessAllowed ? 'block' : 'none';\n",
              "\n",
              "        async function convertToInteractive(key) {\n",
              "          const element = document.querySelector('#df-01c8cad2-205f-426a-8be7-2788cad983dc');\n",
              "          const dataTable =\n",
              "            await google.colab.kernel.invokeFunction('convertToInteractive',\n",
              "                                                     [key], {});\n",
              "          if (!dataTable) return;\n",
              "\n",
              "          const docLinkHtml = 'Like what you see? Visit the ' +\n",
              "            '<a target=\"_blank\" href=https://colab.research.google.com/notebooks/data_table.ipynb>data table notebook</a>'\n",
              "            + ' to learn more about interactive tables.';\n",
              "          element.innerHTML = '';\n",
              "          dataTable['output_type'] = 'display_data';\n",
              "          await google.colab.output.renderOutput(dataTable, element);\n",
              "          const docLink = document.createElement('div');\n",
              "          docLink.innerHTML = docLinkHtml;\n",
              "          element.appendChild(docLink);\n",
              "        }\n",
              "      </script>\n",
              "    </div>\n",
              "  </div>\n",
              "  "
            ]
          },
          "metadata": {},
          "execution_count": 58
        }
      ]
    },
    {
      "cell_type": "markdown",
      "metadata": {
        "id": "XZbGVtNnbWkg"
      },
      "source": [
        "## Feature Scaling"
      ]
    },
    {
      "cell_type": "markdown",
      "metadata": {
        "id": "UO1TNUE7bcKI"
      },
      "source": [
        "### numerical "
      ]
    },
    {
      "cell_type": "code",
      "metadata": {
        "id": "VIU08zz0biaz"
      },
      "source": [
        "from sklearn.preprocessing import StandardScaler"
      ],
      "execution_count": 59,
      "outputs": []
    },
    {
      "cell_type": "code",
      "metadata": {
        "id": "kB-5Dzj3bmEt"
      },
      "source": [
        "standardizer = StandardScaler()"
      ],
      "execution_count": 60,
      "outputs": []
    },
    {
      "cell_type": "code",
      "metadata": {
        "id": "EmRDGzT-bp63",
        "colab": {
          "base_uri": "https://localhost:8080/"
        },
        "outputId": "805ba361-c094-48bb-afd3-aa7f250d56b3"
      },
      "source": [
        "standardizer.fit(x_train_numerical)"
      ],
      "execution_count": 61,
      "outputs": [
        {
          "output_type": "execute_result",
          "data": {
            "text/plain": [
              "StandardScaler()"
            ]
          },
          "metadata": {},
          "execution_count": 61
        }
      ]
    },
    {
      "cell_type": "code",
      "metadata": {
        "id": "mrQDYdJopSJv",
        "colab": {
          "base_uri": "https://localhost:8080/"
        },
        "outputId": "2b2c765f-60ff-4614-bb16-2f07097dbfc0"
      },
      "source": [
        "joblib.dump(standardizer, 'standardizer.pkl')"
      ],
      "execution_count": 62,
      "outputs": [
        {
          "output_type": "execute_result",
          "data": {
            "text/plain": [
              "['standardizer.pkl']"
            ]
          },
          "metadata": {},
          "execution_count": 62
        }
      ]
    },
    {
      "cell_type": "code",
      "metadata": {
        "id": "pePrIC58XdoE",
        "colab": {
          "base_uri": "https://localhost:8080/",
          "height": 206
        },
        "outputId": "bdf69569-9efe-4c39-ea88-203343cd0edc"
      },
      "source": [
        "x_train_numerical.head()"
      ],
      "execution_count": 63,
      "outputs": [
        {
          "output_type": "execute_result",
          "data": {
            "text/plain": [
              "          delta_days  history_seen  history_correct  session_seen  \\\n",
              "5209146     1.930012            10                9             1   \n",
              "12391706    0.129097            49               45             2   \n",
              "8938738     0.037095            38               34             1   \n",
              "5457519     0.983241             4                3             1   \n",
              "10650847    3.848681             2                1             3   \n",
              "\n",
              "          session_correct  \n",
              "5209146                 0  \n",
              "12391706                2  \n",
              "8938738                 1  \n",
              "5457519                 1  \n",
              "10650847                3  "
            ],
            "text/html": [
              "\n",
              "  <div id=\"df-8450ee1b-61b8-463b-83be-394e5dbd9bb1\">\n",
              "    <div class=\"colab-df-container\">\n",
              "      <div>\n",
              "<style scoped>\n",
              "    .dataframe tbody tr th:only-of-type {\n",
              "        vertical-align: middle;\n",
              "    }\n",
              "\n",
              "    .dataframe tbody tr th {\n",
              "        vertical-align: top;\n",
              "    }\n",
              "\n",
              "    .dataframe thead th {\n",
              "        text-align: right;\n",
              "    }\n",
              "</style>\n",
              "<table border=\"1\" class=\"dataframe\">\n",
              "  <thead>\n",
              "    <tr style=\"text-align: right;\">\n",
              "      <th></th>\n",
              "      <th>delta_days</th>\n",
              "      <th>history_seen</th>\n",
              "      <th>history_correct</th>\n",
              "      <th>session_seen</th>\n",
              "      <th>session_correct</th>\n",
              "    </tr>\n",
              "  </thead>\n",
              "  <tbody>\n",
              "    <tr>\n",
              "      <th>5209146</th>\n",
              "      <td>1.930012</td>\n",
              "      <td>10</td>\n",
              "      <td>9</td>\n",
              "      <td>1</td>\n",
              "      <td>0</td>\n",
              "    </tr>\n",
              "    <tr>\n",
              "      <th>12391706</th>\n",
              "      <td>0.129097</td>\n",
              "      <td>49</td>\n",
              "      <td>45</td>\n",
              "      <td>2</td>\n",
              "      <td>2</td>\n",
              "    </tr>\n",
              "    <tr>\n",
              "      <th>8938738</th>\n",
              "      <td>0.037095</td>\n",
              "      <td>38</td>\n",
              "      <td>34</td>\n",
              "      <td>1</td>\n",
              "      <td>1</td>\n",
              "    </tr>\n",
              "    <tr>\n",
              "      <th>5457519</th>\n",
              "      <td>0.983241</td>\n",
              "      <td>4</td>\n",
              "      <td>3</td>\n",
              "      <td>1</td>\n",
              "      <td>1</td>\n",
              "    </tr>\n",
              "    <tr>\n",
              "      <th>10650847</th>\n",
              "      <td>3.848681</td>\n",
              "      <td>2</td>\n",
              "      <td>1</td>\n",
              "      <td>3</td>\n",
              "      <td>3</td>\n",
              "    </tr>\n",
              "  </tbody>\n",
              "</table>\n",
              "</div>\n",
              "      <button class=\"colab-df-convert\" onclick=\"convertToInteractive('df-8450ee1b-61b8-463b-83be-394e5dbd9bb1')\"\n",
              "              title=\"Convert this dataframe to an interactive table.\"\n",
              "              style=\"display:none;\">\n",
              "        \n",
              "  <svg xmlns=\"http://www.w3.org/2000/svg\" height=\"24px\"viewBox=\"0 0 24 24\"\n",
              "       width=\"24px\">\n",
              "    <path d=\"M0 0h24v24H0V0z\" fill=\"none\"/>\n",
              "    <path d=\"M18.56 5.44l.94 2.06.94-2.06 2.06-.94-2.06-.94-.94-2.06-.94 2.06-2.06.94zm-11 1L8.5 8.5l.94-2.06 2.06-.94-2.06-.94L8.5 2.5l-.94 2.06-2.06.94zm10 10l.94 2.06.94-2.06 2.06-.94-2.06-.94-.94-2.06-.94 2.06-2.06.94z\"/><path d=\"M17.41 7.96l-1.37-1.37c-.4-.4-.92-.59-1.43-.59-.52 0-1.04.2-1.43.59L10.3 9.45l-7.72 7.72c-.78.78-.78 2.05 0 2.83L4 21.41c.39.39.9.59 1.41.59.51 0 1.02-.2 1.41-.59l7.78-7.78 2.81-2.81c.8-.78.8-2.07 0-2.86zM5.41 20L4 18.59l7.72-7.72 1.47 1.35L5.41 20z\"/>\n",
              "  </svg>\n",
              "      </button>\n",
              "      \n",
              "  <style>\n",
              "    .colab-df-container {\n",
              "      display:flex;\n",
              "      flex-wrap:wrap;\n",
              "      gap: 12px;\n",
              "    }\n",
              "\n",
              "    .colab-df-convert {\n",
              "      background-color: #E8F0FE;\n",
              "      border: none;\n",
              "      border-radius: 50%;\n",
              "      cursor: pointer;\n",
              "      display: none;\n",
              "      fill: #1967D2;\n",
              "      height: 32px;\n",
              "      padding: 0 0 0 0;\n",
              "      width: 32px;\n",
              "    }\n",
              "\n",
              "    .colab-df-convert:hover {\n",
              "      background-color: #E2EBFA;\n",
              "      box-shadow: 0px 1px 2px rgba(60, 64, 67, 0.3), 0px 1px 3px 1px rgba(60, 64, 67, 0.15);\n",
              "      fill: #174EA6;\n",
              "    }\n",
              "\n",
              "    [theme=dark] .colab-df-convert {\n",
              "      background-color: #3B4455;\n",
              "      fill: #D2E3FC;\n",
              "    }\n",
              "\n",
              "    [theme=dark] .colab-df-convert:hover {\n",
              "      background-color: #434B5C;\n",
              "      box-shadow: 0px 1px 3px 1px rgba(0, 0, 0, 0.15);\n",
              "      filter: drop-shadow(0px 1px 2px rgba(0, 0, 0, 0.3));\n",
              "      fill: #FFFFFF;\n",
              "    }\n",
              "  </style>\n",
              "\n",
              "      <script>\n",
              "        const buttonEl =\n",
              "          document.querySelector('#df-8450ee1b-61b8-463b-83be-394e5dbd9bb1 button.colab-df-convert');\n",
              "        buttonEl.style.display =\n",
              "          google.colab.kernel.accessAllowed ? 'block' : 'none';\n",
              "\n",
              "        async function convertToInteractive(key) {\n",
              "          const element = document.querySelector('#df-8450ee1b-61b8-463b-83be-394e5dbd9bb1');\n",
              "          const dataTable =\n",
              "            await google.colab.kernel.invokeFunction('convertToInteractive',\n",
              "                                                     [key], {});\n",
              "          if (!dataTable) return;\n",
              "\n",
              "          const docLinkHtml = 'Like what you see? Visit the ' +\n",
              "            '<a target=\"_blank\" href=https://colab.research.google.com/notebooks/data_table.ipynb>data table notebook</a>'\n",
              "            + ' to learn more about interactive tables.';\n",
              "          element.innerHTML = '';\n",
              "          dataTable['output_type'] = 'display_data';\n",
              "          await google.colab.output.renderOutput(dataTable, element);\n",
              "          const docLink = document.createElement('div');\n",
              "          docLink.innerHTML = docLinkHtml;\n",
              "          element.appendChild(docLink);\n",
              "        }\n",
              "      </script>\n",
              "    </div>\n",
              "  </div>\n",
              "  "
            ]
          },
          "metadata": {},
          "execution_count": 63
        }
      ]
    },
    {
      "cell_type": "code",
      "metadata": {
        "id": "yi_-YPdspzJP",
        "colab": {
          "base_uri": "https://localhost:8080/",
          "height": 206
        },
        "outputId": "c44092a6-8e5e-4c0f-aa7f-3c329535321b"
      },
      "source": [
        "x_train_num_std = pd.DataFrame(standardizer.transform(x_train_numerical))\n",
        "x_train_num_std.head()"
      ],
      "execution_count": 64,
      "outputs": [
        {
          "output_type": "execute_result",
          "data": {
            "text/plain": [
              "          0         1         2         3         4\n",
              "0 -0.253599 -0.122102 -0.121486 -0.594508 -1.215952\n",
              "1 -0.333161  0.071237  0.085906  0.103957  0.236090\n",
              "2 -0.337225  0.016706  0.022536 -0.594508 -0.489931\n",
              "3 -0.295426 -0.151846 -0.156051 -0.594508 -0.489931\n",
              "4 -0.168835 -0.161761 -0.167573  0.802422  0.962110"
            ],
            "text/html": [
              "\n",
              "  <div id=\"df-861ea3eb-618b-406b-915d-12307f8068d0\">\n",
              "    <div class=\"colab-df-container\">\n",
              "      <div>\n",
              "<style scoped>\n",
              "    .dataframe tbody tr th:only-of-type {\n",
              "        vertical-align: middle;\n",
              "    }\n",
              "\n",
              "    .dataframe tbody tr th {\n",
              "        vertical-align: top;\n",
              "    }\n",
              "\n",
              "    .dataframe thead th {\n",
              "        text-align: right;\n",
              "    }\n",
              "</style>\n",
              "<table border=\"1\" class=\"dataframe\">\n",
              "  <thead>\n",
              "    <tr style=\"text-align: right;\">\n",
              "      <th></th>\n",
              "      <th>0</th>\n",
              "      <th>1</th>\n",
              "      <th>2</th>\n",
              "      <th>3</th>\n",
              "      <th>4</th>\n",
              "    </tr>\n",
              "  </thead>\n",
              "  <tbody>\n",
              "    <tr>\n",
              "      <th>0</th>\n",
              "      <td>-0.253599</td>\n",
              "      <td>-0.122102</td>\n",
              "      <td>-0.121486</td>\n",
              "      <td>-0.594508</td>\n",
              "      <td>-1.215952</td>\n",
              "    </tr>\n",
              "    <tr>\n",
              "      <th>1</th>\n",
              "      <td>-0.333161</td>\n",
              "      <td>0.071237</td>\n",
              "      <td>0.085906</td>\n",
              "      <td>0.103957</td>\n",
              "      <td>0.236090</td>\n",
              "    </tr>\n",
              "    <tr>\n",
              "      <th>2</th>\n",
              "      <td>-0.337225</td>\n",
              "      <td>0.016706</td>\n",
              "      <td>0.022536</td>\n",
              "      <td>-0.594508</td>\n",
              "      <td>-0.489931</td>\n",
              "    </tr>\n",
              "    <tr>\n",
              "      <th>3</th>\n",
              "      <td>-0.295426</td>\n",
              "      <td>-0.151846</td>\n",
              "      <td>-0.156051</td>\n",
              "      <td>-0.594508</td>\n",
              "      <td>-0.489931</td>\n",
              "    </tr>\n",
              "    <tr>\n",
              "      <th>4</th>\n",
              "      <td>-0.168835</td>\n",
              "      <td>-0.161761</td>\n",
              "      <td>-0.167573</td>\n",
              "      <td>0.802422</td>\n",
              "      <td>0.962110</td>\n",
              "    </tr>\n",
              "  </tbody>\n",
              "</table>\n",
              "</div>\n",
              "      <button class=\"colab-df-convert\" onclick=\"convertToInteractive('df-861ea3eb-618b-406b-915d-12307f8068d0')\"\n",
              "              title=\"Convert this dataframe to an interactive table.\"\n",
              "              style=\"display:none;\">\n",
              "        \n",
              "  <svg xmlns=\"http://www.w3.org/2000/svg\" height=\"24px\"viewBox=\"0 0 24 24\"\n",
              "       width=\"24px\">\n",
              "    <path d=\"M0 0h24v24H0V0z\" fill=\"none\"/>\n",
              "    <path d=\"M18.56 5.44l.94 2.06.94-2.06 2.06-.94-2.06-.94-.94-2.06-.94 2.06-2.06.94zm-11 1L8.5 8.5l.94-2.06 2.06-.94-2.06-.94L8.5 2.5l-.94 2.06-2.06.94zm10 10l.94 2.06.94-2.06 2.06-.94-2.06-.94-.94-2.06-.94 2.06-2.06.94z\"/><path d=\"M17.41 7.96l-1.37-1.37c-.4-.4-.92-.59-1.43-.59-.52 0-1.04.2-1.43.59L10.3 9.45l-7.72 7.72c-.78.78-.78 2.05 0 2.83L4 21.41c.39.39.9.59 1.41.59.51 0 1.02-.2 1.41-.59l7.78-7.78 2.81-2.81c.8-.78.8-2.07 0-2.86zM5.41 20L4 18.59l7.72-7.72 1.47 1.35L5.41 20z\"/>\n",
              "  </svg>\n",
              "      </button>\n",
              "      \n",
              "  <style>\n",
              "    .colab-df-container {\n",
              "      display:flex;\n",
              "      flex-wrap:wrap;\n",
              "      gap: 12px;\n",
              "    }\n",
              "\n",
              "    .colab-df-convert {\n",
              "      background-color: #E8F0FE;\n",
              "      border: none;\n",
              "      border-radius: 50%;\n",
              "      cursor: pointer;\n",
              "      display: none;\n",
              "      fill: #1967D2;\n",
              "      height: 32px;\n",
              "      padding: 0 0 0 0;\n",
              "      width: 32px;\n",
              "    }\n",
              "\n",
              "    .colab-df-convert:hover {\n",
              "      background-color: #E2EBFA;\n",
              "      box-shadow: 0px 1px 2px rgba(60, 64, 67, 0.3), 0px 1px 3px 1px rgba(60, 64, 67, 0.15);\n",
              "      fill: #174EA6;\n",
              "    }\n",
              "\n",
              "    [theme=dark] .colab-df-convert {\n",
              "      background-color: #3B4455;\n",
              "      fill: #D2E3FC;\n",
              "    }\n",
              "\n",
              "    [theme=dark] .colab-df-convert:hover {\n",
              "      background-color: #434B5C;\n",
              "      box-shadow: 0px 1px 3px 1px rgba(0, 0, 0, 0.15);\n",
              "      filter: drop-shadow(0px 1px 2px rgba(0, 0, 0, 0.3));\n",
              "      fill: #FFFFFF;\n",
              "    }\n",
              "  </style>\n",
              "\n",
              "      <script>\n",
              "        const buttonEl =\n",
              "          document.querySelector('#df-861ea3eb-618b-406b-915d-12307f8068d0 button.colab-df-convert');\n",
              "        buttonEl.style.display =\n",
              "          google.colab.kernel.accessAllowed ? 'block' : 'none';\n",
              "\n",
              "        async function convertToInteractive(key) {\n",
              "          const element = document.querySelector('#df-861ea3eb-618b-406b-915d-12307f8068d0');\n",
              "          const dataTable =\n",
              "            await google.colab.kernel.invokeFunction('convertToInteractive',\n",
              "                                                     [key], {});\n",
              "          if (!dataTable) return;\n",
              "\n",
              "          const docLinkHtml = 'Like what you see? Visit the ' +\n",
              "            '<a target=\"_blank\" href=https://colab.research.google.com/notebooks/data_table.ipynb>data table notebook</a>'\n",
              "            + ' to learn more about interactive tables.';\n",
              "          element.innerHTML = '';\n",
              "          dataTable['output_type'] = 'display_data';\n",
              "          await google.colab.output.renderOutput(dataTable, element);\n",
              "          const docLink = document.createElement('div');\n",
              "          docLink.innerHTML = docLinkHtml;\n",
              "          element.appendChild(docLink);\n",
              "        }\n",
              "      </script>\n",
              "    </div>\n",
              "  </div>\n",
              "  "
            ]
          },
          "metadata": {},
          "execution_count": 64
        }
      ]
    },
    {
      "cell_type": "code",
      "metadata": {
        "id": "xhnbx2Xxqbcv",
        "colab": {
          "base_uri": "https://localhost:8080/",
          "height": 206
        },
        "outputId": "3f3ade1a-9ec3-4598-e066-bb1a2a0a0694"
      },
      "source": [
        "x_train_num_std.columns = x_train_numerical.columns\n",
        "x_train_num_std.index   = x_train_numerical.index\n",
        "x_train_num_std.head()"
      ],
      "execution_count": 65,
      "outputs": [
        {
          "output_type": "execute_result",
          "data": {
            "text/plain": [
              "          delta_days  history_seen  history_correct  session_seen  \\\n",
              "5209146    -0.253599     -0.122102        -0.121486     -0.594508   \n",
              "12391706   -0.333161      0.071237         0.085906      0.103957   \n",
              "8938738    -0.337225      0.016706         0.022536     -0.594508   \n",
              "5457519    -0.295426     -0.151846        -0.156051     -0.594508   \n",
              "10650847   -0.168835     -0.161761        -0.167573      0.802422   \n",
              "\n",
              "          session_correct  \n",
              "5209146         -1.215952  \n",
              "12391706         0.236090  \n",
              "8938738         -0.489931  \n",
              "5457519         -0.489931  \n",
              "10650847         0.962110  "
            ],
            "text/html": [
              "\n",
              "  <div id=\"df-126e870b-f49a-4d79-b2dd-64ea9c61e35d\">\n",
              "    <div class=\"colab-df-container\">\n",
              "      <div>\n",
              "<style scoped>\n",
              "    .dataframe tbody tr th:only-of-type {\n",
              "        vertical-align: middle;\n",
              "    }\n",
              "\n",
              "    .dataframe tbody tr th {\n",
              "        vertical-align: top;\n",
              "    }\n",
              "\n",
              "    .dataframe thead th {\n",
              "        text-align: right;\n",
              "    }\n",
              "</style>\n",
              "<table border=\"1\" class=\"dataframe\">\n",
              "  <thead>\n",
              "    <tr style=\"text-align: right;\">\n",
              "      <th></th>\n",
              "      <th>delta_days</th>\n",
              "      <th>history_seen</th>\n",
              "      <th>history_correct</th>\n",
              "      <th>session_seen</th>\n",
              "      <th>session_correct</th>\n",
              "    </tr>\n",
              "  </thead>\n",
              "  <tbody>\n",
              "    <tr>\n",
              "      <th>5209146</th>\n",
              "      <td>-0.253599</td>\n",
              "      <td>-0.122102</td>\n",
              "      <td>-0.121486</td>\n",
              "      <td>-0.594508</td>\n",
              "      <td>-1.215952</td>\n",
              "    </tr>\n",
              "    <tr>\n",
              "      <th>12391706</th>\n",
              "      <td>-0.333161</td>\n",
              "      <td>0.071237</td>\n",
              "      <td>0.085906</td>\n",
              "      <td>0.103957</td>\n",
              "      <td>0.236090</td>\n",
              "    </tr>\n",
              "    <tr>\n",
              "      <th>8938738</th>\n",
              "      <td>-0.337225</td>\n",
              "      <td>0.016706</td>\n",
              "      <td>0.022536</td>\n",
              "      <td>-0.594508</td>\n",
              "      <td>-0.489931</td>\n",
              "    </tr>\n",
              "    <tr>\n",
              "      <th>5457519</th>\n",
              "      <td>-0.295426</td>\n",
              "      <td>-0.151846</td>\n",
              "      <td>-0.156051</td>\n",
              "      <td>-0.594508</td>\n",
              "      <td>-0.489931</td>\n",
              "    </tr>\n",
              "    <tr>\n",
              "      <th>10650847</th>\n",
              "      <td>-0.168835</td>\n",
              "      <td>-0.161761</td>\n",
              "      <td>-0.167573</td>\n",
              "      <td>0.802422</td>\n",
              "      <td>0.962110</td>\n",
              "    </tr>\n",
              "  </tbody>\n",
              "</table>\n",
              "</div>\n",
              "      <button class=\"colab-df-convert\" onclick=\"convertToInteractive('df-126e870b-f49a-4d79-b2dd-64ea9c61e35d')\"\n",
              "              title=\"Convert this dataframe to an interactive table.\"\n",
              "              style=\"display:none;\">\n",
              "        \n",
              "  <svg xmlns=\"http://www.w3.org/2000/svg\" height=\"24px\"viewBox=\"0 0 24 24\"\n",
              "       width=\"24px\">\n",
              "    <path d=\"M0 0h24v24H0V0z\" fill=\"none\"/>\n",
              "    <path d=\"M18.56 5.44l.94 2.06.94-2.06 2.06-.94-2.06-.94-.94-2.06-.94 2.06-2.06.94zm-11 1L8.5 8.5l.94-2.06 2.06-.94-2.06-.94L8.5 2.5l-.94 2.06-2.06.94zm10 10l.94 2.06.94-2.06 2.06-.94-2.06-.94-.94-2.06-.94 2.06-2.06.94z\"/><path d=\"M17.41 7.96l-1.37-1.37c-.4-.4-.92-.59-1.43-.59-.52 0-1.04.2-1.43.59L10.3 9.45l-7.72 7.72c-.78.78-.78 2.05 0 2.83L4 21.41c.39.39.9.59 1.41.59.51 0 1.02-.2 1.41-.59l7.78-7.78 2.81-2.81c.8-.78.8-2.07 0-2.86zM5.41 20L4 18.59l7.72-7.72 1.47 1.35L5.41 20z\"/>\n",
              "  </svg>\n",
              "      </button>\n",
              "      \n",
              "  <style>\n",
              "    .colab-df-container {\n",
              "      display:flex;\n",
              "      flex-wrap:wrap;\n",
              "      gap: 12px;\n",
              "    }\n",
              "\n",
              "    .colab-df-convert {\n",
              "      background-color: #E8F0FE;\n",
              "      border: none;\n",
              "      border-radius: 50%;\n",
              "      cursor: pointer;\n",
              "      display: none;\n",
              "      fill: #1967D2;\n",
              "      height: 32px;\n",
              "      padding: 0 0 0 0;\n",
              "      width: 32px;\n",
              "    }\n",
              "\n",
              "    .colab-df-convert:hover {\n",
              "      background-color: #E2EBFA;\n",
              "      box-shadow: 0px 1px 2px rgba(60, 64, 67, 0.3), 0px 1px 3px 1px rgba(60, 64, 67, 0.15);\n",
              "      fill: #174EA6;\n",
              "    }\n",
              "\n",
              "    [theme=dark] .colab-df-convert {\n",
              "      background-color: #3B4455;\n",
              "      fill: #D2E3FC;\n",
              "    }\n",
              "\n",
              "    [theme=dark] .colab-df-convert:hover {\n",
              "      background-color: #434B5C;\n",
              "      box-shadow: 0px 1px 3px 1px rgba(0, 0, 0, 0.15);\n",
              "      filter: drop-shadow(0px 1px 2px rgba(0, 0, 0, 0.3));\n",
              "      fill: #FFFFFF;\n",
              "    }\n",
              "  </style>\n",
              "\n",
              "      <script>\n",
              "        const buttonEl =\n",
              "          document.querySelector('#df-126e870b-f49a-4d79-b2dd-64ea9c61e35d button.colab-df-convert');\n",
              "        buttonEl.style.display =\n",
              "          google.colab.kernel.accessAllowed ? 'block' : 'none';\n",
              "\n",
              "        async function convertToInteractive(key) {\n",
              "          const element = document.querySelector('#df-126e870b-f49a-4d79-b2dd-64ea9c61e35d');\n",
              "          const dataTable =\n",
              "            await google.colab.kernel.invokeFunction('convertToInteractive',\n",
              "                                                     [key], {});\n",
              "          if (!dataTable) return;\n",
              "\n",
              "          const docLinkHtml = 'Like what you see? Visit the ' +\n",
              "            '<a target=\"_blank\" href=https://colab.research.google.com/notebooks/data_table.ipynb>data table notebook</a>'\n",
              "            + ' to learn more about interactive tables.';\n",
              "          element.innerHTML = '';\n",
              "          dataTable['output_type'] = 'display_data';\n",
              "          await google.colab.output.renderOutput(dataTable, element);\n",
              "          const docLink = document.createElement('div');\n",
              "          docLink.innerHTML = docLinkHtml;\n",
              "          element.appendChild(docLink);\n",
              "        }\n",
              "      </script>\n",
              "    </div>\n",
              "  </div>\n",
              "  "
            ]
          },
          "metadata": {},
          "execution_count": 65
        }
      ]
    },
    {
      "cell_type": "markdown",
      "metadata": {
        "id": "GSMUnIH4cMwV"
      },
      "source": [
        "### categorical"
      ]
    },
    {
      "cell_type": "code",
      "metadata": {
        "id": "cNPaw-rphkrd",
        "colab": {
          "base_uri": "https://localhost:8080/"
        },
        "outputId": "7adb42e9-31fa-4630-cc60-25e04733da68"
      },
      "source": [
        "pip install category_encoders"
      ],
      "execution_count": 66,
      "outputs": [
        {
          "output_type": "stream",
          "name": "stdout",
          "text": [
            "Looking in indexes: https://pypi.org/simple, https://us-python.pkg.dev/colab-wheels/public/simple/\n",
            "Requirement already satisfied: category_encoders in /usr/local/lib/python3.7/dist-packages (2.5.0)\n",
            "Requirement already satisfied: numpy>=1.14.0 in /usr/local/lib/python3.7/dist-packages (from category_encoders) (1.21.6)\n",
            "Requirement already satisfied: pandas>=1.0.5 in /usr/local/lib/python3.7/dist-packages (from category_encoders) (1.3.5)\n",
            "Requirement already satisfied: patsy>=0.5.1 in /usr/local/lib/python3.7/dist-packages (from category_encoders) (0.5.2)\n",
            "Requirement already satisfied: statsmodels>=0.9.0 in /usr/local/lib/python3.7/dist-packages (from category_encoders) (0.10.2)\n",
            "Requirement already satisfied: scipy>=1.0.0 in /usr/local/lib/python3.7/dist-packages (from category_encoders) (1.4.1)\n",
            "Requirement already satisfied: scikit-learn>=0.20.0 in /usr/local/lib/python3.7/dist-packages (from category_encoders) (1.0.2)\n",
            "Requirement already satisfied: python-dateutil>=2.7.3 in /usr/local/lib/python3.7/dist-packages (from pandas>=1.0.5->category_encoders) (2.8.2)\n",
            "Requirement already satisfied: pytz>=2017.3 in /usr/local/lib/python3.7/dist-packages (from pandas>=1.0.5->category_encoders) (2022.1)\n",
            "Requirement already satisfied: six in /usr/local/lib/python3.7/dist-packages (from patsy>=0.5.1->category_encoders) (1.15.0)\n",
            "Requirement already satisfied: joblib>=0.11 in /usr/local/lib/python3.7/dist-packages (from scikit-learn>=0.20.0->category_encoders) (1.1.0)\n",
            "Requirement already satisfied: threadpoolctl>=2.0.0 in /usr/local/lib/python3.7/dist-packages (from scikit-learn>=0.20.0->category_encoders) (3.1.0)\n"
          ]
        }
      ]
    },
    {
      "cell_type": "code",
      "metadata": {
        "id": "U0WPY_tHe9ZR",
        "colab": {
          "base_uri": "https://localhost:8080/"
        },
        "outputId": "0a811380-a877-4fed-cf30-dc52f794ca2a"
      },
      "source": [
        "x_train_categorical_ce = x_train_categorical.copy()\n",
        "\n",
        "import category_encoders as ce"
      ],
      "execution_count": 67,
      "outputs": [
        {
          "output_type": "stream",
          "name": "stderr",
          "text": [
            "/usr/local/lib/python3.7/dist-packages/statsmodels/tools/_testing.py:19: FutureWarning: pandas.util.testing is deprecated. Use the functions in the public API at pandas.testing instead.\n",
            "  import pandas.util.testing as tm\n"
          ]
        }
      ]
    },
    {
      "cell_type": "code",
      "metadata": {
        "id": "Nck6w654FSrG",
        "colab": {
          "base_uri": "https://localhost:8080/",
          "height": 206
        },
        "outputId": "581811ca-ddd0-43c7-eab0-461820fedba7"
      },
      "source": [
        "x_train_categorical.head()"
      ],
      "execution_count": 68,
      "outputs": [
        {
          "output_type": "execute_result",
          "data": {
            "text/plain": [
              "         ui_language                 lexeme_string\n",
              "5209146           es            horse/horse<n><sg>\n",
              "12391706          es      drink/drink<vblex><pres>\n",
              "8938738           es  motorcycle/motorcycle<n><sg>\n",
              "5457519           pt          dinner/dinner<n><sg>\n",
              "10650847          es              crab/crab<n><sg>"
            ],
            "text/html": [
              "\n",
              "  <div id=\"df-b81e4949-4c3a-4960-aea7-6c31c4150298\">\n",
              "    <div class=\"colab-df-container\">\n",
              "      <div>\n",
              "<style scoped>\n",
              "    .dataframe tbody tr th:only-of-type {\n",
              "        vertical-align: middle;\n",
              "    }\n",
              "\n",
              "    .dataframe tbody tr th {\n",
              "        vertical-align: top;\n",
              "    }\n",
              "\n",
              "    .dataframe thead th {\n",
              "        text-align: right;\n",
              "    }\n",
              "</style>\n",
              "<table border=\"1\" class=\"dataframe\">\n",
              "  <thead>\n",
              "    <tr style=\"text-align: right;\">\n",
              "      <th></th>\n",
              "      <th>ui_language</th>\n",
              "      <th>lexeme_string</th>\n",
              "    </tr>\n",
              "  </thead>\n",
              "  <tbody>\n",
              "    <tr>\n",
              "      <th>5209146</th>\n",
              "      <td>es</td>\n",
              "      <td>horse/horse&lt;n&gt;&lt;sg&gt;</td>\n",
              "    </tr>\n",
              "    <tr>\n",
              "      <th>12391706</th>\n",
              "      <td>es</td>\n",
              "      <td>drink/drink&lt;vblex&gt;&lt;pres&gt;</td>\n",
              "    </tr>\n",
              "    <tr>\n",
              "      <th>8938738</th>\n",
              "      <td>es</td>\n",
              "      <td>motorcycle/motorcycle&lt;n&gt;&lt;sg&gt;</td>\n",
              "    </tr>\n",
              "    <tr>\n",
              "      <th>5457519</th>\n",
              "      <td>pt</td>\n",
              "      <td>dinner/dinner&lt;n&gt;&lt;sg&gt;</td>\n",
              "    </tr>\n",
              "    <tr>\n",
              "      <th>10650847</th>\n",
              "      <td>es</td>\n",
              "      <td>crab/crab&lt;n&gt;&lt;sg&gt;</td>\n",
              "    </tr>\n",
              "  </tbody>\n",
              "</table>\n",
              "</div>\n",
              "      <button class=\"colab-df-convert\" onclick=\"convertToInteractive('df-b81e4949-4c3a-4960-aea7-6c31c4150298')\"\n",
              "              title=\"Convert this dataframe to an interactive table.\"\n",
              "              style=\"display:none;\">\n",
              "        \n",
              "  <svg xmlns=\"http://www.w3.org/2000/svg\" height=\"24px\"viewBox=\"0 0 24 24\"\n",
              "       width=\"24px\">\n",
              "    <path d=\"M0 0h24v24H0V0z\" fill=\"none\"/>\n",
              "    <path d=\"M18.56 5.44l.94 2.06.94-2.06 2.06-.94-2.06-.94-.94-2.06-.94 2.06-2.06.94zm-11 1L8.5 8.5l.94-2.06 2.06-.94-2.06-.94L8.5 2.5l-.94 2.06-2.06.94zm10 10l.94 2.06.94-2.06 2.06-.94-2.06-.94-.94-2.06-.94 2.06-2.06.94z\"/><path d=\"M17.41 7.96l-1.37-1.37c-.4-.4-.92-.59-1.43-.59-.52 0-1.04.2-1.43.59L10.3 9.45l-7.72 7.72c-.78.78-.78 2.05 0 2.83L4 21.41c.39.39.9.59 1.41.59.51 0 1.02-.2 1.41-.59l7.78-7.78 2.81-2.81c.8-.78.8-2.07 0-2.86zM5.41 20L4 18.59l7.72-7.72 1.47 1.35L5.41 20z\"/>\n",
              "  </svg>\n",
              "      </button>\n",
              "      \n",
              "  <style>\n",
              "    .colab-df-container {\n",
              "      display:flex;\n",
              "      flex-wrap:wrap;\n",
              "      gap: 12px;\n",
              "    }\n",
              "\n",
              "    .colab-df-convert {\n",
              "      background-color: #E8F0FE;\n",
              "      border: none;\n",
              "      border-radius: 50%;\n",
              "      cursor: pointer;\n",
              "      display: none;\n",
              "      fill: #1967D2;\n",
              "      height: 32px;\n",
              "      padding: 0 0 0 0;\n",
              "      width: 32px;\n",
              "    }\n",
              "\n",
              "    .colab-df-convert:hover {\n",
              "      background-color: #E2EBFA;\n",
              "      box-shadow: 0px 1px 2px rgba(60, 64, 67, 0.3), 0px 1px 3px 1px rgba(60, 64, 67, 0.15);\n",
              "      fill: #174EA6;\n",
              "    }\n",
              "\n",
              "    [theme=dark] .colab-df-convert {\n",
              "      background-color: #3B4455;\n",
              "      fill: #D2E3FC;\n",
              "    }\n",
              "\n",
              "    [theme=dark] .colab-df-convert:hover {\n",
              "      background-color: #434B5C;\n",
              "      box-shadow: 0px 1px 3px 1px rgba(0, 0, 0, 0.15);\n",
              "      filter: drop-shadow(0px 1px 2px rgba(0, 0, 0, 0.3));\n",
              "      fill: #FFFFFF;\n",
              "    }\n",
              "  </style>\n",
              "\n",
              "      <script>\n",
              "        const buttonEl =\n",
              "          document.querySelector('#df-b81e4949-4c3a-4960-aea7-6c31c4150298 button.colab-df-convert');\n",
              "        buttonEl.style.display =\n",
              "          google.colab.kernel.accessAllowed ? 'block' : 'none';\n",
              "\n",
              "        async function convertToInteractive(key) {\n",
              "          const element = document.querySelector('#df-b81e4949-4c3a-4960-aea7-6c31c4150298');\n",
              "          const dataTable =\n",
              "            await google.colab.kernel.invokeFunction('convertToInteractive',\n",
              "                                                     [key], {});\n",
              "          if (!dataTable) return;\n",
              "\n",
              "          const docLinkHtml = 'Like what you see? Visit the ' +\n",
              "            '<a target=\"_blank\" href=https://colab.research.google.com/notebooks/data_table.ipynb>data table notebook</a>'\n",
              "            + ' to learn more about interactive tables.';\n",
              "          element.innerHTML = '';\n",
              "          dataTable['output_type'] = 'display_data';\n",
              "          await google.colab.output.renderOutput(dataTable, element);\n",
              "          const docLink = document.createElement('div');\n",
              "          docLink.innerHTML = docLinkHtml;\n",
              "          element.appendChild(docLink);\n",
              "        }\n",
              "      </script>\n",
              "    </div>\n",
              "  </div>\n",
              "  "
            ]
          },
          "metadata": {},
          "execution_count": 68
        }
      ]
    },
    {
      "cell_type": "code",
      "metadata": {
        "id": "6vE_whH8fu_a",
        "colab": {
          "base_uri": "https://localhost:8080/",
          "height": 270
        },
        "outputId": "1ff97135-72e4-49c5-9c85-032e1ac5e977"
      },
      "source": [
        "encoder = ce.BinaryEncoder(cols=['ui_language',\"lexeme_string\"])\n",
        "df_binary = encoder.fit_transform(x_train_categorical_ce)\n",
        "\n",
        "df_binary.head()"
      ],
      "execution_count": 69,
      "outputs": [
        {
          "output_type": "execute_result",
          "data": {
            "text/plain": [
              "          ui_language_0  ui_language_1  lexeme_string_0  lexeme_string_1  \\\n",
              "5209146               0              1                0                0   \n",
              "12391706              0              1                0                0   \n",
              "8938738               0              1                0                0   \n",
              "5457519               1              0                0                0   \n",
              "10650847              0              1                0                0   \n",
              "\n",
              "          lexeme_string_2  lexeme_string_3  lexeme_string_4  lexeme_string_5  \\\n",
              "5209146                 0                0                0                0   \n",
              "12391706                0                0                0                0   \n",
              "8938738                 0                0                0                0   \n",
              "5457519                 0                0                0                0   \n",
              "10650847                0                0                0                0   \n",
              "\n",
              "          lexeme_string_6  lexeme_string_7  lexeme_string_8  lexeme_string_9  \\\n",
              "5209146                 0                0                0                0   \n",
              "12391706                0                0                0                0   \n",
              "8938738                 0                0                0                0   \n",
              "5457519                 0                0                0                1   \n",
              "10650847                0                0                0                1   \n",
              "\n",
              "          lexeme_string_10  lexeme_string_11  \n",
              "5209146                  0                 1  \n",
              "12391706                 1                 0  \n",
              "8938738                  1                 1  \n",
              "5457519                  0                 0  \n",
              "10650847                 0                 1  "
            ],
            "text/html": [
              "\n",
              "  <div id=\"df-a20fe2ca-8c7f-4586-ac0c-f450954bf4b0\">\n",
              "    <div class=\"colab-df-container\">\n",
              "      <div>\n",
              "<style scoped>\n",
              "    .dataframe tbody tr th:only-of-type {\n",
              "        vertical-align: middle;\n",
              "    }\n",
              "\n",
              "    .dataframe tbody tr th {\n",
              "        vertical-align: top;\n",
              "    }\n",
              "\n",
              "    .dataframe thead th {\n",
              "        text-align: right;\n",
              "    }\n",
              "</style>\n",
              "<table border=\"1\" class=\"dataframe\">\n",
              "  <thead>\n",
              "    <tr style=\"text-align: right;\">\n",
              "      <th></th>\n",
              "      <th>ui_language_0</th>\n",
              "      <th>ui_language_1</th>\n",
              "      <th>lexeme_string_0</th>\n",
              "      <th>lexeme_string_1</th>\n",
              "      <th>lexeme_string_2</th>\n",
              "      <th>lexeme_string_3</th>\n",
              "      <th>lexeme_string_4</th>\n",
              "      <th>lexeme_string_5</th>\n",
              "      <th>lexeme_string_6</th>\n",
              "      <th>lexeme_string_7</th>\n",
              "      <th>lexeme_string_8</th>\n",
              "      <th>lexeme_string_9</th>\n",
              "      <th>lexeme_string_10</th>\n",
              "      <th>lexeme_string_11</th>\n",
              "    </tr>\n",
              "  </thead>\n",
              "  <tbody>\n",
              "    <tr>\n",
              "      <th>5209146</th>\n",
              "      <td>0</td>\n",
              "      <td>1</td>\n",
              "      <td>0</td>\n",
              "      <td>0</td>\n",
              "      <td>0</td>\n",
              "      <td>0</td>\n",
              "      <td>0</td>\n",
              "      <td>0</td>\n",
              "      <td>0</td>\n",
              "      <td>0</td>\n",
              "      <td>0</td>\n",
              "      <td>0</td>\n",
              "      <td>0</td>\n",
              "      <td>1</td>\n",
              "    </tr>\n",
              "    <tr>\n",
              "      <th>12391706</th>\n",
              "      <td>0</td>\n",
              "      <td>1</td>\n",
              "      <td>0</td>\n",
              "      <td>0</td>\n",
              "      <td>0</td>\n",
              "      <td>0</td>\n",
              "      <td>0</td>\n",
              "      <td>0</td>\n",
              "      <td>0</td>\n",
              "      <td>0</td>\n",
              "      <td>0</td>\n",
              "      <td>0</td>\n",
              "      <td>1</td>\n",
              "      <td>0</td>\n",
              "    </tr>\n",
              "    <tr>\n",
              "      <th>8938738</th>\n",
              "      <td>0</td>\n",
              "      <td>1</td>\n",
              "      <td>0</td>\n",
              "      <td>0</td>\n",
              "      <td>0</td>\n",
              "      <td>0</td>\n",
              "      <td>0</td>\n",
              "      <td>0</td>\n",
              "      <td>0</td>\n",
              "      <td>0</td>\n",
              "      <td>0</td>\n",
              "      <td>0</td>\n",
              "      <td>1</td>\n",
              "      <td>1</td>\n",
              "    </tr>\n",
              "    <tr>\n",
              "      <th>5457519</th>\n",
              "      <td>1</td>\n",
              "      <td>0</td>\n",
              "      <td>0</td>\n",
              "      <td>0</td>\n",
              "      <td>0</td>\n",
              "      <td>0</td>\n",
              "      <td>0</td>\n",
              "      <td>0</td>\n",
              "      <td>0</td>\n",
              "      <td>0</td>\n",
              "      <td>0</td>\n",
              "      <td>1</td>\n",
              "      <td>0</td>\n",
              "      <td>0</td>\n",
              "    </tr>\n",
              "    <tr>\n",
              "      <th>10650847</th>\n",
              "      <td>0</td>\n",
              "      <td>1</td>\n",
              "      <td>0</td>\n",
              "      <td>0</td>\n",
              "      <td>0</td>\n",
              "      <td>0</td>\n",
              "      <td>0</td>\n",
              "      <td>0</td>\n",
              "      <td>0</td>\n",
              "      <td>0</td>\n",
              "      <td>0</td>\n",
              "      <td>1</td>\n",
              "      <td>0</td>\n",
              "      <td>1</td>\n",
              "    </tr>\n",
              "  </tbody>\n",
              "</table>\n",
              "</div>\n",
              "      <button class=\"colab-df-convert\" onclick=\"convertToInteractive('df-a20fe2ca-8c7f-4586-ac0c-f450954bf4b0')\"\n",
              "              title=\"Convert this dataframe to an interactive table.\"\n",
              "              style=\"display:none;\">\n",
              "        \n",
              "  <svg xmlns=\"http://www.w3.org/2000/svg\" height=\"24px\"viewBox=\"0 0 24 24\"\n",
              "       width=\"24px\">\n",
              "    <path d=\"M0 0h24v24H0V0z\" fill=\"none\"/>\n",
              "    <path d=\"M18.56 5.44l.94 2.06.94-2.06 2.06-.94-2.06-.94-.94-2.06-.94 2.06-2.06.94zm-11 1L8.5 8.5l.94-2.06 2.06-.94-2.06-.94L8.5 2.5l-.94 2.06-2.06.94zm10 10l.94 2.06.94-2.06 2.06-.94-2.06-.94-.94-2.06-.94 2.06-2.06.94z\"/><path d=\"M17.41 7.96l-1.37-1.37c-.4-.4-.92-.59-1.43-.59-.52 0-1.04.2-1.43.59L10.3 9.45l-7.72 7.72c-.78.78-.78 2.05 0 2.83L4 21.41c.39.39.9.59 1.41.59.51 0 1.02-.2 1.41-.59l7.78-7.78 2.81-2.81c.8-.78.8-2.07 0-2.86zM5.41 20L4 18.59l7.72-7.72 1.47 1.35L5.41 20z\"/>\n",
              "  </svg>\n",
              "      </button>\n",
              "      \n",
              "  <style>\n",
              "    .colab-df-container {\n",
              "      display:flex;\n",
              "      flex-wrap:wrap;\n",
              "      gap: 12px;\n",
              "    }\n",
              "\n",
              "    .colab-df-convert {\n",
              "      background-color: #E8F0FE;\n",
              "      border: none;\n",
              "      border-radius: 50%;\n",
              "      cursor: pointer;\n",
              "      display: none;\n",
              "      fill: #1967D2;\n",
              "      height: 32px;\n",
              "      padding: 0 0 0 0;\n",
              "      width: 32px;\n",
              "    }\n",
              "\n",
              "    .colab-df-convert:hover {\n",
              "      background-color: #E2EBFA;\n",
              "      box-shadow: 0px 1px 2px rgba(60, 64, 67, 0.3), 0px 1px 3px 1px rgba(60, 64, 67, 0.15);\n",
              "      fill: #174EA6;\n",
              "    }\n",
              "\n",
              "    [theme=dark] .colab-df-convert {\n",
              "      background-color: #3B4455;\n",
              "      fill: #D2E3FC;\n",
              "    }\n",
              "\n",
              "    [theme=dark] .colab-df-convert:hover {\n",
              "      background-color: #434B5C;\n",
              "      box-shadow: 0px 1px 3px 1px rgba(0, 0, 0, 0.15);\n",
              "      filter: drop-shadow(0px 1px 2px rgba(0, 0, 0, 0.3));\n",
              "      fill: #FFFFFF;\n",
              "    }\n",
              "  </style>\n",
              "\n",
              "      <script>\n",
              "        const buttonEl =\n",
              "          document.querySelector('#df-a20fe2ca-8c7f-4586-ac0c-f450954bf4b0 button.colab-df-convert');\n",
              "        buttonEl.style.display =\n",
              "          google.colab.kernel.accessAllowed ? 'block' : 'none';\n",
              "\n",
              "        async function convertToInteractive(key) {\n",
              "          const element = document.querySelector('#df-a20fe2ca-8c7f-4586-ac0c-f450954bf4b0');\n",
              "          const dataTable =\n",
              "            await google.colab.kernel.invokeFunction('convertToInteractive',\n",
              "                                                     [key], {});\n",
              "          if (!dataTable) return;\n",
              "\n",
              "          const docLinkHtml = 'Like what you see? Visit the ' +\n",
              "            '<a target=\"_blank\" href=https://colab.research.google.com/notebooks/data_table.ipynb>data table notebook</a>'\n",
              "            + ' to learn more about interactive tables.';\n",
              "          element.innerHTML = '';\n",
              "          dataTable['output_type'] = 'display_data';\n",
              "          await google.colab.output.renderOutput(dataTable, element);\n",
              "          const docLink = document.createElement('div');\n",
              "          docLink.innerHTML = docLinkHtml;\n",
              "          element.appendChild(docLink);\n",
              "        }\n",
              "      </script>\n",
              "    </div>\n",
              "  </div>\n",
              "  "
            ]
          },
          "metadata": {},
          "execution_count": 69
        }
      ]
    },
    {
      "cell_type": "code",
      "metadata": {
        "id": "ITHVfmfRCinH",
        "colab": {
          "base_uri": "https://localhost:8080/"
        },
        "outputId": "d71c9dc9-fd9f-4376-b32e-37bd223b4a3f"
      },
      "source": [
        "encoder.get_feature_names()"
      ],
      "execution_count": 70,
      "outputs": [
        {
          "output_type": "execute_result",
          "data": {
            "text/plain": [
              "['ui_language_0',\n",
              " 'ui_language_1',\n",
              " 'lexeme_string_0',\n",
              " 'lexeme_string_1',\n",
              " 'lexeme_string_2',\n",
              " 'lexeme_string_3',\n",
              " 'lexeme_string_4',\n",
              " 'lexeme_string_5',\n",
              " 'lexeme_string_6',\n",
              " 'lexeme_string_7',\n",
              " 'lexeme_string_8',\n",
              " 'lexeme_string_9',\n",
              " 'lexeme_string_10',\n",
              " 'lexeme_string_11']"
            ]
          },
          "metadata": {},
          "execution_count": 70
        }
      ]
    },
    {
      "cell_type": "code",
      "metadata": {
        "id": "-VscrShVoUOA",
        "colab": {
          "base_uri": "https://localhost:8080/"
        },
        "outputId": "165f1365-618c-4f58-e576-26f43994db89"
      },
      "source": [
        "df_binary.shape"
      ],
      "execution_count": 71,
      "outputs": [
        {
          "output_type": "execute_result",
          "data": {
            "text/plain": [
              "(3724731, 14)"
            ]
          },
          "metadata": {},
          "execution_count": 71
        }
      ]
    },
    {
      "cell_type": "code",
      "metadata": {
        "id": "NNhQFuZKoa5z",
        "colab": {
          "base_uri": "https://localhost:8080/"
        },
        "outputId": "26a12361-93a1-4f98-fd4e-1a4545de0760"
      },
      "source": [
        "x_train_categorical.shape"
      ],
      "execution_count": 72,
      "outputs": [
        {
          "output_type": "execute_result",
          "data": {
            "text/plain": [
              "(3724731, 2)"
            ]
          },
          "metadata": {},
          "execution_count": 72
        }
      ]
    },
    {
      "cell_type": "markdown",
      "metadata": {
        "id": "RZl-DpGIqtwn"
      },
      "source": [
        "## Join "
      ]
    },
    {
      "cell_type": "code",
      "metadata": {
        "id": "h_RsOLuRqxoZ",
        "colab": {
          "base_uri": "https://localhost:8080/"
        },
        "outputId": "08201324-a7f3-4d77-de9b-3e4947bbc237"
      },
      "source": [
        "x_train_num_std.shape"
      ],
      "execution_count": 73,
      "outputs": [
        {
          "output_type": "execute_result",
          "data": {
            "text/plain": [
              "(3724731, 5)"
            ]
          },
          "metadata": {},
          "execution_count": 73
        }
      ]
    },
    {
      "cell_type": "code",
      "metadata": {
        "id": "4C--Izqsq9fp"
      },
      "source": [
        "x_train_clean = pd.concat([x_train_num_std, df_binary], axis=1)"
      ],
      "execution_count": 74,
      "outputs": []
    },
    {
      "cell_type": "code",
      "metadata": {
        "id": "zPEvc2HJwc0y",
        "colab": {
          "base_uri": "https://localhost:8080/",
          "height": 206
        },
        "outputId": "8f7eb292-afbe-46d6-e35b-d52285d702c5"
      },
      "source": [
        "x_train.head()"
      ],
      "execution_count": 75,
      "outputs": [
        {
          "output_type": "execute_result",
          "data": {
            "text/plain": [
              "          delta_days ui_language                 lexeme_string  history_seen  \\\n",
              "5209146     1.930012          es            horse/horse<n><sg>            10   \n",
              "12391706    0.129097          es      drink/drink<vblex><pres>            49   \n",
              "8938738     0.037095          es  motorcycle/motorcycle<n><sg>            38   \n",
              "5457519     0.983241          pt          dinner/dinner<n><sg>             4   \n",
              "10650847    3.848681          es              crab/crab<n><sg>             2   \n",
              "\n",
              "          history_correct  session_seen  session_correct  \n",
              "5209146                 9             1                0  \n",
              "12391706               45             2                2  \n",
              "8938738                34             1                1  \n",
              "5457519                 3             1                1  \n",
              "10650847                1             3                3  "
            ],
            "text/html": [
              "\n",
              "  <div id=\"df-9e085a30-2d41-40b1-880e-3651fab7c995\">\n",
              "    <div class=\"colab-df-container\">\n",
              "      <div>\n",
              "<style scoped>\n",
              "    .dataframe tbody tr th:only-of-type {\n",
              "        vertical-align: middle;\n",
              "    }\n",
              "\n",
              "    .dataframe tbody tr th {\n",
              "        vertical-align: top;\n",
              "    }\n",
              "\n",
              "    .dataframe thead th {\n",
              "        text-align: right;\n",
              "    }\n",
              "</style>\n",
              "<table border=\"1\" class=\"dataframe\">\n",
              "  <thead>\n",
              "    <tr style=\"text-align: right;\">\n",
              "      <th></th>\n",
              "      <th>delta_days</th>\n",
              "      <th>ui_language</th>\n",
              "      <th>lexeme_string</th>\n",
              "      <th>history_seen</th>\n",
              "      <th>history_correct</th>\n",
              "      <th>session_seen</th>\n",
              "      <th>session_correct</th>\n",
              "    </tr>\n",
              "  </thead>\n",
              "  <tbody>\n",
              "    <tr>\n",
              "      <th>5209146</th>\n",
              "      <td>1.930012</td>\n",
              "      <td>es</td>\n",
              "      <td>horse/horse&lt;n&gt;&lt;sg&gt;</td>\n",
              "      <td>10</td>\n",
              "      <td>9</td>\n",
              "      <td>1</td>\n",
              "      <td>0</td>\n",
              "    </tr>\n",
              "    <tr>\n",
              "      <th>12391706</th>\n",
              "      <td>0.129097</td>\n",
              "      <td>es</td>\n",
              "      <td>drink/drink&lt;vblex&gt;&lt;pres&gt;</td>\n",
              "      <td>49</td>\n",
              "      <td>45</td>\n",
              "      <td>2</td>\n",
              "      <td>2</td>\n",
              "    </tr>\n",
              "    <tr>\n",
              "      <th>8938738</th>\n",
              "      <td>0.037095</td>\n",
              "      <td>es</td>\n",
              "      <td>motorcycle/motorcycle&lt;n&gt;&lt;sg&gt;</td>\n",
              "      <td>38</td>\n",
              "      <td>34</td>\n",
              "      <td>1</td>\n",
              "      <td>1</td>\n",
              "    </tr>\n",
              "    <tr>\n",
              "      <th>5457519</th>\n",
              "      <td>0.983241</td>\n",
              "      <td>pt</td>\n",
              "      <td>dinner/dinner&lt;n&gt;&lt;sg&gt;</td>\n",
              "      <td>4</td>\n",
              "      <td>3</td>\n",
              "      <td>1</td>\n",
              "      <td>1</td>\n",
              "    </tr>\n",
              "    <tr>\n",
              "      <th>10650847</th>\n",
              "      <td>3.848681</td>\n",
              "      <td>es</td>\n",
              "      <td>crab/crab&lt;n&gt;&lt;sg&gt;</td>\n",
              "      <td>2</td>\n",
              "      <td>1</td>\n",
              "      <td>3</td>\n",
              "      <td>3</td>\n",
              "    </tr>\n",
              "  </tbody>\n",
              "</table>\n",
              "</div>\n",
              "      <button class=\"colab-df-convert\" onclick=\"convertToInteractive('df-9e085a30-2d41-40b1-880e-3651fab7c995')\"\n",
              "              title=\"Convert this dataframe to an interactive table.\"\n",
              "              style=\"display:none;\">\n",
              "        \n",
              "  <svg xmlns=\"http://www.w3.org/2000/svg\" height=\"24px\"viewBox=\"0 0 24 24\"\n",
              "       width=\"24px\">\n",
              "    <path d=\"M0 0h24v24H0V0z\" fill=\"none\"/>\n",
              "    <path d=\"M18.56 5.44l.94 2.06.94-2.06 2.06-.94-2.06-.94-.94-2.06-.94 2.06-2.06.94zm-11 1L8.5 8.5l.94-2.06 2.06-.94-2.06-.94L8.5 2.5l-.94 2.06-2.06.94zm10 10l.94 2.06.94-2.06 2.06-.94-2.06-.94-.94-2.06-.94 2.06-2.06.94z\"/><path d=\"M17.41 7.96l-1.37-1.37c-.4-.4-.92-.59-1.43-.59-.52 0-1.04.2-1.43.59L10.3 9.45l-7.72 7.72c-.78.78-.78 2.05 0 2.83L4 21.41c.39.39.9.59 1.41.59.51 0 1.02-.2 1.41-.59l7.78-7.78 2.81-2.81c.8-.78.8-2.07 0-2.86zM5.41 20L4 18.59l7.72-7.72 1.47 1.35L5.41 20z\"/>\n",
              "  </svg>\n",
              "      </button>\n",
              "      \n",
              "  <style>\n",
              "    .colab-df-container {\n",
              "      display:flex;\n",
              "      flex-wrap:wrap;\n",
              "      gap: 12px;\n",
              "    }\n",
              "\n",
              "    .colab-df-convert {\n",
              "      background-color: #E8F0FE;\n",
              "      border: none;\n",
              "      border-radius: 50%;\n",
              "      cursor: pointer;\n",
              "      display: none;\n",
              "      fill: #1967D2;\n",
              "      height: 32px;\n",
              "      padding: 0 0 0 0;\n",
              "      width: 32px;\n",
              "    }\n",
              "\n",
              "    .colab-df-convert:hover {\n",
              "      background-color: #E2EBFA;\n",
              "      box-shadow: 0px 1px 2px rgba(60, 64, 67, 0.3), 0px 1px 3px 1px rgba(60, 64, 67, 0.15);\n",
              "      fill: #174EA6;\n",
              "    }\n",
              "\n",
              "    [theme=dark] .colab-df-convert {\n",
              "      background-color: #3B4455;\n",
              "      fill: #D2E3FC;\n",
              "    }\n",
              "\n",
              "    [theme=dark] .colab-df-convert:hover {\n",
              "      background-color: #434B5C;\n",
              "      box-shadow: 0px 1px 3px 1px rgba(0, 0, 0, 0.15);\n",
              "      filter: drop-shadow(0px 1px 2px rgba(0, 0, 0, 0.3));\n",
              "      fill: #FFFFFF;\n",
              "    }\n",
              "  </style>\n",
              "\n",
              "      <script>\n",
              "        const buttonEl =\n",
              "          document.querySelector('#df-9e085a30-2d41-40b1-880e-3651fab7c995 button.colab-df-convert');\n",
              "        buttonEl.style.display =\n",
              "          google.colab.kernel.accessAllowed ? 'block' : 'none';\n",
              "\n",
              "        async function convertToInteractive(key) {\n",
              "          const element = document.querySelector('#df-9e085a30-2d41-40b1-880e-3651fab7c995');\n",
              "          const dataTable =\n",
              "            await google.colab.kernel.invokeFunction('convertToInteractive',\n",
              "                                                     [key], {});\n",
              "          if (!dataTable) return;\n",
              "\n",
              "          const docLinkHtml = 'Like what you see? Visit the ' +\n",
              "            '<a target=\"_blank\" href=https://colab.research.google.com/notebooks/data_table.ipynb>data table notebook</a>'\n",
              "            + ' to learn more about interactive tables.';\n",
              "          element.innerHTML = '';\n",
              "          dataTable['output_type'] = 'display_data';\n",
              "          await google.colab.output.renderOutput(dataTable, element);\n",
              "          const docLink = document.createElement('div');\n",
              "          docLink.innerHTML = docLinkHtml;\n",
              "          element.appendChild(docLink);\n",
              "        }\n",
              "      </script>\n",
              "    </div>\n",
              "  </div>\n",
              "  "
            ]
          },
          "metadata": {},
          "execution_count": 75
        }
      ]
    },
    {
      "cell_type": "code",
      "metadata": {
        "id": "sdlg9AHMrC7R",
        "colab": {
          "base_uri": "https://localhost:8080/",
          "height": 270
        },
        "outputId": "f71003e4-9734-47de-f60d-c891a67eb8a8"
      },
      "source": [
        "x_train_clean.head()"
      ],
      "execution_count": 76,
      "outputs": [
        {
          "output_type": "execute_result",
          "data": {
            "text/plain": [
              "          delta_days  history_seen  history_correct  session_seen  \\\n",
              "5209146    -0.253599     -0.122102        -0.121486     -0.594508   \n",
              "12391706   -0.333161      0.071237         0.085906      0.103957   \n",
              "8938738    -0.337225      0.016706         0.022536     -0.594508   \n",
              "5457519    -0.295426     -0.151846        -0.156051     -0.594508   \n",
              "10650847   -0.168835     -0.161761        -0.167573      0.802422   \n",
              "\n",
              "          session_correct  ui_language_0  ui_language_1  lexeme_string_0  \\\n",
              "5209146         -1.215952              0              1                0   \n",
              "12391706         0.236090              0              1                0   \n",
              "8938738         -0.489931              0              1                0   \n",
              "5457519         -0.489931              1              0                0   \n",
              "10650847         0.962110              0              1                0   \n",
              "\n",
              "          lexeme_string_1  lexeme_string_2  lexeme_string_3  lexeme_string_4  \\\n",
              "5209146                 0                0                0                0   \n",
              "12391706                0                0                0                0   \n",
              "8938738                 0                0                0                0   \n",
              "5457519                 0                0                0                0   \n",
              "10650847                0                0                0                0   \n",
              "\n",
              "          lexeme_string_5  lexeme_string_6  lexeme_string_7  lexeme_string_8  \\\n",
              "5209146                 0                0                0                0   \n",
              "12391706                0                0                0                0   \n",
              "8938738                 0                0                0                0   \n",
              "5457519                 0                0                0                0   \n",
              "10650847                0                0                0                0   \n",
              "\n",
              "          lexeme_string_9  lexeme_string_10  lexeme_string_11  \n",
              "5209146                 0                 0                 1  \n",
              "12391706                0                 1                 0  \n",
              "8938738                 0                 1                 1  \n",
              "5457519                 1                 0                 0  \n",
              "10650847                1                 0                 1  "
            ],
            "text/html": [
              "\n",
              "  <div id=\"df-12dd4998-2667-4c38-9a03-86a3b702959a\">\n",
              "    <div class=\"colab-df-container\">\n",
              "      <div>\n",
              "<style scoped>\n",
              "    .dataframe tbody tr th:only-of-type {\n",
              "        vertical-align: middle;\n",
              "    }\n",
              "\n",
              "    .dataframe tbody tr th {\n",
              "        vertical-align: top;\n",
              "    }\n",
              "\n",
              "    .dataframe thead th {\n",
              "        text-align: right;\n",
              "    }\n",
              "</style>\n",
              "<table border=\"1\" class=\"dataframe\">\n",
              "  <thead>\n",
              "    <tr style=\"text-align: right;\">\n",
              "      <th></th>\n",
              "      <th>delta_days</th>\n",
              "      <th>history_seen</th>\n",
              "      <th>history_correct</th>\n",
              "      <th>session_seen</th>\n",
              "      <th>session_correct</th>\n",
              "      <th>ui_language_0</th>\n",
              "      <th>ui_language_1</th>\n",
              "      <th>lexeme_string_0</th>\n",
              "      <th>lexeme_string_1</th>\n",
              "      <th>lexeme_string_2</th>\n",
              "      <th>lexeme_string_3</th>\n",
              "      <th>lexeme_string_4</th>\n",
              "      <th>lexeme_string_5</th>\n",
              "      <th>lexeme_string_6</th>\n",
              "      <th>lexeme_string_7</th>\n",
              "      <th>lexeme_string_8</th>\n",
              "      <th>lexeme_string_9</th>\n",
              "      <th>lexeme_string_10</th>\n",
              "      <th>lexeme_string_11</th>\n",
              "    </tr>\n",
              "  </thead>\n",
              "  <tbody>\n",
              "    <tr>\n",
              "      <th>5209146</th>\n",
              "      <td>-0.253599</td>\n",
              "      <td>-0.122102</td>\n",
              "      <td>-0.121486</td>\n",
              "      <td>-0.594508</td>\n",
              "      <td>-1.215952</td>\n",
              "      <td>0</td>\n",
              "      <td>1</td>\n",
              "      <td>0</td>\n",
              "      <td>0</td>\n",
              "      <td>0</td>\n",
              "      <td>0</td>\n",
              "      <td>0</td>\n",
              "      <td>0</td>\n",
              "      <td>0</td>\n",
              "      <td>0</td>\n",
              "      <td>0</td>\n",
              "      <td>0</td>\n",
              "      <td>0</td>\n",
              "      <td>1</td>\n",
              "    </tr>\n",
              "    <tr>\n",
              "      <th>12391706</th>\n",
              "      <td>-0.333161</td>\n",
              "      <td>0.071237</td>\n",
              "      <td>0.085906</td>\n",
              "      <td>0.103957</td>\n",
              "      <td>0.236090</td>\n",
              "      <td>0</td>\n",
              "      <td>1</td>\n",
              "      <td>0</td>\n",
              "      <td>0</td>\n",
              "      <td>0</td>\n",
              "      <td>0</td>\n",
              "      <td>0</td>\n",
              "      <td>0</td>\n",
              "      <td>0</td>\n",
              "      <td>0</td>\n",
              "      <td>0</td>\n",
              "      <td>0</td>\n",
              "      <td>1</td>\n",
              "      <td>0</td>\n",
              "    </tr>\n",
              "    <tr>\n",
              "      <th>8938738</th>\n",
              "      <td>-0.337225</td>\n",
              "      <td>0.016706</td>\n",
              "      <td>0.022536</td>\n",
              "      <td>-0.594508</td>\n",
              "      <td>-0.489931</td>\n",
              "      <td>0</td>\n",
              "      <td>1</td>\n",
              "      <td>0</td>\n",
              "      <td>0</td>\n",
              "      <td>0</td>\n",
              "      <td>0</td>\n",
              "      <td>0</td>\n",
              "      <td>0</td>\n",
              "      <td>0</td>\n",
              "      <td>0</td>\n",
              "      <td>0</td>\n",
              "      <td>0</td>\n",
              "      <td>1</td>\n",
              "      <td>1</td>\n",
              "    </tr>\n",
              "    <tr>\n",
              "      <th>5457519</th>\n",
              "      <td>-0.295426</td>\n",
              "      <td>-0.151846</td>\n",
              "      <td>-0.156051</td>\n",
              "      <td>-0.594508</td>\n",
              "      <td>-0.489931</td>\n",
              "      <td>1</td>\n",
              "      <td>0</td>\n",
              "      <td>0</td>\n",
              "      <td>0</td>\n",
              "      <td>0</td>\n",
              "      <td>0</td>\n",
              "      <td>0</td>\n",
              "      <td>0</td>\n",
              "      <td>0</td>\n",
              "      <td>0</td>\n",
              "      <td>0</td>\n",
              "      <td>1</td>\n",
              "      <td>0</td>\n",
              "      <td>0</td>\n",
              "    </tr>\n",
              "    <tr>\n",
              "      <th>10650847</th>\n",
              "      <td>-0.168835</td>\n",
              "      <td>-0.161761</td>\n",
              "      <td>-0.167573</td>\n",
              "      <td>0.802422</td>\n",
              "      <td>0.962110</td>\n",
              "      <td>0</td>\n",
              "      <td>1</td>\n",
              "      <td>0</td>\n",
              "      <td>0</td>\n",
              "      <td>0</td>\n",
              "      <td>0</td>\n",
              "      <td>0</td>\n",
              "      <td>0</td>\n",
              "      <td>0</td>\n",
              "      <td>0</td>\n",
              "      <td>0</td>\n",
              "      <td>1</td>\n",
              "      <td>0</td>\n",
              "      <td>1</td>\n",
              "    </tr>\n",
              "  </tbody>\n",
              "</table>\n",
              "</div>\n",
              "      <button class=\"colab-df-convert\" onclick=\"convertToInteractive('df-12dd4998-2667-4c38-9a03-86a3b702959a')\"\n",
              "              title=\"Convert this dataframe to an interactive table.\"\n",
              "              style=\"display:none;\">\n",
              "        \n",
              "  <svg xmlns=\"http://www.w3.org/2000/svg\" height=\"24px\"viewBox=\"0 0 24 24\"\n",
              "       width=\"24px\">\n",
              "    <path d=\"M0 0h24v24H0V0z\" fill=\"none\"/>\n",
              "    <path d=\"M18.56 5.44l.94 2.06.94-2.06 2.06-.94-2.06-.94-.94-2.06-.94 2.06-2.06.94zm-11 1L8.5 8.5l.94-2.06 2.06-.94-2.06-.94L8.5 2.5l-.94 2.06-2.06.94zm10 10l.94 2.06.94-2.06 2.06-.94-2.06-.94-.94-2.06-.94 2.06-2.06.94z\"/><path d=\"M17.41 7.96l-1.37-1.37c-.4-.4-.92-.59-1.43-.59-.52 0-1.04.2-1.43.59L10.3 9.45l-7.72 7.72c-.78.78-.78 2.05 0 2.83L4 21.41c.39.39.9.59 1.41.59.51 0 1.02-.2 1.41-.59l7.78-7.78 2.81-2.81c.8-.78.8-2.07 0-2.86zM5.41 20L4 18.59l7.72-7.72 1.47 1.35L5.41 20z\"/>\n",
              "  </svg>\n",
              "      </button>\n",
              "      \n",
              "  <style>\n",
              "    .colab-df-container {\n",
              "      display:flex;\n",
              "      flex-wrap:wrap;\n",
              "      gap: 12px;\n",
              "    }\n",
              "\n",
              "    .colab-df-convert {\n",
              "      background-color: #E8F0FE;\n",
              "      border: none;\n",
              "      border-radius: 50%;\n",
              "      cursor: pointer;\n",
              "      display: none;\n",
              "      fill: #1967D2;\n",
              "      height: 32px;\n",
              "      padding: 0 0 0 0;\n",
              "      width: 32px;\n",
              "    }\n",
              "\n",
              "    .colab-df-convert:hover {\n",
              "      background-color: #E2EBFA;\n",
              "      box-shadow: 0px 1px 2px rgba(60, 64, 67, 0.3), 0px 1px 3px 1px rgba(60, 64, 67, 0.15);\n",
              "      fill: #174EA6;\n",
              "    }\n",
              "\n",
              "    [theme=dark] .colab-df-convert {\n",
              "      background-color: #3B4455;\n",
              "      fill: #D2E3FC;\n",
              "    }\n",
              "\n",
              "    [theme=dark] .colab-df-convert:hover {\n",
              "      background-color: #434B5C;\n",
              "      box-shadow: 0px 1px 3px 1px rgba(0, 0, 0, 0.15);\n",
              "      filter: drop-shadow(0px 1px 2px rgba(0, 0, 0, 0.3));\n",
              "      fill: #FFFFFF;\n",
              "    }\n",
              "  </style>\n",
              "\n",
              "      <script>\n",
              "        const buttonEl =\n",
              "          document.querySelector('#df-12dd4998-2667-4c38-9a03-86a3b702959a button.colab-df-convert');\n",
              "        buttonEl.style.display =\n",
              "          google.colab.kernel.accessAllowed ? 'block' : 'none';\n",
              "\n",
              "        async function convertToInteractive(key) {\n",
              "          const element = document.querySelector('#df-12dd4998-2667-4c38-9a03-86a3b702959a');\n",
              "          const dataTable =\n",
              "            await google.colab.kernel.invokeFunction('convertToInteractive',\n",
              "                                                     [key], {});\n",
              "          if (!dataTable) return;\n",
              "\n",
              "          const docLinkHtml = 'Like what you see? Visit the ' +\n",
              "            '<a target=\"_blank\" href=https://colab.research.google.com/notebooks/data_table.ipynb>data table notebook</a>'\n",
              "            + ' to learn more about interactive tables.';\n",
              "          element.innerHTML = '';\n",
              "          dataTable['output_type'] = 'display_data';\n",
              "          await google.colab.output.renderOutput(dataTable, element);\n",
              "          const docLink = document.createElement('div');\n",
              "          docLink.innerHTML = docLinkHtml;\n",
              "          element.appendChild(docLink);\n",
              "        }\n",
              "      </script>\n",
              "    </div>\n",
              "  </div>\n",
              "  "
            ]
          },
          "metadata": {},
          "execution_count": 76
        }
      ]
    },
    {
      "cell_type": "markdown",
      "metadata": {
        "id": "6IEO1Iis0mWz"
      },
      "source": [
        "## function preprocessing"
      ]
    },
    {
      "cell_type": "code",
      "metadata": {
        "id": "EbQGmnXz0rfv"
      },
      "source": [
        "def preprocessTest(data, numerical_col, categorical_col, standardizer):\n",
        "    \n",
        "    # split\n",
        "    data_numerical   = data[numerical_col]\n",
        "    data_categorical = data[categorical_col]\n",
        "    \n",
        "    # categorical\n",
        "    data_cat_encoder = encoder.transform(data_categorical)\n",
        "   \n",
        "    # numerical\n",
        "    data_num_std = pd.DataFrame(standardizer.transform(data_numerical))\n",
        "    data_num_std.columns = data_numerical.columns\n",
        "    data_num_std.index   = data_numerical.index\n",
        "     \n",
        "    # join numerical and categorical (clean)\n",
        "    data_train_clean = pd.concat([data_num_std, data_cat_encoder], axis=1)\n",
        "    \n",
        "    return data_train_clean"
      ],
      "execution_count": 77,
      "outputs": []
    },
    {
      "cell_type": "code",
      "metadata": {
        "id": "JEoqWEMY4n28"
      },
      "source": [
        "x_test_clean = preprocessTest(x_test, num, cat, standardizer)"
      ],
      "execution_count": 78,
      "outputs": []
    },
    {
      "cell_type": "code",
      "metadata": {
        "id": "nhSUgf6_7hnf",
        "colab": {
          "base_uri": "https://localhost:8080/",
          "height": 270
        },
        "outputId": "ecbf272c-2920-4418-c556-ac27e58d119f"
      },
      "source": [
        "x_test_clean.head()"
      ],
      "execution_count": 79,
      "outputs": [
        {
          "output_type": "execute_result",
          "data": {
            "text/plain": [
              "          delta_days  history_seen  history_correct  session_seen  \\\n",
              "6825072     0.067970     -0.151846        -0.150291     -0.594508   \n",
              "5311335    -0.301039      0.205087         0.224168     -0.594508   \n",
              "9050271    -0.287448      0.091067         0.068624     -0.594508   \n",
              "989326     -0.338611      0.229874         0.212646      0.103957   \n",
              "11035055   -0.337355     -0.146889        -0.144530     -0.594508   \n",
              "\n",
              "          session_correct  ui_language_0  ui_language_1  lexeme_string_0  \\\n",
              "6825072         -0.489931              0              1                0   \n",
              "5311335         -0.489931              1              1                0   \n",
              "9050271         -0.489931              0              1                0   \n",
              "989326           0.236090              1              0                0   \n",
              "11035055        -0.489931              1              0                0   \n",
              "\n",
              "          lexeme_string_1  lexeme_string_2  lexeme_string_3  lexeme_string_4  \\\n",
              "6825072                 0                0                1                0   \n",
              "5311335                 0                0                0                0   \n",
              "9050271                 0                0                0                0   \n",
              "989326                  0                0                0                0   \n",
              "11035055                0                0                1                0   \n",
              "\n",
              "          lexeme_string_5  lexeme_string_6  lexeme_string_7  lexeme_string_8  \\\n",
              "6825072                 0                0                1                0   \n",
              "5311335                 0                0                1                0   \n",
              "9050271                 1                1                1                0   \n",
              "989326                  0                0                0                1   \n",
              "11035055                0                0                0                0   \n",
              "\n",
              "          lexeme_string_9  lexeme_string_10  lexeme_string_11  \n",
              "6825072                 1                 1                 1  \n",
              "5311335                 1                 0                 0  \n",
              "9050271                 1                 1                 1  \n",
              "989326                  0                 0                 0  \n",
              "11035055                1                 1                 0  "
            ],
            "text/html": [
              "\n",
              "  <div id=\"df-5c370e6b-f7fb-4145-b28a-6138f37c4dee\">\n",
              "    <div class=\"colab-df-container\">\n",
              "      <div>\n",
              "<style scoped>\n",
              "    .dataframe tbody tr th:only-of-type {\n",
              "        vertical-align: middle;\n",
              "    }\n",
              "\n",
              "    .dataframe tbody tr th {\n",
              "        vertical-align: top;\n",
              "    }\n",
              "\n",
              "    .dataframe thead th {\n",
              "        text-align: right;\n",
              "    }\n",
              "</style>\n",
              "<table border=\"1\" class=\"dataframe\">\n",
              "  <thead>\n",
              "    <tr style=\"text-align: right;\">\n",
              "      <th></th>\n",
              "      <th>delta_days</th>\n",
              "      <th>history_seen</th>\n",
              "      <th>history_correct</th>\n",
              "      <th>session_seen</th>\n",
              "      <th>session_correct</th>\n",
              "      <th>ui_language_0</th>\n",
              "      <th>ui_language_1</th>\n",
              "      <th>lexeme_string_0</th>\n",
              "      <th>lexeme_string_1</th>\n",
              "      <th>lexeme_string_2</th>\n",
              "      <th>lexeme_string_3</th>\n",
              "      <th>lexeme_string_4</th>\n",
              "      <th>lexeme_string_5</th>\n",
              "      <th>lexeme_string_6</th>\n",
              "      <th>lexeme_string_7</th>\n",
              "      <th>lexeme_string_8</th>\n",
              "      <th>lexeme_string_9</th>\n",
              "      <th>lexeme_string_10</th>\n",
              "      <th>lexeme_string_11</th>\n",
              "    </tr>\n",
              "  </thead>\n",
              "  <tbody>\n",
              "    <tr>\n",
              "      <th>6825072</th>\n",
              "      <td>0.067970</td>\n",
              "      <td>-0.151846</td>\n",
              "      <td>-0.150291</td>\n",
              "      <td>-0.594508</td>\n",
              "      <td>-0.489931</td>\n",
              "      <td>0</td>\n",
              "      <td>1</td>\n",
              "      <td>0</td>\n",
              "      <td>0</td>\n",
              "      <td>0</td>\n",
              "      <td>1</td>\n",
              "      <td>0</td>\n",
              "      <td>0</td>\n",
              "      <td>0</td>\n",
              "      <td>1</td>\n",
              "      <td>0</td>\n",
              "      <td>1</td>\n",
              "      <td>1</td>\n",
              "      <td>1</td>\n",
              "    </tr>\n",
              "    <tr>\n",
              "      <th>5311335</th>\n",
              "      <td>-0.301039</td>\n",
              "      <td>0.205087</td>\n",
              "      <td>0.224168</td>\n",
              "      <td>-0.594508</td>\n",
              "      <td>-0.489931</td>\n",
              "      <td>1</td>\n",
              "      <td>1</td>\n",
              "      <td>0</td>\n",
              "      <td>0</td>\n",
              "      <td>0</td>\n",
              "      <td>0</td>\n",
              "      <td>0</td>\n",
              "      <td>0</td>\n",
              "      <td>0</td>\n",
              "      <td>1</td>\n",
              "      <td>0</td>\n",
              "      <td>1</td>\n",
              "      <td>0</td>\n",
              "      <td>0</td>\n",
              "    </tr>\n",
              "    <tr>\n",
              "      <th>9050271</th>\n",
              "      <td>-0.287448</td>\n",
              "      <td>0.091067</td>\n",
              "      <td>0.068624</td>\n",
              "      <td>-0.594508</td>\n",
              "      <td>-0.489931</td>\n",
              "      <td>0</td>\n",
              "      <td>1</td>\n",
              "      <td>0</td>\n",
              "      <td>0</td>\n",
              "      <td>0</td>\n",
              "      <td>0</td>\n",
              "      <td>0</td>\n",
              "      <td>1</td>\n",
              "      <td>1</td>\n",
              "      <td>1</td>\n",
              "      <td>0</td>\n",
              "      <td>1</td>\n",
              "      <td>1</td>\n",
              "      <td>1</td>\n",
              "    </tr>\n",
              "    <tr>\n",
              "      <th>989326</th>\n",
              "      <td>-0.338611</td>\n",
              "      <td>0.229874</td>\n",
              "      <td>0.212646</td>\n",
              "      <td>0.103957</td>\n",
              "      <td>0.236090</td>\n",
              "      <td>1</td>\n",
              "      <td>0</td>\n",
              "      <td>0</td>\n",
              "      <td>0</td>\n",
              "      <td>0</td>\n",
              "      <td>0</td>\n",
              "      <td>0</td>\n",
              "      <td>0</td>\n",
              "      <td>0</td>\n",
              "      <td>0</td>\n",
              "      <td>1</td>\n",
              "      <td>0</td>\n",
              "      <td>0</td>\n",
              "      <td>0</td>\n",
              "    </tr>\n",
              "    <tr>\n",
              "      <th>11035055</th>\n",
              "      <td>-0.337355</td>\n",
              "      <td>-0.146889</td>\n",
              "      <td>-0.144530</td>\n",
              "      <td>-0.594508</td>\n",
              "      <td>-0.489931</td>\n",
              "      <td>1</td>\n",
              "      <td>0</td>\n",
              "      <td>0</td>\n",
              "      <td>0</td>\n",
              "      <td>0</td>\n",
              "      <td>1</td>\n",
              "      <td>0</td>\n",
              "      <td>0</td>\n",
              "      <td>0</td>\n",
              "      <td>0</td>\n",
              "      <td>0</td>\n",
              "      <td>1</td>\n",
              "      <td>1</td>\n",
              "      <td>0</td>\n",
              "    </tr>\n",
              "  </tbody>\n",
              "</table>\n",
              "</div>\n",
              "      <button class=\"colab-df-convert\" onclick=\"convertToInteractive('df-5c370e6b-f7fb-4145-b28a-6138f37c4dee')\"\n",
              "              title=\"Convert this dataframe to an interactive table.\"\n",
              "              style=\"display:none;\">\n",
              "        \n",
              "  <svg xmlns=\"http://www.w3.org/2000/svg\" height=\"24px\"viewBox=\"0 0 24 24\"\n",
              "       width=\"24px\">\n",
              "    <path d=\"M0 0h24v24H0V0z\" fill=\"none\"/>\n",
              "    <path d=\"M18.56 5.44l.94 2.06.94-2.06 2.06-.94-2.06-.94-.94-2.06-.94 2.06-2.06.94zm-11 1L8.5 8.5l.94-2.06 2.06-.94-2.06-.94L8.5 2.5l-.94 2.06-2.06.94zm10 10l.94 2.06.94-2.06 2.06-.94-2.06-.94-.94-2.06-.94 2.06-2.06.94z\"/><path d=\"M17.41 7.96l-1.37-1.37c-.4-.4-.92-.59-1.43-.59-.52 0-1.04.2-1.43.59L10.3 9.45l-7.72 7.72c-.78.78-.78 2.05 0 2.83L4 21.41c.39.39.9.59 1.41.59.51 0 1.02-.2 1.41-.59l7.78-7.78 2.81-2.81c.8-.78.8-2.07 0-2.86zM5.41 20L4 18.59l7.72-7.72 1.47 1.35L5.41 20z\"/>\n",
              "  </svg>\n",
              "      </button>\n",
              "      \n",
              "  <style>\n",
              "    .colab-df-container {\n",
              "      display:flex;\n",
              "      flex-wrap:wrap;\n",
              "      gap: 12px;\n",
              "    }\n",
              "\n",
              "    .colab-df-convert {\n",
              "      background-color: #E8F0FE;\n",
              "      border: none;\n",
              "      border-radius: 50%;\n",
              "      cursor: pointer;\n",
              "      display: none;\n",
              "      fill: #1967D2;\n",
              "      height: 32px;\n",
              "      padding: 0 0 0 0;\n",
              "      width: 32px;\n",
              "    }\n",
              "\n",
              "    .colab-df-convert:hover {\n",
              "      background-color: #E2EBFA;\n",
              "      box-shadow: 0px 1px 2px rgba(60, 64, 67, 0.3), 0px 1px 3px 1px rgba(60, 64, 67, 0.15);\n",
              "      fill: #174EA6;\n",
              "    }\n",
              "\n",
              "    [theme=dark] .colab-df-convert {\n",
              "      background-color: #3B4455;\n",
              "      fill: #D2E3FC;\n",
              "    }\n",
              "\n",
              "    [theme=dark] .colab-df-convert:hover {\n",
              "      background-color: #434B5C;\n",
              "      box-shadow: 0px 1px 3px 1px rgba(0, 0, 0, 0.15);\n",
              "      filter: drop-shadow(0px 1px 2px rgba(0, 0, 0, 0.3));\n",
              "      fill: #FFFFFF;\n",
              "    }\n",
              "  </style>\n",
              "\n",
              "      <script>\n",
              "        const buttonEl =\n",
              "          document.querySelector('#df-5c370e6b-f7fb-4145-b28a-6138f37c4dee button.colab-df-convert');\n",
              "        buttonEl.style.display =\n",
              "          google.colab.kernel.accessAllowed ? 'block' : 'none';\n",
              "\n",
              "        async function convertToInteractive(key) {\n",
              "          const element = document.querySelector('#df-5c370e6b-f7fb-4145-b28a-6138f37c4dee');\n",
              "          const dataTable =\n",
              "            await google.colab.kernel.invokeFunction('convertToInteractive',\n",
              "                                                     [key], {});\n",
              "          if (!dataTable) return;\n",
              "\n",
              "          const docLinkHtml = 'Like what you see? Visit the ' +\n",
              "            '<a target=\"_blank\" href=https://colab.research.google.com/notebooks/data_table.ipynb>data table notebook</a>'\n",
              "            + ' to learn more about interactive tables.';\n",
              "          element.innerHTML = '';\n",
              "          dataTable['output_type'] = 'display_data';\n",
              "          await google.colab.output.renderOutput(dataTable, element);\n",
              "          const docLink = document.createElement('div');\n",
              "          docLink.innerHTML = docLinkHtml;\n",
              "          element.appendChild(docLink);\n",
              "        }\n",
              "      </script>\n",
              "    </div>\n",
              "  </div>\n",
              "  "
            ]
          },
          "metadata": {},
          "execution_count": 79
        }
      ]
    },
    {
      "cell_type": "code",
      "metadata": {
        "id": "xxRTRRGP0js2",
        "colab": {
          "base_uri": "https://localhost:8080/",
          "height": 879
        },
        "outputId": "a1af0a42-54a6-408f-df7d-0d0d829bdd63"
      },
      "source": [
        "x_test_clean.hist(bins=50, figsize=(20,15))\n",
        "plt.show()"
      ],
      "execution_count": 80,
      "outputs": [
        {
          "output_type": "display_data",
          "data": {
            "text/plain": [
              "<Figure size 1440x1080 with 20 Axes>"
            ],
            "image/png": "[encoded data removed]"
          },
          "metadata": {}
        }
      ]
    },
    {
      "cell_type": "markdown",
      "metadata": {
        "id": "YTX0VbxfrgUz"
      },
      "source": [
        "# **Modeling**"
      ]
    },
    {
      "cell_type": "markdown",
      "metadata": {
        "id": "nIP57LbMy6XJ"
      },
      "source": [
        "## linear regression"
      ]
    },
    {
      "cell_type": "code",
      "metadata": {
        "id": "clnjDelly9Bj",
        "colab": {
          "base_uri": "https://localhost:8080/"
        },
        "outputId": "6432a4a6-022e-4f11-d968-5c47c986fd1e"
      },
      "source": [
        "from sklearn.linear_model import LinearRegression\n",
        "linreg= LinearRegression()\n",
        "linreg.fit(x_train_clean, y_train)"
      ],
      "execution_count": 81,
      "outputs": [
        {
          "output_type": "execute_result",
          "data": {
            "text/plain": [
              "LinearRegression()"
            ]
          },
          "metadata": {},
          "execution_count": 81
        }
      ]
    },
    {
      "cell_type": "code",
      "metadata": {
        "id": "M9_WTocN6sLH",
        "colab": {
          "base_uri": "https://localhost:8080/"
        },
        "outputId": "3fa6ed09-d907-402a-fe52-2c68489884c3"
      },
      "source": [
        "joblib.dump(linreg, 'model_linreg.pkl')"
      ],
      "execution_count": 82,
      "outputs": [
        {
          "output_type": "execute_result",
          "data": {
            "text/plain": [
              "['model_linreg.pkl']"
            ]
          },
          "metadata": {},
          "execution_count": 82
        }
      ]
    },
    {
      "cell_type": "code",
      "metadata": {
        "id": "qE85MB908ekp"
      },
      "source": [
        "y_pred = linreg.predict(x_test_clean)"
      ],
      "execution_count": 83,
      "outputs": []
    },
    {
      "cell_type": "code",
      "metadata": {
        "id": "bYU0NdU2Dcuc",
        "colab": {
          "base_uri": "https://localhost:8080/"
        },
        "outputId": "89dc9b94-3786-4316-d97a-e534db399c04"
      },
      "source": [
        "linreg.score(x_train_clean,y_train)"
      ],
      "execution_count": 84,
      "outputs": [
        {
          "output_type": "execute_result",
          "data": {
            "text/plain": [
              "0.738600714155064"
            ]
          },
          "metadata": {},
          "execution_count": 84
        }
      ]
    },
    {
      "cell_type": "code",
      "metadata": {
        "id": "ElihJChEZY3o",
        "colab": {
          "base_uri": "https://localhost:8080/",
          "height": 645
        },
        "outputId": "ae3546f9-6b0e-40bf-83d7-4a176dcff6b9"
      },
      "source": [
        "coeff_linreg = pd.DataFrame(linreg.coef_, x_train_clean.columns, columns=['Coefficient'])  \n",
        "coeff_linreg"
      ],
      "execution_count": 85,
      "outputs": [
        {
          "output_type": "execute_result",
          "data": {
            "text/plain": [
              "                  Coefficient\n",
              "delta_days          -0.000562\n",
              "history_seen        -0.008339\n",
              "history_correct      0.007131\n",
              "session_seen        -0.724596\n",
              "session_correct      0.768961\n",
              "ui_language_0        0.003251\n",
              "ui_language_1        0.004428\n",
              "lexeme_string_0      0.000656\n",
              "lexeme_string_1     -0.003569\n",
              "lexeme_string_2     -0.001755\n",
              "lexeme_string_3     -0.000073\n",
              "lexeme_string_4      0.000440\n",
              "lexeme_string_5     -0.000220\n",
              "lexeme_string_6     -0.000385\n",
              "lexeme_string_7     -0.000004\n",
              "lexeme_string_8     -0.001539\n",
              "lexeme_string_9     -0.000548\n",
              "lexeme_string_10     0.000747\n",
              "lexeme_string_11    -0.000280"
            ],
            "text/html": [
              "\n",
              "  <div id=\"df-58d3f6b9-860b-48f0-aee4-5ac227c00b21\">\n",
              "    <div class=\"colab-df-container\">\n",
              "      <div>\n",
              "<style scoped>\n",
              "    .dataframe tbody tr th:only-of-type {\n",
              "        vertical-align: middle;\n",
              "    }\n",
              "\n",
              "    .dataframe tbody tr th {\n",
              "        vertical-align: top;\n",
              "    }\n",
              "\n",
              "    .dataframe thead th {\n",
              "        text-align: right;\n",
              "    }\n",
              "</style>\n",
              "<table border=\"1\" class=\"dataframe\">\n",
              "  <thead>\n",
              "    <tr style=\"text-align: right;\">\n",
              "      <th></th>\n",
              "      <th>Coefficient</th>\n",
              "    </tr>\n",
              "  </thead>\n",
              "  <tbody>\n",
              "    <tr>\n",
              "      <th>delta_days</th>\n",
              "      <td>-0.000562</td>\n",
              "    </tr>\n",
              "    <tr>\n",
              "      <th>history_seen</th>\n",
              "      <td>-0.008339</td>\n",
              "    </tr>\n",
              "    <tr>\n",
              "      <th>history_correct</th>\n",
              "      <td>0.007131</td>\n",
              "    </tr>\n",
              "    <tr>\n",
              "      <th>session_seen</th>\n",
              "      <td>-0.724596</td>\n",
              "    </tr>\n",
              "    <tr>\n",
              "      <th>session_correct</th>\n",
              "      <td>0.768961</td>\n",
              "    </tr>\n",
              "    <tr>\n",
              "      <th>ui_language_0</th>\n",
              "      <td>0.003251</td>\n",
              "    </tr>\n",
              "    <tr>\n",
              "      <th>ui_language_1</th>\n",
              "      <td>0.004428</td>\n",
              "    </tr>\n",
              "    <tr>\n",
              "      <th>lexeme_string_0</th>\n",
              "      <td>0.000656</td>\n",
              "    </tr>\n",
              "    <tr>\n",
              "      <th>lexeme_string_1</th>\n",
              "      <td>-0.003569</td>\n",
              "    </tr>\n",
              "    <tr>\n",
              "      <th>lexeme_string_2</th>\n",
              "      <td>-0.001755</td>\n",
              "    </tr>\n",
              "    <tr>\n",
              "      <th>lexeme_string_3</th>\n",
              "      <td>-0.000073</td>\n",
              "    </tr>\n",
              "    <tr>\n",
              "      <th>lexeme_string_4</th>\n",
              "      <td>0.000440</td>\n",
              "    </tr>\n",
              "    <tr>\n",
              "      <th>lexeme_string_5</th>\n",
              "      <td>-0.000220</td>\n",
              "    </tr>\n",
              "    <tr>\n",
              "      <th>lexeme_string_6</th>\n",
              "      <td>-0.000385</td>\n",
              "    </tr>\n",
              "    <tr>\n",
              "      <th>lexeme_string_7</th>\n",
              "      <td>-0.000004</td>\n",
              "    </tr>\n",
              "    <tr>\n",
              "      <th>lexeme_string_8</th>\n",
              "      <td>-0.001539</td>\n",
              "    </tr>\n",
              "    <tr>\n",
              "      <th>lexeme_string_9</th>\n",
              "      <td>-0.000548</td>\n",
              "    </tr>\n",
              "    <tr>\n",
              "      <th>lexeme_string_10</th>\n",
              "      <td>0.000747</td>\n",
              "    </tr>\n",
              "    <tr>\n",
              "      <th>lexeme_string_11</th>\n",
              "      <td>-0.000280</td>\n",
              "    </tr>\n",
              "  </tbody>\n",
              "</table>\n",
              "</div>\n",
              "      <button class=\"colab-df-convert\" onclick=\"convertToInteractive('df-58d3f6b9-860b-48f0-aee4-5ac227c00b21')\"\n",
              "              title=\"Convert this dataframe to an interactive table.\"\n",
              "              style=\"display:none;\">\n",
              "        \n",
              "  <svg xmlns=\"http://www.w3.org/2000/svg\" height=\"24px\"viewBox=\"0 0 24 24\"\n",
              "       width=\"24px\">\n",
              "    <path d=\"M0 0h24v24H0V0z\" fill=\"none\"/>\n",
              "    <path d=\"M18.56 5.44l.94 2.06.94-2.06 2.06-.94-2.06-.94-.94-2.06-.94 2.06-2.06.94zm-11 1L8.5 8.5l.94-2.06 2.06-.94-2.06-.94L8.5 2.5l-.94 2.06-2.06.94zm10 10l.94 2.06.94-2.06 2.06-.94-2.06-.94-.94-2.06-.94 2.06-2.06.94z\"/><path d=\"M17.41 7.96l-1.37-1.37c-.4-.4-.92-.59-1.43-.59-.52 0-1.04.2-1.43.59L10.3 9.45l-7.72 7.72c-.78.78-.78 2.05 0 2.83L4 21.41c.39.39.9.59 1.41.59.51 0 1.02-.2 1.41-.59l7.78-7.78 2.81-2.81c.8-.78.8-2.07 0-2.86zM5.41 20L4 18.59l7.72-7.72 1.47 1.35L5.41 20z\"/>\n",
              "  </svg>\n",
              "      </button>\n",
              "      \n",
              "  <style>\n",
              "    .colab-df-container {\n",
              "      display:flex;\n",
              "      flex-wrap:wrap;\n",
              "      gap: 12px;\n",
              "    }\n",
              "\n",
              "    .colab-df-convert {\n",
              "      background-color: #E8F0FE;\n",
              "      border: none;\n",
              "      border-radius: 50%;\n",
              "      cursor: pointer;\n",
              "      display: none;\n",
              "      fill: #1967D2;\n",
              "      height: 32px;\n",
              "      padding: 0 0 0 0;\n",
              "      width: 32px;\n",
              "    }\n",
              "\n",
              "    .colab-df-convert:hover {\n",
              "      background-color: #E2EBFA;\n",
              "      box-shadow: 0px 1px 2px rgba(60, 64, 67, 0.3), 0px 1px 3px 1px rgba(60, 64, 67, 0.15);\n",
              "      fill: #174EA6;\n",
              "    }\n",
              "\n",
              "    [theme=dark] .colab-df-convert {\n",
              "      background-color: #3B4455;\n",
              "      fill: #D2E3FC;\n",
              "    }\n",
              "\n",
              "    [theme=dark] .colab-df-convert:hover {\n",
              "      background-color: #434B5C;\n",
              "      box-shadow: 0px 1px 3px 1px rgba(0, 0, 0, 0.15);\n",
              "      filter: drop-shadow(0px 1px 2px rgba(0, 0, 0, 0.3));\n",
              "      fill: #FFFFFF;\n",
              "    }\n",
              "  </style>\n",
              "\n",
              "      <script>\n",
              "        const buttonEl =\n",
              "          document.querySelector('#df-58d3f6b9-860b-48f0-aee4-5ac227c00b21 button.colab-df-convert');\n",
              "        buttonEl.style.display =\n",
              "          google.colab.kernel.accessAllowed ? 'block' : 'none';\n",
              "\n",
              "        async function convertToInteractive(key) {\n",
              "          const element = document.querySelector('#df-58d3f6b9-860b-48f0-aee4-5ac227c00b21');\n",
              "          const dataTable =\n",
              "            await google.colab.kernel.invokeFunction('convertToInteractive',\n",
              "                                                     [key], {});\n",
              "          if (!dataTable) return;\n",
              "\n",
              "          const docLinkHtml = 'Like what you see? Visit the ' +\n",
              "            '<a target=\"_blank\" href=https://colab.research.google.com/notebooks/data_table.ipynb>data table notebook</a>'\n",
              "            + ' to learn more about interactive tables.';\n",
              "          element.innerHTML = '';\n",
              "          dataTable['output_type'] = 'display_data';\n",
              "          await google.colab.output.renderOutput(dataTable, element);\n",
              "          const docLink = document.createElement('div');\n",
              "          docLink.innerHTML = docLinkHtml;\n",
              "          element.appendChild(docLink);\n",
              "        }\n",
              "      </script>\n",
              "    </div>\n",
              "  </div>\n",
              "  "
            ]
          },
          "metadata": {},
          "execution_count": 85
        }
      ]
    },
    {
      "cell_type": "code",
      "metadata": {
        "id": "6zIYj4NAQ6Ta",
        "colab": {
          "base_uri": "https://localhost:8080/",
          "height": 270
        },
        "outputId": "c189b7d9-a72e-468e-aa48-aa71813532c7"
      },
      "source": [
        "x_test_clean.head()"
      ],
      "execution_count": 86,
      "outputs": [
        {
          "output_type": "execute_result",
          "data": {
            "text/plain": [
              "          delta_days  history_seen  history_correct  session_seen  \\\n",
              "6825072     0.067970     -0.151846        -0.150291     -0.594508   \n",
              "5311335    -0.301039      0.205087         0.224168     -0.594508   \n",
              "9050271    -0.287448      0.091067         0.068624     -0.594508   \n",
              "989326     -0.338611      0.229874         0.212646      0.103957   \n",
              "11035055   -0.337355     -0.146889        -0.144530     -0.594508   \n",
              "\n",
              "          session_correct  ui_language_0  ui_language_1  lexeme_string_0  \\\n",
              "6825072         -0.489931              0              1                0   \n",
              "5311335         -0.489931              1              1                0   \n",
              "9050271         -0.489931              0              1                0   \n",
              "989326           0.236090              1              0                0   \n",
              "11035055        -0.489931              1              0                0   \n",
              "\n",
              "          lexeme_string_1  lexeme_string_2  lexeme_string_3  lexeme_string_4  \\\n",
              "6825072                 0                0                1                0   \n",
              "5311335                 0                0                0                0   \n",
              "9050271                 0                0                0                0   \n",
              "989326                  0                0                0                0   \n",
              "11035055                0                0                1                0   \n",
              "\n",
              "          lexeme_string_5  lexeme_string_6  lexeme_string_7  lexeme_string_8  \\\n",
              "6825072                 0                0                1                0   \n",
              "5311335                 0                0                1                0   \n",
              "9050271                 1                1                1                0   \n",
              "989326                  0                0                0                1   \n",
              "11035055                0                0                0                0   \n",
              "\n",
              "          lexeme_string_9  lexeme_string_10  lexeme_string_11  \n",
              "6825072                 1                 1                 1  \n",
              "5311335                 1                 0                 0  \n",
              "9050271                 1                 1                 1  \n",
              "989326                  0                 0                 0  \n",
              "11035055                1                 1                 0  "
            ],
            "text/html": [
              "\n",
              "  <div id=\"df-e1d59104-6206-4922-a0f0-d2358a165b7b\">\n",
              "    <div class=\"colab-df-container\">\n",
              "      <div>\n",
              "<style scoped>\n",
              "    .dataframe tbody tr th:only-of-type {\n",
              "        vertical-align: middle;\n",
              "    }\n",
              "\n",
              "    .dataframe tbody tr th {\n",
              "        vertical-align: top;\n",
              "    }\n",
              "\n",
              "    .dataframe thead th {\n",
              "        text-align: right;\n",
              "    }\n",
              "</style>\n",
              "<table border=\"1\" class=\"dataframe\">\n",
              "  <thead>\n",
              "    <tr style=\"text-align: right;\">\n",
              "      <th></th>\n",
              "      <th>delta_days</th>\n",
              "      <th>history_seen</th>\n",
              "      <th>history_correct</th>\n",
              "      <th>session_seen</th>\n",
              "      <th>session_correct</th>\n",
              "      <th>ui_language_0</th>\n",
              "      <th>ui_language_1</th>\n",
              "      <th>lexeme_string_0</th>\n",
              "      <th>lexeme_string_1</th>\n",
              "      <th>lexeme_string_2</th>\n",
              "      <th>lexeme_string_3</th>\n",
              "      <th>lexeme_string_4</th>\n",
              "      <th>lexeme_string_5</th>\n",
              "      <th>lexeme_string_6</th>\n",
              "      <th>lexeme_string_7</th>\n",
              "      <th>lexeme_string_8</th>\n",
              "      <th>lexeme_string_9</th>\n",
              "      <th>lexeme_string_10</th>\n",
              "      <th>lexeme_string_11</th>\n",
              "    </tr>\n",
              "  </thead>\n",
              "  <tbody>\n",
              "    <tr>\n",
              "      <th>6825072</th>\n",
              "      <td>0.067970</td>\n",
              "      <td>-0.151846</td>\n",
              "      <td>-0.150291</td>\n",
              "      <td>-0.594508</td>\n",
              "      <td>-0.489931</td>\n",
              "      <td>0</td>\n",
              "      <td>1</td>\n",
              "      <td>0</td>\n",
              "      <td>0</td>\n",
              "      <td>0</td>\n",
              "      <td>1</td>\n",
              "      <td>0</td>\n",
              "      <td>0</td>\n",
              "      <td>0</td>\n",
              "      <td>1</td>\n",
              "      <td>0</td>\n",
              "      <td>1</td>\n",
              "      <td>1</td>\n",
              "      <td>1</td>\n",
              "    </tr>\n",
              "    <tr>\n",
              "      <th>5311335</th>\n",
              "      <td>-0.301039</td>\n",
              "      <td>0.205087</td>\n",
              "      <td>0.224168</td>\n",
              "      <td>-0.594508</td>\n",
              "      <td>-0.489931</td>\n",
              "      <td>1</td>\n",
              "      <td>1</td>\n",
              "      <td>0</td>\n",
              "      <td>0</td>\n",
              "      <td>0</td>\n",
              "      <td>0</td>\n",
              "      <td>0</td>\n",
              "      <td>0</td>\n",
              "      <td>0</td>\n",
              "      <td>1</td>\n",
              "      <td>0</td>\n",
              "      <td>1</td>\n",
              "      <td>0</td>\n",
              "      <td>0</td>\n",
              "    </tr>\n",
              "    <tr>\n",
              "      <th>9050271</th>\n",
              "      <td>-0.287448</td>\n",
              "      <td>0.091067</td>\n",
              "      <td>0.068624</td>\n",
              "      <td>-0.594508</td>\n",
              "      <td>-0.489931</td>\n",
              "      <td>0</td>\n",
              "      <td>1</td>\n",
              "      <td>0</td>\n",
              "      <td>0</td>\n",
              "      <td>0</td>\n",
              "      <td>0</td>\n",
              "      <td>0</td>\n",
              "      <td>1</td>\n",
              "      <td>1</td>\n",
              "      <td>1</td>\n",
              "      <td>0</td>\n",
              "      <td>1</td>\n",
              "      <td>1</td>\n",
              "      <td>1</td>\n",
              "    </tr>\n",
              "    <tr>\n",
              "      <th>989326</th>\n",
              "      <td>-0.338611</td>\n",
              "      <td>0.229874</td>\n",
              "      <td>0.212646</td>\n",
              "      <td>0.103957</td>\n",
              "      <td>0.236090</td>\n",
              "      <td>1</td>\n",
              "      <td>0</td>\n",
              "      <td>0</td>\n",
              "      <td>0</td>\n",
              "      <td>0</td>\n",
              "      <td>0</td>\n",
              "      <td>0</td>\n",
              "      <td>0</td>\n",
              "      <td>0</td>\n",
              "      <td>0</td>\n",
              "      <td>1</td>\n",
              "      <td>0</td>\n",
              "      <td>0</td>\n",
              "      <td>0</td>\n",
              "    </tr>\n",
              "    <tr>\n",
              "      <th>11035055</th>\n",
              "      <td>-0.337355</td>\n",
              "      <td>-0.146889</td>\n",
              "      <td>-0.144530</td>\n",
              "      <td>-0.594508</td>\n",
              "      <td>-0.489931</td>\n",
              "      <td>1</td>\n",
              "      <td>0</td>\n",
              "      <td>0</td>\n",
              "      <td>0</td>\n",
              "      <td>0</td>\n",
              "      <td>1</td>\n",
              "      <td>0</td>\n",
              "      <td>0</td>\n",
              "      <td>0</td>\n",
              "      <td>0</td>\n",
              "      <td>0</td>\n",
              "      <td>1</td>\n",
              "      <td>1</td>\n",
              "      <td>0</td>\n",
              "    </tr>\n",
              "  </tbody>\n",
              "</table>\n",
              "</div>\n",
              "      <button class=\"colab-df-convert\" onclick=\"convertToInteractive('df-e1d59104-6206-4922-a0f0-d2358a165b7b')\"\n",
              "              title=\"Convert this dataframe to an interactive table.\"\n",
              "              style=\"display:none;\">\n",
              "        \n",
              "  <svg xmlns=\"http://www.w3.org/2000/svg\" height=\"24px\"viewBox=\"0 0 24 24\"\n",
              "       width=\"24px\">\n",
              "    <path d=\"M0 0h24v24H0V0z\" fill=\"none\"/>\n",
              "    <path d=\"M18.56 5.44l.94 2.06.94-2.06 2.06-.94-2.06-.94-.94-2.06-.94 2.06-2.06.94zm-11 1L8.5 8.5l.94-2.06 2.06-.94-2.06-.94L8.5 2.5l-.94 2.06-2.06.94zm10 10l.94 2.06.94-2.06 2.06-.94-2.06-.94-.94-2.06-.94 2.06-2.06.94z\"/><path d=\"M17.41 7.96l-1.37-1.37c-.4-.4-.92-.59-1.43-.59-.52 0-1.04.2-1.43.59L10.3 9.45l-7.72 7.72c-.78.78-.78 2.05 0 2.83L4 21.41c.39.39.9.59 1.41.59.51 0 1.02-.2 1.41-.59l7.78-7.78 2.81-2.81c.8-.78.8-2.07 0-2.86zM5.41 20L4 18.59l7.72-7.72 1.47 1.35L5.41 20z\"/>\n",
              "  </svg>\n",
              "      </button>\n",
              "      \n",
              "  <style>\n",
              "    .colab-df-container {\n",
              "      display:flex;\n",
              "      flex-wrap:wrap;\n",
              "      gap: 12px;\n",
              "    }\n",
              "\n",
              "    .colab-df-convert {\n",
              "      background-color: #E8F0FE;\n",
              "      border: none;\n",
              "      border-radius: 50%;\n",
              "      cursor: pointer;\n",
              "      display: none;\n",
              "      fill: #1967D2;\n",
              "      height: 32px;\n",
              "      padding: 0 0 0 0;\n",
              "      width: 32px;\n",
              "    }\n",
              "\n",
              "    .colab-df-convert:hover {\n",
              "      background-color: #E2EBFA;\n",
              "      box-shadow: 0px 1px 2px rgba(60, 64, 67, 0.3), 0px 1px 3px 1px rgba(60, 64, 67, 0.15);\n",
              "      fill: #174EA6;\n",
              "    }\n",
              "\n",
              "    [theme=dark] .colab-df-convert {\n",
              "      background-color: #3B4455;\n",
              "      fill: #D2E3FC;\n",
              "    }\n",
              "\n",
              "    [theme=dark] .colab-df-convert:hover {\n",
              "      background-color: #434B5C;\n",
              "      box-shadow: 0px 1px 3px 1px rgba(0, 0, 0, 0.15);\n",
              "      filter: drop-shadow(0px 1px 2px rgba(0, 0, 0, 0.3));\n",
              "      fill: #FFFFFF;\n",
              "    }\n",
              "  </style>\n",
              "\n",
              "      <script>\n",
              "        const buttonEl =\n",
              "          document.querySelector('#df-e1d59104-6206-4922-a0f0-d2358a165b7b button.colab-df-convert');\n",
              "        buttonEl.style.display =\n",
              "          google.colab.kernel.accessAllowed ? 'block' : 'none';\n",
              "\n",
              "        async function convertToInteractive(key) {\n",
              "          const element = document.querySelector('#df-e1d59104-6206-4922-a0f0-d2358a165b7b');\n",
              "          const dataTable =\n",
              "            await google.colab.kernel.invokeFunction('convertToInteractive',\n",
              "                                                     [key], {});\n",
              "          if (!dataTable) return;\n",
              "\n",
              "          const docLinkHtml = 'Like what you see? Visit the ' +\n",
              "            '<a target=\"_blank\" href=https://colab.research.google.com/notebooks/data_table.ipynb>data table notebook</a>'\n",
              "            + ' to learn more about interactive tables.';\n",
              "          element.innerHTML = '';\n",
              "          dataTable['output_type'] = 'display_data';\n",
              "          await google.colab.output.renderOutput(dataTable, element);\n",
              "          const docLink = document.createElement('div');\n",
              "          docLink.innerHTML = docLinkHtml;\n",
              "          element.appendChild(docLink);\n",
              "        }\n",
              "      </script>\n",
              "    </div>\n",
              "  </div>\n",
              "  "
            ]
          },
          "metadata": {},
          "execution_count": 86
        }
      ]
    },
    {
      "cell_type": "code",
      "metadata": {
        "id": "K3QJbrjtTSrS"
      },
      "source": [
        "h_pred_2 = 2**(x_test_clean.dot(coeff_linreg))"
      ],
      "execution_count": 87,
      "outputs": []
    },
    {
      "cell_type": "code",
      "metadata": {
        "id": "TwUQXhAwZZjF",
        "colab": {
          "base_uri": "https://localhost:8080/",
          "height": 206
        },
        "outputId": "fbb08405-288c-48ba-e68a-d09d76b885a7"
      },
      "source": [
        "h_pred_2.head()"
      ],
      "execution_count": 88,
      "outputs": [
        {
          "output_type": "execute_result",
          "data": {
            "text/plain": [
              "          Coefficient\n",
              "6825072      1.041358\n",
              "5311335      1.043351\n",
              "9050271      1.040784\n",
              "989326       1.077523\n",
              "11035055     1.040877"
            ],
            "text/html": [
              "\n",
              "  <div id=\"df-bbf181a1-28d1-4787-a452-4108a5dde9fe\">\n",
              "    <div class=\"colab-df-container\">\n",
              "      <div>\n",
              "<style scoped>\n",
              "    .dataframe tbody tr th:only-of-type {\n",
              "        vertical-align: middle;\n",
              "    }\n",
              "\n",
              "    .dataframe tbody tr th {\n",
              "        vertical-align: top;\n",
              "    }\n",
              "\n",
              "    .dataframe thead th {\n",
              "        text-align: right;\n",
              "    }\n",
              "</style>\n",
              "<table border=\"1\" class=\"dataframe\">\n",
              "  <thead>\n",
              "    <tr style=\"text-align: right;\">\n",
              "      <th></th>\n",
              "      <th>Coefficient</th>\n",
              "    </tr>\n",
              "  </thead>\n",
              "  <tbody>\n",
              "    <tr>\n",
              "      <th>6825072</th>\n",
              "      <td>1.041358</td>\n",
              "    </tr>\n",
              "    <tr>\n",
              "      <th>5311335</th>\n",
              "      <td>1.043351</td>\n",
              "    </tr>\n",
              "    <tr>\n",
              "      <th>9050271</th>\n",
              "      <td>1.040784</td>\n",
              "    </tr>\n",
              "    <tr>\n",
              "      <th>989326</th>\n",
              "      <td>1.077523</td>\n",
              "    </tr>\n",
              "    <tr>\n",
              "      <th>11035055</th>\n",
              "      <td>1.040877</td>\n",
              "    </tr>\n",
              "  </tbody>\n",
              "</table>\n",
              "</div>\n",
              "      <button class=\"colab-df-convert\" onclick=\"convertToInteractive('df-bbf181a1-28d1-4787-a452-4108a5dde9fe')\"\n",
              "              title=\"Convert this dataframe to an interactive table.\"\n",
              "              style=\"display:none;\">\n",
              "        \n",
              "  <svg xmlns=\"http://www.w3.org/2000/svg\" height=\"24px\"viewBox=\"0 0 24 24\"\n",
              "       width=\"24px\">\n",
              "    <path d=\"M0 0h24v24H0V0z\" fill=\"none\"/>\n",
              "    <path d=\"M18.56 5.44l.94 2.06.94-2.06 2.06-.94-2.06-.94-.94-2.06-.94 2.06-2.06.94zm-11 1L8.5 8.5l.94-2.06 2.06-.94-2.06-.94L8.5 2.5l-.94 2.06-2.06.94zm10 10l.94 2.06.94-2.06 2.06-.94-2.06-.94-.94-2.06-.94 2.06-2.06.94z\"/><path d=\"M17.41 7.96l-1.37-1.37c-.4-.4-.92-.59-1.43-.59-.52 0-1.04.2-1.43.59L10.3 9.45l-7.72 7.72c-.78.78-.78 2.05 0 2.83L4 21.41c.39.39.9.59 1.41.59.51 0 1.02-.2 1.41-.59l7.78-7.78 2.81-2.81c.8-.78.8-2.07 0-2.86zM5.41 20L4 18.59l7.72-7.72 1.47 1.35L5.41 20z\"/>\n",
              "  </svg>\n",
              "      </button>\n",
              "      \n",
              "  <style>\n",
              "    .colab-df-container {\n",
              "      display:flex;\n",
              "      flex-wrap:wrap;\n",
              "      gap: 12px;\n",
              "    }\n",
              "\n",
              "    .colab-df-convert {\n",
              "      background-color: #E8F0FE;\n",
              "      border: none;\n",
              "      border-radius: 50%;\n",
              "      cursor: pointer;\n",
              "      display: none;\n",
              "      fill: #1967D2;\n",
              "      height: 32px;\n",
              "      padding: 0 0 0 0;\n",
              "      width: 32px;\n",
              "    }\n",
              "\n",
              "    .colab-df-convert:hover {\n",
              "      background-color: #E2EBFA;\n",
              "      box-shadow: 0px 1px 2px rgba(60, 64, 67, 0.3), 0px 1px 3px 1px rgba(60, 64, 67, 0.15);\n",
              "      fill: #174EA6;\n",
              "    }\n",
              "\n",
              "    [theme=dark] .colab-df-convert {\n",
              "      background-color: #3B4455;\n",
              "      fill: #D2E3FC;\n",
              "    }\n",
              "\n",
              "    [theme=dark] .colab-df-convert:hover {\n",
              "      background-color: #434B5C;\n",
              "      box-shadow: 0px 1px 3px 1px rgba(0, 0, 0, 0.15);\n",
              "      filter: drop-shadow(0px 1px 2px rgba(0, 0, 0, 0.3));\n",
              "      fill: #FFFFFF;\n",
              "    }\n",
              "  </style>\n",
              "\n",
              "      <script>\n",
              "        const buttonEl =\n",
              "          document.querySelector('#df-bbf181a1-28d1-4787-a452-4108a5dde9fe button.colab-df-convert');\n",
              "        buttonEl.style.display =\n",
              "          google.colab.kernel.accessAllowed ? 'block' : 'none';\n",
              "\n",
              "        async function convertToInteractive(key) {\n",
              "          const element = document.querySelector('#df-bbf181a1-28d1-4787-a452-4108a5dde9fe');\n",
              "          const dataTable =\n",
              "            await google.colab.kernel.invokeFunction('convertToInteractive',\n",
              "                                                     [key], {});\n",
              "          if (!dataTable) return;\n",
              "\n",
              "          const docLinkHtml = 'Like what you see? Visit the ' +\n",
              "            '<a target=\"_blank\" href=https://colab.research.google.com/notebooks/data_table.ipynb>data table notebook</a>'\n",
              "            + ' to learn more about interactive tables.';\n",
              "          element.innerHTML = '';\n",
              "          dataTable['output_type'] = 'display_data';\n",
              "          await google.colab.output.renderOutput(dataTable, element);\n",
              "          const docLink = document.createElement('div');\n",
              "          docLink.innerHTML = docLinkHtml;\n",
              "          element.appendChild(docLink);\n",
              "        }\n",
              "      </script>\n",
              "    </div>\n",
              "  </div>\n",
              "  "
            ]
          },
          "metadata": {},
          "execution_count": 88
        }
      ]
    },
    {
      "cell_type": "code",
      "metadata": {
        "id": "vzzlkM4TUUjH",
        "colab": {
          "base_uri": "https://localhost:8080/"
        },
        "outputId": "3984927b-564f-48e6-c0c5-a7cc85a127cf"
      },
      "source": [
        "h_test.head()"
      ],
      "execution_count": 89,
      "outputs": [
        {
          "output_type": "execute_result",
          "data": {
            "text/plain": [
              "6825072     121.000000\n",
              "5311335      85.190400\n",
              "9050271     115.799060\n",
              "989326        0.570047\n",
              "11035055      3.398403\n",
              "Name: half_life, dtype: float64"
            ]
          },
          "metadata": {},
          "execution_count": 89
        }
      ]
    },
    {
      "cell_type": "code",
      "metadata": {
        "id": "SNf6SCR7Y52d",
        "colab": {
          "base_uri": "https://localhost:8080/"
        },
        "outputId": "61e305cf-ccee-44eb-ed64-8582518af2e6"
      },
      "source": [
        "print('Mean Absolute Error:', metrics.mean_absolute_error(h_test, h_pred_2))  \n",
        "print('Mean Squared Error:', metrics.mean_squared_error(h_test, h_pred_2))  \n",
        "print('Root Mean Squared Error:', np.sqrt(metrics.mean_squared_error(h_test, h_pred_2)))"
      ],
      "execution_count": 90,
      "outputs": [
        {
          "output_type": "stream",
          "name": "stdout",
          "text": [
            "Mean Absolute Error: 49.67663270255183\n",
            "Mean Squared Error: 5548.434456653901\n",
            "Root Mean Squared Error: 74.48781414871765\n"
          ]
        }
      ]
    },
    {
      "cell_type": "code",
      "metadata": {
        "id": "9MzCWrJ3NBfN"
      },
      "source": [
        "df = pd.DataFrame({'Actual': y_test, 'Predicted': y_pred})\n",
        "df1 = df.head(25)"
      ],
      "execution_count": 91,
      "outputs": []
    },
    {
      "cell_type": "code",
      "metadata": {
        "id": "RATpVI2LN_Mg",
        "colab": {
          "base_uri": "https://localhost:8080/",
          "height": 524
        },
        "outputId": "367e7998-157a-4ebe-fa3e-290d59412fae"
      },
      "source": [
        "df1.plot(kind='bar',figsize=(10,8))\n",
        "plt.grid(which='major', linestyle='-', linewidth='0.5', color='green')\n",
        "plt.grid(which='minor', linestyle=':', linewidth='0.5', color='black')\n",
        "plt.show()"
      ],
      "execution_count": 92,
      "outputs": [
        {
          "output_type": "display_data",
          "data": {
            "text/plain": [
              "<Figure size 720x576 with 1 Axes>"
            ],
            "image/png": "[encoded data removed]"
          },
          "metadata": {}
        }
      ]
    },
    {
      "cell_type": "code",
      "metadata": {
        "id": "H9XBP6bxOJZE",
        "colab": {
          "base_uri": "https://localhost:8080/"
        },
        "outputId": "faec57eb-198d-47f1-f258-eebe8313dd07"
      },
      "source": [
        "print('Mean Absolute Error:', metrics.mean_absolute_error(y_test, y_pred))  \n",
        "print('Mean Squared Error:', metrics.mean_squared_error(y_test, y_pred))  \n",
        "print('Root Mean Squared Error:', np.sqrt(metrics.mean_squared_error(y_test, y_pred)))"
      ],
      "execution_count": 93,
      "outputs": [
        {
          "output_type": "stream",
          "name": "stdout",
          "text": [
            "Mean Absolute Error: 0.08118491428178458\n",
            "Mean Squared Error: 0.018073089356522774\n",
            "Root Mean Squared Error: 0.1344361906501474\n"
          ]
        }
      ]
    },
    {
      "cell_type": "code",
      "metadata": {
        "id": "RyJbJHE0I4XL",
        "colab": {
          "base_uri": "https://localhost:8080/"
        },
        "outputId": "fa44b9d3-19ec-4408-fd3b-42e7602bb327"
      },
      "source": [
        "h_pred_ln = ((-1)*x_test[\"delta_days\"]/np.log(y_pred))"
      ],
      "execution_count": 94,
      "outputs": [
        {
          "output_type": "stream",
          "name": "stderr",
          "text": [
            "/usr/local/lib/python3.7/dist-packages/ipykernel_launcher.py:1: RuntimeWarning: invalid value encountered in log\n",
            "  \"\"\"Entry point for launching an IPython kernel.\n"
          ]
        }
      ]
    },
    {
      "cell_type": "code",
      "metadata": {
        "id": "vRepJeJFyUee",
        "colab": {
          "base_uri": "https://localhost:8080/"
        },
        "outputId": "61a3093d-1434-4a98-abfc-ebc22865e661"
      },
      "source": [
        "h_pred_ln.head()"
      ],
      "execution_count": 95,
      "outputs": [
        {
          "output_type": "execute_result",
          "data": {
            "text/plain": [
              "6825072     160.891088\n",
              "5311335      15.761923\n",
              "9050271      20.038359\n",
              "989326        0.895523\n",
              "11035055      0.589466\n",
              "Name: delta_days, dtype: float64"
            ]
          },
          "metadata": {},
          "execution_count": 95
        }
      ]
    },
    {
      "cell_type": "code",
      "metadata": {
        "id": "YMNbrSXtyZCO",
        "colab": {
          "base_uri": "https://localhost:8080/"
        },
        "outputId": "990516ce-efc3-443e-b33d-d03da74e85b5"
      },
      "source": [
        "h_test.head()"
      ],
      "execution_count": 96,
      "outputs": [
        {
          "output_type": "execute_result",
          "data": {
            "text/plain": [
              "6825072     121.000000\n",
              "5311335      85.190400\n",
              "9050271     115.799060\n",
              "989326        0.570047\n",
              "11035055      3.398403\n",
              "Name: half_life, dtype: float64"
            ]
          },
          "metadata": {},
          "execution_count": 96
        }
      ]
    },
    {
      "cell_type": "code",
      "metadata": {
        "id": "t4Sjik7U4S4L"
      },
      "source": [
        "from sklearn.linear_model import SGDRegressor"
      ],
      "execution_count": 97,
      "outputs": []
    },
    {
      "cell_type": "code",
      "metadata": {
        "id": "JMItn_IX4i5I",
        "colab": {
          "base_uri": "https://localhost:8080/"
        },
        "outputId": "78a68697-9c93-423b-db4b-bbe651221a92"
      },
      "source": [
        "clf_ = SGDRegressor()\n",
        "clf_.fit(x_train_clean, y_train)"
      ],
      "execution_count": 98,
      "outputs": [
        {
          "output_type": "execute_result",
          "data": {
            "text/plain": [
              "SGDRegressor()"
            ]
          },
          "metadata": {},
          "execution_count": 98
        }
      ]
    },
    {
      "cell_type": "code",
      "metadata": {
        "id": "BPFrH9Xd63p9",
        "colab": {
          "base_uri": "https://localhost:8080/"
        },
        "outputId": "57419bd6-db02-4fc9-afd1-f92c5317a7ea"
      },
      "source": [
        "joblib.dump(clf_, 'model_clf.pkl')"
      ],
      "execution_count": 99,
      "outputs": [
        {
          "output_type": "execute_result",
          "data": {
            "text/plain": [
              "['model_clf.pkl']"
            ]
          },
          "metadata": {},
          "execution_count": 99
        }
      ]
    },
    {
      "cell_type": "code",
      "metadata": {
        "id": "z4QAfdo84tug",
        "colab": {
          "base_uri": "https://localhost:8080/"
        },
        "outputId": "379cd729-810f-42b8-a050-a9658d4618a1"
      },
      "source": [
        "print('Mean Absolute Error :', metrics.mean_absolute_error(y_test, clf_.predict(x_test_clean))) \n",
        "print('Mean Squared Error :', metrics.mean_squared_error(y_test, clf_.predict(x_test_clean)))\n",
        "print('Root Mean Squared Error:', np.sqrt(metrics.mean_squared_error(y_test, clf_.predict(x_test_clean))))"
      ],
      "execution_count": 100,
      "outputs": [
        {
          "output_type": "stream",
          "name": "stdout",
          "text": [
            "Mean Absolute Error : 0.08177233457438118\n",
            "Mean Squared Error : 0.018100669142128996\n",
            "Root Mean Squared Error: 0.1345387272948908\n"
          ]
        }
      ]
    },
    {
      "cell_type": "markdown",
      "metadata": {
        "id": "hMD-pWfNTR4E"
      },
      "source": [
        "## SVM"
      ]
    },
    {
      "cell_type": "code",
      "metadata": {
        "id": "FBJENZR0TvDG"
      },
      "source": [
        "#mae vs rmse (fitting)"
      ],
      "execution_count": 101,
      "outputs": []
    },
    {
      "cell_type": "code",
      "metadata": {
        "id": "C5Z7SRvGXFpW"
      },
      "source": [
        "#lgbn, nn, imbalanc learning"
      ],
      "execution_count": 102,
      "outputs": []
    },
    {
      "cell_type": "code",
      "metadata": {
        "id": "eS6tRh2u6C27"
      },
      "source": [
        "#kenapa predik h pake 2^delta.x, bukan h = - delta/ln(predik p)"
      ],
      "execution_count": 103,
      "outputs": []
    },
    {
      "cell_type": "code",
      "metadata": {
        "id": "f7jBb2-169fa"
      },
      "source": [
        "#featurenya gimana, masalahnya apaaan aja, "
      ],
      "execution_count": 104,
      "outputs": []
    },
    {
      "cell_type": "code",
      "metadata": {
        "id": "ZarXd6Dp7h5I"
      },
      "source": [
        "#https://en.wikipedia.org/wiki/Knowledge_space"
      ],
      "execution_count": 105,
      "outputs": []
    },
    {
      "cell_type": "markdown",
      "metadata": {
        "id": "njpWxS8pyrpZ"
      },
      "source": [
        "## LGBM\n",
        "\n"
      ]
    },
    {
      "cell_type": "code",
      "metadata": {
        "id": "J34ZpgsVywit"
      },
      "source": [
        "import lightgbm as lgb"
      ],
      "execution_count": 106,
      "outputs": []
    },
    {
      "cell_type": "code",
      "metadata": {
        "id": "ro7cdjpIzWs5"
      },
      "source": [
        "# create dataset for lightgbm\n",
        "lgb_train = lgb.Dataset(x_train_clean, y_train)\n",
        "lgb_eval = lgb.Dataset(x_test_clean, y_test, reference=lgb_train)"
      ],
      "execution_count": 107,
      "outputs": []
    },
    {
      "cell_type": "code",
      "metadata": {
        "id": "fpVB0z3K0U_f"
      },
      "source": [
        "params = {\n",
        "    'boosting_type': 'gbdt',\n",
        "    'objective': 'regression',\n",
        "    'metric': {'l2', 'l1'},\n",
        "    'num_leaves': 31,\n",
        "    'learning_rate': 0.05,\n",
        "    'feature_fraction': 0.9,\n",
        "    'bagging_fraction': 0.8,\n",
        "    'bagging_freq': 5,\n",
        "    'verbose': 0\n",
        "}"
      ],
      "execution_count": 108,
      "outputs": []
    },
    {
      "cell_type": "code",
      "metadata": {
        "id": "6F24EEQ30bWi",
        "colab": {
          "base_uri": "https://localhost:8080/"
        },
        "outputId": "1a4b0c26-f7b3-4533-facd-c298bbf9e8cf"
      },
      "source": [
        "print('Starting training...')\n",
        "# train\n",
        "gbm = lgb.train(params,\n",
        "                lgb_train,\n",
        "                num_boost_round=50,\n",
        "                valid_sets=lgb_eval,\n",
        "                early_stopping_rounds=5)"
      ],
      "execution_count": 109,
      "outputs": [
        {
          "output_type": "stream",
          "name": "stdout",
          "text": [
            "Starting training...\n",
            "[1]\tvalid_0's l2: 0.0623984\tvalid_0's l1: 0.160255\n",
            "Training until validation scores don't improve for 5 rounds.\n",
            "[2]\tvalid_0's l2: 0.0563165\tvalid_0's l1: 0.152248\n",
            "[3]\tvalid_0's l2: 0.0508275\tvalid_0's l1: 0.144646\n",
            "[4]\tvalid_0's l2: 0.0458736\tvalid_0's l1: 0.137419\n",
            "[5]\tvalid_0's l2: 0.0414026\tvalid_0's l1: 0.130555\n",
            "[6]\tvalid_0's l2: 0.0373675\tvalid_0's l1: 0.124037\n",
            "[7]\tvalid_0's l2: 0.0337257\tvalid_0's l1: 0.117842\n",
            "[8]\tvalid_0's l2: 0.030439\tvalid_0's l1: 0.111959\n",
            "[9]\tvalid_0's l2: 0.0274728\tvalid_0's l1: 0.106369\n",
            "[10]\tvalid_0's l2: 0.0247956\tvalid_0's l1: 0.101057\n",
            "[11]\tvalid_0's l2: 0.0223795\tvalid_0's l1: 0.0960129\n",
            "[12]\tvalid_0's l2: 0.0201988\tvalid_0's l1: 0.0912192\n",
            "[13]\tvalid_0's l2: 0.0182306\tvalid_0's l1: 0.0866657\n",
            "[14]\tvalid_0's l2: 0.0164543\tvalid_0's l1: 0.0823382\n",
            "[15]\tvalid_0's l2: 0.0164289\tvalid_0's l1: 0.0823257\n",
            "[16]\tvalid_0's l2: 0.0148284\tvalid_0's l1: 0.0782172\n",
            "[17]\tvalid_0's l2: 0.0133838\tvalid_0's l1: 0.0743107\n",
            "[18]\tvalid_0's l2: 0.0120801\tvalid_0's l1: 0.0706015\n",
            "[19]\tvalid_0's l2: 0.0120627\tvalid_0's l1: 0.0705908\n",
            "[20]\tvalid_0's l2: 0.0120511\tvalid_0's l1: 0.0705917\n",
            "[21]\tvalid_0's l2: 0.011094\tvalid_0's l1: 0.068328\n",
            "[22]\tvalid_0's l2: 0.0100138\tvalid_0's l1: 0.0649217\n",
            "[23]\tvalid_0's l2: 0.00903873\tvalid_0's l1: 0.0616794\n",
            "[24]\tvalid_0's l2: 0.00815865\tvalid_0's l1: 0.0586002\n",
            "[25]\tvalid_0's l2: 0.00752362\tvalid_0's l1: 0.0567564\n",
            "[26]\tvalid_0's l2: 0.00679134\tvalid_0's l1: 0.0539272\n",
            "[27]\tvalid_0's l2: 0.00613034\tvalid_0's l1: 0.0512356\n",
            "[28]\tvalid_0's l2: 0.00553383\tvalid_0's l1: 0.0486822\n",
            "[29]\tvalid_0's l2: 0.00499536\tvalid_0's l1: 0.0462503\n",
            "[30]\tvalid_0's l2: 0.00499053\tvalid_0's l1: 0.0462366\n",
            "[31]\tvalid_0's l2: 0.00450512\tvalid_0's l1: 0.0439292\n",
            "[32]\tvalid_0's l2: 0.00406701\tvalid_0's l1: 0.0417405\n",
            "[33]\tvalid_0's l2: 0.00367149\tvalid_0's l1: 0.0396577\n",
            "[34]\tvalid_0's l2: 0.00366838\tvalid_0's l1: 0.0396493\n",
            "[35]\tvalid_0's l2: 0.00331187\tvalid_0's l1: 0.0376753\n",
            "[36]\tvalid_0's l2: 0.00306053\tvalid_0's l1: 0.0365167\n",
            "[37]\tvalid_0's l2: 0.0027632\tvalid_0's l1: 0.0346989\n",
            "[38]\tvalid_0's l2: 0.00249485\tvalid_0's l1: 0.0329699\n",
            "[39]\tvalid_0's l2: 0.00225262\tvalid_0's l1: 0.0313297\n",
            "[40]\tvalid_0's l2: 0.00208584\tvalid_0's l1: 0.0303864\n",
            "[41]\tvalid_0's l2: 0.00188341\tvalid_0's l1: 0.0288719\n",
            "[42]\tvalid_0's l2: 0.00170068\tvalid_0's l1: 0.0274342\n",
            "[43]\tvalid_0's l2: 0.00153577\tvalid_0's l1: 0.0260708\n",
            "[44]\tvalid_0's l2: 0.00138691\tvalid_0's l1: 0.0247734\n",
            "[45]\tvalid_0's l2: 0.00128704\tvalid_0's l1: 0.024044\n",
            "[46]\tvalid_0's l2: 0.00116239\tvalid_0's l1: 0.0228485\n",
            "[47]\tvalid_0's l2: 0.00104988\tvalid_0's l1: 0.0217118\n",
            "[48]\tvalid_0's l2: 0.00094832\tvalid_0's l1: 0.0206315\n",
            "[49]\tvalid_0's l2: 0.000882031\tvalid_0's l1: 0.0200383\n",
            "[50]\tvalid_0's l2: 0.000881523\tvalid_0's l1: 0.0200292\n",
            "Did not meet early stopping. Best iteration is:\n",
            "[50]\tvalid_0's l2: 0.000881523\tvalid_0's l1: 0.0200292\n"
          ]
        }
      ]
    },
    {
      "cell_type": "code",
      "metadata": {
        "id": "KxVIxaUj0jzf",
        "colab": {
          "base_uri": "https://localhost:8080/"
        },
        "outputId": "2158fd1b-c0bc-493d-9671-4455a6ec36c3"
      },
      "source": [
        "print('Saving model...')\n",
        "# save model to file\n",
        "gbm.save_model('model_lgbm.txt')\n",
        "joblib.dump(gbm, 'model_lgbm.pkl')"
      ],
      "execution_count": 110,
      "outputs": [
        {
          "output_type": "stream",
          "name": "stdout",
          "text": [
            "Saving model...\n"
          ]
        },
        {
          "output_type": "execute_result",
          "data": {
            "text/plain": [
              "['model_lgbm.pkl']"
            ]
          },
          "metadata": {},
          "execution_count": 110
        }
      ]
    },
    {
      "cell_type": "code",
      "metadata": {
        "id": "ZxGVWvFw0r4J",
        "colab": {
          "base_uri": "https://localhost:8080/"
        },
        "outputId": "b1de0734-b68e-4590-93bc-749561e994e7"
      },
      "source": [
        "print('Starting predicting...')\n",
        "# predict\n",
        "y_pred_lgbm = gbm.predict(x_test_clean, num_iteration=gbm.best_iteration)"
      ],
      "execution_count": 111,
      "outputs": [
        {
          "output_type": "stream",
          "name": "stdout",
          "text": [
            "Starting predicting...\n"
          ]
        }
      ]
    },
    {
      "cell_type": "code",
      "metadata": {
        "id": "C2FnNF9D0u1_",
        "colab": {
          "base_uri": "https://localhost:8080/"
        },
        "outputId": "8ae4afe7-54fb-4532-dc55-2ebec3239b4e"
      },
      "source": [
        "print('Mean Absolute Error:', metrics.mean_absolute_error(y_test, y_pred_lgbm))  \n",
        "print('Mean Squared Error:', metrics.mean_squared_error(y_test, y_pred_lgbm))  \n",
        "print('Root Mean Squared Error:', np.sqrt(metrics.mean_squared_error(y_test, y_pred_lgbm)))"
      ],
      "execution_count": 112,
      "outputs": [
        {
          "output_type": "stream",
          "name": "stdout",
          "text": [
            "Mean Absolute Error: 0.020029177688141487\n",
            "Mean Squared Error: 0.0008815227044097838\n",
            "Root Mean Squared Error: 0.029690448033160156\n"
          ]
        }
      ]
    },
    {
      "cell_type": "code",
      "metadata": {
        "id": "mwBnokNYWhRh"
      },
      "source": [
        "aaa = np.round(y_pred_lgbm, 3)"
      ],
      "execution_count": 113,
      "outputs": []
    },
    {
      "cell_type": "code",
      "metadata": {
        "id": "qMPEALU7WuZn",
        "colab": {
          "base_uri": "https://localhost:8080/"
        },
        "outputId": "d96cc84b-a5eb-4920-a1c1-f483f4f092f0"
      },
      "source": [
        "aaa"
      ],
      "execution_count": 114,
      "outputs": [
        {
          "output_type": "execute_result",
          "data": {
            "text/plain": [
              "array([0.977, 0.977, 0.978, ..., 0.978, 0.98 , 0.979])"
            ]
          },
          "metadata": {},
          "execution_count": 114
        }
      ]
    },
    {
      "cell_type": "code",
      "metadata": {
        "id": "9F260EUnGZuv"
      },
      "source": [
        "h_pred_lgbm_ln = ((-1)*x_test[\"delta_days\"]/np.log(y_pred_lgbm))"
      ],
      "execution_count": 115,
      "outputs": []
    },
    {
      "cell_type": "code",
      "metadata": {
        "id": "_DqHnFzuWxE1"
      },
      "source": [
        "h_pred_lgbm_ln_aaa = ((-1)*x_test[\"delta_days\"]/np.log(aaa))"
      ],
      "execution_count": 116,
      "outputs": []
    },
    {
      "cell_type": "code",
      "metadata": {
        "id": "nXc3ZeojIrJ3",
        "colab": {
          "base_uri": "https://localhost:8080/"
        },
        "outputId": "2187f215-93e5-4172-ba1f-85256935400e"
      },
      "source": [
        "print('Mean Absolute Error:', metrics.mean_absolute_error(h_test, aaa))  \n",
        "print('Mean Squared Error:', metrics.mean_squared_error(h_test, aaa))  \n",
        "print('Root Mean Squared Error:', np.sqrt(metrics.mean_squared_error(h_test, aaa)))"
      ],
      "execution_count": 117,
      "outputs": [
        {
          "output_type": "stream",
          "name": "stdout",
          "text": [
            "Mean Absolute Error: 49.69386554537849\n",
            "Mean Squared Error: 5557.559941881553\n",
            "Root Mean Squared Error: 74.54904386966712\n"
          ]
        }
      ]
    },
    {
      "cell_type": "markdown",
      "metadata": {
        "id": "aU72pw792I0I"
      },
      "source": [
        "### gridsearchcv"
      ]
    },
    {
      "cell_type": "code",
      "metadata": {
        "id": "tnEGsGyf2PjI"
      },
      "source": [
        "from sklearn.model_selection import GridSearchCV"
      ],
      "execution_count": 118,
      "outputs": []
    },
    {
      "cell_type": "code",
      "metadata": {
        "id": "4K8U8_s_2TmW",
        "colab": {
          "base_uri": "https://localhost:8080/"
        },
        "outputId": "592992e1-69eb-4a75-bb22-e39302454a25"
      },
      "source": [
        "print('Starting training...')\n",
        "# train\n",
        "gbm = lgb.LGBMRegressor(num_leaves=31,\n",
        "                        learning_rate=0.05,\n",
        "                        n_estimators=20)\n",
        "\n",
        "gbm.fit(x_train_clean, y_train,\n",
        "        eval_set=[(x_test_clean, y_test)],\n",
        "        eval_metric='l1',\n",
        "        early_stopping_rounds=5)"
      ],
      "execution_count": 119,
      "outputs": [
        {
          "output_type": "stream",
          "name": "stdout",
          "text": [
            "Starting training...\n",
            "[1]\tvalid_0's l1: 0.160255\tvalid_0's l2: 0.0623984\n",
            "Training until validation scores don't improve for 5 rounds.\n",
            "[2]\tvalid_0's l1: 0.152248\tvalid_0's l2: 0.0563165\n",
            "[3]\tvalid_0's l1: 0.144646\tvalid_0's l2: 0.0508275\n",
            "[4]\tvalid_0's l1: 0.137419\tvalid_0's l2: 0.0458735\n",
            "[5]\tvalid_0's l1: 0.130555\tvalid_0's l2: 0.0414026\n",
            "[6]\tvalid_0's l1: 0.124037\tvalid_0's l2: 0.0373676\n",
            "[7]\tvalid_0's l1: 0.117842\tvalid_0's l2: 0.0337257\n",
            "[8]\tvalid_0's l1: 0.111958\tvalid_0's l2: 0.030439\n",
            "[9]\tvalid_0's l1: 0.106368\tvalid_0's l2: 0.0274727\n",
            "[10]\tvalid_0's l1: 0.101057\tvalid_0's l2: 0.0247955\n",
            "[11]\tvalid_0's l1: 0.0960127\tvalid_0's l2: 0.0223794\n",
            "[12]\tvalid_0's l1: 0.0912189\tvalid_0's l2: 0.0201987\n",
            "[13]\tvalid_0's l1: 0.0866655\tvalid_0's l2: 0.0182306\n",
            "[14]\tvalid_0's l1: 0.0823378\tvalid_0's l2: 0.0164542\n",
            "[15]\tvalid_0's l1: 0.0782286\tvalid_0's l2: 0.0148512\n",
            "[16]\tvalid_0's l1: 0.0743227\tvalid_0's l2: 0.0134043\n",
            "[17]\tvalid_0's l1: 0.0706164\tvalid_0's l2: 0.0120985\n",
            "[18]\tvalid_0's l1: 0.0670893\tvalid_0's l2: 0.0109199\n",
            "[19]\tvalid_0's l1: 0.0637424\tvalid_0's l2: 0.00985618\n",
            "[20]\tvalid_0's l1: 0.0605613\tvalid_0's l2: 0.00889607\n",
            "Did not meet early stopping. Best iteration is:\n",
            "[20]\tvalid_0's l1: 0.0605613\tvalid_0's l2: 0.00889607\n"
          ]
        },
        {
          "output_type": "execute_result",
          "data": {
            "text/plain": [
              "LGBMRegressor(learning_rate=0.05, n_estimators=20)"
            ]
          },
          "metadata": {},
          "execution_count": 119
        }
      ]
    },
    {
      "cell_type": "code",
      "metadata": {
        "id": "9qOd60zP2mXn",
        "colab": {
          "base_uri": "https://localhost:8080/"
        },
        "outputId": "b1d66b8b-dc91-4363-c640-868b56f96b85"
      },
      "source": [
        "print('Starting predicting...')\n",
        "# predict\n",
        "y_pred_lgbm_sklearn = gbm.predict(x_test_clean, num_iteration=gbm.best_iteration_)"
      ],
      "execution_count": 120,
      "outputs": [
        {
          "output_type": "stream",
          "name": "stdout",
          "text": [
            "Starting predicting...\n"
          ]
        }
      ]
    },
    {
      "cell_type": "code",
      "metadata": {
        "id": "XjVDGxeB2-VF",
        "colab": {
          "base_uri": "https://localhost:8080/"
        },
        "outputId": "7be1f0cc-a5ed-4225-e3e7-d340b07ac317"
      },
      "source": [
        "print('Mean Absolute Error:', metrics.mean_absolute_error(y_test, y_pred_lgbm_sklearn))  \n",
        "print('Mean Squared Error:', metrics.mean_squared_error(y_test, y_pred_lgbm_sklearn))  \n",
        "print('Root Mean Squared Error:', np.sqrt(metrics.mean_squared_error(y_test, y_pred_lgbm_sklearn)))"
      ],
      "execution_count": 121,
      "outputs": [
        {
          "output_type": "stream",
          "name": "stdout",
          "text": [
            "Mean Absolute Error: 0.06056124899872819\n",
            "Mean Squared Error: 0.008896071337913605\n",
            "Root Mean Squared Error: 0.09431898715483328\n"
          ]
        }
      ]
    },
    {
      "cell_type": "code",
      "metadata": {
        "id": "0jx9ICi63SPj",
        "colab": {
          "base_uri": "https://localhost:8080/"
        },
        "outputId": "acb7496d-b863-46c7-d208-34b4874d7129"
      },
      "source": [
        "# feature importances\n",
        "print('Feature importances:', list(gbm.feature_importances_))"
      ],
      "execution_count": 122,
      "outputs": [
        {
          "output_type": "stream",
          "name": "stdout",
          "text": [
            "Feature importances: [0, 0, 0, 388, 212, 0, 0, 0, 0, 0, 0, 0, 0, 0, 0, 0, 0, 0, 0]\n"
          ]
        }
      ]
    },
    {
      "cell_type": "code",
      "metadata": {
        "id": "FORAO3IK3W9s"
      },
      "source": [
        "def rmsle(y_true, y_pred_lgbm_sklearn):\n",
        "    return 'RMSLE', np.sqrt(np.mean(np.power(np.log1p(y_pred_lgbm_sklearn) - np.log1p(y_true), 2))), False"
      ],
      "execution_count": 123,
      "outputs": []
    },
    {
      "cell_type": "code",
      "metadata": {
        "id": "qMVnzGg83sdb",
        "colab": {
          "base_uri": "https://localhost:8080/"
        },
        "outputId": "4fd63c24-bfa9-41ed-faf5-21c149d372f8"
      },
      "source": [
        "print('Starting training with custom eval function...')\n",
        "# train\n",
        "gbm.fit(x_train_clean, y_train,\n",
        "        eval_set=[(x_test_clean, y_test)],\n",
        "        eval_metric=rmsle,\n",
        "        early_stopping_rounds=5)"
      ],
      "execution_count": 124,
      "outputs": [
        {
          "output_type": "stream",
          "name": "stdout",
          "text": [
            "Starting training with custom eval function...\n",
            "[1]\tvalid_0's l2: 0.0623984\tvalid_0's RMSLE: 0.171158\n",
            "Training until validation scores don't improve for 5 rounds.\n",
            "[2]\tvalid_0's l2: 0.0563165\tvalid_0's RMSLE: 0.164394\n",
            "[3]\tvalid_0's l2: 0.0508275\tvalid_0's RMSLE: 0.157846\n",
            "[4]\tvalid_0's l2: 0.0458735\tvalid_0's RMSLE: 0.151512\n",
            "[5]\tvalid_0's l2: 0.0414026\tvalid_0's RMSLE: 0.145386\n",
            "[6]\tvalid_0's l2: 0.0373676\tvalid_0's RMSLE: 0.139464\n",
            "[7]\tvalid_0's l2: 0.0337257\tvalid_0's RMSLE: 0.133742\n",
            "[8]\tvalid_0's l2: 0.030439\tvalid_0's RMSLE: 0.128216\n",
            "[9]\tvalid_0's l2: 0.0274727\tvalid_0's RMSLE: 0.122882\n",
            "[10]\tvalid_0's l2: 0.0247955\tvalid_0's RMSLE: 0.117735\n",
            "[11]\tvalid_0's l2: 0.0223794\tvalid_0's RMSLE: 0.112771\n",
            "[12]\tvalid_0's l2: 0.0201987\tvalid_0's RMSLE: 0.107985\n",
            "[13]\tvalid_0's l2: 0.0182306\tvalid_0's RMSLE: 0.103374\n",
            "[14]\tvalid_0's l2: 0.0164542\tvalid_0's RMSLE: 0.0989328\n",
            "[15]\tvalid_0's l2: 0.0148512\tvalid_0's RMSLE: 0.0946572\n",
            "[16]\tvalid_0's l2: 0.0134043\tvalid_0's RMSLE: 0.0905426\n",
            "[17]\tvalid_0's l2: 0.0120985\tvalid_0's RMSLE: 0.0865849\n",
            "[18]\tvalid_0's l2: 0.0109199\tvalid_0's RMSLE: 0.0827797\n",
            "[19]\tvalid_0's l2: 0.00985618\tvalid_0's RMSLE: 0.0791225\n",
            "[20]\tvalid_0's l2: 0.00889607\tvalid_0's RMSLE: 0.075609\n",
            "Did not meet early stopping. Best iteration is:\n",
            "[20]\tvalid_0's l2: 0.00889607\tvalid_0's RMSLE: 0.075609\n"
          ]
        },
        {
          "output_type": "execute_result",
          "data": {
            "text/plain": [
              "LGBMRegressor(learning_rate=0.05, n_estimators=20)"
            ]
          },
          "metadata": {},
          "execution_count": 124
        }
      ]
    },
    {
      "cell_type": "code",
      "metadata": {
        "id": "QfE0p9WH3zFn"
      },
      "source": [
        "def rae(y_true, y_pred_lgbm_sklearn):\n",
        "    return 'RAE', np.sum(np.abs(y_pred_lgbm_sklearn - y_true)) / np.sum(np.abs(np.mean(y_true) - y_true)), False"
      ],
      "execution_count": 125,
      "outputs": []
    },
    {
      "cell_type": "code",
      "metadata": {
        "id": "l12oz61E36Rb",
        "colab": {
          "base_uri": "https://localhost:8080/"
        },
        "outputId": "7c6b7b94-30cf-49d0-94aa-c25d33ad5e6e"
      },
      "source": [
        "print('Starting training with multiple custom eval functions...')\n",
        "# train\n",
        "gbm.fit(x_train_clean, y_train,\n",
        "        eval_set=[(x_test_clean, y_test)],\n",
        "        eval_metric=lambda y_true, y_pred_lgbm_sklearn: [rmsle(y_true, y_pred_lgbm_sklearn), rae(y_true, y_pred_lgbm_sklearn)],\n",
        "        early_stopping_rounds=5)"
      ],
      "execution_count": 126,
      "outputs": [
        {
          "output_type": "stream",
          "name": "stdout",
          "text": [
            "Starting training with multiple custom eval functions...\n",
            "[1]\tvalid_0's l2: 0.0623984\tvalid_0's RMSLE: 0.171158\tvalid_0's RAE: 0.951105\n",
            "Training until validation scores don't improve for 5 rounds.\n",
            "[2]\tvalid_0's l2: 0.0563165\tvalid_0's RMSLE: 0.164394\tvalid_0's RAE: 0.903581\n",
            "[3]\tvalid_0's l2: 0.0508275\tvalid_0's RMSLE: 0.157846\tvalid_0's RAE: 0.858467\n",
            "[4]\tvalid_0's l2: 0.0458735\tvalid_0's RMSLE: 0.151512\tvalid_0's RAE: 0.815574\n",
            "[5]\tvalid_0's l2: 0.0414026\tvalid_0's RMSLE: 0.145386\tvalid_0's RAE: 0.77484\n",
            "[6]\tvalid_0's l2: 0.0373676\tvalid_0's RMSLE: 0.139464\tvalid_0's RAE: 0.736152\n",
            "[7]\tvalid_0's l2: 0.0337257\tvalid_0's RMSLE: 0.133742\tvalid_0's RAE: 0.699389\n",
            "[8]\tvalid_0's l2: 0.030439\tvalid_0's RMSLE: 0.128216\tvalid_0's RAE: 0.664463\n",
            "[9]\tvalid_0's l2: 0.0274727\tvalid_0's RMSLE: 0.122882\tvalid_0's RAE: 0.631291\n",
            "[10]\tvalid_0's l2: 0.0247955\tvalid_0's RMSLE: 0.117735\tvalid_0's RAE: 0.599769\n",
            "[11]\tvalid_0's l2: 0.0223794\tvalid_0's RMSLE: 0.112771\tvalid_0's RAE: 0.56983\n",
            "[12]\tvalid_0's l2: 0.0201987\tvalid_0's RMSLE: 0.107985\tvalid_0's RAE: 0.541379\n",
            "[13]\tvalid_0's l2: 0.0182306\tvalid_0's RMSLE: 0.103374\tvalid_0's RAE: 0.514355\n",
            "[14]\tvalid_0's l2: 0.0164542\tvalid_0's RMSLE: 0.0989328\tvalid_0's RAE: 0.48867\n",
            "[15]\tvalid_0's l2: 0.0148512\tvalid_0's RMSLE: 0.0946572\tvalid_0's RAE: 0.464283\n",
            "[16]\tvalid_0's l2: 0.0134043\tvalid_0's RMSLE: 0.0905426\tvalid_0's RAE: 0.441101\n",
            "[17]\tvalid_0's l2: 0.0120985\tvalid_0's RMSLE: 0.0865849\tvalid_0's RAE: 0.419105\n",
            "[18]\tvalid_0's l2: 0.0109199\tvalid_0's RMSLE: 0.0827797\tvalid_0's RAE: 0.398172\n",
            "[19]\tvalid_0's l2: 0.00985618\tvalid_0's RMSLE: 0.0791225\tvalid_0's RAE: 0.378308\n",
            "[20]\tvalid_0's l2: 0.00889607\tvalid_0's RMSLE: 0.075609\tvalid_0's RAE: 0.359428\n",
            "Did not meet early stopping. Best iteration is:\n",
            "[20]\tvalid_0's l2: 0.00889607\tvalid_0's RMSLE: 0.075609\tvalid_0's RAE: 0.359428\n"
          ]
        },
        {
          "output_type": "execute_result",
          "data": {
            "text/plain": [
              "LGBMRegressor(learning_rate=0.05, n_estimators=20)"
            ]
          },
          "metadata": {},
          "execution_count": 126
        }
      ]
    },
    {
      "cell_type": "code",
      "metadata": {
        "id": "yzXaRRa-4XQ2",
        "colab": {
          "base_uri": "https://localhost:8080/"
        },
        "outputId": "a8e245ab-ac9d-4b68-9405-9a6f796ff88f"
      },
      "source": [
        "print('Starting predicting...')\n",
        "# predict\n",
        "y_pred = gbm.predict(x_test_clean, num_iteration=gbm.best_iteration_)\n",
        "# eval\n",
        "print('The rmsle of prediction is:', rmsle(y_test, y_pred_lgbm_sklearn)[1])\n",
        "print('The rae of prediction is:', rae(y_test, y_pred_lgbm_sklearn)[1])"
      ],
      "execution_count": 127,
      "outputs": [
        {
          "output_type": "stream",
          "name": "stdout",
          "text": [
            "Starting predicting...\n",
            "The rmsle of prediction is: 0.07560896674726304\n",
            "The rae of prediction is: 0.3594279081560239\n"
          ]
        }
      ]
    },
    {
      "cell_type": "code",
      "metadata": {
        "id": "AeSBGvNMCriM",
        "colab": {
          "base_uri": "https://localhost:8080/"
        },
        "outputId": "40d5a9c3-f2df-4f4c-e428-b18efb429d24"
      },
      "source": [
        "estimator = lgb.LGBMRegressor(num_leaves=31)\n",
        "\n",
        "param_grid = {\n",
        "    'learning_rate': [0.01, 0.1, 1, 10],\n",
        "    'n_estimators': [20, 40]\n",
        "}\n",
        "\n",
        "gbm = GridSearchCV(estimator, param_grid, cv=3)\n",
        "gbm.fit(x_train_clean, y_train)\n",
        "\n",
        "print('Best parameters found by grid search are:', gbm.best_params_)"
      ],
      "execution_count": 128,
      "outputs": [
        {
          "output_type": "stream",
          "name": "stdout",
          "text": [
            "Best parameters found by grid search are: {'learning_rate': 1, 'n_estimators': 20}\n"
          ]
        }
      ]
    },
    {
      "cell_type": "code",
      "metadata": {
        "id": "eMHXBXlM4wPt",
        "colab": {
          "base_uri": "https://localhost:8080/"
        },
        "outputId": "7c42921b-ecdf-42f5-d633-0bef8009a51b"
      },
      "source": [
        "print('Starting training...')\n",
        "# train\n",
        "gbm = lgb.LGBMRegressor(num_leaves=31,\n",
        "                        learning_rate= 1,\n",
        "                        n_estimators=20)\n",
        "\n",
        "gbm.fit(x_train_clean, y_train,\n",
        "        eval_set=[(x_test_clean, y_test)],\n",
        "        eval_metric='l1',\n",
        "        early_stopping_rounds=5)"
      ],
      "execution_count": 129,
      "outputs": [
        {
          "output_type": "stream",
          "name": "stdout",
          "text": [
            "Starting training...\n",
            "[1]\tvalid_0's l1: 0.000317789\tvalid_0's l2: 1.86091e-05\n",
            "Training until validation scores don't improve for 5 rounds.\n",
            "[2]\tvalid_0's l1: 0.000144923\tvalid_0's l2: 6.36875e-06\n",
            "[3]\tvalid_0's l1: 0.000102814\tvalid_0's l2: 3.2472e-06\n",
            "[4]\tvalid_0's l1: 7.78625e-05\tvalid_0's l2: 2.23113e-06\n",
            "[5]\tvalid_0's l1: 4.76835e-05\tvalid_0's l2: 1.5338e-06\n",
            "[6]\tvalid_0's l1: 5.51331e-06\tvalid_0's l2: 1.87646e-07\n",
            "[7]\tvalid_0's l1: 5.44402e-06\tvalid_0's l2: 1.88685e-07\n",
            "[8]\tvalid_0's l1: 5.0981e-06\tvalid_0's l2: 1.82475e-07\n",
            "[9]\tvalid_0's l1: 4.90117e-06\tvalid_0's l2: 1.72099e-07\n",
            "[10]\tvalid_0's l1: 4.93839e-06\tvalid_0's l2: 1.74033e-07\n",
            "[11]\tvalid_0's l1: 4.94247e-06\tvalid_0's l2: 1.7573e-07\n",
            "[12]\tvalid_0's l1: 4.95215e-06\tvalid_0's l2: 1.76191e-07\n",
            "[13]\tvalid_0's l1: 5.00676e-06\tvalid_0's l2: 1.76685e-07\n",
            "[14]\tvalid_0's l1: 5.01408e-06\tvalid_0's l2: 1.76938e-07\n",
            "Early stopping, best iteration is:\n",
            "[9]\tvalid_0's l1: 4.90117e-06\tvalid_0's l2: 1.72099e-07\n"
          ]
        },
        {
          "output_type": "execute_result",
          "data": {
            "text/plain": [
              "LGBMRegressor(learning_rate=1, n_estimators=20)"
            ]
          },
          "metadata": {},
          "execution_count": 129
        }
      ]
    },
    {
      "cell_type": "code",
      "metadata": {
        "id": "AOfBbpNGAL9g",
        "colab": {
          "base_uri": "https://localhost:8080/"
        },
        "outputId": "b3af2660-a82c-4a2b-e058-6a68c4913c18"
      },
      "source": [
        "print('Starting predicting...')\n",
        "# predict\n",
        "y_pred_lgbm_sklearn = gbm.predict(x_test_clean, num_iteration=gbm.best_iteration_)"
      ],
      "execution_count": 130,
      "outputs": [
        {
          "output_type": "stream",
          "name": "stdout",
          "text": [
            "Starting predicting...\n"
          ]
        }
      ]
    },
    {
      "cell_type": "code",
      "metadata": {
        "id": "orMkKtMzAQTR",
        "colab": {
          "base_uri": "https://localhost:8080/"
        },
        "outputId": "0b08c1ed-f34c-4d61-b09f-031236d94a77"
      },
      "source": [
        "print('Mean Absolute Error:', metrics.mean_absolute_error(y_test, y_pred_lgbm_sklearn))  \n",
        "print('Mean Squared Error:', metrics.mean_squared_error(y_test, y_pred_lgbm_sklearn))  \n",
        "print('Root Mean Squared Error:', np.sqrt(metrics.mean_squared_error(y_test, y_pred_lgbm_sklearn)))"
      ],
      "execution_count": 131,
      "outputs": [
        {
          "output_type": "stream",
          "name": "stdout",
          "text": [
            "Mean Absolute Error: 4.892797915176787e-06\n",
            "Mean Squared Error: 1.7209868224058223e-07\n",
            "Root Mean Squared Error: 0.00041484778201236923\n"
          ]
        }
      ]
    },
    {
      "cell_type": "code",
      "metadata": {
        "id": "UHemjHamWxVn"
      },
      "source": [
        ""
      ],
      "execution_count": 131,
      "outputs": []
    },
    {
      "cell_type": "markdown",
      "metadata": {
        "id": "KvGU3AoxOXbG"
      },
      "source": [
        "## NN"
      ]
    },
    {
      "cell_type": "code",
      "metadata": {
        "id": "Tagck4Y6OZDE"
      },
      "source": [
        "multi_train = pd.concat([y_train, h_train], axis=1)\n",
        "multi_test = pd.concat([y_test, h_test], axis=1)"
      ],
      "execution_count": 132,
      "outputs": []
    },
    {
      "cell_type": "code",
      "metadata": {
        "id": "Js90t8CRO7zx",
        "colab": {
          "base_uri": "https://localhost:8080/",
          "height": 206
        },
        "outputId": "0f563bea-92d0-435e-e65a-f4ae1a350e7b"
      },
      "source": [
        "multi_train.head()"
      ],
      "execution_count": 133,
      "outputs": [
        {
          "output_type": "execute_result",
          "data": {
            "text/plain": [
              "          p_recall   half_life\n",
              "5209146       0.01    0.419097\n",
              "12391706      0.99   12.845065\n",
              "8938738       0.99    3.690912\n",
              "5457519       0.99   97.831630\n",
              "10650847      0.99  121.000000"
            ],
            "text/html": [
              "\n",
              "  <div id=\"df-183b8789-a4dc-460d-8150-864911703c36\">\n",
              "    <div class=\"colab-df-container\">\n",
              "      <div>\n",
              "<style scoped>\n",
              "    .dataframe tbody tr th:only-of-type {\n",
              "        vertical-align: middle;\n",
              "    }\n",
              "\n",
              "    .dataframe tbody tr th {\n",
              "        vertical-align: top;\n",
              "    }\n",
              "\n",
              "    .dataframe thead th {\n",
              "        text-align: right;\n",
              "    }\n",
              "</style>\n",
              "<table border=\"1\" class=\"dataframe\">\n",
              "  <thead>\n",
              "    <tr style=\"text-align: right;\">\n",
              "      <th></th>\n",
              "      <th>p_recall</th>\n",
              "      <th>half_life</th>\n",
              "    </tr>\n",
              "  </thead>\n",
              "  <tbody>\n",
              "    <tr>\n",
              "      <th>5209146</th>\n",
              "      <td>0.01</td>\n",
              "      <td>0.419097</td>\n",
              "    </tr>\n",
              "    <tr>\n",
              "      <th>12391706</th>\n",
              "      <td>0.99</td>\n",
              "      <td>12.845065</td>\n",
              "    </tr>\n",
              "    <tr>\n",
              "      <th>8938738</th>\n",
              "      <td>0.99</td>\n",
              "      <td>3.690912</td>\n",
              "    </tr>\n",
              "    <tr>\n",
              "      <th>5457519</th>\n",
              "      <td>0.99</td>\n",
              "      <td>97.831630</td>\n",
              "    </tr>\n",
              "    <tr>\n",
              "      <th>10650847</th>\n",
              "      <td>0.99</td>\n",
              "      <td>121.000000</td>\n",
              "    </tr>\n",
              "  </tbody>\n",
              "</table>\n",
              "</div>\n",
              "      <button class=\"colab-df-convert\" onclick=\"convertToInteractive('df-183b8789-a4dc-460d-8150-864911703c36')\"\n",
              "              title=\"Convert this dataframe to an interactive table.\"\n",
              "              style=\"display:none;\">\n",
              "        \n",
              "  <svg xmlns=\"http://www.w3.org/2000/svg\" height=\"24px\"viewBox=\"0 0 24 24\"\n",
              "       width=\"24px\">\n",
              "    <path d=\"M0 0h24v24H0V0z\" fill=\"none\"/>\n",
              "    <path d=\"M18.56 5.44l.94 2.06.94-2.06 2.06-.94-2.06-.94-.94-2.06-.94 2.06-2.06.94zm-11 1L8.5 8.5l.94-2.06 2.06-.94-2.06-.94L8.5 2.5l-.94 2.06-2.06.94zm10 10l.94 2.06.94-2.06 2.06-.94-2.06-.94-.94-2.06-.94 2.06-2.06.94z\"/><path d=\"M17.41 7.96l-1.37-1.37c-.4-.4-.92-.59-1.43-.59-.52 0-1.04.2-1.43.59L10.3 9.45l-7.72 7.72c-.78.78-.78 2.05 0 2.83L4 21.41c.39.39.9.59 1.41.59.51 0 1.02-.2 1.41-.59l7.78-7.78 2.81-2.81c.8-.78.8-2.07 0-2.86zM5.41 20L4 18.59l7.72-7.72 1.47 1.35L5.41 20z\"/>\n",
              "  </svg>\n",
              "      </button>\n",
              "      \n",
              "  <style>\n",
              "    .colab-df-container {\n",
              "      display:flex;\n",
              "      flex-wrap:wrap;\n",
              "      gap: 12px;\n",
              "    }\n",
              "\n",
              "    .colab-df-convert {\n",
              "      background-color: #E8F0FE;\n",
              "      border: none;\n",
              "      border-radius: 50%;\n",
              "      cursor: pointer;\n",
              "      display: none;\n",
              "      fill: #1967D2;\n",
              "      height: 32px;\n",
              "      padding: 0 0 0 0;\n",
              "      width: 32px;\n",
              "    }\n",
              "\n",
              "    .colab-df-convert:hover {\n",
              "      background-color: #E2EBFA;\n",
              "      box-shadow: 0px 1px 2px rgba(60, 64, 67, 0.3), 0px 1px 3px 1px rgba(60, 64, 67, 0.15);\n",
              "      fill: #174EA6;\n",
              "    }\n",
              "\n",
              "    [theme=dark] .colab-df-convert {\n",
              "      background-color: #3B4455;\n",
              "      fill: #D2E3FC;\n",
              "    }\n",
              "\n",
              "    [theme=dark] .colab-df-convert:hover {\n",
              "      background-color: #434B5C;\n",
              "      box-shadow: 0px 1px 3px 1px rgba(0, 0, 0, 0.15);\n",
              "      filter: drop-shadow(0px 1px 2px rgba(0, 0, 0, 0.3));\n",
              "      fill: #FFFFFF;\n",
              "    }\n",
              "  </style>\n",
              "\n",
              "      <script>\n",
              "        const buttonEl =\n",
              "          document.querySelector('#df-183b8789-a4dc-460d-8150-864911703c36 button.colab-df-convert');\n",
              "        buttonEl.style.display =\n",
              "          google.colab.kernel.accessAllowed ? 'block' : 'none';\n",
              "\n",
              "        async function convertToInteractive(key) {\n",
              "          const element = document.querySelector('#df-183b8789-a4dc-460d-8150-864911703c36');\n",
              "          const dataTable =\n",
              "            await google.colab.kernel.invokeFunction('convertToInteractive',\n",
              "                                                     [key], {});\n",
              "          if (!dataTable) return;\n",
              "\n",
              "          const docLinkHtml = 'Like what you see? Visit the ' +\n",
              "            '<a target=\"_blank\" href=https://colab.research.google.com/notebooks/data_table.ipynb>data table notebook</a>'\n",
              "            + ' to learn more about interactive tables.';\n",
              "          element.innerHTML = '';\n",
              "          dataTable['output_type'] = 'display_data';\n",
              "          await google.colab.output.renderOutput(dataTable, element);\n",
              "          const docLink = document.createElement('div');\n",
              "          docLink.innerHTML = docLinkHtml;\n",
              "          element.appendChild(docLink);\n",
              "        }\n",
              "      </script>\n",
              "    </div>\n",
              "  </div>\n",
              "  "
            ]
          },
          "metadata": {},
          "execution_count": 133
        }
      ]
    },
    {
      "cell_type": "code",
      "metadata": {
        "id": "5cMfAKTchod6"
      },
      "source": [
        "import tensorflow as tf\n",
        "from keras.models import Sequential\n",
        "from keras.layers import Dense\n",
        "from keras.callbacks import EarlyStopping\n",
        "from keras.wrappers.scikit_learn import KerasRegressor"
      ],
      "execution_count": 134,
      "outputs": []
    },
    {
      "cell_type": "code",
      "metadata": {
        "id": "hVBP0cNvuztF",
        "colab": {
          "base_uri": "https://localhost:8080/"
        },
        "outputId": "d3e6b382-5365-4d80-fde5-8b45ea7668b4"
      },
      "source": [
        "x_train_clean.shape"
      ],
      "execution_count": 135,
      "outputs": [
        {
          "output_type": "execute_result",
          "data": {
            "text/plain": [
              "(3724731, 19)"
            ]
          },
          "metadata": {},
          "execution_count": 135
        }
      ]
    },
    {
      "cell_type": "code",
      "metadata": {
        "id": "w867otnret54"
      },
      "source": [
        "# Model\n",
        "model = Sequential()\n",
        "model.add(Dense(21, input_dim=x_test_clean.shape[1], kernel_initializer='normal', activation='relu'))\n",
        "model.add(Dense(15, kernel_initializer='normal', activation='relu'))\n",
        "model.add(Dense(10, kernel_initializer='normal', activation='relu'))\n",
        "model.add(Dense(5, kernel_initializer='normal', activation='relu'))\n",
        "model.add(Dense(2, kernel_initializer='normal'))"
      ],
      "execution_count": 136,
      "outputs": []
    },
    {
      "cell_type": "code",
      "metadata": {
        "id": "6nmzv8BaoPky",
        "colab": {
          "base_uri": "https://localhost:8080/"
        },
        "outputId": "6e6053db-0854-4fff-bd45-e68b36cea951"
      },
      "source": [
        "model.compile(loss='mean_squared_error', \n",
        "              optimizer='adam',)\n",
        "\n",
        "\n",
        "monitor = EarlyStopping(monitor='val_loss', min_delta=1e-3, \n",
        "                        patience=5, verbose=1, mode='auto', restore_best_weights=True)\n",
        "\n",
        "\n",
        "model.fit(x_train_clean,multi_train,validation_data=(x_test_clean,multi_test),callbacks=[monitor],verbose=2,epochs=10)"
      ],
      "execution_count": 137,
      "outputs": [
        {
          "output_type": "stream",
          "name": "stdout",
          "text": [
            "Epoch 1/10\n",
            "116398/116398 - 283s - loss: 298.3730 - val_loss: 1.5162 - 283s/epoch - 2ms/step\n",
            "Epoch 2/10\n",
            "116398/116398 - 280s - loss: 2.6579 - val_loss: 3.7195 - 280s/epoch - 2ms/step\n",
            "Epoch 3/10\n",
            "116398/116398 - 310s - loss: 1.5273 - val_loss: 0.1697 - 310s/epoch - 3ms/step\n",
            "Epoch 4/10\n",
            "116398/116398 - 282s - loss: 1.1264 - val_loss: 0.1529 - 282s/epoch - 2ms/step\n",
            "Epoch 5/10\n",
            "116398/116398 - 282s - loss: 0.9282 - val_loss: 0.0980 - 282s/epoch - 2ms/step\n",
            "Epoch 6/10\n",
            "116398/116398 - 281s - loss: 0.7862 - val_loss: 0.1175 - 281s/epoch - 2ms/step\n",
            "Epoch 7/10\n",
            "116398/116398 - 311s - loss: 0.6691 - val_loss: 0.9625 - 311s/epoch - 3ms/step\n",
            "Epoch 8/10\n",
            "116398/116398 - 309s - loss: 0.6307 - val_loss: 0.1375 - 309s/epoch - 3ms/step\n",
            "Epoch 9/10\n",
            "116398/116398 - 310s - loss: 0.5791 - val_loss: 0.0592 - 310s/epoch - 3ms/step\n",
            "Epoch 10/10\n",
            "116398/116398 - 307s - loss: 0.5224 - val_loss: 0.0471 - 307s/epoch - 3ms/step\n"
          ]
        },
        {
          "output_type": "execute_result",
          "data": {
            "text/plain": [
              "<keras.callbacks.History at 0x7f6490301c50>"
            ]
          },
          "metadata": {},
          "execution_count": 137
        }
      ]
    },
    {
      "cell_type": "code",
      "metadata": {
        "id": "kUKXQciw7dRC",
        "colab": {
          "base_uri": "https://localhost:8080/"
        },
        "outputId": "8d97959c-5bdb-4761-a8af-912ea7bf80e5"
      },
      "source": [
        "print('Saving model...')\n",
        "# save model to file\n",
        "joblib.dump(model, 'model_nn_2.pkl')"
      ],
      "execution_count": 138,
      "outputs": [
        {
          "output_type": "stream",
          "name": "stdout",
          "text": [
            "Saving model...\n",
            "INFO:tensorflow:Assets written to: ram://0d221bf1-16b9-4c05-a39f-50f1644ed559/assets\n"
          ]
        },
        {
          "output_type": "execute_result",
          "data": {
            "text/plain": [
              "['model_nn_2.pkl']"
            ]
          },
          "metadata": {},
          "execution_count": 138
        }
      ]
    },
    {
      "cell_type": "code",
      "metadata": {
        "id": "7RGUdNxb478h"
      },
      "source": [
        "nn_pred = model.predict(x_test_clean)"
      ],
      "execution_count": 139,
      "outputs": []
    },
    {
      "cell_type": "code",
      "metadata": {
        "id": "L-vY-SSQPFa1",
        "colab": {
          "base_uri": "https://localhost:8080/"
        },
        "outputId": "89304580-a95f-4f21-9821-39b615e231b0"
      },
      "source": [
        "print('Mean Absolute Error:', metrics.mean_absolute_error(multi_test, nn_pred))  \n",
        "print('Mean Squared Error:', metrics.mean_squared_error(multi_test, nn_pred))  \n",
        "print('Root Mean Squared Error:', np.sqrt(metrics.mean_squared_error(multi_test, nn_pred)))"
      ],
      "execution_count": 140,
      "outputs": [
        {
          "output_type": "stream",
          "name": "stdout",
          "text": [
            "Mean Absolute Error: 0.07754981967308879\n",
            "Mean Squared Error: 0.047105765152888994\n",
            "Root Mean Squared Error: 0.21703862594683232\n"
          ]
        }
      ]
    },
    {
      "cell_type": "code",
      "metadata": {
        "id": "OIB0Q9GePf_M",
        "colab": {
          "base_uri": "https://localhost:8080/"
        },
        "outputId": "41a5d1d7-724d-4b44-f2db-5ee61a8ef226"
      },
      "source": [
        "nn_pred"
      ],
      "execution_count": 141,
      "outputs": [
        {
          "output_type": "execute_result",
          "data": {
            "text/plain": [
              "array([[  1.0117699 , 121.048294  ],\n",
              "       [  0.93707967,  85.140854  ],\n",
              "       [  1.0014042 , 115.68124   ],\n",
              "       ...,\n",
              "       [  1.0133723 , 121.04181   ],\n",
              "       [  0.9795422 ,   0.7908491 ],\n",
              "       [  0.98629385,   2.1388683 ]], dtype=float32)"
            ]
          },
          "metadata": {},
          "execution_count": 141
        }
      ]
    },
    {
      "cell_type": "code",
      "metadata": {
        "id": "z299AsmEd5U1",
        "colab": {
          "base_uri": "https://localhost:8080/",
          "height": 166
        },
        "outputId": "67c1a0aa-5f97-4d14-d43c-56b7ada01433"
      },
      "source": [
        "keras.utils.plot_model(model, 'multi_input_and_output_model.png', show_shapes=True)"
      ],
      "execution_count": 142,
      "outputs": [
        {
          "output_type": "error",
          "ename": "NameError",
          "evalue": "ignored",
          "traceback": [
            "\u001b[0;31m---------------------------------------------------------------------------\u001b[0m",
            "\u001b[0;31mNameError\u001b[0m                                 Traceback (most recent call last)",
            "\u001b[0;32m<ipython-input-142-30db3c2a3031>\u001b[0m in \u001b[0;36m<module>\u001b[0;34m()\u001b[0m\n\u001b[0;32m----> 1\u001b[0;31m \u001b[0mkeras\u001b[0m\u001b[0;34m.\u001b[0m\u001b[0mutils\u001b[0m\u001b[0;34m.\u001b[0m\u001b[0mplot_model\u001b[0m\u001b[0;34m(\u001b[0m\u001b[0mmodel\u001b[0m\u001b[0;34m,\u001b[0m \u001b[0;34m'multi_input_and_output_model.png'\u001b[0m\u001b[0;34m,\u001b[0m \u001b[0mshow_shapes\u001b[0m\u001b[0;34m=\u001b[0m\u001b[0;32mTrue\u001b[0m\u001b[0;34m)\u001b[0m\u001b[0;34m\u001b[0m\u001b[0;34m\u001b[0m\u001b[0m\n\u001b[0m",
            "\u001b[0;31mNameError\u001b[0m: name 'keras' is not defined"
          ]
        }
      ]
    },
    {
      "cell_type": "code",
      "metadata": {
        "id": "iokbCroO2Kkr"
      },
      "source": [
        "type(nn_pred)"
      ],
      "execution_count": null,
      "outputs": []
    },
    {
      "cell_type": "code",
      "metadata": {
        "id": "IXoGpUK-AuxZ"
      },
      "source": [
        "nn_pred_dataframe = pd.DataFrame({'p_recall': nn_pred[:, 0], 'half_life': nn_pred[:, 1]})"
      ],
      "execution_count": 143,
      "outputs": []
    },
    {
      "cell_type": "code",
      "metadata": {
        "id": "r2ESkgGWlJt7"
      },
      "source": [
        "nn_pred_dataframe.to_csv(\"nn_pred.csv\", encoding='utf-8', index=False)"
      ],
      "execution_count": 144,
      "outputs": []
    },
    {
      "cell_type": "code",
      "metadata": {
        "id": "15glGkI6IUYD",
        "colab": {
          "base_uri": "https://localhost:8080/",
          "height": 206
        },
        "outputId": "6e65004d-8619-42d8-f3c8-05a246a9f029"
      },
      "source": [
        "nn_pred_dataframe.head()"
      ],
      "execution_count": 145,
      "outputs": [
        {
          "output_type": "execute_result",
          "data": {
            "text/plain": [
              "   p_recall   half_life\n",
              "0  1.011770  121.048294\n",
              "1  0.937080   85.140854\n",
              "2  1.001404  115.681236\n",
              "3  0.979774    0.739783\n",
              "4  0.996199    3.574614"
            ],
            "text/html": [
              "\n",
              "  <div id=\"df-24ad9aaf-10c9-47a9-abc7-1a7731a14459\">\n",
              "    <div class=\"colab-df-container\">\n",
              "      <div>\n",
              "<style scoped>\n",
              "    .dataframe tbody tr th:only-of-type {\n",
              "        vertical-align: middle;\n",
              "    }\n",
              "\n",
              "    .dataframe tbody tr th {\n",
              "        vertical-align: top;\n",
              "    }\n",
              "\n",
              "    .dataframe thead th {\n",
              "        text-align: right;\n",
              "    }\n",
              "</style>\n",
              "<table border=\"1\" class=\"dataframe\">\n",
              "  <thead>\n",
              "    <tr style=\"text-align: right;\">\n",
              "      <th></th>\n",
              "      <th>p_recall</th>\n",
              "      <th>half_life</th>\n",
              "    </tr>\n",
              "  </thead>\n",
              "  <tbody>\n",
              "    <tr>\n",
              "      <th>0</th>\n",
              "      <td>1.011770</td>\n",
              "      <td>121.048294</td>\n",
              "    </tr>\n",
              "    <tr>\n",
              "      <th>1</th>\n",
              "      <td>0.937080</td>\n",
              "      <td>85.140854</td>\n",
              "    </tr>\n",
              "    <tr>\n",
              "      <th>2</th>\n",
              "      <td>1.001404</td>\n",
              "      <td>115.681236</td>\n",
              "    </tr>\n",
              "    <tr>\n",
              "      <th>3</th>\n",
              "      <td>0.979774</td>\n",
              "      <td>0.739783</td>\n",
              "    </tr>\n",
              "    <tr>\n",
              "      <th>4</th>\n",
              "      <td>0.996199</td>\n",
              "      <td>3.574614</td>\n",
              "    </tr>\n",
              "  </tbody>\n",
              "</table>\n",
              "</div>\n",
              "      <button class=\"colab-df-convert\" onclick=\"convertToInteractive('df-24ad9aaf-10c9-47a9-abc7-1a7731a14459')\"\n",
              "              title=\"Convert this dataframe to an interactive table.\"\n",
              "              style=\"display:none;\">\n",
              "        \n",
              "  <svg xmlns=\"http://www.w3.org/2000/svg\" height=\"24px\"viewBox=\"0 0 24 24\"\n",
              "       width=\"24px\">\n",
              "    <path d=\"M0 0h24v24H0V0z\" fill=\"none\"/>\n",
              "    <path d=\"M18.56 5.44l.94 2.06.94-2.06 2.06-.94-2.06-.94-.94-2.06-.94 2.06-2.06.94zm-11 1L8.5 8.5l.94-2.06 2.06-.94-2.06-.94L8.5 2.5l-.94 2.06-2.06.94zm10 10l.94 2.06.94-2.06 2.06-.94-2.06-.94-.94-2.06-.94 2.06-2.06.94z\"/><path d=\"M17.41 7.96l-1.37-1.37c-.4-.4-.92-.59-1.43-.59-.52 0-1.04.2-1.43.59L10.3 9.45l-7.72 7.72c-.78.78-.78 2.05 0 2.83L4 21.41c.39.39.9.59 1.41.59.51 0 1.02-.2 1.41-.59l7.78-7.78 2.81-2.81c.8-.78.8-2.07 0-2.86zM5.41 20L4 18.59l7.72-7.72 1.47 1.35L5.41 20z\"/>\n",
              "  </svg>\n",
              "      </button>\n",
              "      \n",
              "  <style>\n",
              "    .colab-df-container {\n",
              "      display:flex;\n",
              "      flex-wrap:wrap;\n",
              "      gap: 12px;\n",
              "    }\n",
              "\n",
              "    .colab-df-convert {\n",
              "      background-color: #E8F0FE;\n",
              "      border: none;\n",
              "      border-radius: 50%;\n",
              "      cursor: pointer;\n",
              "      display: none;\n",
              "      fill: #1967D2;\n",
              "      height: 32px;\n",
              "      padding: 0 0 0 0;\n",
              "      width: 32px;\n",
              "    }\n",
              "\n",
              "    .colab-df-convert:hover {\n",
              "      background-color: #E2EBFA;\n",
              "      box-shadow: 0px 1px 2px rgba(60, 64, 67, 0.3), 0px 1px 3px 1px rgba(60, 64, 67, 0.15);\n",
              "      fill: #174EA6;\n",
              "    }\n",
              "\n",
              "    [theme=dark] .colab-df-convert {\n",
              "      background-color: #3B4455;\n",
              "      fill: #D2E3FC;\n",
              "    }\n",
              "\n",
              "    [theme=dark] .colab-df-convert:hover {\n",
              "      background-color: #434B5C;\n",
              "      box-shadow: 0px 1px 3px 1px rgba(0, 0, 0, 0.15);\n",
              "      filter: drop-shadow(0px 1px 2px rgba(0, 0, 0, 0.3));\n",
              "      fill: #FFFFFF;\n",
              "    }\n",
              "  </style>\n",
              "\n",
              "      <script>\n",
              "        const buttonEl =\n",
              "          document.querySelector('#df-24ad9aaf-10c9-47a9-abc7-1a7731a14459 button.colab-df-convert');\n",
              "        buttonEl.style.display =\n",
              "          google.colab.kernel.accessAllowed ? 'block' : 'none';\n",
              "\n",
              "        async function convertToInteractive(key) {\n",
              "          const element = document.querySelector('#df-24ad9aaf-10c9-47a9-abc7-1a7731a14459');\n",
              "          const dataTable =\n",
              "            await google.colab.kernel.invokeFunction('convertToInteractive',\n",
              "                                                     [key], {});\n",
              "          if (!dataTable) return;\n",
              "\n",
              "          const docLinkHtml = 'Like what you see? Visit the ' +\n",
              "            '<a target=\"_blank\" href=https://colab.research.google.com/notebooks/data_table.ipynb>data table notebook</a>'\n",
              "            + ' to learn more about interactive tables.';\n",
              "          element.innerHTML = '';\n",
              "          dataTable['output_type'] = 'display_data';\n",
              "          await google.colab.output.renderOutput(dataTable, element);\n",
              "          const docLink = document.createElement('div');\n",
              "          docLink.innerHTML = docLinkHtml;\n",
              "          element.appendChild(docLink);\n",
              "        }\n",
              "      </script>\n",
              "    </div>\n",
              "  </div>\n",
              "  "
            ]
          },
          "metadata": {},
          "execution_count": 145
        }
      ]
    },
    {
      "cell_type": "code",
      "metadata": {
        "id": "X0tCOTYOIXoM",
        "colab": {
          "base_uri": "https://localhost:8080/",
          "height": 206
        },
        "outputId": "ba79986d-83f6-4529-8c06-d18e3aea9433"
      },
      "source": [
        "multi_test.head()"
      ],
      "execution_count": 146,
      "outputs": [
        {
          "output_type": "execute_result",
          "data": {
            "text/plain": [
              "          p_recall   half_life\n",
              "6825072       0.99  121.000000\n",
              "5311335       0.99   85.190400\n",
              "9050271       0.99  115.799060\n",
              "989326        0.99    0.570047\n",
              "11035055      0.99    3.398403"
            ],
            "text/html": [
              "\n",
              "  <div id=\"df-60a994a7-838e-436a-89ee-047b52f77d47\">\n",
              "    <div class=\"colab-df-container\">\n",
              "      <div>\n",
              "<style scoped>\n",
              "    .dataframe tbody tr th:only-of-type {\n",
              "        vertical-align: middle;\n",
              "    }\n",
              "\n",
              "    .dataframe tbody tr th {\n",
              "        vertical-align: top;\n",
              "    }\n",
              "\n",
              "    .dataframe thead th {\n",
              "        text-align: right;\n",
              "    }\n",
              "</style>\n",
              "<table border=\"1\" class=\"dataframe\">\n",
              "  <thead>\n",
              "    <tr style=\"text-align: right;\">\n",
              "      <th></th>\n",
              "      <th>p_recall</th>\n",
              "      <th>half_life</th>\n",
              "    </tr>\n",
              "  </thead>\n",
              "  <tbody>\n",
              "    <tr>\n",
              "      <th>6825072</th>\n",
              "      <td>0.99</td>\n",
              "      <td>121.000000</td>\n",
              "    </tr>\n",
              "    <tr>\n",
              "      <th>5311335</th>\n",
              "      <td>0.99</td>\n",
              "      <td>85.190400</td>\n",
              "    </tr>\n",
              "    <tr>\n",
              "      <th>9050271</th>\n",
              "      <td>0.99</td>\n",
              "      <td>115.799060</td>\n",
              "    </tr>\n",
              "    <tr>\n",
              "      <th>989326</th>\n",
              "      <td>0.99</td>\n",
              "      <td>0.570047</td>\n",
              "    </tr>\n",
              "    <tr>\n",
              "      <th>11035055</th>\n",
              "      <td>0.99</td>\n",
              "      <td>3.398403</td>\n",
              "    </tr>\n",
              "  </tbody>\n",
              "</table>\n",
              "</div>\n",
              "      <button class=\"colab-df-convert\" onclick=\"convertToInteractive('df-60a994a7-838e-436a-89ee-047b52f77d47')\"\n",
              "              title=\"Convert this dataframe to an interactive table.\"\n",
              "              style=\"display:none;\">\n",
              "        \n",
              "  <svg xmlns=\"http://www.w3.org/2000/svg\" height=\"24px\"viewBox=\"0 0 24 24\"\n",
              "       width=\"24px\">\n",
              "    <path d=\"M0 0h24v24H0V0z\" fill=\"none\"/>\n",
              "    <path d=\"M18.56 5.44l.94 2.06.94-2.06 2.06-.94-2.06-.94-.94-2.06-.94 2.06-2.06.94zm-11 1L8.5 8.5l.94-2.06 2.06-.94-2.06-.94L8.5 2.5l-.94 2.06-2.06.94zm10 10l.94 2.06.94-2.06 2.06-.94-2.06-.94-.94-2.06-.94 2.06-2.06.94z\"/><path d=\"M17.41 7.96l-1.37-1.37c-.4-.4-.92-.59-1.43-.59-.52 0-1.04.2-1.43.59L10.3 9.45l-7.72 7.72c-.78.78-.78 2.05 0 2.83L4 21.41c.39.39.9.59 1.41.59.51 0 1.02-.2 1.41-.59l7.78-7.78 2.81-2.81c.8-.78.8-2.07 0-2.86zM5.41 20L4 18.59l7.72-7.72 1.47 1.35L5.41 20z\"/>\n",
              "  </svg>\n",
              "      </button>\n",
              "      \n",
              "  <style>\n",
              "    .colab-df-container {\n",
              "      display:flex;\n",
              "      flex-wrap:wrap;\n",
              "      gap: 12px;\n",
              "    }\n",
              "\n",
              "    .colab-df-convert {\n",
              "      background-color: #E8F0FE;\n",
              "      border: none;\n",
              "      border-radius: 50%;\n",
              "      cursor: pointer;\n",
              "      display: none;\n",
              "      fill: #1967D2;\n",
              "      height: 32px;\n",
              "      padding: 0 0 0 0;\n",
              "      width: 32px;\n",
              "    }\n",
              "\n",
              "    .colab-df-convert:hover {\n",
              "      background-color: #E2EBFA;\n",
              "      box-shadow: 0px 1px 2px rgba(60, 64, 67, 0.3), 0px 1px 3px 1px rgba(60, 64, 67, 0.15);\n",
              "      fill: #174EA6;\n",
              "    }\n",
              "\n",
              "    [theme=dark] .colab-df-convert {\n",
              "      background-color: #3B4455;\n",
              "      fill: #D2E3FC;\n",
              "    }\n",
              "\n",
              "    [theme=dark] .colab-df-convert:hover {\n",
              "      background-color: #434B5C;\n",
              "      box-shadow: 0px 1px 3px 1px rgba(0, 0, 0, 0.15);\n",
              "      filter: drop-shadow(0px 1px 2px rgba(0, 0, 0, 0.3));\n",
              "      fill: #FFFFFF;\n",
              "    }\n",
              "  </style>\n",
              "\n",
              "      <script>\n",
              "        const buttonEl =\n",
              "          document.querySelector('#df-60a994a7-838e-436a-89ee-047b52f77d47 button.colab-df-convert');\n",
              "        buttonEl.style.display =\n",
              "          google.colab.kernel.accessAllowed ? 'block' : 'none';\n",
              "\n",
              "        async function convertToInteractive(key) {\n",
              "          const element = document.querySelector('#df-60a994a7-838e-436a-89ee-047b52f77d47');\n",
              "          const dataTable =\n",
              "            await google.colab.kernel.invokeFunction('convertToInteractive',\n",
              "                                                     [key], {});\n",
              "          if (!dataTable) return;\n",
              "\n",
              "          const docLinkHtml = 'Like what you see? Visit the ' +\n",
              "            '<a target=\"_blank\" href=https://colab.research.google.com/notebooks/data_table.ipynb>data table notebook</a>'\n",
              "            + ' to learn more about interactive tables.';\n",
              "          element.innerHTML = '';\n",
              "          dataTable['output_type'] = 'display_data';\n",
              "          await google.colab.output.renderOutput(dataTable, element);\n",
              "          const docLink = document.createElement('div');\n",
              "          docLink.innerHTML = docLinkHtml;\n",
              "          element.appendChild(docLink);\n",
              "        }\n",
              "      </script>\n",
              "    </div>\n",
              "  </div>\n",
              "  "
            ]
          },
          "metadata": {},
          "execution_count": 146
        }
      ]
    },
    {
      "cell_type": "code",
      "metadata": {
        "id": "Buz4C3gHIedy",
        "colab": {
          "base_uri": "https://localhost:8080/"
        },
        "outputId": "2d10fdc9-ef84-4017-e2f3-351deba71cdb"
      },
      "source": [
        "print('Mean Absolute Error:', metrics.mean_absolute_error(multi_test.p_recall, nn_pred[:, 0]))  \n",
        "print('Mean Squared Error:', metrics.mean_squared_error(multi_test.p_recall, nn_pred[:, 0]))  \n",
        "print('Root Mean Squared Error:', np.sqrt(metrics.mean_squared_error(multi_test.p_recall, nn_pred[:, 0])))"
      ],
      "execution_count": 147,
      "outputs": [
        {
          "output_type": "stream",
          "name": "stdout",
          "text": [
            "Mean Absolute Error: 0.028459324909277616\n",
            "Mean Squared Error: 0.002795960119758101\n",
            "Root Mean Squared Error: 0.052876839161944064\n"
          ]
        }
      ]
    },
    {
      "cell_type": "code",
      "metadata": {
        "id": "yr_LFhiNJCFK",
        "colab": {
          "base_uri": "https://localhost:8080/"
        },
        "outputId": "9e26c687-129f-48fb-cc0f-6d9402cea136"
      },
      "source": [
        "print('Mean Absolute Error:', metrics.mean_absolute_error(multi_test.half_life, nn_pred[:, 1]))  \n",
        "print('Mean Squared Error:', metrics.mean_squared_error(multi_test.half_life, nn_pred[:, 1]))  \n",
        "print('Root Mean Squared Error:', np.sqrt(metrics.mean_squared_error(multi_test.half_life, nn_pred[:, 1])))"
      ],
      "execution_count": 148,
      "outputs": [
        {
          "output_type": "stream",
          "name": "stdout",
          "text": [
            "Mean Absolute Error: 0.12664031443680035\n",
            "Mean Squared Error: 0.09141557018602098\n",
            "Root Mean Squared Error: 0.3023500788589627\n"
          ]
        }
      ]
    },
    {
      "cell_type": "code",
      "metadata": {
        "id": "KaBIx_T_kwym",
        "colab": {
          "base_uri": "https://localhost:8080/",
          "height": 206
        },
        "outputId": "8ae156bd-295b-42e2-9220-de99dd32fdd3"
      },
      "source": [
        "x_test.head()"
      ],
      "execution_count": 149,
      "outputs": [
        {
          "output_type": "execute_result",
          "data": {
            "text/plain": [
              "          delta_days ui_language                    lexeme_string  \\\n",
              "6825072     9.208889          es                 two/two<num><sp>   \n",
              "5311335     0.856192          it        is/be<vbser><pri><p3><sg>   \n",
              "9050271     1.163819          es  us/prpers<prn><obj><p1><mf><pl>   \n",
              "989326      0.005729          pt     eats/eat<vblex><pri><p3><sg>   \n",
              "11035055    0.034155          pt               bread/bread<n><sg>   \n",
              "\n",
              "          history_seen  history_correct  session_seen  session_correct  \n",
              "6825072              4                4             1                1  \n",
              "5311335             76               69             1                1  \n",
              "9050271             53               42             1                1  \n",
              "989326              81               67             2                2  \n",
              "11035055             5                5             1                1  "
            ],
            "text/html": [
              "\n",
              "  <div id=\"df-1697940d-4d66-4ca2-90ed-42e589526746\">\n",
              "    <div class=\"colab-df-container\">\n",
              "      <div>\n",
              "<style scoped>\n",
              "    .dataframe tbody tr th:only-of-type {\n",
              "        vertical-align: middle;\n",
              "    }\n",
              "\n",
              "    .dataframe tbody tr th {\n",
              "        vertical-align: top;\n",
              "    }\n",
              "\n",
              "    .dataframe thead th {\n",
              "        text-align: right;\n",
              "    }\n",
              "</style>\n",
              "<table border=\"1\" class=\"dataframe\">\n",
              "  <thead>\n",
              "    <tr style=\"text-align: right;\">\n",
              "      <th></th>\n",
              "      <th>delta_days</th>\n",
              "      <th>ui_language</th>\n",
              "      <th>lexeme_string</th>\n",
              "      <th>history_seen</th>\n",
              "      <th>history_correct</th>\n",
              "      <th>session_seen</th>\n",
              "      <th>session_correct</th>\n",
              "    </tr>\n",
              "  </thead>\n",
              "  <tbody>\n",
              "    <tr>\n",
              "      <th>6825072</th>\n",
              "      <td>9.208889</td>\n",
              "      <td>es</td>\n",
              "      <td>two/two&lt;num&gt;&lt;sp&gt;</td>\n",
              "      <td>4</td>\n",
              "      <td>4</td>\n",
              "      <td>1</td>\n",
              "      <td>1</td>\n",
              "    </tr>\n",
              "    <tr>\n",
              "      <th>5311335</th>\n",
              "      <td>0.856192</td>\n",
              "      <td>it</td>\n",
              "      <td>is/be&lt;vbser&gt;&lt;pri&gt;&lt;p3&gt;&lt;sg&gt;</td>\n",
              "      <td>76</td>\n",
              "      <td>69</td>\n",
              "      <td>1</td>\n",
              "      <td>1</td>\n",
              "    </tr>\n",
              "    <tr>\n",
              "      <th>9050271</th>\n",
              "      <td>1.163819</td>\n",
              "      <td>es</td>\n",
              "      <td>us/prpers&lt;prn&gt;&lt;obj&gt;&lt;p1&gt;&lt;mf&gt;&lt;pl&gt;</td>\n",
              "      <td>53</td>\n",
              "      <td>42</td>\n",
              "      <td>1</td>\n",
              "      <td>1</td>\n",
              "    </tr>\n",
              "    <tr>\n",
              "      <th>989326</th>\n",
              "      <td>0.005729</td>\n",
              "      <td>pt</td>\n",
              "      <td>eats/eat&lt;vblex&gt;&lt;pri&gt;&lt;p3&gt;&lt;sg&gt;</td>\n",
              "      <td>81</td>\n",
              "      <td>67</td>\n",
              "      <td>2</td>\n",
              "      <td>2</td>\n",
              "    </tr>\n",
              "    <tr>\n",
              "      <th>11035055</th>\n",
              "      <td>0.034155</td>\n",
              "      <td>pt</td>\n",
              "      <td>bread/bread&lt;n&gt;&lt;sg&gt;</td>\n",
              "      <td>5</td>\n",
              "      <td>5</td>\n",
              "      <td>1</td>\n",
              "      <td>1</td>\n",
              "    </tr>\n",
              "  </tbody>\n",
              "</table>\n",
              "</div>\n",
              "      <button class=\"colab-df-convert\" onclick=\"convertToInteractive('df-1697940d-4d66-4ca2-90ed-42e589526746')\"\n",
              "              title=\"Convert this dataframe to an interactive table.\"\n",
              "              style=\"display:none;\">\n",
              "        \n",
              "  <svg xmlns=\"http://www.w3.org/2000/svg\" height=\"24px\"viewBox=\"0 0 24 24\"\n",
              "       width=\"24px\">\n",
              "    <path d=\"M0 0h24v24H0V0z\" fill=\"none\"/>\n",
              "    <path d=\"M18.56 5.44l.94 2.06.94-2.06 2.06-.94-2.06-.94-.94-2.06-.94 2.06-2.06.94zm-11 1L8.5 8.5l.94-2.06 2.06-.94-2.06-.94L8.5 2.5l-.94 2.06-2.06.94zm10 10l.94 2.06.94-2.06 2.06-.94-2.06-.94-.94-2.06-.94 2.06-2.06.94z\"/><path d=\"M17.41 7.96l-1.37-1.37c-.4-.4-.92-.59-1.43-.59-.52 0-1.04.2-1.43.59L10.3 9.45l-7.72 7.72c-.78.78-.78 2.05 0 2.83L4 21.41c.39.39.9.59 1.41.59.51 0 1.02-.2 1.41-.59l7.78-7.78 2.81-2.81c.8-.78.8-2.07 0-2.86zM5.41 20L4 18.59l7.72-7.72 1.47 1.35L5.41 20z\"/>\n",
              "  </svg>\n",
              "      </button>\n",
              "      \n",
              "  <style>\n",
              "    .colab-df-container {\n",
              "      display:flex;\n",
              "      flex-wrap:wrap;\n",
              "      gap: 12px;\n",
              "    }\n",
              "\n",
              "    .colab-df-convert {\n",
              "      background-color: #E8F0FE;\n",
              "      border: none;\n",
              "      border-radius: 50%;\n",
              "      cursor: pointer;\n",
              "      display: none;\n",
              "      fill: #1967D2;\n",
              "      height: 32px;\n",
              "      padding: 0 0 0 0;\n",
              "      width: 32px;\n",
              "    }\n",
              "\n",
              "    .colab-df-convert:hover {\n",
              "      background-color: #E2EBFA;\n",
              "      box-shadow: 0px 1px 2px rgba(60, 64, 67, 0.3), 0px 1px 3px 1px rgba(60, 64, 67, 0.15);\n",
              "      fill: #174EA6;\n",
              "    }\n",
              "\n",
              "    [theme=dark] .colab-df-convert {\n",
              "      background-color: #3B4455;\n",
              "      fill: #D2E3FC;\n",
              "    }\n",
              "\n",
              "    [theme=dark] .colab-df-convert:hover {\n",
              "      background-color: #434B5C;\n",
              "      box-shadow: 0px 1px 3px 1px rgba(0, 0, 0, 0.15);\n",
              "      filter: drop-shadow(0px 1px 2px rgba(0, 0, 0, 0.3));\n",
              "      fill: #FFFFFF;\n",
              "    }\n",
              "  </style>\n",
              "\n",
              "      <script>\n",
              "        const buttonEl =\n",
              "          document.querySelector('#df-1697940d-4d66-4ca2-90ed-42e589526746 button.colab-df-convert');\n",
              "        buttonEl.style.display =\n",
              "          google.colab.kernel.accessAllowed ? 'block' : 'none';\n",
              "\n",
              "        async function convertToInteractive(key) {\n",
              "          const element = document.querySelector('#df-1697940d-4d66-4ca2-90ed-42e589526746');\n",
              "          const dataTable =\n",
              "            await google.colab.kernel.invokeFunction('convertToInteractive',\n",
              "                                                     [key], {});\n",
              "          if (!dataTable) return;\n",
              "\n",
              "          const docLinkHtml = 'Like what you see? Visit the ' +\n",
              "            '<a target=\"_blank\" href=https://colab.research.google.com/notebooks/data_table.ipynb>data table notebook</a>'\n",
              "            + ' to learn more about interactive tables.';\n",
              "          element.innerHTML = '';\n",
              "          dataTable['output_type'] = 'display_data';\n",
              "          await google.colab.output.renderOutput(dataTable, element);\n",
              "          const docLink = document.createElement('div');\n",
              "          docLink.innerHTML = docLinkHtml;\n",
              "          element.appendChild(docLink);\n",
              "        }\n",
              "      </script>\n",
              "    </div>\n",
              "  </div>\n",
              "  "
            ]
          },
          "metadata": {},
          "execution_count": 149
        }
      ]
    },
    {
      "cell_type": "markdown",
      "metadata": {
        "id": "0k6ld0GVmM4f"
      },
      "source": [
        "# LAST GRAPH"
      ]
    },
    {
      "cell_type": "code",
      "metadata": {
        "id": "c4jf3hW4wXNL"
      },
      "source": [
        "data_lg = data.loc[(data.learning_language==\"en\")]"
      ],
      "execution_count": 150,
      "outputs": []
    },
    {
      "cell_type": "code",
      "metadata": {
        "id": "BJEn6gJ-xaqk",
        "colab": {
          "base_uri": "https://localhost:8080/"
        },
        "outputId": "8a155537-58e8-40da-f988-dc294ba0c0f6"
      },
      "source": [
        "data_lg.p_recall.replace([0, 1], [0.01, 0.99], inplace=True)"
      ],
      "execution_count": 151,
      "outputs": [
        {
          "output_type": "stream",
          "name": "stderr",
          "text": [
            "/usr/local/lib/python3.7/dist-packages/pandas/core/generic.py:6619: SettingWithCopyWarning: \n",
            "A value is trying to be set on a copy of a slice from a DataFrame\n",
            "\n",
            "See the caveats in the documentation: https://pandas.pydata.org/pandas-docs/stable/user_guide/indexing.html#returning-a-view-versus-a-copy\n",
            "  return self._update_inplace(result)\n"
          ]
        }
      ]
    },
    {
      "cell_type": "code",
      "metadata": {
        "id": "1sTpi8J7xx_g",
        "colab": {
          "base_uri": "https://localhost:8080/",
          "height": 49
        },
        "outputId": "0a65d542-921e-48b8-a2d9-e391e231cfc1"
      },
      "source": [
        "data_lg.loc[(data_lg.p_recall == 1)]"
      ],
      "execution_count": 152,
      "outputs": [
        {
          "output_type": "execute_result",
          "data": {
            "text/plain": [
              "Empty DataFrame\n",
              "Columns: [p_recall, timestamp, delta, user_id, learning_language, ui_language, lexeme_id, lexeme_string, history_seen, history_correct, session_seen, session_correct]\n",
              "Index: []"
            ],
            "text/html": [
              "\n",
              "  <div id=\"df-9ee9a9ef-55d8-4082-8028-a05b950d2184\">\n",
              "    <div class=\"colab-df-container\">\n",
              "      <div>\n",
              "<style scoped>\n",
              "    .dataframe tbody tr th:only-of-type {\n",
              "        vertical-align: middle;\n",
              "    }\n",
              "\n",
              "    .dataframe tbody tr th {\n",
              "        vertical-align: top;\n",
              "    }\n",
              "\n",
              "    .dataframe thead th {\n",
              "        text-align: right;\n",
              "    }\n",
              "</style>\n",
              "<table border=\"1\" class=\"dataframe\">\n",
              "  <thead>\n",
              "    <tr style=\"text-align: right;\">\n",
              "      <th></th>\n",
              "      <th>p_recall</th>\n",
              "      <th>timestamp</th>\n",
              "      <th>delta</th>\n",
              "      <th>user_id</th>\n",
              "      <th>learning_language</th>\n",
              "      <th>ui_language</th>\n",
              "      <th>lexeme_id</th>\n",
              "      <th>lexeme_string</th>\n",
              "      <th>history_seen</th>\n",
              "      <th>history_correct</th>\n",
              "      <th>session_seen</th>\n",
              "      <th>session_correct</th>\n",
              "    </tr>\n",
              "  </thead>\n",
              "  <tbody>\n",
              "  </tbody>\n",
              "</table>\n",
              "</div>\n",
              "      <button class=\"colab-df-convert\" onclick=\"convertToInteractive('df-9ee9a9ef-55d8-4082-8028-a05b950d2184')\"\n",
              "              title=\"Convert this dataframe to an interactive table.\"\n",
              "              style=\"display:none;\">\n",
              "        \n",
              "  <svg xmlns=\"http://www.w3.org/2000/svg\" height=\"24px\"viewBox=\"0 0 24 24\"\n",
              "       width=\"24px\">\n",
              "    <path d=\"M0 0h24v24H0V0z\" fill=\"none\"/>\n",
              "    <path d=\"M18.56 5.44l.94 2.06.94-2.06 2.06-.94-2.06-.94-.94-2.06-.94 2.06-2.06.94zm-11 1L8.5 8.5l.94-2.06 2.06-.94-2.06-.94L8.5 2.5l-.94 2.06-2.06.94zm10 10l.94 2.06.94-2.06 2.06-.94-2.06-.94-.94-2.06-.94 2.06-2.06.94z\"/><path d=\"M17.41 7.96l-1.37-1.37c-.4-.4-.92-.59-1.43-.59-.52 0-1.04.2-1.43.59L10.3 9.45l-7.72 7.72c-.78.78-.78 2.05 0 2.83L4 21.41c.39.39.9.59 1.41.59.51 0 1.02-.2 1.41-.59l7.78-7.78 2.81-2.81c.8-.78.8-2.07 0-2.86zM5.41 20L4 18.59l7.72-7.72 1.47 1.35L5.41 20z\"/>\n",
              "  </svg>\n",
              "      </button>\n",
              "      \n",
              "  <style>\n",
              "    .colab-df-container {\n",
              "      display:flex;\n",
              "      flex-wrap:wrap;\n",
              "      gap: 12px;\n",
              "    }\n",
              "\n",
              "    .colab-df-convert {\n",
              "      background-color: #E8F0FE;\n",
              "      border: none;\n",
              "      border-radius: 50%;\n",
              "      cursor: pointer;\n",
              "      display: none;\n",
              "      fill: #1967D2;\n",
              "      height: 32px;\n",
              "      padding: 0 0 0 0;\n",
              "      width: 32px;\n",
              "    }\n",
              "\n",
              "    .colab-df-convert:hover {\n",
              "      background-color: #E2EBFA;\n",
              "      box-shadow: 0px 1px 2px rgba(60, 64, 67, 0.3), 0px 1px 3px 1px rgba(60, 64, 67, 0.15);\n",
              "      fill: #174EA6;\n",
              "    }\n",
              "\n",
              "    [theme=dark] .colab-df-convert {\n",
              "      background-color: #3B4455;\n",
              "      fill: #D2E3FC;\n",
              "    }\n",
              "\n",
              "    [theme=dark] .colab-df-convert:hover {\n",
              "      background-color: #434B5C;\n",
              "      box-shadow: 0px 1px 3px 1px rgba(0, 0, 0, 0.15);\n",
              "      filter: drop-shadow(0px 1px 2px rgba(0, 0, 0, 0.3));\n",
              "      fill: #FFFFFF;\n",
              "    }\n",
              "  </style>\n",
              "\n",
              "      <script>\n",
              "        const buttonEl =\n",
              "          document.querySelector('#df-9ee9a9ef-55d8-4082-8028-a05b950d2184 button.colab-df-convert');\n",
              "        buttonEl.style.display =\n",
              "          google.colab.kernel.accessAllowed ? 'block' : 'none';\n",
              "\n",
              "        async function convertToInteractive(key) {\n",
              "          const element = document.querySelector('#df-9ee9a9ef-55d8-4082-8028-a05b950d2184');\n",
              "          const dataTable =\n",
              "            await google.colab.kernel.invokeFunction('convertToInteractive',\n",
              "                                                     [key], {});\n",
              "          if (!dataTable) return;\n",
              "\n",
              "          const docLinkHtml = 'Like what you see? Visit the ' +\n",
              "            '<a target=\"_blank\" href=https://colab.research.google.com/notebooks/data_table.ipynb>data table notebook</a>'\n",
              "            + ' to learn more about interactive tables.';\n",
              "          element.innerHTML = '';\n",
              "          dataTable['output_type'] = 'display_data';\n",
              "          await google.colab.output.renderOutput(dataTable, element);\n",
              "          const docLink = document.createElement('div');\n",
              "          docLink.innerHTML = docLinkHtml;\n",
              "          element.appendChild(docLink);\n",
              "        }\n",
              "      </script>\n",
              "    </div>\n",
              "  </div>\n",
              "  "
            ]
          },
          "metadata": {},
          "execution_count": 152
        }
      ]
    },
    {
      "cell_type": "code",
      "metadata": {
        "id": "2Zz7TCvkxdM8"
      },
      "source": [
        "data_lg.insert(2, \"delta_days\",data_lg[\"delta\"]/DAY_SECONDS, True )\n",
        "data_lg = data_lg.drop(\"delta\", axis=1)\n",
        "data_lg.insert(2, \"half_life\",((-1)*data_lg[\"delta_days\"]/np.log(data_lg[\"p_recall\"])), True )"
      ],
      "execution_count": 153,
      "outputs": []
    },
    {
      "cell_type": "code",
      "metadata": {
        "id": "Ay4f3wdzxftR",
        "colab": {
          "base_uri": "https://localhost:8080/",
          "height": 270
        },
        "outputId": "6b922963-c4fa-4b8c-b95a-f160efca54bd"
      },
      "source": [
        "data_lg.head()"
      ],
      "execution_count": 154,
      "outputs": [
        {
          "output_type": "execute_result",
          "data": {
            "text/plain": [
              "    p_recall   timestamp  half_life  delta_days user_id learning_language  \\\n",
              "87      0.99  1362082504   0.411125    0.004132  u:dwbJ                en   \n",
              "88      0.99  1362082504   0.411125    0.004132  u:dwbJ                en   \n",
              "89      0.99  1362082504   0.411125    0.004132  u:dwbJ                en   \n",
              "90      0.80  1362082504   0.018517    0.004132  u:dwbJ                en   \n",
              "91      0.99  1362082504   0.411125    0.004132  u:dwbJ                en   \n",
              "\n",
              "   ui_language                         lexeme_id  \\\n",
              "87          pt  1052c3ace653dbc8923eaa183bc02b88   \n",
              "88          pt  9cba1b30f88bf3c047b22cffcaf88c12   \n",
              "89          pt  961cd149f20f2571419b1412d849f19a   \n",
              "90          pt  5cbb1249562e95794a4c4ae0e2d8ae26   \n",
              "91          pt  2df65bdf80d10d2b78d62cb2e0a731d8   \n",
              "\n",
              "                     lexeme_string  history_seen  history_correct  \\\n",
              "87    definition/definition<n><sg>            17               17   \n",
              "88          surface/surface<n><sg>            19               19   \n",
              "89              scale/scale<n><sg>            21               20   \n",
              "90  temperature/temperature<n><sg>            44               36   \n",
              "91        distance/distance<n><sg>            21               20   \n",
              "\n",
              "    session_seen  session_correct  \n",
              "87             2                2  \n",
              "88             3                3  \n",
              "89             3                3  \n",
              "90             5                4  \n",
              "91             3                3  "
            ],
            "text/html": [
              "\n",
              "  <div id=\"df-5399a4a7-2ba5-4f24-bf6b-415ddf3501c3\">\n",
              "    <div class=\"colab-df-container\">\n",
              "      <div>\n",
              "<style scoped>\n",
              "    .dataframe tbody tr th:only-of-type {\n",
              "        vertical-align: middle;\n",
              "    }\n",
              "\n",
              "    .dataframe tbody tr th {\n",
              "        vertical-align: top;\n",
              "    }\n",
              "\n",
              "    .dataframe thead th {\n",
              "        text-align: right;\n",
              "    }\n",
              "</style>\n",
              "<table border=\"1\" class=\"dataframe\">\n",
              "  <thead>\n",
              "    <tr style=\"text-align: right;\">\n",
              "      <th></th>\n",
              "      <th>p_recall</th>\n",
              "      <th>timestamp</th>\n",
              "      <th>half_life</th>\n",
              "      <th>delta_days</th>\n",
              "      <th>user_id</th>\n",
              "      <th>learning_language</th>\n",
              "      <th>ui_language</th>\n",
              "      <th>lexeme_id</th>\n",
              "      <th>lexeme_string</th>\n",
              "      <th>history_seen</th>\n",
              "      <th>history_correct</th>\n",
              "      <th>session_seen</th>\n",
              "      <th>session_correct</th>\n",
              "    </tr>\n",
              "  </thead>\n",
              "  <tbody>\n",
              "    <tr>\n",
              "      <th>87</th>\n",
              "      <td>0.99</td>\n",
              "      <td>1362082504</td>\n",
              "      <td>0.411125</td>\n",
              "      <td>0.004132</td>\n",
              "      <td>u:dwbJ</td>\n",
              "      <td>en</td>\n",
              "      <td>pt</td>\n",
              "      <td>1052c3ace653dbc8923eaa183bc02b88</td>\n",
              "      <td>definition/definition&lt;n&gt;&lt;sg&gt;</td>\n",
              "      <td>17</td>\n",
              "      <td>17</td>\n",
              "      <td>2</td>\n",
              "      <td>2</td>\n",
              "    </tr>\n",
              "    <tr>\n",
              "      <th>88</th>\n",
              "      <td>0.99</td>\n",
              "      <td>1362082504</td>\n",
              "      <td>0.411125</td>\n",
              "      <td>0.004132</td>\n",
              "      <td>u:dwbJ</td>\n",
              "      <td>en</td>\n",
              "      <td>pt</td>\n",
              "      <td>9cba1b30f88bf3c047b22cffcaf88c12</td>\n",
              "      <td>surface/surface&lt;n&gt;&lt;sg&gt;</td>\n",
              "      <td>19</td>\n",
              "      <td>19</td>\n",
              "      <td>3</td>\n",
              "      <td>3</td>\n",
              "    </tr>\n",
              "    <tr>\n",
              "      <th>89</th>\n",
              "      <td>0.99</td>\n",
              "      <td>1362082504</td>\n",
              "      <td>0.411125</td>\n",
              "      <td>0.004132</td>\n",
              "      <td>u:dwbJ</td>\n",
              "      <td>en</td>\n",
              "      <td>pt</td>\n",
              "      <td>961cd149f20f2571419b1412d849f19a</td>\n",
              "      <td>scale/scale&lt;n&gt;&lt;sg&gt;</td>\n",
              "      <td>21</td>\n",
              "      <td>20</td>\n",
              "      <td>3</td>\n",
              "      <td>3</td>\n",
              "    </tr>\n",
              "    <tr>\n",
              "      <th>90</th>\n",
              "      <td>0.80</td>\n",
              "      <td>1362082504</td>\n",
              "      <td>0.018517</td>\n",
              "      <td>0.004132</td>\n",
              "      <td>u:dwbJ</td>\n",
              "      <td>en</td>\n",
              "      <td>pt</td>\n",
              "      <td>5cbb1249562e95794a4c4ae0e2d8ae26</td>\n",
              "      <td>temperature/temperature&lt;n&gt;&lt;sg&gt;</td>\n",
              "      <td>44</td>\n",
              "      <td>36</td>\n",
              "      <td>5</td>\n",
              "      <td>4</td>\n",
              "    </tr>\n",
              "    <tr>\n",
              "      <th>91</th>\n",
              "      <td>0.99</td>\n",
              "      <td>1362082504</td>\n",
              "      <td>0.411125</td>\n",
              "      <td>0.004132</td>\n",
              "      <td>u:dwbJ</td>\n",
              "      <td>en</td>\n",
              "      <td>pt</td>\n",
              "      <td>2df65bdf80d10d2b78d62cb2e0a731d8</td>\n",
              "      <td>distance/distance&lt;n&gt;&lt;sg&gt;</td>\n",
              "      <td>21</td>\n",
              "      <td>20</td>\n",
              "      <td>3</td>\n",
              "      <td>3</td>\n",
              "    </tr>\n",
              "  </tbody>\n",
              "</table>\n",
              "</div>\n",
              "      <button class=\"colab-df-convert\" onclick=\"convertToInteractive('df-5399a4a7-2ba5-4f24-bf6b-415ddf3501c3')\"\n",
              "              title=\"Convert this dataframe to an interactive table.\"\n",
              "              style=\"display:none;\">\n",
              "        \n",
              "  <svg xmlns=\"http://www.w3.org/2000/svg\" height=\"24px\"viewBox=\"0 0 24 24\"\n",
              "       width=\"24px\">\n",
              "    <path d=\"M0 0h24v24H0V0z\" fill=\"none\"/>\n",
              "    <path d=\"M18.56 5.44l.94 2.06.94-2.06 2.06-.94-2.06-.94-.94-2.06-.94 2.06-2.06.94zm-11 1L8.5 8.5l.94-2.06 2.06-.94-2.06-.94L8.5 2.5l-.94 2.06-2.06.94zm10 10l.94 2.06.94-2.06 2.06-.94-2.06-.94-.94-2.06-.94 2.06-2.06.94z\"/><path d=\"M17.41 7.96l-1.37-1.37c-.4-.4-.92-.59-1.43-.59-.52 0-1.04.2-1.43.59L10.3 9.45l-7.72 7.72c-.78.78-.78 2.05 0 2.83L4 21.41c.39.39.9.59 1.41.59.51 0 1.02-.2 1.41-.59l7.78-7.78 2.81-2.81c.8-.78.8-2.07 0-2.86zM5.41 20L4 18.59l7.72-7.72 1.47 1.35L5.41 20z\"/>\n",
              "  </svg>\n",
              "      </button>\n",
              "      \n",
              "  <style>\n",
              "    .colab-df-container {\n",
              "      display:flex;\n",
              "      flex-wrap:wrap;\n",
              "      gap: 12px;\n",
              "    }\n",
              "\n",
              "    .colab-df-convert {\n",
              "      background-color: #E8F0FE;\n",
              "      border: none;\n",
              "      border-radius: 50%;\n",
              "      cursor: pointer;\n",
              "      display: none;\n",
              "      fill: #1967D2;\n",
              "      height: 32px;\n",
              "      padding: 0 0 0 0;\n",
              "      width: 32px;\n",
              "    }\n",
              "\n",
              "    .colab-df-convert:hover {\n",
              "      background-color: #E2EBFA;\n",
              "      box-shadow: 0px 1px 2px rgba(60, 64, 67, 0.3), 0px 1px 3px 1px rgba(60, 64, 67, 0.15);\n",
              "      fill: #174EA6;\n",
              "    }\n",
              "\n",
              "    [theme=dark] .colab-df-convert {\n",
              "      background-color: #3B4455;\n",
              "      fill: #D2E3FC;\n",
              "    }\n",
              "\n",
              "    [theme=dark] .colab-df-convert:hover {\n",
              "      background-color: #434B5C;\n",
              "      box-shadow: 0px 1px 3px 1px rgba(0, 0, 0, 0.15);\n",
              "      filter: drop-shadow(0px 1px 2px rgba(0, 0, 0, 0.3));\n",
              "      fill: #FFFFFF;\n",
              "    }\n",
              "  </style>\n",
              "\n",
              "      <script>\n",
              "        const buttonEl =\n",
              "          document.querySelector('#df-5399a4a7-2ba5-4f24-bf6b-415ddf3501c3 button.colab-df-convert');\n",
              "        buttonEl.style.display =\n",
              "          google.colab.kernel.accessAllowed ? 'block' : 'none';\n",
              "\n",
              "        async function convertToInteractive(key) {\n",
              "          const element = document.querySelector('#df-5399a4a7-2ba5-4f24-bf6b-415ddf3501c3');\n",
              "          const dataTable =\n",
              "            await google.colab.kernel.invokeFunction('convertToInteractive',\n",
              "                                                     [key], {});\n",
              "          if (!dataTable) return;\n",
              "\n",
              "          const docLinkHtml = 'Like what you see? Visit the ' +\n",
              "            '<a target=\"_blank\" href=https://colab.research.google.com/notebooks/data_table.ipynb>data table notebook</a>'\n",
              "            + ' to learn more about interactive tables.';\n",
              "          element.innerHTML = '';\n",
              "          dataTable['output_type'] = 'display_data';\n",
              "          await google.colab.output.renderOutput(dataTable, element);\n",
              "          const docLink = document.createElement('div');\n",
              "          docLink.innerHTML = docLinkHtml;\n",
              "          element.appendChild(docLink);\n",
              "        }\n",
              "      </script>\n",
              "    </div>\n",
              "  </div>\n",
              "  "
            ]
          },
          "metadata": {},
          "execution_count": 154
        }
      ]
    },
    {
      "cell_type": "code",
      "metadata": {
        "id": "aN0VbgzmlxQd",
        "colab": {
          "base_uri": "https://localhost:8080/"
        },
        "outputId": "b1e95f80-6b68-4f37-ceab-af735e035539"
      },
      "source": [
        "data_lg.groupby([\"user_id\", \"lexeme_string\"]).size()"
      ],
      "execution_count": 155,
      "outputs": [
        {
          "output_type": "execute_result",
          "data": {
            "text/plain": [
              "user_id  lexeme_string                     \n",
              "u:-AA    '/'<apos>                             4\n",
              "         's/'s<gen>                            4\n",
              "         boy/boy<n><sg>                        2\n",
              "         breakfast/breakfast<n><sg>            1\n",
              "         cat/cat<n><sg>                        2\n",
              "                                              ..\n",
              "u:zwG    sugar/sugar<n><sg>                    1\n",
              "         taste/taste<n><sg>                    1\n",
              "         they/prpers<prn><subj><p3><mf><pl>    1\n",
              "         tomato/tomato<n><sg>                  1\n",
              "         wine/wine<n><sg>                      2\n",
              "Length: 2066616, dtype: int64"
            ]
          },
          "metadata": {},
          "execution_count": 155
        }
      ]
    },
    {
      "cell_type": "code",
      "metadata": {
        "id": "azcNd3h77PAc",
        "colab": {
          "base_uri": "https://localhost:8080/"
        },
        "outputId": "8061b2e6-a877-4add-aa4a-b858b1df5581"
      },
      "source": [
        "data_lg.groupby(['lexeme_string',\"user_id\"]).size()"
      ],
      "execution_count": 156,
      "outputs": [
        {
          "output_type": "execute_result",
          "data": {
            "text/plain": [
              "lexeme_string     user_id\n",
              "'/'<apos>         u:-AA      4\n",
              "                  u:-DF      1\n",
              "                  u:-b       1\n",
              "                  u:21Q      1\n",
              "                  u:3Y_      2\n",
              "                            ..\n",
              "zone/zone<n><sg>  u:mYe      1\n",
              "                  u:mlj      1\n",
              "                  u:oMO      3\n",
              "                  u:obm      1\n",
              "                  u:q5f      2\n",
              "Length: 2066616, dtype: int64"
            ]
          },
          "metadata": {},
          "execution_count": 156
        }
      ]
    },
    {
      "cell_type": "code",
      "metadata": {
        "id": "Ofh8yBN5qLvm"
      },
      "source": [
        "#cust_counts = data['user_id'].value_counts()\n",
        "#cust_list = cust_counts[cust_counts < 20].index.tolist()\n",
        "#data_cari = data[data['user_id'].isin(cust_list)]"
      ],
      "execution_count": 157,
      "outputs": []
    },
    {
      "cell_type": "code",
      "metadata": {
        "id": "wCqY1EgIrva8"
      },
      "source": [
        "data_graph = data_lg.loc[(data_lg.user_id == \"u:IY_\") & (data_lg.lexeme_string == \"'/'<apos>\")]"
      ],
      "execution_count": 158,
      "outputs": []
    },
    {
      "cell_type": "code",
      "metadata": {
        "id": "Gj3NmZwatjqy",
        "colab": {
          "base_uri": "https://localhost:8080/",
          "height": 395
        },
        "outputId": "cf46b727-5a38-43ea-a355-4c1c752b6872"
      },
      "source": [
        "data_graph"
      ],
      "execution_count": 159,
      "outputs": [
        {
          "output_type": "execute_result",
          "data": {
            "text/plain": [
              "          p_recall   timestamp   half_life  delta_days user_id  \\\n",
              "3412572       0.99  1362353833  325.163033    3.267998   u:IY_   \n",
              "4411682       0.99  1362434941   93.405990    0.938762   u:IY_   \n",
              "5102883       0.01  1362494683    0.150148    0.691458   u:IY_   \n",
              "6416961       0.50  1362590873    1.606184    1.113322   u:IY_   \n",
              "7506071       0.99  1362671791   93.186033    0.936551   u:IY_   \n",
              "9223660       0.50  1362796929    2.089537    1.448356   u:IY_   \n",
              "9948375       0.50  1362865581    1.146341    0.794583   u:IY_   \n",
              "10806860      0.99  1362942517   88.600319    0.890463   u:IY_   \n",
              "12683034      0.99  1363092030  172.180767    1.730475   u:IY_   \n",
              "\n",
              "         learning_language ui_language                         lexeme_id  \\\n",
              "3412572                 en          es  d3619a3e50c3b522703d66166855d3bf   \n",
              "4411682                 en          es  d3619a3e50c3b522703d66166855d3bf   \n",
              "5102883                 en          es  d3619a3e50c3b522703d66166855d3bf   \n",
              "6416961                 en          es  d3619a3e50c3b522703d66166855d3bf   \n",
              "7506071                 en          es  d3619a3e50c3b522703d66166855d3bf   \n",
              "9223660                 en          es  d3619a3e50c3b522703d66166855d3bf   \n",
              "9948375                 en          es  d3619a3e50c3b522703d66166855d3bf   \n",
              "10806860                en          es  d3619a3e50c3b522703d66166855d3bf   \n",
              "12683034                en          es  d3619a3e50c3b522703d66166855d3bf   \n",
              "\n",
              "         lexeme_string  history_seen  history_correct  session_seen  \\\n",
              "3412572      '/'<apos>           124               87             1   \n",
              "4411682      '/'<apos>           125               88             1   \n",
              "5102883      '/'<apos>           126               89             1   \n",
              "6416961      '/'<apos>           127               89             2   \n",
              "7506071      '/'<apos>           129               90             1   \n",
              "9223660      '/'<apos>           130               91             2   \n",
              "9948375      '/'<apos>           132               92             2   \n",
              "10806860     '/'<apos>           134               93             1   \n",
              "12683034     '/'<apos>           135               94             1   \n",
              "\n",
              "          session_correct  \n",
              "3412572                 1  \n",
              "4411682                 1  \n",
              "5102883                 0  \n",
              "6416961                 1  \n",
              "7506071                 1  \n",
              "9223660                 1  \n",
              "9948375                 1  \n",
              "10806860                1  \n",
              "12683034                1  "
            ],
            "text/html": [
              "\n",
              "  <div id=\"df-17cfca5e-e921-40de-83f3-d856cc7d0a39\">\n",
              "    <div class=\"colab-df-container\">\n",
              "      <div>\n",
              "<style scoped>\n",
              "    .dataframe tbody tr th:only-of-type {\n",
              "        vertical-align: middle;\n",
              "    }\n",
              "\n",
              "    .dataframe tbody tr th {\n",
              "        vertical-align: top;\n",
              "    }\n",
              "\n",
              "    .dataframe thead th {\n",
              "        text-align: right;\n",
              "    }\n",
              "</style>\n",
              "<table border=\"1\" class=\"dataframe\">\n",
              "  <thead>\n",
              "    <tr style=\"text-align: right;\">\n",
              "      <th></th>\n",
              "      <th>p_recall</th>\n",
              "      <th>timestamp</th>\n",
              "      <th>half_life</th>\n",
              "      <th>delta_days</th>\n",
              "      <th>user_id</th>\n",
              "      <th>learning_language</th>\n",
              "      <th>ui_language</th>\n",
              "      <th>lexeme_id</th>\n",
              "      <th>lexeme_string</th>\n",
              "      <th>history_seen</th>\n",
              "      <th>history_correct</th>\n",
              "      <th>session_seen</th>\n",
              "      <th>session_correct</th>\n",
              "    </tr>\n",
              "  </thead>\n",
              "  <tbody>\n",
              "    <tr>\n",
              "      <th>3412572</th>\n",
              "      <td>0.99</td>\n",
              "      <td>1362353833</td>\n",
              "      <td>325.163033</td>\n",
              "      <td>3.267998</td>\n",
              "      <td>u:IY_</td>\n",
              "      <td>en</td>\n",
              "      <td>es</td>\n",
              "      <td>d3619a3e50c3b522703d66166855d3bf</td>\n",
              "      <td>'/'&lt;apos&gt;</td>\n",
              "      <td>124</td>\n",
              "      <td>87</td>\n",
              "      <td>1</td>\n",
              "      <td>1</td>\n",
              "    </tr>\n",
              "    <tr>\n",
              "      <th>4411682</th>\n",
              "      <td>0.99</td>\n",
              "      <td>1362434941</td>\n",
              "      <td>93.405990</td>\n",
              "      <td>0.938762</td>\n",
              "      <td>u:IY_</td>\n",
              "      <td>en</td>\n",
              "      <td>es</td>\n",
              "      <td>d3619a3e50c3b522703d66166855d3bf</td>\n",
              "      <td>'/'&lt;apos&gt;</td>\n",
              "      <td>125</td>\n",
              "      <td>88</td>\n",
              "      <td>1</td>\n",
              "      <td>1</td>\n",
              "    </tr>\n",
              "    <tr>\n",
              "      <th>5102883</th>\n",
              "      <td>0.01</td>\n",
              "      <td>1362494683</td>\n",
              "      <td>0.150148</td>\n",
              "      <td>0.691458</td>\n",
              "      <td>u:IY_</td>\n",
              "      <td>en</td>\n",
              "      <td>es</td>\n",
              "      <td>d3619a3e50c3b522703d66166855d3bf</td>\n",
              "      <td>'/'&lt;apos&gt;</td>\n",
              "      <td>126</td>\n",
              "      <td>89</td>\n",
              "      <td>1</td>\n",
              "      <td>0</td>\n",
              "    </tr>\n",
              "    <tr>\n",
              "      <th>6416961</th>\n",
              "      <td>0.50</td>\n",
              "      <td>1362590873</td>\n",
              "      <td>1.606184</td>\n",
              "      <td>1.113322</td>\n",
              "      <td>u:IY_</td>\n",
              "      <td>en</td>\n",
              "      <td>es</td>\n",
              "      <td>d3619a3e50c3b522703d66166855d3bf</td>\n",
              "      <td>'/'&lt;apos&gt;</td>\n",
              "      <td>127</td>\n",
              "      <td>89</td>\n",
              "      <td>2</td>\n",
              "      <td>1</td>\n",
              "    </tr>\n",
              "    <tr>\n",
              "      <th>7506071</th>\n",
              "      <td>0.99</td>\n",
              "      <td>1362671791</td>\n",
              "      <td>93.186033</td>\n",
              "      <td>0.936551</td>\n",
              "      <td>u:IY_</td>\n",
              "      <td>en</td>\n",
              "      <td>es</td>\n",
              "      <td>d3619a3e50c3b522703d66166855d3bf</td>\n",
              "      <td>'/'&lt;apos&gt;</td>\n",
              "      <td>129</td>\n",
              "      <td>90</td>\n",
              "      <td>1</td>\n",
              "      <td>1</td>\n",
              "    </tr>\n",
              "    <tr>\n",
              "      <th>9223660</th>\n",
              "      <td>0.50</td>\n",
              "      <td>1362796929</td>\n",
              "      <td>2.089537</td>\n",
              "      <td>1.448356</td>\n",
              "      <td>u:IY_</td>\n",
              "      <td>en</td>\n",
              "      <td>es</td>\n",
              "      <td>d3619a3e50c3b522703d66166855d3bf</td>\n",
              "      <td>'/'&lt;apos&gt;</td>\n",
              "      <td>130</td>\n",
              "      <td>91</td>\n",
              "      <td>2</td>\n",
              "      <td>1</td>\n",
              "    </tr>\n",
              "    <tr>\n",
              "      <th>9948375</th>\n",
              "      <td>0.50</td>\n",
              "      <td>1362865581</td>\n",
              "      <td>1.146341</td>\n",
              "      <td>0.794583</td>\n",
              "      <td>u:IY_</td>\n",
              "      <td>en</td>\n",
              "      <td>es</td>\n",
              "      <td>d3619a3e50c3b522703d66166855d3bf</td>\n",
              "      <td>'/'&lt;apos&gt;</td>\n",
              "      <td>132</td>\n",
              "      <td>92</td>\n",
              "      <td>2</td>\n",
              "      <td>1</td>\n",
              "    </tr>\n",
              "    <tr>\n",
              "      <th>10806860</th>\n",
              "      <td>0.99</td>\n",
              "      <td>1362942517</td>\n",
              "      <td>88.600319</td>\n",
              "      <td>0.890463</td>\n",
              "      <td>u:IY_</td>\n",
              "      <td>en</td>\n",
              "      <td>es</td>\n",
              "      <td>d3619a3e50c3b522703d66166855d3bf</td>\n",
              "      <td>'/'&lt;apos&gt;</td>\n",
              "      <td>134</td>\n",
              "      <td>93</td>\n",
              "      <td>1</td>\n",
              "      <td>1</td>\n",
              "    </tr>\n",
              "    <tr>\n",
              "      <th>12683034</th>\n",
              "      <td>0.99</td>\n",
              "      <td>1363092030</td>\n",
              "      <td>172.180767</td>\n",
              "      <td>1.730475</td>\n",
              "      <td>u:IY_</td>\n",
              "      <td>en</td>\n",
              "      <td>es</td>\n",
              "      <td>d3619a3e50c3b522703d66166855d3bf</td>\n",
              "      <td>'/'&lt;apos&gt;</td>\n",
              "      <td>135</td>\n",
              "      <td>94</td>\n",
              "      <td>1</td>\n",
              "      <td>1</td>\n",
              "    </tr>\n",
              "  </tbody>\n",
              "</table>\n",
              "</div>\n",
              "      <button class=\"colab-df-convert\" onclick=\"convertToInteractive('df-17cfca5e-e921-40de-83f3-d856cc7d0a39')\"\n",
              "              title=\"Convert this dataframe to an interactive table.\"\n",
              "              style=\"display:none;\">\n",
              "        \n",
              "  <svg xmlns=\"http://www.w3.org/2000/svg\" height=\"24px\"viewBox=\"0 0 24 24\"\n",
              "       width=\"24px\">\n",
              "    <path d=\"M0 0h24v24H0V0z\" fill=\"none\"/>\n",
              "    <path d=\"M18.56 5.44l.94 2.06.94-2.06 2.06-.94-2.06-.94-.94-2.06-.94 2.06-2.06.94zm-11 1L8.5 8.5l.94-2.06 2.06-.94-2.06-.94L8.5 2.5l-.94 2.06-2.06.94zm10 10l.94 2.06.94-2.06 2.06-.94-2.06-.94-.94-2.06-.94 2.06-2.06.94z\"/><path d=\"M17.41 7.96l-1.37-1.37c-.4-.4-.92-.59-1.43-.59-.52 0-1.04.2-1.43.59L10.3 9.45l-7.72 7.72c-.78.78-.78 2.05 0 2.83L4 21.41c.39.39.9.59 1.41.59.51 0 1.02-.2 1.41-.59l7.78-7.78 2.81-2.81c.8-.78.8-2.07 0-2.86zM5.41 20L4 18.59l7.72-7.72 1.47 1.35L5.41 20z\"/>\n",
              "  </svg>\n",
              "      </button>\n",
              "      \n",
              "  <style>\n",
              "    .colab-df-container {\n",
              "      display:flex;\n",
              "      flex-wrap:wrap;\n",
              "      gap: 12px;\n",
              "    }\n",
              "\n",
              "    .colab-df-convert {\n",
              "      background-color: #E8F0FE;\n",
              "      border: none;\n",
              "      border-radius: 50%;\n",
              "      cursor: pointer;\n",
              "      display: none;\n",
              "      fill: #1967D2;\n",
              "      height: 32px;\n",
              "      padding: 0 0 0 0;\n",
              "      width: 32px;\n",
              "    }\n",
              "\n",
              "    .colab-df-convert:hover {\n",
              "      background-color: #E2EBFA;\n",
              "      box-shadow: 0px 1px 2px rgba(60, 64, 67, 0.3), 0px 1px 3px 1px rgba(60, 64, 67, 0.15);\n",
              "      fill: #174EA6;\n",
              "    }\n",
              "\n",
              "    [theme=dark] .colab-df-convert {\n",
              "      background-color: #3B4455;\n",
              "      fill: #D2E3FC;\n",
              "    }\n",
              "\n",
              "    [theme=dark] .colab-df-convert:hover {\n",
              "      background-color: #434B5C;\n",
              "      box-shadow: 0px 1px 3px 1px rgba(0, 0, 0, 0.15);\n",
              "      filter: drop-shadow(0px 1px 2px rgba(0, 0, 0, 0.3));\n",
              "      fill: #FFFFFF;\n",
              "    }\n",
              "  </style>\n",
              "\n",
              "      <script>\n",
              "        const buttonEl =\n",
              "          document.querySelector('#df-17cfca5e-e921-40de-83f3-d856cc7d0a39 button.colab-df-convert');\n",
              "        buttonEl.style.display =\n",
              "          google.colab.kernel.accessAllowed ? 'block' : 'none';\n",
              "\n",
              "        async function convertToInteractive(key) {\n",
              "          const element = document.querySelector('#df-17cfca5e-e921-40de-83f3-d856cc7d0a39');\n",
              "          const dataTable =\n",
              "            await google.colab.kernel.invokeFunction('convertToInteractive',\n",
              "                                                     [key], {});\n",
              "          if (!dataTable) return;\n",
              "\n",
              "          const docLinkHtml = 'Like what you see? Visit the ' +\n",
              "            '<a target=\"_blank\" href=https://colab.research.google.com/notebooks/data_table.ipynb>data table notebook</a>'\n",
              "            + ' to learn more about interactive tables.';\n",
              "          element.innerHTML = '';\n",
              "          dataTable['output_type'] = 'display_data';\n",
              "          await google.colab.output.renderOutput(dataTable, element);\n",
              "          const docLink = document.createElement('div');\n",
              "          docLink.innerHTML = docLinkHtml;\n",
              "          element.appendChild(docLink);\n",
              "        }\n",
              "      </script>\n",
              "    </div>\n",
              "  </div>\n",
              "  "
            ]
          },
          "metadata": {},
          "execution_count": 159
        }
      ]
    },
    {
      "cell_type": "code",
      "metadata": {
        "id": "-t6-Z5CIt3U7"
      },
      "source": [
        "from datetime import datetime"
      ],
      "execution_count": 160,
      "outputs": []
    },
    {
      "cell_type": "code",
      "metadata": {
        "id": "JuPsqGL1-iGM"
      },
      "source": [
        "data_graph_del = data_graph.drop([\"user_id\",\"learning_language\", \"timestamp\", \"lexeme_id\", \"p_recall\", \"half_life\"], axis=1)"
      ],
      "execution_count": 161,
      "outputs": []
    },
    {
      "cell_type": "code",
      "metadata": {
        "id": "pqrbM47t_BBn"
      },
      "source": [
        "gg = preprocessTest(data_graph_del, num, cat, standardizer)"
      ],
      "execution_count": 162,
      "outputs": []
    },
    {
      "cell_type": "code",
      "metadata": {
        "id": "VammEhDJ_lme",
        "colab": {
          "base_uri": "https://localhost:8080/",
          "height": 395
        },
        "outputId": "36ab387e-2e95-47db-9d92-7803ce568f4e"
      },
      "source": [
        "gg"
      ],
      "execution_count": 163,
      "outputs": [
        {
          "output_type": "execute_result",
          "data": {
            "text/plain": [
              "          delta_days  history_seen  history_correct  session_seen  \\\n",
              "3412572    -0.194489      0.443043         0.327864     -0.594508   \n",
              "4411682    -0.297391      0.448000         0.333625     -0.594508   \n",
              "5102883    -0.308316      0.452957         0.339386     -0.594508   \n",
              "6416961    -0.289679      0.457915         0.339386      0.103957   \n",
              "7506071    -0.297489      0.467830         0.345147     -0.594508   \n",
              "9223660    -0.274878      0.472787         0.350908      0.103957   \n",
              "9948375    -0.303761      0.482702         0.356669      0.103957   \n",
              "10806860   -0.299525      0.492617         0.362429     -0.594508   \n",
              "12683034   -0.262414      0.497574         0.368190     -0.594508   \n",
              "\n",
              "          session_correct  ui_language_0  ui_language_1  lexeme_string_0  \\\n",
              "3412572         -0.489931              0              1                0   \n",
              "4411682         -0.489931              0              1                0   \n",
              "5102883         -1.215952              0              1                0   \n",
              "6416961         -0.489931              0              1                0   \n",
              "7506071         -0.489931              0              1                0   \n",
              "9223660         -0.489931              0              1                0   \n",
              "9948375         -0.489931              0              1                0   \n",
              "10806860        -0.489931              0              1                0   \n",
              "12683034        -0.489931              0              1                0   \n",
              "\n",
              "          lexeme_string_1  lexeme_string_2  lexeme_string_3  lexeme_string_4  \\\n",
              "3412572                 0                0                0                1   \n",
              "4411682                 0                0                0                1   \n",
              "5102883                 0                0                0                1   \n",
              "6416961                 0                0                0                1   \n",
              "7506071                 0                0                0                1   \n",
              "9223660                 0                0                0                1   \n",
              "9948375                 0                0                0                1   \n",
              "10806860                0                0                0                1   \n",
              "12683034                0                0                0                1   \n",
              "\n",
              "          lexeme_string_5  lexeme_string_6  lexeme_string_7  lexeme_string_8  \\\n",
              "3412572                 1                1                0                0   \n",
              "4411682                 1                1                0                0   \n",
              "5102883                 1                1                0                0   \n",
              "6416961                 1                1                0                0   \n",
              "7506071                 1                1                0                0   \n",
              "9223660                 1                1                0                0   \n",
              "9948375                 1                1                0                0   \n",
              "10806860                1                1                0                0   \n",
              "12683034                1                1                0                0   \n",
              "\n",
              "          lexeme_string_9  lexeme_string_10  lexeme_string_11  \n",
              "3412572                 0                 0                 1  \n",
              "4411682                 0                 0                 1  \n",
              "5102883                 0                 0                 1  \n",
              "6416961                 0                 0                 1  \n",
              "7506071                 0                 0                 1  \n",
              "9223660                 0                 0                 1  \n",
              "9948375                 0                 0                 1  \n",
              "10806860                0                 0                 1  \n",
              "12683034                0                 0                 1  "
            ],
            "text/html": [
              "\n",
              "  <div id=\"df-8871ab9d-6d84-48e6-9beb-dc5761c8bb29\">\n",
              "    <div class=\"colab-df-container\">\n",
              "      <div>\n",
              "<style scoped>\n",
              "    .dataframe tbody tr th:only-of-type {\n",
              "        vertical-align: middle;\n",
              "    }\n",
              "\n",
              "    .dataframe tbody tr th {\n",
              "        vertical-align: top;\n",
              "    }\n",
              "\n",
              "    .dataframe thead th {\n",
              "        text-align: right;\n",
              "    }\n",
              "</style>\n",
              "<table border=\"1\" class=\"dataframe\">\n",
              "  <thead>\n",
              "    <tr style=\"text-align: right;\">\n",
              "      <th></th>\n",
              "      <th>delta_days</th>\n",
              "      <th>history_seen</th>\n",
              "      <th>history_correct</th>\n",
              "      <th>session_seen</th>\n",
              "      <th>session_correct</th>\n",
              "      <th>ui_language_0</th>\n",
              "      <th>ui_language_1</th>\n",
              "      <th>lexeme_string_0</th>\n",
              "      <th>lexeme_string_1</th>\n",
              "      <th>lexeme_string_2</th>\n",
              "      <th>lexeme_string_3</th>\n",
              "      <th>lexeme_string_4</th>\n",
              "      <th>lexeme_string_5</th>\n",
              "      <th>lexeme_string_6</th>\n",
              "      <th>lexeme_string_7</th>\n",
              "      <th>lexeme_string_8</th>\n",
              "      <th>lexeme_string_9</th>\n",
              "      <th>lexeme_string_10</th>\n",
              "      <th>lexeme_string_11</th>\n",
              "    </tr>\n",
              "  </thead>\n",
              "  <tbody>\n",
              "    <tr>\n",
              "      <th>3412572</th>\n",
              "      <td>-0.194489</td>\n",
              "      <td>0.443043</td>\n",
              "      <td>0.327864</td>\n",
              "      <td>-0.594508</td>\n",
              "      <td>-0.489931</td>\n",
              "      <td>0</td>\n",
              "      <td>1</td>\n",
              "      <td>0</td>\n",
              "      <td>0</td>\n",
              "      <td>0</td>\n",
              "      <td>0</td>\n",
              "      <td>1</td>\n",
              "      <td>1</td>\n",
              "      <td>1</td>\n",
              "      <td>0</td>\n",
              "      <td>0</td>\n",
              "      <td>0</td>\n",
              "      <td>0</td>\n",
              "      <td>1</td>\n",
              "    </tr>\n",
              "    <tr>\n",
              "      <th>4411682</th>\n",
              "      <td>-0.297391</td>\n",
              "      <td>0.448000</td>\n",
              "      <td>0.333625</td>\n",
              "      <td>-0.594508</td>\n",
              "      <td>-0.489931</td>\n",
              "      <td>0</td>\n",
              "      <td>1</td>\n",
              "      <td>0</td>\n",
              "      <td>0</td>\n",
              "      <td>0</td>\n",
              "      <td>0</td>\n",
              "      <td>1</td>\n",
              "      <td>1</td>\n",
              "      <td>1</td>\n",
              "      <td>0</td>\n",
              "      <td>0</td>\n",
              "      <td>0</td>\n",
              "      <td>0</td>\n",
              "      <td>1</td>\n",
              "    </tr>\n",
              "    <tr>\n",
              "      <th>5102883</th>\n",
              "      <td>-0.308316</td>\n",
              "      <td>0.452957</td>\n",
              "      <td>0.339386</td>\n",
              "      <td>-0.594508</td>\n",
              "      <td>-1.215952</td>\n",
              "      <td>0</td>\n",
              "      <td>1</td>\n",
              "      <td>0</td>\n",
              "      <td>0</td>\n",
              "      <td>0</td>\n",
              "      <td>0</td>\n",
              "      <td>1</td>\n",
              "      <td>1</td>\n",
              "      <td>1</td>\n",
              "      <td>0</td>\n",
              "      <td>0</td>\n",
              "      <td>0</td>\n",
              "      <td>0</td>\n",
              "      <td>1</td>\n",
              "    </tr>\n",
              "    <tr>\n",
              "      <th>6416961</th>\n",
              "      <td>-0.289679</td>\n",
              "      <td>0.457915</td>\n",
              "      <td>0.339386</td>\n",
              "      <td>0.103957</td>\n",
              "      <td>-0.489931</td>\n",
              "      <td>0</td>\n",
              "      <td>1</td>\n",
              "      <td>0</td>\n",
              "      <td>0</td>\n",
              "      <td>0</td>\n",
              "      <td>0</td>\n",
              "      <td>1</td>\n",
              "      <td>1</td>\n",
              "      <td>1</td>\n",
              "      <td>0</td>\n",
              "      <td>0</td>\n",
              "      <td>0</td>\n",
              "      <td>0</td>\n",
              "      <td>1</td>\n",
              "    </tr>\n",
              "    <tr>\n",
              "      <th>7506071</th>\n",
              "      <td>-0.297489</td>\n",
              "      <td>0.467830</td>\n",
              "      <td>0.345147</td>\n",
              "      <td>-0.594508</td>\n",
              "      <td>-0.489931</td>\n",
              "      <td>0</td>\n",
              "      <td>1</td>\n",
              "      <td>0</td>\n",
              "      <td>0</td>\n",
              "      <td>0</td>\n",
              "      <td>0</td>\n",
              "      <td>1</td>\n",
              "      <td>1</td>\n",
              "      <td>1</td>\n",
              "      <td>0</td>\n",
              "      <td>0</td>\n",
              "      <td>0</td>\n",
              "      <td>0</td>\n",
              "      <td>1</td>\n",
              "    </tr>\n",
              "    <tr>\n",
              "      <th>9223660</th>\n",
              "      <td>-0.274878</td>\n",
              "      <td>0.472787</td>\n",
              "      <td>0.350908</td>\n",
              "      <td>0.103957</td>\n",
              "      <td>-0.489931</td>\n",
              "      <td>0</td>\n",
              "      <td>1</td>\n",
              "      <td>0</td>\n",
              "      <td>0</td>\n",
              "      <td>0</td>\n",
              "      <td>0</td>\n",
              "      <td>1</td>\n",
              "      <td>1</td>\n",
              "      <td>1</td>\n",
              "      <td>0</td>\n",
              "      <td>0</td>\n",
              "      <td>0</td>\n",
              "      <td>0</td>\n",
              "      <td>1</td>\n",
              "    </tr>\n",
              "    <tr>\n",
              "      <th>9948375</th>\n",
              "      <td>-0.303761</td>\n",
              "      <td>0.482702</td>\n",
              "      <td>0.356669</td>\n",
              "      <td>0.103957</td>\n",
              "      <td>-0.489931</td>\n",
              "      <td>0</td>\n",
              "      <td>1</td>\n",
              "      <td>0</td>\n",
              "      <td>0</td>\n",
              "      <td>0</td>\n",
              "      <td>0</td>\n",
              "      <td>1</td>\n",
              "      <td>1</td>\n",
              "      <td>1</td>\n",
              "      <td>0</td>\n",
              "      <td>0</td>\n",
              "      <td>0</td>\n",
              "      <td>0</td>\n",
              "      <td>1</td>\n",
              "    </tr>\n",
              "    <tr>\n",
              "      <th>10806860</th>\n",
              "      <td>-0.299525</td>\n",
              "      <td>0.492617</td>\n",
              "      <td>0.362429</td>\n",
              "      <td>-0.594508</td>\n",
              "      <td>-0.489931</td>\n",
              "      <td>0</td>\n",
              "      <td>1</td>\n",
              "      <td>0</td>\n",
              "      <td>0</td>\n",
              "      <td>0</td>\n",
              "      <td>0</td>\n",
              "      <td>1</td>\n",
              "      <td>1</td>\n",
              "      <td>1</td>\n",
              "      <td>0</td>\n",
              "      <td>0</td>\n",
              "      <td>0</td>\n",
              "      <td>0</td>\n",
              "      <td>1</td>\n",
              "    </tr>\n",
              "    <tr>\n",
              "      <th>12683034</th>\n",
              "      <td>-0.262414</td>\n",
              "      <td>0.497574</td>\n",
              "      <td>0.368190</td>\n",
              "      <td>-0.594508</td>\n",
              "      <td>-0.489931</td>\n",
              "      <td>0</td>\n",
              "      <td>1</td>\n",
              "      <td>0</td>\n",
              "      <td>0</td>\n",
              "      <td>0</td>\n",
              "      <td>0</td>\n",
              "      <td>1</td>\n",
              "      <td>1</td>\n",
              "      <td>1</td>\n",
              "      <td>0</td>\n",
              "      <td>0</td>\n",
              "      <td>0</td>\n",
              "      <td>0</td>\n",
              "      <td>1</td>\n",
              "    </tr>\n",
              "  </tbody>\n",
              "</table>\n",
              "</div>\n",
              "      <button class=\"colab-df-convert\" onclick=\"convertToInteractive('df-8871ab9d-6d84-48e6-9beb-dc5761c8bb29')\"\n",
              "              title=\"Convert this dataframe to an interactive table.\"\n",
              "              style=\"display:none;\">\n",
              "        \n",
              "  <svg xmlns=\"http://www.w3.org/2000/svg\" height=\"24px\"viewBox=\"0 0 24 24\"\n",
              "       width=\"24px\">\n",
              "    <path d=\"M0 0h24v24H0V0z\" fill=\"none\"/>\n",
              "    <path d=\"M18.56 5.44l.94 2.06.94-2.06 2.06-.94-2.06-.94-.94-2.06-.94 2.06-2.06.94zm-11 1L8.5 8.5l.94-2.06 2.06-.94-2.06-.94L8.5 2.5l-.94 2.06-2.06.94zm10 10l.94 2.06.94-2.06 2.06-.94-2.06-.94-.94-2.06-.94 2.06-2.06.94z\"/><path d=\"M17.41 7.96l-1.37-1.37c-.4-.4-.92-.59-1.43-.59-.52 0-1.04.2-1.43.59L10.3 9.45l-7.72 7.72c-.78.78-.78 2.05 0 2.83L4 21.41c.39.39.9.59 1.41.59.51 0 1.02-.2 1.41-.59l7.78-7.78 2.81-2.81c.8-.78.8-2.07 0-2.86zM5.41 20L4 18.59l7.72-7.72 1.47 1.35L5.41 20z\"/>\n",
              "  </svg>\n",
              "      </button>\n",
              "      \n",
              "  <style>\n",
              "    .colab-df-container {\n",
              "      display:flex;\n",
              "      flex-wrap:wrap;\n",
              "      gap: 12px;\n",
              "    }\n",
              "\n",
              "    .colab-df-convert {\n",
              "      background-color: #E8F0FE;\n",
              "      border: none;\n",
              "      border-radius: 50%;\n",
              "      cursor: pointer;\n",
              "      display: none;\n",
              "      fill: #1967D2;\n",
              "      height: 32px;\n",
              "      padding: 0 0 0 0;\n",
              "      width: 32px;\n",
              "    }\n",
              "\n",
              "    .colab-df-convert:hover {\n",
              "      background-color: #E2EBFA;\n",
              "      box-shadow: 0px 1px 2px rgba(60, 64, 67, 0.3), 0px 1px 3px 1px rgba(60, 64, 67, 0.15);\n",
              "      fill: #174EA6;\n",
              "    }\n",
              "\n",
              "    [theme=dark] .colab-df-convert {\n",
              "      background-color: #3B4455;\n",
              "      fill: #D2E3FC;\n",
              "    }\n",
              "\n",
              "    [theme=dark] .colab-df-convert:hover {\n",
              "      background-color: #434B5C;\n",
              "      box-shadow: 0px 1px 3px 1px rgba(0, 0, 0, 0.15);\n",
              "      filter: drop-shadow(0px 1px 2px rgba(0, 0, 0, 0.3));\n",
              "      fill: #FFFFFF;\n",
              "    }\n",
              "  </style>\n",
              "\n",
              "      <script>\n",
              "        const buttonEl =\n",
              "          document.querySelector('#df-8871ab9d-6d84-48e6-9beb-dc5761c8bb29 button.colab-df-convert');\n",
              "        buttonEl.style.display =\n",
              "          google.colab.kernel.accessAllowed ? 'block' : 'none';\n",
              "\n",
              "        async function convertToInteractive(key) {\n",
              "          const element = document.querySelector('#df-8871ab9d-6d84-48e6-9beb-dc5761c8bb29');\n",
              "          const dataTable =\n",
              "            await google.colab.kernel.invokeFunction('convertToInteractive',\n",
              "                                                     [key], {});\n",
              "          if (!dataTable) return;\n",
              "\n",
              "          const docLinkHtml = 'Like what you see? Visit the ' +\n",
              "            '<a target=\"_blank\" href=https://colab.research.google.com/notebooks/data_table.ipynb>data table notebook</a>'\n",
              "            + ' to learn more about interactive tables.';\n",
              "          element.innerHTML = '';\n",
              "          dataTable['output_type'] = 'display_data';\n",
              "          await google.colab.output.renderOutput(dataTable, element);\n",
              "          const docLink = document.createElement('div');\n",
              "          docLink.innerHTML = docLinkHtml;\n",
              "          element.appendChild(docLink);\n",
              "        }\n",
              "      </script>\n",
              "    </div>\n",
              "  </div>\n",
              "  "
            ]
          },
          "metadata": {},
          "execution_count": 163
        }
      ]
    },
    {
      "cell_type": "code",
      "metadata": {
        "id": "vj8xQMtt_QUV"
      },
      "source": [
        "nn_pred_graph = model.predict(gg)"
      ],
      "execution_count": 164,
      "outputs": []
    },
    {
      "cell_type": "code",
      "metadata": {
        "id": "2DZDfNo2_YA5",
        "colab": {
          "base_uri": "https://localhost:8080/"
        },
        "outputId": "7373d1e0-e8c8-4757-e688-9a136fc6a949"
      },
      "source": [
        "nn_pred_graph"
      ],
      "execution_count": 165,
      "outputs": [
        {
          "output_type": "execute_result",
          "data": {
            "text/plain": [
              "array([[1.0122565e+00, 1.2098229e+02],\n",
              "       [9.5460302e-01, 9.3449852e+01],\n",
              "       [6.2125027e-03, 4.7451675e-02],\n",
              "       [6.5736657e-01, 2.0561919e+00],\n",
              "       [9.5414335e-01, 9.3231544e+01],\n",
              "       [6.6214925e-01, 2.1011107e+00],\n",
              "       [6.7686403e-01, 9.2959547e-01],\n",
              "       [9.4452840e-01, 8.8661827e+01],\n",
              "       [1.0122947e+00, 1.2093417e+02]], dtype=float32)"
            ]
          },
          "metadata": {},
          "execution_count": 165
        }
      ]
    },
    {
      "cell_type": "code",
      "metadata": {
        "id": "I4I6Bf3nRzHO",
        "colab": {
          "base_uri": "https://localhost:8080/"
        },
        "outputId": "8b5b4111-4076-4394-8a0d-a644b7689b87"
      },
      "source": [
        "print('Mean Absolute Error:', metrics.mean_absolute_error(data_graph.p_recall, nn_pred_graph[:, 0]))  \n",
        "print('Mean Squared Error:', metrics.mean_squared_error(data_graph.p_recall, nn_pred_graph[:, 0]))  \n",
        "print('Root Mean Squared Error:', np.sqrt(metrics.mean_squared_error(data_graph.p_recall, nn_pred_graph[:, 0])))"
      ],
      "execution_count": 166,
      "outputs": [
        {
          "output_type": "stream",
          "name": "stdout",
          "text": [
            "Mean Absolute Error: 0.07349374890327454\n",
            "Mean Squared Error: 0.009772284814471515\n",
            "Root Mean Squared Error: 0.0988548674293356\n"
          ]
        }
      ]
    },
    {
      "cell_type": "code",
      "metadata": {
        "id": "wNSqkq6FTgs2"
      },
      "source": [
        "linreg_pred_graph = linreg.predict(gg)"
      ],
      "execution_count": 167,
      "outputs": []
    },
    {
      "cell_type": "code",
      "metadata": {
        "id": "jg4-MDwuUQis",
        "colab": {
          "base_uri": "https://localhost:8080/"
        },
        "outputId": "6a31c1ac-aa74-44a8-db9e-e362cfadfb2b"
      },
      "source": [
        "print('Mean Absolute Error:', metrics.mean_absolute_error(data_graph.p_recall, linreg_pred_graph))  \n",
        "print('Mean Squared Error:', metrics.mean_squared_error(data_graph.p_recall, linreg_pred_graph))  \n",
        "print('Root Mean Squared Error:', np.sqrt(metrics.mean_squared_error(data_graph.p_recall, linreg_pred_graph)))"
      ],
      "execution_count": 168,
      "outputs": [
        {
          "output_type": "stream",
          "name": "stdout",
          "text": [
            "Mean Absolute Error: 0.08906950774173869\n",
            "Mean Squared Error: 0.018168502742415202\n",
            "Root Mean Squared Error: 0.13479058847862932\n"
          ]
        }
      ]
    },
    {
      "cell_type": "code",
      "metadata": {
        "id": "sd40eCVnUfJH",
        "colab": {
          "base_uri": "https://localhost:8080/"
        },
        "outputId": "bdce2b32-6371-4cb2-992a-67e6ae647c78"
      },
      "source": [
        "linreg_pred_graph"
      ],
      "execution_count": 169,
      "outputs": [
        {
          "output_type": "execute_result",
          "data": {
            "text/plain": [
              "array([0.94268101, 0.94273859, 0.38446268, 0.43658752, 0.94265546,\n",
              "       0.43653735, 0.43651199, 0.94257316, 0.94255204])"
            ]
          },
          "metadata": {},
          "execution_count": 169
        }
      ]
    },
    {
      "cell_type": "code",
      "source": [
        ""
      ],
      "metadata": {
        "id": "BtfzYn063b2V"
      },
      "execution_count": null,
      "outputs": []
    }
  ]
}